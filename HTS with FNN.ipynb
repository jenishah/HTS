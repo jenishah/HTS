{
 "cells": [
  {
   "cell_type": "code",
   "execution_count": 15,
   "metadata": {
    "collapsed": true
   },
   "outputs": [],
   "source": [
    "import numpy as np\n",
    "import csv\n",
    "import os\n",
    "import torch\n",
    "import torch.nn as nn\n",
    "import torch.nn.functional as F\n",
    "from tensorflow.examples.tutorials.mnist import input_data\n",
    "from torch.autograd import Variable\n",
    "import sklearn.metrics as metrics"
   ]
  },
  {
   "cell_type": "code",
   "execution_count": 2,
   "metadata": {},
   "outputs": [
    {
     "name": "stdout",
     "output_type": "stream",
     "text": [
      "Extracting ../../MNIST_data/train-images-idx3-ubyte.gz\n",
      "Extracting ../../MNIST_data/train-labels-idx1-ubyte.gz\n",
      "Extracting ../../MNIST_data/t10k-images-idx3-ubyte.gz\n",
      "Extracting ../../MNIST_data/t10k-labels-idx1-ubyte.gz\n"
     ]
    }
   ],
   "source": [
    "mnist = input_data.read_data_sets('../../MNIST_data', one_hot=True)"
   ]
  },
  {
   "cell_type": "code",
   "execution_count": 3,
   "metadata": {
    "collapsed": true
   },
   "outputs": [],
   "source": [
    "def sample_X(size,labels='False'):\n",
    "    X, y = mnist.train.next_batch(size)\n",
    "    y = y.astype(int)\n",
    "    X = Variable(torch.from_numpy(X)).cuda()\n",
    "    if(labels=='True'):\n",
    "        return X,y\n",
    "    else:\n",
    "        return X"
   ]
  },
  {
   "cell_type": "code",
   "execution_count": 19,
   "metadata": {
    "collapsed": true
   },
   "outputs": [],
   "source": [
    "def get_test_data(size):\n",
    "    X,y = mnist.test.next_batch(size)\n",
    "    y = y.astype(int)\n",
    "    y = np.argmax(y,axis=1)\n",
    "    X = Variable(torch.from_numpy(X)).cuda()\n",
    "    return X,y"
   ]
  },
  {
   "cell_type": "code",
   "execution_count": 5,
   "metadata": {
    "collapsed": true
   },
   "outputs": [],
   "source": [
    "path = '/home/daiict/CVShare/Jeni/hts/bioassay-datasets/'\n",
    "p_fingerprints = []\n",
    "labels = []\n",
    "with open(path+'AID362red_train.csv') as csvfile:\n",
    "    readcsv = csv.reader(csvfile)\n",
    "    for row in readcsv:\n",
    "        p_fingerprints.append(row[:112])\n",
    "        labels.append(row[-1])"
   ]
  },
  {
   "cell_type": "code",
   "execution_count": 6,
   "metadata": {},
   "outputs": [
    {
     "name": "stdout",
     "output_type": "stream",
     "text": [
      "(3423, 112)\n"
     ]
    }
   ],
   "source": [
    "p_fingerprints = np.asarray(p_fingerprints)[1:]\n",
    "p_fingerprints = p_fingerprints.astype(int)\n",
    "#p2_fingerprints = np.ones(p_fingerprints.shape)\n",
    "(no_examples , ip_dim) = p_fingerprints.shape\n",
    "labels = labels[1:]\n",
    "print(no_examples,ip_dim)\n",
    "p_fingerprints[(p_fingerprints==0)] = -1"
   ]
  },
  {
   "cell_type": "code",
   "execution_count": 7,
   "metadata": {
    "collapsed": true
   },
   "outputs": [],
   "source": [
    "labels2 = np.zeros((len(labels),1))\n",
    "for i,l in enumerate(labels):\n",
    "    if l=='Active':\n",
    "        labels2[i] = 1\n",
    "    else:\n",
    "        labels2[i] = 0\n",
    "labels2 = labels2.astype(int)"
   ]
  },
  {
   "cell_type": "code",
   "execution_count": 8,
   "metadata": {},
   "outputs": [
    {
     "name": "stdout",
     "output_type": "stream",
     "text": [
      "[48]\n"
     ]
    }
   ],
   "source": [
    "no_active_ele = (sum(labels2))\n",
    "print(no_active_ele)"
   ]
  },
  {
   "cell_type": "code",
   "execution_count": 9,
   "metadata": {
    "collapsed": true
   },
   "outputs": [],
   "source": [
    "class mlp(nn.Module):\n",
    "    def __init__(self):\n",
    "        super(mlp,self).__init__()\n",
    "        self.l1 = nn.Linear(784,1000)\n",
    "        self.l2 = nn.Linear(1000,500)\n",
    "        self.l3 = nn.Linear(500,200)\n",
    "        self.l4 = nn.Linear(200,10)\n",
    "        \n",
    "    def forward(self,x):\n",
    "        x = F.tanh(self.l1(x))\n",
    "        x = F.tanh(self.l2(x))\n",
    "        x = F.tanh(self.l3(x))\n",
    "        x = F.sigmoid(self.l4(x))\n",
    "        \n",
    "        return x"
   ]
  },
  {
   "cell_type": "code",
   "execution_count": 10,
   "metadata": {
    "collapsed": true
   },
   "outputs": [],
   "source": [
    "#weights = torch.cuda.FloatTensor([0,5])\n",
    "#criterion = nn.CrossEntropyLoss(weight=weights)\n",
    "criterion = nn.BCELoss()\n",
    "mymlp = mlp()\n",
    "mymlp.cuda()\n",
    "optimizer = torch.optim.Adagrad(mymlp.parameters(),lr=1e-3)\n",
    "batch_size = 128"
   ]
  },
  {
   "cell_type": "code",
   "execution_count": 11,
   "metadata": {
    "collapsed": true
   },
   "outputs": [],
   "source": [
    "def get_train_batch(batch_size):\n",
    "    samples = np.random.randint(low=0,high=no_examples,size=(batch_size,1))\n",
    "    train_batch = p_fingerprints[samples].reshape(batch_size,ip_dim)\n",
    "    train_batch = train_batch.astype(int)\n",
    "    train_batch = torch.cuda.FloatTensor(train_batch)\n",
    "    train_batch = Variable(train_batch,requires_grad=False).cuda()\n",
    "    #print(labels2[samples])\n",
    "    target = Variable(torch.cuda.LongTensor(labels2[samples]),requires_grad=False)\n",
    "    target = target.view(batch_size,1)\n",
    "    #print(target.type)\n",
    "    return train_batch,target"
   ]
  },
  {
   "cell_type": "code",
   "execution_count": 12,
   "metadata": {},
   "outputs": [
    {
     "name": "stdout",
     "output_type": "stream",
     "text": [
      "0.316274374723\n",
      "0.294062793255\n",
      "0.26359051466\n",
      "0.235411450267\n",
      "0.226727515459\n",
      "0.219197899103\n",
      "0.202346950769\n",
      "0.200107216835\n",
      "0.18225209415\n",
      "0.179489850998\n",
      "0.161337763071\n",
      "0.17041002214\n",
      "0.165559440851\n",
      "0.144829824567\n",
      "0.14181303978\n",
      "0.153606846929\n",
      "0.146445482969\n",
      "0.159258455038\n",
      "0.140667244792\n",
      "0.137382298708\n",
      "0.116371050477\n",
      "0.129782646894\n",
      "0.117162048817\n",
      "0.116358116269\n",
      "0.111007668078\n",
      "0.122129119933\n",
      "0.115056857467\n",
      "0.121797680855\n",
      "0.111232742667\n",
      "0.11973760277\n",
      "0.0972333997488\n",
      "0.105856060982\n",
      "0.103682778776\n",
      "0.101370289922\n",
      "0.115116812289\n",
      "0.10467042774\n",
      "0.0837110430002\n",
      "0.0925533771515\n",
      "0.109422780573\n",
      "0.0930505022407\n",
      "0.103480994701\n",
      "0.0866771712899\n",
      "0.0957250669599\n",
      "0.0940516740084\n",
      "0.10272860527\n",
      "0.0909320339561\n",
      "0.0889858752489\n",
      "0.0922249779105\n",
      "0.0913292318583\n",
      "0.0980399847031\n",
      "0.0987862274051\n",
      "0.0873361453414\n",
      "0.0813943445683\n",
      "0.0809206515551\n",
      "0.0760590061545\n",
      "0.0956032127142\n",
      "0.0857269316912\n",
      "0.08626742661\n",
      "0.0781341269612\n",
      "0.0929175168276\n",
      "0.0943271964788\n",
      "0.0901827439666\n",
      "0.083191499114\n",
      "0.0945921763778\n",
      "0.0665311664343\n",
      "0.0931281968951\n",
      "0.0664327293634\n",
      "0.0754393786192\n",
      "0.0754491612315\n",
      "0.0774699673057\n",
      "0.089911095798\n",
      "0.0850699692965\n",
      "0.101574920118\n",
      "0.0843844786286\n",
      "0.0804285258055\n",
      "0.0709288567305\n",
      "0.0755038037896\n",
      "0.0931490287185\n",
      "0.0781718045473\n",
      "0.0731427147985\n",
      "0.0618154630065\n",
      "0.0744750648737\n",
      "0.0872802138329\n",
      "0.062138248235\n",
      "0.0839015394449\n",
      "0.0649065747857\n",
      "0.0656601116061\n",
      "0.0649733096361\n",
      "0.0668107718229\n",
      "0.0850879475474\n",
      "0.0783045589924\n",
      "0.0637511610985\n",
      "0.0643279701471\n",
      "0.0779846161604\n",
      "0.0634115338326\n",
      "0.0665789395571\n",
      "0.0561812147498\n",
      "0.0735985413194\n",
      "0.0611457936466\n",
      "0.068542778492\n"
     ]
    }
   ],
   "source": [
    "for ep in range(1000):\n",
    "    #train_batch,target = get_train_batch(batch_size)\n",
    "    train_batch,target = sample_X(batch_size,labels='True')\n",
    "    target = Variable(torch.cuda.FloatTensor(target),requires_grad = False)\n",
    "    model_op = mymlp(train_batch)\n",
    "    #print(model_op.type)\n",
    "    loss = criterion(model_op,target)\n",
    "    loss.backward()\n",
    "    optimizer.step()\n",
    "    optimizer.zero_grad()\n",
    "    \n",
    "    if(ep%10==9):\n",
    "        print(loss.data[0])\n"
   ]
  },
  {
   "cell_type": "markdown",
   "metadata": {},
   "source": [
    "## Check on MNIST test data"
   ]
  },
  {
   "cell_type": "code",
   "execution_count": 27,
   "metadata": {},
   "outputs": [
    {
     "name": "stdout",
     "output_type": "stream",
     "text": [
      "(300, 10)\n",
      "[[28  0  0  0  0  0  0  0  0  0]\n",
      " [ 0 27  0  0  0  0  0  0  0  0]\n",
      " [ 1  0 23  1  1  0  0  1  2  0]\n",
      " [ 0  0  1 25  0  0  0  1  0  0]\n",
      " [ 0  0  0  0 23  0  0  0  0  0]\n",
      " [ 3  0  1  1  0 24  1  0  2  0]\n",
      " [ 1  0  0  0  0  1 27  0  0  0]\n",
      " [ 1  0  2  1  0  0  0 33  0  2]\n",
      " [ 0  0  2  1  0  2  0  0 25  0]\n",
      " [ 1  0  0  0  0  0  0  1  0 34]]\n"
     ]
    }
   ],
   "source": [
    "x_test,y_test = get_test_data(size=300)\n",
    "y_op = mymlp(x_test).cpu().data.numpy()\n",
    "print(y_op.shape)\n",
    "y_op = np.argmax(y_op,axis=1)\n",
    "cf_mat = metrics.confusion_matrix(y_test,y_op)\n",
    "print(cf_mat)\n",
    "\n"
   ]
  },
  {
   "cell_type": "code",
   "execution_count": null,
   "metadata": {
    "collapsed": true
   },
   "outputs": [],
   "source": [
    "p_fingerprints_whole,tmp_labels = get_train_batch(batch_size=no_examples)\n",
    "train_op = mymlp(p_fingerprints_whole)\n",
    "train_op = train_op.cpu().data.numpy()\n",
    "train_op[train_op>0.5] = 1\n",
    "train_op[train_op<0.5] = 0\n",
    "print(sum(train_op))"
   ]
  },
  {
   "cell_type": "markdown",
   "metadata": {},
   "source": [
    "# Test the model"
   ]
  },
  {
   "cell_type": "code",
   "execution_count": null,
   "metadata": {
    "collapsed": true
   },
   "outputs": [],
   "source": [
    "path = '/home/daiict/CVShare/Jeni/hts/bioassay-datasets/'\n",
    "test_fingerprints = []\n",
    "test_labels = []\n",
    "with open(path+'AID362red_test.csv') as csvfile:\n",
    "    readcsv = csv.reader(csvfile)\n",
    "    for row in readcsv:\n",
    "        test_fingerprints.append(row[:112])\n",
    "        test_labels.append(row[-1])"
   ]
  },
  {
   "cell_type": "code",
   "execution_count": null,
   "metadata": {
    "collapsed": true
   },
   "outputs": [],
   "source": [
    "test_labels2 = np.zeros((len(test_labels),1))\n",
    "for i,l in enumerate(test_labels):\n",
    "    if l=='Active':\n",
    "        test_labels2[i] = 1\n",
    "    else:\n",
    "        test_labels2[i] = 0"
   ]
  },
  {
   "cell_type": "code",
   "execution_count": null,
   "metadata": {
    "collapsed": true
   },
   "outputs": [],
   "source": [
    "test_fingerprints = np.asarray(test_fingerprints[1:])\n",
    "test_fingerprints = test_fingerprints.astype(int)\n",
    "no_test_examples = test_fingerprints.shape[0]\n",
    "print(no_test_examples)\n",
    "test_fingerprints = Variable(torch.cuda.FloatTensor(test_fingerprints))"
   ]
  },
  {
   "cell_type": "code",
   "execution_count": null,
   "metadata": {
    "collapsed": true
   },
   "outputs": [],
   "source": [
    "test_op = mymlp(test_fingerprints)"
   ]
  },
  {
   "cell_type": "code",
   "execution_count": null,
   "metadata": {
    "collapsed": true
   },
   "outputs": [],
   "source": [
    "test_op = test_op.cpu().data.numpy()"
   ]
  },
  {
   "cell_type": "code",
   "execution_count": null,
   "metadata": {
    "collapsed": true
   },
   "outputs": [],
   "source": [
    "test_labels = test_op"
   ]
  },
  {
   "cell_type": "code",
   "execution_count": null,
   "metadata": {
    "collapsed": true
   },
   "outputs": [],
   "source": [
    "test_labels[test_op>0.5] = 1\n",
    "test_labels[test_op<0.5] = 0"
   ]
  },
  {
   "cell_type": "code",
   "execution_count": null,
   "metadata": {
    "collapsed": true
   },
   "outputs": [],
   "source": [
    "sum(test_labels2)"
   ]
  },
  {
   "cell_type": "code",
   "execution_count": null,
   "metadata": {
    "collapsed": true
   },
   "outputs": [],
   "source": [
    "sum(test_labels)"
   ]
  },
  {
   "cell_type": "code",
   "execution_count": null,
   "metadata": {
    "collapsed": true
   },
   "outputs": [],
   "source": []
  }
 ],
 "metadata": {
  "kernelspec": {
   "display_name": "Python 2",
   "language": "python",
   "name": "python2"
  },
  "language_info": {
   "codemirror_mode": {
    "name": "ipython",
    "version": 2
   },
   "file_extension": ".py",
   "mimetype": "text/x-python",
   "name": "python",
   "nbconvert_exporter": "python",
   "pygments_lexer": "ipython2",
   "version": "2.7.6"
  }
 },
 "nbformat": 4,
 "nbformat_minor": 2
}
