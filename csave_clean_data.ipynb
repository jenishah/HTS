{
 "cells": [
  {
   "cell_type": "code",
   "execution_count": 5,
   "metadata": {
    "collapsed": true
   },
   "outputs": [],
   "source": [
    "import numpy as np\n",
    "import csv\n",
    "import os\n",
    "import torch\n",
    "import torch.nn as nn\n",
    "import torch.nn.functional as F\n",
    "#from tensorflow.examples.tutorials.mnist import input_data\n",
    "from torch.autograd import Variable\n",
    "import sklearn.metrics as metrics\n",
    "import pickle\n",
    "import os\n",
    "import numpy.linalg as la\n",
    "import random\n",
    "import torch.nn.parallel\n",
    "import torch.backends.cudnn as cudnn\n",
    "import torch.optim as optim\n",
    "import torch.utils.data\n",
    "import torchvision.datasets as dset\n",
    "import torchvision.transforms as transforms\n",
    "import torchvision.utils as vutils\n",
    "from torch.autograd import Variable\n",
    "import sys\n",
    "import pandas as pd\n",
    "import time\n",
    "#sys.path.append(\"/home/CVShare/Jeni/hts/machine_learning/sampling_with_data_cleaning\")\n",
    "import sampling_with_data_cleaning as sdc\n",
    "from utils import *"
   ]
  },
  {
   "cell_type": "code",
   "execution_count": 15,
   "metadata": {
    "collapsed": true
   },
   "outputs": [],
   "source": [
    "findex = 4\n",
    "x,y = get_features(findex,train=True)\n",
    "x,y = shuffle(x,y)"
   ]
  },
  {
   "cell_type": "code",
   "execution_count": 16,
   "metadata": {},
   "outputs": [
    {
     "name": "stdout",
     "output_type": "stream",
     "text": [
      "Adding 216 new samples\n",
      "removing 292 samples\n",
      "[36231  9329 30065  1580 30614  7509 40259  8519 45992 40348 14826   910\n",
      " 29282 13663 10951  1652    73  9295 18352 42917  7817 14644 21559 39649\n",
      "   222 34198 29299 39158 29604 16879 15373 14580 45918 29371 17715  2835\n",
      "  8362 30988 24168 40577 27146 17647 45340  1794  4265 35829  9113 15055\n",
      " 42569 38043 38771 37747  2216 31899  3721 15114 23252 29308  8705 10000\n",
      " 24636 40386 26473 46542 15256 17403 22518 20002 41877 34418  5536 20965\n",
      " 31142  2529 13133 43359 16691 22758 13730 22368 41995 40956  8691 23160\n",
      " 22270 15787 17156 15721  9702 19413 13564 37113 25359 22464  4046 26392\n",
      " 45479 11349 38775 37851  5219 16920 24519 28637 38232  5403 14328  7792\n",
      " 38081 26505 35652 47472 18585 30684  3267 40907 39953 32204 42238 29789\n",
      " 39308   768 33726  3672 23711 19221 16745 42130 38477 26911 36278  1571\n",
      " 35869 32477 25045 18590 47087 13399 42441 46263   560 47290 44275 27717\n",
      " 26790 21679 29074 44163 12999 47461  5895 37620  3754 18732 13267 38071\n",
      " 33322 28900 33082   584 43786   273 37361 31586 34569  1093  5187 23022\n",
      " 37817 37036  6858 29072  8911 26311 40505 21103 42045  3917 31779 22257\n",
      "  2152  8246 23086  3974  6583  7165 30439  4583  4505 37357 22486 19099\n",
      " 14933 26624 36424 40789  7298 24681 28898 21762 40059 16661 18019 41800\n",
      "  8308 11850 10005 45201 10602 14425  9429 16777 11525  6137 38194  2821\n",
      " 23091  5072 12976 44281 32273 38262 45694 33681 28948 40491 38030 47518\n",
      " 33507  9801 36962 34273 10938 38228 28689 10690 30603 30342 22232  3082\n",
      " 12726 43857   337 37696 28005 17166 36210 23694 45679  1380 21273 19619\n",
      " 25290 29453  7145 14105 20668 34853 36872 26867  2065 43538 24980 36352\n",
      "  9332 30693 14324 45573 33642  2047  8178 39534 34734 12190 18515  5897\n",
      " 31319 38146 16298 32352  5647  5599  5208 31054 11521 18045 29548 22010\n",
      " 29490  2588 16741 15048]\n",
      "5087.70657802\n"
     ]
    }
   ],
   "source": [
    "tic = time.time()\n",
    "xnew,ynew = sdc.clean_data(x,y,h=10,k=10,alpha = 0.75)\n",
    "toc = time.time()\n",
    "print(toc-tic)"
   ]
  },
  {
   "cell_type": "code",
   "execution_count": 17,
   "metadata": {},
   "outputs": [
    {
     "name": "stdout",
     "output_type": "stream",
     "text": [
      "(47755, 156)\n"
     ]
    }
   ],
   "source": [
    "vec = np.concatenate((xnew,ynew),1)\n",
    "print vec.shape\n",
    "tab = pd.DataFrame(vec)\n",
    "path = os.getcwd()+'/cleaned_'+str(findex)+'.csv'\n",
    "tab.to_csv(path)"
   ]
  },
  {
   "cell_type": "code",
   "execution_count": null,
   "metadata": {},
   "outputs": [],
   "source": [
    "vec2 = pd.read_csv(path)\n",
    "print type(vec2)\n",
    "vec_np = vec2.values"
   ]
  },
  {
   "cell_type": "code",
   "execution_count": null,
   "metadata": {},
   "outputs": [],
   "source": [
    "print ch.shape"
   ]
  },
  {
   "cell_type": "code",
   "execution_count": null,
   "metadata": {
    "collapsed": true
   },
   "outputs": [],
   "source": []
  }
 ],
 "metadata": {
  "kernelspec": {
   "display_name": "Python 2",
   "language": "python",
   "name": "python2"
  },
  "language_info": {
   "codemirror_mode": {
    "name": "ipython",
    "version": 2
   },
   "file_extension": ".py",
   "mimetype": "text/x-python",
   "name": "python",
   "nbconvert_exporter": "python",
   "pygments_lexer": "ipython2",
   "version": "2.7.6"
  }
 },
 "nbformat": 4,
 "nbformat_minor": 2
}
