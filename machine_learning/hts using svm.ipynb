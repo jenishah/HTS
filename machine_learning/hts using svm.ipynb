{
 "cells": [
  {
   "cell_type": "code",
   "execution_count": 1,
   "metadata": {
    "collapsed": true
   },
   "outputs": [],
   "source": [
    "import numpy as np\n",
    "import csv\n",
    "import os\n",
    "import torch\n",
    "import torch.nn as nn\n",
    "import torch.nn.functional as F\n",
    "import torch.optim as optim\n",
    "from matplotlib import pyplot as plt\n",
    "from torch.autograd import Variable\n",
    "from mpl_toolkits.mplot3d import Axes3D\n",
    "%matplotlib notebook\n",
    "import pickle"
   ]
  },
  {
   "cell_type": "code",
   "execution_count": 2,
   "metadata": {},
   "outputs": [],
   "source": [
    "with open('screen_info.txt','rb') as fl:\n",
    "    t = pickle.load(fl)\n",
    "fnames = t[0]\n",
    "totf = t[1]\n",
    "binf = t[2]\n",
    "runfile = 0\n",
    "fname = fnames[runfile]\n",
    "bf = binf[runfile]"
   ]
  },
  {
   "cell_type": "code",
   "execution_count": 3,
   "metadata": {
    "collapsed": true
   },
   "outputs": [],
   "source": [
    "path = os.getcwd() + '/bioassay-datasets/'\n",
    "p_fingerprints = []\n",
    "c_fingerprints = []\n",
    "labels = []\n",
    "with open(path+fname+'red_train.csv') as csvfile:\n",
    "    readcsv = csv.reader(csvfile)\n",
    "    for row in readcsv:\n",
    "        p_fingerprints.append(row[:bf])\n",
    "        c_fingerprints.append(row[bf:-1])\n",
    "        labels.append(row[-1])"
   ]
  },
  {
   "cell_type": "code",
   "execution_count": 4,
   "metadata": {},
   "outputs": [
    {
     "name": "stdout",
     "output_type": "stream",
     "text": [
      "(3423, 112)\n",
      "32\n"
     ]
    }
   ],
   "source": [
    "p_fingerprints = np.asarray(p_fingerprints)[1:]\n",
    "p_fingerprints = p_fingerprints.astype(int)\n",
    "c_fingerprints = np.asarray(c_fingerprints)[1:]\n",
    "c_fingerprints = c_fingerprints.astype(float)\n",
    "\n",
    "c_fingerprints = (c_fingerprints - np.mean(c_fingerprints,axis=0))/np.std(c_fingerprints,axis=0)\n",
    "\n",
    "fingerprints = np.concatenate((p_fingerprints,c_fingerprints),axis=1)\n",
    "#p2_fingerprints = np.ones(p_fingerprints.shape)\n",
    "(no_examples , ip_dim) = p_fingerprints.shape\n",
    "ip_dim2 = c_fingerprints.shape[1]\n",
    "labels = labels[1:]\n",
    "print(no_examples,ip_dim)\n",
    "print(ip_dim2)\n",
    "#p_fingerprints[(p_fingerprints==0)] = -1"
   ]
  },
  {
   "cell_type": "code",
   "execution_count": 5,
   "metadata": {
    "collapsed": true
   },
   "outputs": [],
   "source": [
    "#p_fingerprints[(p_fingerprints==0)] = -1\n",
    "\n",
    "labels2 = np.zeros((len(labels),))\n",
    "for i,l in enumerate(labels):\n",
    "    if l=='Active':\n",
    "        labels2[i] = 1\n",
    "    else:\n",
    "        labels2[i] = 0\n",
    "labels2 = np.asarray(labels2,dtype=np.int)"
   ]
  },
  {
   "cell_type": "code",
   "execution_count": 6,
   "metadata": {},
   "outputs": [
    {
     "data": {
      "text/plain": [
       "dtype('int64')"
      ]
     },
     "execution_count": 6,
     "metadata": {},
     "output_type": "execute_result"
    }
   ],
   "source": [
    "labels2.dtype"
   ]
  },
  {
   "cell_type": "code",
   "execution_count": 7,
   "metadata": {
    "collapsed": true
   },
   "outputs": [],
   "source": [
    "from sklearn import svm\n",
    "from sklearn import metrics"
   ]
  },
  {
   "cell_type": "code",
   "execution_count": 8,
   "metadata": {},
   "outputs": [
    {
     "name": "stdout",
     "output_type": "stream",
     "text": [
      "(3423, 112)\n"
     ]
    }
   ],
   "source": [
    "#print((labels2[50:70]))\n",
    "print(p_fingerprints.shape)"
   ]
  },
  {
   "cell_type": "code",
   "execution_count": 9,
   "metadata": {},
   "outputs": [],
   "source": [
    "# tmp = []\n",
    "# for w in range(100,110):\n",
    "#     clf = svm.SVC(kernel = 'rbf',class_weight={1:w})\n",
    "#     clf.fit(p_fingerprints,labels2)\n",
    "#     op = clf.predict(p_fingerprints)\n",
    "#     cm = metrics.confusion_matrix(labels2,op)\n",
    "#     tmp.append([w,cm.ravel()])\n",
    "#     print('tn, fp, fn, tp',cm.ravel())"
   ]
  },
  {
   "cell_type": "code",
   "execution_count": 10,
   "metadata": {},
   "outputs": [],
   "source": [
    "path = os.getcwd() + '/bioassay-datasets/'\n",
    "p_fingerprints_test = []\n",
    "c_fp = []\n",
    "labels = []\n",
    "with open(path+'AID362red_test.csv') as csvfile:\n",
    "    readcsv = csv.reader(csvfile)\n",
    "    for row in readcsv:\n",
    "        p_fingerprints_test.append(row[:bf])\n",
    "        c_fp.append(row[bf:-1])\n",
    "        labels.append(row[-1])"
   ]
  },
  {
   "cell_type": "code",
   "execution_count": 11,
   "metadata": {},
   "outputs": [
    {
     "name": "stdout",
     "output_type": "stream",
     "text": [
      "(856, 112)\n",
      "('total no of 1s', 6305)\n",
      "('total no of 0s', 89567)\n"
     ]
    }
   ],
   "source": [
    "p_fingerprints_test = np.asarray(p_fingerprints_test)[1:]\n",
    "p_fingerprints_test = p_fingerprints_test.astype(int)\n",
    "c_fp = np.asarray(c_fp)[1:]\n",
    "c_fp = c_fp.astype(float)\n",
    "\n",
    "c_fp = (c_fp - np.mean(c_fp,axis=0))/np.std(c_fp,axis=0)\n",
    "\n",
    "fingerprints_test = np.concatenate((p_fingerprints_test,c_fp),axis=1)\n",
    "#p2_fingerprints = np.ones(p_fingerprints.shape)\n",
    "(no_examples , ip_dim) = p_fingerprints_test.shape\n",
    "labels = labels[1:]\n",
    "print(no_examples,ip_dim)\n",
    "print(\"total no of 1s\",np.sum(p_fingerprints_test))\n",
    "print(\"total no of 0s\",no_examples*ip_dim-np.sum(p_fingerprints_test))"
   ]
  },
  {
   "cell_type": "code",
   "execution_count": 12,
   "metadata": {
    "collapsed": true
   },
   "outputs": [],
   "source": [
    "#p_fingerprints[(p_fingerprints==0)] = -1\n",
    "\n",
    "labels2_test = np.zeros((len(labels),1))\n",
    "for i,l in enumerate(labels):\n",
    "    if l=='Active':\n",
    "        labels2_test[i] = 1\n",
    "    else:\n",
    "        labels2_test[i] = 0\n",
    "labels2_test = np.asarray(labels2_test,dtype=np.int)"
   ]
  },
  {
   "cell_type": "code",
   "execution_count": 26,
   "metadata": {},
   "outputs": [
    {
     "name": "stdout",
     "output_type": "stream",
     "text": [
      "('tn, fp, fn, tp', array([745,  99,   4,   8]))\n"
     ]
    }
   ],
   "source": [
    "clf1 = svm.SVC(kernel = 'rbf',gamma=0.01,class_weight={1:65})\n",
    "clf1.fit(p_fingerprints,labels2)\n",
    "op1 = clf1.predict(p_fingerprints_test)\n",
    "cm1 = metrics.confusion_matrix(labels2_test,op1)\n",
    "print('tn, fp, fn, tp',cm1.ravel())"
   ]
  },
  {
   "cell_type": "code",
   "execution_count": 24,
   "metadata": {},
   "outputs": [
    {
     "name": "stdout",
     "output_type": "stream",
     "text": [
      "('tn, fp, fn, tp', array([751,  93,   3,   9]))\n"
     ]
    }
   ],
   "source": [
    "clf2 = svm.SVC(kernel = 'rbf',gamma=0.004,class_weight={1:69})\n",
    "clf2.fit(fingerprints,labels2)\n",
    "op2 = clf2.predict(fingerprints_test)\n",
    "cm2 = metrics.confusion_matrix(labels2_test,op2)\n",
    "print('tn, fp, fn, tp',cm2.ravel())"
   ]
  },
  {
   "cell_type": "code",
   "execution_count": 27,
   "metadata": {},
   "outputs": [
    {
     "name": "stdout",
     "output_type": "stream",
     "text": [
      "('tn, fp, fn, tp', array([767,  77,   3,   9]))\n"
     ]
    }
   ],
   "source": [
    "clf3 = svm.SVC(kernel = 'rbf',gamma = 0.01,class_weight={1:40})\n",
    "clf3.fit(c_fingerprints,labels2)\n",
    "op3 = clf3.predict(c_fp)\n",
    "cm3 = metrics.confusion_matrix(labels2_test,op3)\n",
    "print('tn, fp, fn, tp',cm3.ravel())"
   ]
  },
  {
   "cell_type": "code",
   "execution_count": 28,
   "metadata": {},
   "outputs": [
    {
     "name": "stdout",
     "output_type": "stream",
     "text": [
      "[662 182   3   9]\n"
     ]
    }
   ],
   "source": [
    "tmp = op1 + op2 + op3\n",
    "tmp2 = np.zeros(tmp.shape)\n",
    "tmp2[tmp>0] = 1\n",
    "cm4 = metrics.confusion_matrix(labels2_test,tmp2)\n",
    "print(cm4.ravel())"
   ]
  },
  {
   "cell_type": "code",
   "execution_count": null,
   "metadata": {},
   "outputs": [],
   "source": [
    "clf2 = svm.SVC(kernel = 'rbf',gamma=1e-3,class_weight={1:70})\n",
    "clf2.fit(fingerprints,labels2)\n",
    "op2 = clf2.predict(fingerprints_test)\n",
    "cm2 = metrics.confusion_matrix(labels2_test,op2)\n",
    "\n",
    "print('tn, fp, fn, tp',cm2.ravel())"
   ]
  },
  {
   "cell_type": "code",
   "execution_count": null,
   "metadata": {
    "collapsed": true
   },
   "outputs": [],
   "source": []
  }
 ],
 "metadata": {
  "kernelspec": {
   "display_name": "Python 2",
   "language": "python",
   "name": "python2"
  },
  "language_info": {
   "codemirror_mode": {
    "name": "ipython",
    "version": 2
   },
   "file_extension": ".py",
   "mimetype": "text/x-python",
   "name": "python",
   "nbconvert_exporter": "python",
   "pygments_lexer": "ipython2",
   "version": "2.7.6"
  }
 },
 "nbformat": 4,
 "nbformat_minor": 2
}
