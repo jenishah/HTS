{
 "cells": [
  {
   "cell_type": "code",
   "execution_count": 1,
   "metadata": {
    "collapsed": true
   },
   "outputs": [],
   "source": [
    "import numpy as np\n",
    "import csv\n",
    "import os\n",
    "import torch\n",
    "import torch.nn as nn\n",
    "import torch.nn.functional as F\n",
    "#from tensorflow.examples.tutorials.mnist import input_data\n",
    "from torch.autograd import Variable\n",
    "import sklearn.metrics as metrics\n",
    "import pickle\n",
    "import os\n",
    "import numpy.linalg as la\n",
    "import random\n",
    "import torch.nn.parallel\n",
    "import torch.backends.cudnn as cudnn\n",
    "import torch.optim as optim\n",
    "import torch.utils.data\n",
    "import torchvision.datasets as dset\n",
    "import torchvision.transforms as transforms\n",
    "import torchvision.utils as vutils\n",
    "from torch.autograd import Variable\n",
    "import sys\n",
    "import pandas as pd\n",
    "#sys.path.append(\"/home/CVShare/Jeni/hts/machine_learning/sampling_with_data_cleaning\")\n",
    "import sampling_with_data_cleaning as sdc\n",
    "from utils import *"
   ]
  },
  {
   "cell_type": "markdown",
   "metadata": {},
   "source": [
    "### FNN on cleaned features"
   ]
  },
  {
   "cell_type": "code",
   "execution_count": 2,
   "metadata": {},
   "outputs": [
    {
     "name": "stdout",
     "output_type": "stream",
     "text": [
      "(47755,)\n",
      "266.0\n",
      "266\n"
     ]
    }
   ],
   "source": [
    "findex = 4\n",
    "x,y = get_features(findex,train=True,cleaned=True)\n",
    "print y.shape\n",
    "print sum(y)\n",
    "y = y.astype(int)\n",
    "print sum(y)\n",
    "x,y = shuffle(x,y)"
   ]
  },
  {
   "cell_type": "code",
   "execution_count": 3,
   "metadata": {},
   "outputs": [
    {
     "name": "stdout",
     "output_type": "stream",
     "text": [
      "47755 155\n"
     ]
    }
   ],
   "source": [
    "no_ex,ip_dim = x.shape\n",
    "print no_ex,ip_dim"
   ]
  },
  {
   "cell_type": "code",
   "execution_count": 4,
   "metadata": {
    "collapsed": true
   },
   "outputs": [],
   "source": [
    "class c_mlp_1(nn.Module):\n",
    "    def __init__(self):\n",
    "        super(c_mlp_1,self).__init__()\n",
    "        self.l1 = nn.Linear(ip_dim,1000)\n",
    "        self.l2 = nn.Linear(1000,1000)\n",
    "        self.l3 = nn.Linear(1000,500)\n",
    "        #self.l4 = nn.Linear(500,500)\n",
    "        self.l5 = nn.Linear(500,100)\n",
    "        self.l6 = nn.Linear(100,50)\n",
    "        self.l7 = nn.Linear(50,2)\n",
    "        \n",
    "    def forward(self,x):\n",
    "        x = F.leaky_relu(self.l1(x))\n",
    "        x = F.leaky_relu(self.l2(x))\n",
    "        x = F.leaky_relu(self.l3(x))\n",
    "        #x = F.leaky_relu(self.l4(x))\n",
    "        x = F.leaky_relu(self.l5(x))\n",
    "        x = F.leaky_relu(self.l6(x))\n",
    "        x = (self.l7(x))\n",
    "        \n",
    "        return x"
   ]
  },
  {
   "cell_type": "code",
   "execution_count": 5,
   "metadata": {
    "collapsed": true
   },
   "outputs": [],
   "source": [
    "class c_mlp_2(nn.Module):\n",
    "    def __init__(self):\n",
    "        super(c_mlp_2,self).__init__()\n",
    "        self.l1 = nn.Linear(ip_dim,1000)\n",
    "        self.l2 = nn.Linear(1000,1000)\n",
    "        self.l3 = nn.Linear(1000,500)\n",
    "        #self.l4 = nn.Linear(500,500)\n",
    "        self.l5 = nn.Linear(500,100)\n",
    "        self.l6 = nn.Linear(100,50)\n",
    "        self.l7 = nn.Linear(50,2)\n",
    "        \n",
    "    def forward(self,x):\n",
    "        x = F.tanh(self.l1(x))\n",
    "        x = F.tanh(self.l2(x))\n",
    "        x = F.tanh(self.l3(x))\n",
    "        #x = F.leaky_relu(self.l4(x))\n",
    "        x = F.tanh(self.l5(x))\n",
    "        x = F.tanh(self.l6(x))\n",
    "        x = (self.l7(x))\n",
    "        \n",
    "        return x"
   ]
  },
  {
   "cell_type": "code",
   "execution_count": 6,
   "metadata": {
    "collapsed": true
   },
   "outputs": [],
   "source": [
    "class c_mlp_3(nn.Module):\n",
    "    def __init__(self):\n",
    "        super(c_mlp_3,self).__init__()\n",
    "        self.l1 = nn.Linear(ip_dim,1000)\n",
    "        self.l2 = nn.Linear(1000,1000)\n",
    "        self.l3 = nn.Linear(1000,500)\n",
    "        #self.l4 = nn.Linear(500,500)\n",
    "        self.l5 = nn.Linear(500,100)\n",
    "        self.l6 = nn.Linear(100,50)\n",
    "        self.l7 = nn.Linear(50,2)\n",
    "        \n",
    "    def forward(self,x):\n",
    "        x = F.selu(self.l1(x))\n",
    "        x = F.selu(self.l2(x))\n",
    "        x = F.selu(self.l3(x))\n",
    "        #x = F.leaky_relu(self.l4(x))\n",
    "        x = F.selu(self.l5(x))\n",
    "        x = F.selu(self.l6(x))\n",
    "        x = (self.l7(x))\n",
    "        \n",
    "        return x"
   ]
  },
  {
   "cell_type": "code",
   "execution_count": 7,
   "metadata": {
    "collapsed": true
   },
   "outputs": [],
   "source": [
    "mymlps = [c_mlp_1().cuda(),c_mlp_2().cuda(),c_mlp_3().cuda()]"
   ]
  },
  {
   "cell_type": "code",
   "execution_count": 9,
   "metadata": {},
   "outputs": [
    {
     "name": "stdout",
     "output_type": "stream",
     "text": [
      "('val iter: ', 1)\n",
      "('tn, fp, fn, tp: ', array([9495,    2,    0,   54]))\n",
      "('min fp, max_percent', 2, 1.0)\n",
      "('saving model on val: ', 1, ' and weight: ', 40.0)\n",
      "('tn, fp, fn, tp: ', array([9493,    4,    1,   53]))\n",
      "('min fp, max_percent', 4, 0.9814814814814815)\n",
      "('saving model on val: ', 1, ' and weight: ', 45.0)\n",
      "('tn, fp, fn, tp: ', array([9492,    5,    4,   50]))\n",
      "('tn, fp, fn, tp: ', array([9490,    7,    5,   49]))\n",
      "('tn, fp, fn, tp: ', array([9492,    5,    6,   48]))\n",
      "('val iter: ', 2)\n",
      "('tn, fp, fn, tp: ', array([9489,    0,    2,   60]))\n",
      "('min fp, max_percent', 0, 0.967741935483871)\n",
      "('saving model on val: ', 2, ' and weight: ', 40.0)\n",
      "('tn, fp, fn, tp: ', array([9487,    2,    8,   54]))\n",
      "('tn, fp, fn, tp: ', array([9487,    2,    7,   55]))\n",
      "('tn, fp, fn, tp: ', array([9487,    2,    9,   53]))\n",
      "('tn, fp, fn, tp: ', array([9485,    4,   11,   51]))\n",
      "('val iter: ', 3)\n",
      "('tn, fp, fn, tp: ', array([9502,    1,    0,   48]))\n",
      "('min fp, max_percent', 1, 1.0)\n",
      "('saving model on val: ', 3, ' and weight: ', 40.0)\n",
      "('tn, fp, fn, tp: ', array([9501,    2,    2,   46]))\n",
      "('tn, fp, fn, tp: ', array([9501,    2,    4,   44]))\n",
      "('tn, fp, fn, tp: ', array([9497,    6,    6,   42]))\n",
      "('tn, fp, fn, tp: ', array([9499,    4,    5,   43]))\n",
      "('val iter: ', 4)\n",
      "('val iter: ', 1)\n",
      "('tn, fp, fn, tp: ', array([9258,  239,   30,   24]))\n",
      "('tn, fp, fn, tp: ', array([9224,  273,   32,   22]))\n",
      "('tn, fp, fn, tp: ', array([9024,  473,   20,   34]))\n",
      "('tn, fp, fn, tp: ', array([9118,  379,   18,   36]))\n",
      "('tn, fp, fn, tp: ', array([9126,  371,   17,   37]))\n",
      "('val iter: ', 2)\n",
      "('tn, fp, fn, tp: ', array([9216,  273,   15,   47]))\n",
      "('tn, fp, fn, tp: ', array([9243,  246,   12,   50]))\n",
      "('tn, fp, fn, tp: ', array([9347,  142,   19,   43]))\n",
      "('tn, fp, fn, tp: ', array([9376,  113,   17,   45]))\n",
      "('tn, fp, fn, tp: ', array([9393,   96,   18,   44]))\n",
      "('val iter: ', 3)\n",
      "('tn, fp, fn, tp: ', array([9426,   77,    5,   43]))\n",
      "('min fp, max_percent', 77, 0.8958333333333334)\n",
      "('saving model on val: ', 3, ' and weight: ', 40.0)\n",
      "('tn, fp, fn, tp: ', array([9444,   59,    5,   43]))\n",
      "('min fp, max_percent', 59, 0.8958333333333334)\n",
      "('saving model on val: ', 3, ' and weight: ', 45.0)\n",
      "('tn, fp, fn, tp: ', array([9467,   36,    8,   40]))\n",
      "('tn, fp, fn, tp: ', array([9464,   39,    8,   40]))\n",
      "('tn, fp, fn, tp: ', array([9468,   35,    7,   41]))\n",
      "('val iter: ', 4)\n",
      "('tn, fp, fn, tp: ', array([9469,   25,    0,   57]))\n",
      "('min fp, max_percent', 25, 1.0)\n",
      "('saving model on val: ', 4, ' and weight: ', 40.0)\n",
      "('tn, fp, fn, tp: ', array([9474,   20,    4,   53]))\n",
      "('tn, fp, fn, tp: ', array([9469,   25,    6,   51]))\n",
      "('tn, fp, fn, tp: ', array([9471,   23,    8,   49]))\n",
      "('tn, fp, fn, tp: ', array([9469,   25,    8,   49]))\n",
      "('val iter: ', 5)\n",
      "('tn, fp, fn, tp: ', array([9490,   16,    0,   45]))\n",
      "('min fp, max_percent', 16, 1.0)\n",
      "('saving model on val: ', 5, ' and weight: ', 40.0)\n",
      "('tn, fp, fn, tp: ', array([9494,   12,    2,   43]))\n",
      "('tn, fp, fn, tp: ', array([9490,   16,    2,   43]))\n",
      "('tn, fp, fn, tp: ', array([9490,   16,    3,   42]))\n",
      "('tn, fp, fn, tp: ', array([9491,   15,    3,   42]))\n",
      "('val iter: ', 1)\n",
      "('tn, fp, fn, tp: ', array([9292,  205,   22,   32]))\n",
      "('tn, fp, fn, tp: ', array([9248,  249,   14,   40]))\n",
      "('tn, fp, fn, tp: ', array([9347,  150,   19,   35]))\n",
      "('tn, fp, fn, tp: ', array([9363,  134,   19,   35]))\n",
      "('tn, fp, fn, tp: ', array([9360,  137,   13,   41]))\n",
      "('val iter: ', 2)\n",
      "('tn, fp, fn, tp: ', array([9369,  120,    6,   56]))\n",
      "('min fp, max_percent', 120, 0.9032258064516129)\n",
      "('saving model on val: ', 2, ' and weight: ', 40.0)\n",
      "('tn, fp, fn, tp: ', array([9414,   75,   13,   49]))\n",
      "('tn, fp, fn, tp: ', array([9417,   72,   13,   49]))\n",
      "('tn, fp, fn, tp: ', array([9415,   74,   12,   50]))\n",
      "('tn, fp, fn, tp: ', array([9415,   74,   15,   47]))\n",
      "('val iter: ', 3)\n",
      "('tn, fp, fn, tp: ', array([9443,   60,    3,   45]))\n",
      "('min fp, max_percent', 60, 0.9375)\n",
      "('saving model on val: ', 3, ' and weight: ', 40.0)\n",
      "('tn, fp, fn, tp: ', array([9454,   49,    6,   42]))\n",
      "('tn, fp, fn, tp: ', array([9466,   37,    6,   42]))\n",
      "('tn, fp, fn, tp: ', array([9462,   41,    6,   42]))\n",
      "('tn, fp, fn, tp: ', array([9463,   40,    8,   40]))\n",
      "('val iter: ', 4)\n",
      "('tn, fp, fn, tp: ', array([9468,   26,    0,   57]))\n",
      "('min fp, max_percent', 26, 1.0)\n",
      "('saving model on val: ', 4, ' and weight: ', 40.0)\n",
      "('tn, fp, fn, tp: ', array([9463,   31,    1,   56]))\n",
      "('min fp, max_percent', 31, 0.9824561403508771)\n",
      "('saving model on val: ', 4, ' and weight: ', 45.0)\n",
      "('tn, fp, fn, tp: ', array([9472,   22,    3,   54]))\n",
      "('tn, fp, fn, tp: ', array([9472,   22,    1,   56]))\n",
      "('min fp, max_percent', 22, 0.9824561403508771)\n",
      "('saving model on val: ', 4, ' and weight: ', 55.0)\n",
      "('tn, fp, fn, tp: ', array([9475,   19,    2,   55]))\n",
      "('min fp, max_percent', 19, 0.9649122807017544)\n",
      "('saving model on val: ', 4, ' and weight: ', 60.0)\n",
      "('val iter: ', 5)\n",
      "('tn, fp, fn, tp: ', array([9491,   15,    0,   45]))\n",
      "('min fp, max_percent', 15, 1.0)\n",
      "('saving model on val: ', 5, ' and weight: ', 40.0)\n",
      "('tn, fp, fn, tp: ', array([9493,   13,    0,   45]))\n",
      "('min fp, max_percent', 13, 1.0)\n",
      "('saving model on val: ', 5, ' and weight: ', 45.0)\n",
      "('tn, fp, fn, tp: ', array([9489,   17,    0,   45]))\n",
      "('min fp, max_percent', 17, 1.0)\n",
      "('saving model on val: ', 5, ' and weight: ', 50.0)\n",
      "('tn, fp, fn, tp: ', array([9485,   21,    0,   45]))\n",
      "('min fp, max_percent', 21, 1.0)\n",
      "('saving model on val: ', 5, ' and weight: ', 55.0)\n",
      "('tn, fp, fn, tp: ', array([9486,   20,    2,   43]))\n"
     ]
    }
   ],
   "source": [
    "for mlp_no,mymlp in enumerate(mymlps):\n",
    "    max_percent = 0.85\n",
    "    model_no = 1\n",
    "    for i in range(1,6):\n",
    "        val_iter = i\n",
    "        print(\"val iter: \",val_iter)\n",
    "        \n",
    "        if model_no is 5:\n",
    "                break\n",
    "        else:\n",
    "        #weights_array = [7]\n",
    "            weights_array = np.linspace(40,60,5)\n",
    "\n",
    "            for i,w in enumerate(weights_array): \n",
    "            \n",
    "            \n",
    "           \n",
    "            #mymlp = c_mlp().cuda()\n",
    "                optimizer = torch.optim.Adagrad(mymlp.parameters(),lr=1e-3)\n",
    "                criterion = nn.CrossEntropyLoss(weight=torch.cuda.FloatTensor([1,w]))\n",
    "\n",
    "                for ep in range(2500):\n",
    "\n",
    "                    ind = get_train_ind(val_iter=val_iter,no_examples=no_ex)\n",
    "                    xtrain,ytrain = get_train_batch(x,y,batch_size=150,indices=ind)\n",
    "\n",
    "                    model_op = mymlp(xtrain)\n",
    "\n",
    "                    loss = criterion(model_op,ytrain)\n",
    "                    loss.backward()\n",
    "                    optimizer.step()\n",
    "                    optimizer.zero_grad()\n",
    "\n",
    "            #     if(ep%30==29):\n",
    "            #         print(loss.data[0])\n",
    "\n",
    "                ## After training check on cross validation data\n",
    "                xval,yval = get_val_data(x,y,no_examples=no_ex,val_iter=val_iter)\n",
    "                min_fp = xval.size()[0]*0.17\n",
    "                yval = yval.reshape(yval.shape[0],)\n",
    "                train_op = mymlp(xval)\n",
    "                train_op = train_op.cpu().data.numpy()\n",
    "                pred_labels = np.argmax(train_op,axis=1)\n",
    "\n",
    "                cf = metrics.confusion_matrix(yval,pred_labels).ravel()\n",
    "                [tn,fp,fn,tp] = cf\n",
    "                print('tn, fp, fn, tp: ',cf)\n",
    "                percent = float(float(tp)/float(tp+fn))\n",
    "                if(percent>max_percent*0.98):\n",
    "                    if(fp<min_fp):\n",
    "                        if(1==1):\n",
    "                                max_percent = percent\n",
    "                                print(\"min fp, max_percent\",fp,percent)\n",
    "                                model_path = os.getcwd() + '/fnn_' + str(findex)+'_model'+str(model_no)+'_mlp'+str(mlp_no)\n",
    "                                torch.save(mymlp.state_dict(),model_path)\n",
    "                                print(\"saving model on val: \",val_iter,\" and weight: \",w)\n",
    "                                model_no = model_no + 1\n",
    "\n",
    "\n",
    "\n"
   ]
  },
  {
   "cell_type": "code",
   "execution_count": 10,
   "metadata": {},
   "outputs": [
    {
     "name": "stdout",
     "output_type": "stream",
     "text": [
      "(11957,)\n",
      "('tn, fp, fn, tp: ', array([11913,    32,     8,     4]))\n",
      "('tn, fp, fn, tp: ', array([11903,    42,     8,     4]))\n",
      "('tn, fp, fn, tp: ', array([11904,    41,     9,     3]))\n",
      "('tn, fp, fn, tp: ', array([11817,   128,     4,     8]))\n",
      "('tn, fp, fn, tp: ', array([11840,   105,     6,     6]))\n",
      "('tn, fp, fn, tp: ', array([11875,    70,     8,     4]))\n",
      "('tn, fp, fn, tp: ', array([11760,   185,     6,     6]))\n",
      "('tn, fp, fn, tp: ', array([11833,   112,     6,     6]))\n",
      "('tn, fp, fn, tp: ', array([11870,    75,     7,     5]))\n"
     ]
    }
   ],
   "source": [
    "xtest_t,ytest = get_features(findex,train=False)\n",
    "xtest = Variable(torch.cuda.FloatTensor(xtest_t).cuda())\n",
    "final_pred = np.zeros(ytest.shape[0],)\n",
    "print final_pred.shape\n",
    "\n",
    "test_models = [c_mlp_1().cuda(),c_mlp_2().cuda(),c_mlp_3().cuda()]\n",
    "#     for i in range(2):\n",
    "#         test_models.append(model)\n",
    "for mlp_no,test_model in enumerate(test_models):\n",
    "    for model_no in range(1,4):\n",
    "        model_path = os.getcwd() + '/fnn_' + str(findex)+'_model'+str(model_no)+'_mlp'+str(mlp_no)\n",
    "\n",
    "        test_model.load_state_dict(torch.load(model_path))\n",
    "        test_op = test_model(xtest)\n",
    "        test_op = test_op.cpu().data.numpy()\n",
    "        pred_labels = np.argmax(test_op,axis=1).reshape(final_pred.shape[0],)\n",
    "        \n",
    "        final_pred = pred_labels + final_pred\n",
    "        \n",
    "        cf = metrics.confusion_matrix(ytest,pred_labels).ravel()\n",
    "        print('tn, fp, fn, tp: ',cf)"
   ]
  },
  {
   "cell_type": "code",
   "execution_count": 11,
   "metadata": {},
   "outputs": [
    {
     "name": "stdout",
     "output_type": "stream",
     "text": [
      "('tn, fp, fn, tp: ', array([11655,   290,     4,     8]))\n"
     ]
    }
   ],
   "source": [
    "final_pred[final_pred>1] = 1\n",
    "cf = metrics.confusion_matrix(ytest,final_pred).ravel()\n",
    "print('tn, fp, fn, tp: ',cf)"
   ]
  },
  {
   "cell_type": "code",
   "execution_count": null,
   "metadata": {
    "collapsed": true
   },
   "outputs": [],
   "source": [
    "pred_labels.shape"
   ]
  },
  {
   "cell_type": "code",
   "execution_count": null,
   "metadata": {
    "collapsed": true
   },
   "outputs": [],
   "source": [
    "final_pred.shape"
   ]
  },
  {
   "cell_type": "code",
   "execution_count": null,
   "metadata": {
    "collapsed": true
   },
   "outputs": [],
   "source": []
  }
 ],
 "metadata": {
  "kernelspec": {
   "display_name": "Python 2",
   "language": "python",
   "name": "python2"
  },
  "language_info": {
   "codemirror_mode": {
    "name": "ipython",
    "version": 2
   },
   "file_extension": ".py",
   "mimetype": "text/x-python",
   "name": "python",
   "nbconvert_exporter": "python",
   "pygments_lexer": "ipython2",
   "version": "2.7.6"
  }
 },
 "nbformat": 4,
 "nbformat_minor": 2
}
