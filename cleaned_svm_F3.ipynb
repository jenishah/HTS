{
 "cells": [
  {
   "cell_type": "code",
   "execution_count": 1,
   "metadata": {
    "collapsed": true
   },
   "outputs": [],
   "source": [
    "import numpy as np\n",
    "import csv\n",
    "import os\n",
    "import torch\n",
    "import torch.nn as nn\n",
    "import torch.nn.functional as F\n",
    "import torch.optim as optim\n",
    "from matplotlib import pyplot as plt\n",
    "from torch.autograd import Variable\n",
    "from mpl_toolkits.mplot3d import Axes3D\n",
    "%matplotlib notebook\n",
    "import pickle\n",
    "from utils import *"
   ]
  },
  {
   "cell_type": "code",
   "execution_count": 2,
   "metadata": {
    "collapsed": true
   },
   "outputs": [],
   "source": [
    "findex = 3\n",
    "x,y = get_features(findex,cleaned=True)\n",
    "no_ex = x.shape[0]"
   ]
  },
  {
   "cell_type": "code",
   "execution_count": 3,
   "metadata": {
    "collapsed": true
   },
   "outputs": [],
   "source": [
    "from sklearn import svm\n",
    "from sklearn import metrics"
   ]
  },
  {
   "cell_type": "code",
   "execution_count": 4,
   "metadata": {
    "collapsed": true
   },
   "outputs": [],
   "source": [
    "gama = [0.02,0.03,0.04,0.05,0.06]\n",
    "weight = [75,80,85,90,100]"
   ]
  },
  {
   "cell_type": "code",
   "execution_count": 5,
   "metadata": {},
   "outputs": [
    {
     "name": "stdout",
     "output_type": "stream",
     "text": [
      "0.02 75\n",
      "('tn, fp, fn, tp', array([17141,  2845,     0,  1164]))\n",
      "('tn, fp, fn, tp', array([4358, 1030,   41,    9]))\n",
      "0.02 80\n",
      "('tn, fp, fn, tp', array([17141,  2845,     0,  1164]))\n",
      "('tn, fp, fn, tp', array([4358, 1030,   41,    9]))\n",
      "0.02 85\n",
      "('tn, fp, fn, tp', array([17141,  2845,     0,  1164]))\n",
      "('tn, fp, fn, tp', array([4358, 1030,   41,    9]))\n",
      "0.02 90\n",
      "('tn, fp, fn, tp', array([17141,  2845,     0,  1164]))\n",
      "('tn, fp, fn, tp', array([4358, 1030,   41,    9]))\n",
      "0.02 100\n",
      "('tn, fp, fn, tp', array([17141,  2845,     0,  1164]))\n",
      "('tn, fp, fn, tp', array([4358, 1030,   41,    9]))\n",
      "0.03 75\n",
      "('tn, fp, fn, tp', array([18553,  1433,     0,  1164]))\n",
      "('tn, fp, fn, tp', array([4773,  615,   44,    6]))\n",
      "0.03 80\n",
      "('tn, fp, fn, tp', array([18553,  1433,     0,  1164]))\n",
      "('tn, fp, fn, tp', array([4773,  615,   44,    6]))\n",
      "0.03 85\n",
      "('tn, fp, fn, tp', array([18553,  1433,     0,  1164]))\n",
      "('tn, fp, fn, tp', array([4773,  615,   44,    6]))\n",
      "0.03 90\n",
      "('tn, fp, fn, tp', array([18553,  1433,     0,  1164]))\n",
      "('tn, fp, fn, tp', array([4773,  615,   44,    6]))\n",
      "0.03 100\n",
      "('tn, fp, fn, tp', array([18553,  1433,     0,  1164]))\n",
      "('tn, fp, fn, tp', array([4773,  615,   44,    6]))\n",
      "0.04 75\n",
      "('tn, fp, fn, tp', array([19150,   836,     0,  1164]))\n",
      "('tn, fp, fn, tp', array([4953,  435,   46,    4]))\n",
      "0.04 80\n",
      "('tn, fp, fn, tp', array([19150,   836,     0,  1164]))\n",
      "('tn, fp, fn, tp', array([4953,  435,   46,    4]))\n",
      "0.04 85\n",
      "('tn, fp, fn, tp', array([19150,   836,     0,  1164]))\n",
      "('tn, fp, fn, tp', array([4953,  435,   46,    4]))\n",
      "0.04 90\n",
      "('tn, fp, fn, tp', array([19150,   836,     0,  1164]))\n",
      "('tn, fp, fn, tp', array([4953,  435,   46,    4]))\n",
      "0.04 100\n",
      "('tn, fp, fn, tp', array([19150,   836,     0,  1164]))\n",
      "('tn, fp, fn, tp', array([4953,  435,   46,    4]))\n",
      "0.05 75\n",
      "('tn, fp, fn, tp', array([19454,   532,     0,  1164]))\n",
      "('tn, fp, fn, tp', array([5041,  347,   46,    4]))\n",
      "0.05 80\n",
      "('tn, fp, fn, tp', array([19454,   532,     0,  1164]))\n",
      "('tn, fp, fn, tp', array([5041,  347,   46,    4]))\n",
      "0.05 85\n",
      "('tn, fp, fn, tp', array([19454,   532,     0,  1164]))\n",
      "('tn, fp, fn, tp', array([5041,  347,   46,    4]))\n",
      "0.05 90\n",
      "('tn, fp, fn, tp', array([19454,   532,     0,  1164]))\n",
      "('tn, fp, fn, tp', array([5041,  347,   46,    4]))\n",
      "0.05 100\n",
      "('tn, fp, fn, tp', array([19454,   532,     0,  1164]))\n",
      "('tn, fp, fn, tp', array([5041,  347,   46,    4]))\n",
      "0.06 75\n",
      "('tn, fp, fn, tp', array([19603,   383,     0,  1164]))\n",
      "('tn, fp, fn, tp', array([5090,  298,   47,    3]))\n",
      "0.06 80\n",
      "('tn, fp, fn, tp', array([19603,   383,     0,  1164]))\n",
      "('tn, fp, fn, tp', array([5090,  298,   47,    3]))\n",
      "0.06 85\n",
      "('tn, fp, fn, tp', array([19603,   383,     0,  1164]))\n",
      "('tn, fp, fn, tp', array([5090,  298,   47,    3]))\n",
      "0.06 90\n",
      "('tn, fp, fn, tp', array([19603,   383,     0,  1164]))\n",
      "('tn, fp, fn, tp', array([5090,  298,   47,    3]))\n",
      "0.06 100\n",
      "('tn, fp, fn, tp', array([19603,   383,     0,  1164]))\n",
      "('tn, fp, fn, tp', array([5090,  298,   47,    3]))\n"
     ]
    }
   ],
   "source": [
    "for g in gama:\n",
    "    for w in weight:\n",
    "        print g,w\n",
    "        clf1 = svm.SVC(kernel = 'rbf',gamma=g,class_weight={1:w})\n",
    "        clf1.fit(x,y)\n",
    "        op1 = clf1.predict(x)\n",
    "        cm1 = metrics.confusion_matrix(y,op1)\n",
    "        print('tn, fp, fn, tp',cm1.ravel())\n",
    "        [tn,fp,fn,tp]  = cm1.ravel()\n",
    "        if(fp<0.2*float(tn+fp)):\n",
    "            xtest,ytest = get_features(findex,train=False)\n",
    "            optest = clf1.predict(xtest)\n",
    "            cmtest = metrics.confusion_matrix(ytest,optest)\n",
    "            print('tn, fp, fn, tp',cmtest.ravel())\n",
    "        else:\n",
    "            print(\"no use\")"
   ]
  },
  {
   "cell_type": "code",
   "execution_count": null,
   "metadata": {
    "collapsed": true
   },
   "outputs": [],
   "source": []
  },
  {
   "cell_type": "code",
   "execution_count": null,
   "metadata": {
    "collapsed": true
   },
   "outputs": [],
   "source": []
  }
 ],
 "metadata": {
  "kernelspec": {
   "display_name": "Python 2",
   "language": "python",
   "name": "python2"
  },
  "language_info": {
   "codemirror_mode": {
    "name": "ipython",
    "version": 2
   },
   "file_extension": ".py",
   "mimetype": "text/x-python",
   "name": "python",
   "nbconvert_exporter": "python",
   "pygments_lexer": "ipython2",
   "version": "2.7.6"
  }
 },
 "nbformat": 4,
 "nbformat_minor": 2
}
