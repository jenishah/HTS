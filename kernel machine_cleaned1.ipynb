{
 "cells": [
  {
   "cell_type": "code",
   "execution_count": 1,
   "metadata": {
    "collapsed": true
   },
   "outputs": [],
   "source": [
    "import numpy as np\n",
    "import csv\n",
    "import os\n",
    "import torch\n",
    "import torch.nn as nn\n",
    "import torch.nn.functional as F\n",
    "import torch.optim as optim\n",
    "from matplotlib import pyplot as plt\n",
    "from torch.autograd import Variable\n",
    "from mpl_toolkits.mplot3d import Axes3D\n",
    "import sklearn.metrics as metrics\n",
    "import pickle\n",
    "import time\n",
    "from sklearn.kernel_approximation import RBFSampler\n",
    "%matplotlib notebook\n",
    "from utils import *"
   ]
  },
  {
   "cell_type": "code",
   "execution_count": 2,
   "metadata": {
    "collapsed": true
   },
   "outputs": [],
   "source": [
    "findex = 1\n",
    "xtmp,y = get_features(findex,cleaned=True)\n",
    "xtmp,y = shuffle(xtmp,y)\n",
    "y = y.astype(int)\n",
    "no_ex = xtmp.shape[0]"
   ]
  },
  {
   "cell_type": "markdown",
   "metadata": {},
   "source": [
    "### X_features are real valued features. We apply kernel on it "
   ]
  },
  {
   "cell_type": "code",
   "execution_count": 3,
   "metadata": {
    "collapsed": true
   },
   "outputs": [],
   "source": [
    "feat_dim = 250\n",
    "\n",
    "rbf_feature = RBFSampler(gamma=1,n_components = feat_dim, random_state=1)\n",
    "x = rbf_feature.fit_transform(xtmp)"
   ]
  },
  {
   "cell_type": "code",
   "execution_count": null,
   "metadata": {
    "collapsed": true
   },
   "outputs": [],
   "source": [
    "class c_mlp(nn.Module):\n",
    "    def __init__(self):\n",
    "        super(c_mlp,self).__init__()\n",
    "        self.l1 = nn.Linear(feat_dim,1000)\n",
    "        self.l2 = nn.Linear(1000,1000)\n",
    "        self.l3 = nn.Linear(1000,500)\n",
    "        self.l4 = nn.Linear(500,500)\n",
    "        self.l5 = nn.Linear(500,500)\n",
    "        self.l6 = nn.Linear(500,500)\n",
    "        self.l6 = nn.Linear(500,50)\n",
    "        self.l7 = nn.Linear(50,2)\n",
    "        \n",
    "    def forward(self,x):\n",
    "        x = F.leaky_relu(self.l1(x))\n",
    "        x = F.leaky_relu(self.l2(x))\n",
    "        x = F.leaky_relu(self.l3(x))\n",
    "        x = F.leaky_relu(self.l4(x))\n",
    "        x = F.leaky_relu(self.l5(x))\n",
    "        x = F.leaky_relu(self.l6(x))\n",
    "        x = self.l7(x)\n",
    "        \n",
    "        return x"
   ]
  },
  {
   "cell_type": "code",
   "execution_count": null,
   "metadata": {},
   "outputs": [
    {
     "name": "stdout",
     "output_type": "stream",
     "text": [
      "('val iter: ', 1)\n",
      "('tn, fp, fn, tp: ', array([8246, 1046,  137,   47]))\n",
      "('tn, fp, fn, tp: ', array([8268, 1024,  140,   44]))\n",
      "('tn, fp, fn, tp: ', array([8494,  798,  136,   48]))\n",
      "('tn, fp, fn, tp: ', array([7103, 2189,  111,   73]))\n",
      "('tn, fp, fn, tp: ', array([8002, 1290,  129,   55]))\n",
      "('tn, fp, fn, tp: ', array([7444, 1848,  122,   62]))\n",
      "('tn, fp, fn, tp: ', array([8197, 1095,  131,   53]))\n",
      "('tn, fp, fn, tp: ', array([8374,  918,  136,   48]))\n",
      "('tn, fp, fn, tp: ', array([8201, 1091,  130,   54]))\n",
      "('tn, fp, fn, tp: ', array([7298, 1994,  118,   66]))\n",
      "('val iter: ', 2)\n",
      "('tn, fp, fn, tp: ', array([7743, 1549,  117,   68]))\n",
      "('tn, fp, fn, tp: ', array([8016, 1276,  127,   58]))\n",
      "('tn, fp, fn, tp: ', array([8119, 1173,  132,   53]))\n",
      "('tn, fp, fn, tp: ', array([8477,  815,  143,   42]))\n",
      "('tn, fp, fn, tp: ', array([7287, 2005,  111,   74]))\n",
      "('tn, fp, fn, tp: ', array([8195, 1097,  127,   58]))\n",
      "('tn, fp, fn, tp: ', array([8132, 1160,  135,   50]))\n",
      "('tn, fp, fn, tp: ', array([7515, 1777,  113,   72]))\n",
      "('tn, fp, fn, tp: ', array([7595, 1697,  119,   66]))\n",
      "('tn, fp, fn, tp: ', array([7132, 2160,  103,   82]))\n",
      "('val iter: ', 3)\n",
      "('tn, fp, fn, tp: ', array([8243, 1037,  147,   49]))\n",
      "('tn, fp, fn, tp: ', array([8807,  473,  164,   32]))\n",
      "('tn, fp, fn, tp: ', array([7696, 1584,  126,   70]))\n",
      "('tn, fp, fn, tp: ', array([8434,  846,  154,   42]))\n",
      "('tn, fp, fn, tp: ', array([8082, 1198,  139,   57]))\n",
      "('tn, fp, fn, tp: ', array([7678, 1602,  133,   63]))\n",
      "('tn, fp, fn, tp: ', array([7631, 1649,  127,   69]))\n"
     ]
    }
   ],
   "source": [
    "max_percent = 0.5\n",
    "\n",
    "for i in range(1,6):\n",
    "    val_iter = i\n",
    "    print(\"val iter: \",val_iter)\n",
    "    \n",
    "   \n",
    "    #weights_array = [7]\n",
    "    weights_array = np.linspace(200,300,10)\n",
    "    for i,w in enumerate(weights_array): \n",
    "        mymlp = c_mlp().cuda()\n",
    "        optimizer = torch.optim.Adagrad(mymlp.parameters(),lr=1e-3)\n",
    "        criterion = nn.CrossEntropyLoss(weight=torch.cuda.FloatTensor([1,w]))\n",
    "\n",
    "        for ep in range(3000):\n",
    "            \n",
    "            ind = get_train_ind(val_iter=val_iter,no_examples=no_ex)\n",
    "            xtrain,ytrain = get_train_batch(x,y,batch_size=90,indices=ind)\n",
    "            \n",
    "            model_op = mymlp(xtrain)\n",
    "           \n",
    "            loss = criterion(model_op,ytrain)\n",
    "            loss.backward()\n",
    "            optimizer.step()\n",
    "            optimizer.zero_grad()\n",
    "\n",
    "    #     if(ep%30==29):\n",
    "    #         print(loss.data[0])\n",
    "\n",
    "        ## After training check on cross validation data\n",
    "        xval,yval = get_val_data(x,y,no_examples=no_ex,val_iter=val_iter)\n",
    "        yval = yval.reshape(yval.shape[0],)\n",
    "        train_op = mymlp(xval)\n",
    "        train_op = train_op.cpu().data.numpy()\n",
    "        pred_labels = np.argmax(train_op,axis=1)\n",
    "        min_fp = xval.size()[0]*0.2\n",
    "        cf = metrics.confusion_matrix(yval,pred_labels).ravel()\n",
    "        [tn,fp,fn,tp] = cf\n",
    "        print('tn, fp, fn, tp: ',cf)\n",
    "        percent = float(float(tp)/float(tp+fn))\n",
    "        if(percent>max_percent):\n",
    "            if(1==1):\n",
    "                if(fp < min_fp):\n",
    "                    min_fp = fp\n",
    "                    max_percent = percent\n",
    "                    print(\"min fp, max_percent\",fp,percent)\n",
    "                    model_path = os.getcwd() + '/kernel_clean' + str(findex)\n",
    "                    torch.save(mymlp.state_dict(),model_path)\n",
    "                    print(\"saving model on val: \",val_iter,\" and weight: \",w)\n",
    "\n",
    "        \n"
   ]
  },
  {
   "cell_type": "markdown",
   "metadata": {
    "collapsed": true
   },
   "source": [
    "### Test the model "
   ]
  },
  {
   "cell_type": "code",
   "execution_count": null,
   "metadata": {
    "collapsed": true
   },
   "outputs": [],
   "source": [
    "feat_dim = 250\n",
    "\n",
    "rbf_feature = RBFSampler(gamma=1,n_components = feat_dim, random_state=1)\n",
    "trans = rbf_feature.fit(X_features)\n",
    "c_fingerprints_test = trans.transform(X_features_test)"
   ]
  },
  {
   "cell_type": "code",
   "execution_count": null,
   "metadata": {
    "collapsed": true
   },
   "outputs": [],
   "source": [
    "testmlp = c_mlp().cuda()\n",
    "model_path = os.getcwd() + '/kernel_mac' + fname + '_3'\n",
    "testmlp.load_state_dict(torch.load(model_path))"
   ]
  },
  {
   "cell_type": "code",
   "execution_count": null,
   "metadata": {
    "collapsed": true
   },
   "outputs": [],
   "source": [
    "op = testmlp(Variable(torch.cuda.FloatTensor(c_fingerprints_test)))\n",
    "op = op.cpu().data.numpy()\n",
    "pred_labels = np.argmax(op,axis=1)\n",
    "cf = metrics.confusion_matrix(labels2_t,pred_labels).ravel()\n",
    "#print(val_iter,w)\n",
    "print('tn, fp, fn, tp: ',cf)"
   ]
  },
  {
   "cell_type": "code",
   "execution_count": null,
   "metadata": {
    "collapsed": true
   },
   "outputs": [],
   "source": [
    "np.sum(labels2_t)"
   ]
  },
  {
   "cell_type": "code",
   "execution_count": null,
   "metadata": {
    "collapsed": true
   },
   "outputs": [],
   "source": []
  }
 ],
 "metadata": {
  "kernelspec": {
   "display_name": "Python 2",
   "language": "python",
   "name": "python2"
  },
  "language_info": {
   "codemirror_mode": {
    "name": "ipython",
    "version": 2
   },
   "file_extension": ".py",
   "mimetype": "text/x-python",
   "name": "python",
   "nbconvert_exporter": "python",
   "pygments_lexer": "ipython2",
   "version": "2.7.6"
  }
 },
 "nbformat": 4,
 "nbformat_minor": 2
}
