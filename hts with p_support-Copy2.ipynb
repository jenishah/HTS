{
 "cells": [
  {
   "cell_type": "code",
   "execution_count": 1,
   "metadata": {
    "collapsed": true
   },
   "outputs": [],
   "source": [
    "import numpy as np\n",
    "import csv\n",
    "import os\n",
    "import torch\n",
    "import torch.nn as nn\n",
    "import torch.nn.functional as F\n",
    "import torch.optim as optim\n",
    "from matplotlib import pyplot as plt\n",
    "from torch.autograd import Variable\n",
    "from mpl_toolkits.mplot3d import Axes3D\n",
    "import sklearn.metrics as metrics\n",
    "import numpy.linalg as la\n",
    "import pickle\n",
    "%matplotlib notebook"
   ]
  },
  {
   "cell_type": "code",
   "execution_count": 2,
   "metadata": {
    "collapsed": true
   },
   "outputs": [],
   "source": [
    "with open('screen_info.txt','rb') as fl:\n",
    "    t = pickle.load(fl)\n",
    "fnames = t[0]\n",
    "totf = t[1]\n",
    "binf = t[2]\n",
    "runfile = 0\n",
    "fname = fnames[runfile]\n",
    "bf = binf[runfile]"
   ]
  },
  {
   "cell_type": "code",
   "execution_count": 3,
   "metadata": {
    "collapsed": true
   },
   "outputs": [],
   "source": [
    "path = '/home/daiict/CVShare/Jeni/hts/bioassay-datasets/' + fname + 'red_train.csv'\n",
    "p_fingerprints = []\n",
    "labels = []\n",
    "with open(path) as csvfile:\n",
    "    readcsv = csv.reader(csvfile)\n",
    "    for row in readcsv:\n",
    "        p_fingerprints.append(row[:112])\n",
    "        labels.append(row[-1])"
   ]
  },
  {
   "cell_type": "code",
   "execution_count": 4,
   "metadata": {},
   "outputs": [
    {
     "name": "stdout",
     "output_type": "stream",
     "text": [
      "(3423, 112)\n",
      "('total no of 1s', 25982)\n",
      "('total no of 0s', 357394)\n"
     ]
    }
   ],
   "source": [
    "p_fingerprints = np.asarray(p_fingerprints)[1:]\n",
    "p_fingerprints = p_fingerprints.astype(int)\n",
    "#p2_fingerprints = np.ones(p_fingerprints.shape)\n",
    "(no_examples , ip_dim) = p_fingerprints.shape\n",
    "labels = labels[1:]\n",
    "print(no_examples,ip_dim)\n",
    "print(\"total no of 1s\",np.sum(p_fingerprints))\n",
    "print(\"total no of 0s\",no_examples*ip_dim-np.sum(p_fingerprints))\n",
    "\n",
    "p_fingerprints[(p_fingerprints==0)] = -1"
   ]
  },
  {
   "cell_type": "code",
   "execution_count": 5,
   "metadata": {},
   "outputs": [
    {
     "name": "stdout",
     "output_type": "stream",
     "text": [
      "[ 48.]\n"
     ]
    }
   ],
   "source": [
    "labels2 = np.zeros((len(labels),1))\n",
    "for i,l in enumerate(labels):\n",
    "    if l=='Active':\n",
    "        labels2[i] = 1\n",
    "    else:\n",
    "        labels2[i] = 0\n",
    "\n",
    "no_active_ele = (sum(labels2))\n",
    "labels2 = labels2.astype(int)\n",
    "print(no_active_ele)"
   ]
  },
  {
   "cell_type": "code",
   "execution_count": 6,
   "metadata": {},
   "outputs": [
    {
     "data": {
      "text/plain": [
       "'AID362'"
      ]
     },
     "execution_count": 6,
     "metadata": {},
     "output_type": "execute_result"
    }
   ],
   "source": [
    "fname"
   ]
  },
  {
   "cell_type": "code",
   "execution_count": 7,
   "metadata": {
    "collapsed": true
   },
   "outputs": [],
   "source": [
    "with open(os.getcwd() +  '/' + 'minham_' + fname) as f:\n",
    "    p = pickle.load(f)\n",
    "p_inactive = p[1]\n",
    "p_active = p[0]"
   ]
  },
  {
   "cell_type": "code",
   "execution_count": 8,
   "metadata": {
    "collapsed": true
   },
   "outputs": [],
   "source": [
    "def get_train_batch(batch_size,keep_numpy=False):\n",
    "    samples = np.random.randint(low=0,high=no_examples,size=(batch_size,1))\n",
    "    train_batch = p_fingerprints[samples].reshape(batch_size,ip_dim)\n",
    "    train_batch = train_batch.astype(int)\n",
    "    train_batch = torch.cuda.FloatTensor(train_batch)\n",
    "    train_batch = Variable(train_batch,requires_grad=False).cuda()\n",
    "    if(keep_numpy==False):\n",
    "        target = (torch.cuda.LongTensor(labels2[samples]))\n",
    "    else:\n",
    "        target = labels2[samples]\n",
    "    return train_batch,target"
   ]
  },
  {
   "cell_type": "markdown",
   "metadata": {},
   "source": [
    "### Calculating p_vectors "
   ]
  },
  {
   "cell_type": "code",
   "execution_count": 9,
   "metadata": {
    "collapsed": true
   },
   "outputs": [],
   "source": [
    "# p_active = np.float32(np.sum(p_fingerprints[labels2[:,0]==1],axis=0))/np.sum(labels2)\n",
    "# p_inactive = np.float32(np.sum(p_fingerprints[labels2[:,0]==0],axis=0))/(no_examples-np.sum(labels2))"
   ]
  },
  {
   "cell_type": "markdown",
   "metadata": {},
   "source": [
    "### Modifying p_vectors "
   ]
  },
  {
   "cell_type": "code",
   "execution_count": 10,
   "metadata": {
    "collapsed": true
   },
   "outputs": [],
   "source": [
    "# p_active = p_active + 0.5*(p_active-p_inactive)\n",
    "# p_active[p_active<0] = 0\n",
    "# p_inactive = p_inactive + 0.5*(p_inactive - p_active)\n",
    "# p_inactive[p_inactive<0] = 0"
   ]
  },
  {
   "cell_type": "code",
   "execution_count": 11,
   "metadata": {},
   "outputs": [
    {
     "name": "stdout",
     "output_type": "stream",
     "text": [
      "0.707106781187\n"
     ]
    }
   ],
   "source": [
    "#find the angle between them\n",
    "theta = np.dot(p_active,p_inactive)/(la.norm(p_active)*la.norm(p_inactive))\n",
    "print(theta)"
   ]
  },
  {
   "cell_type": "code",
   "execution_count": 12,
   "metadata": {
    "collapsed": true
   },
   "outputs": [],
   "source": [
    "class encoder(nn.Module):\n",
    "    def __init__(self):\n",
    "        super(encoder,self).__init__()\n",
    "        self.l1 = nn.Linear(ip_dim,ip_dim+50)\n",
    "        self.l2 = nn.Linear(ip_dim+50,ip_dim)\n",
    "        self.l3 = nn.Linear(ip_dim,ip_dim)\n",
    "        self.l4 = nn.Linear(ip_dim,ip_dim)\n",
    "        \n",
    "        \n",
    "    def forward(self,x):\n",
    "        x = F.tanh(self.l1(x))\n",
    "        x = F.tanh(self.l2(x))\n",
    "        x = F.tanh(self.l3(x))\n",
    "        x = self.l4(x)\n",
    "        #x = self.l4(x)\n",
    "        \n",
    "        return x"
   ]
  },
  {
   "cell_type": "code",
   "execution_count": 13,
   "metadata": {
    "collapsed": true
   },
   "outputs": [],
   "source": [
    "class decoder(nn.Module):\n",
    "    def __init__(self):\n",
    "        super(decoder,self).__init__()\n",
    "        self.l1 = nn.Linear(ip_dim,ip_dim)\n",
    "        self.l2 = nn.Linear(ip_dim,ip_dim)\n",
    "        self.l3 = nn.Linear(ip_dim,ip_dim+50)\n",
    "        self.l4 = nn.Linear(ip_dim+50,ip_dim)\n",
    "        \n",
    "        \n",
    "    def forward(self,x):\n",
    "        x = F.tanh(self.l1(x))\n",
    "        x = F.tanh(self.l2(x))\n",
    "        x = F.tanh(self.l3(x))\n",
    "        x = F.tanh(self.l4(x))\n",
    "        #x = self.l4(x)\n",
    "        \n",
    "        return x"
   ]
  },
  {
   "cell_type": "code",
   "execution_count": 14,
   "metadata": {
    "collapsed": true
   },
   "outputs": [],
   "source": [
    "class disc(nn.Module):\n",
    "    def __init__(self):\n",
    "        super(disc,self).__init__()\n",
    "        self.lin1 = nn.Linear(ip_dim,500)\n",
    "        self.lin2 = nn.Linear(500,500)\n",
    "        self.lin3 = nn.Linear(500,100)\n",
    "        self.lin4 = nn.Linear(100,1)\n",
    "        \n",
    "    def forward(self,x):\n",
    "        x = F.tanh(self.lin1(x))\n",
    "        x = F.tanh(self.lin2(x))\n",
    "        x = F.tanh(self.lin3(x))\n",
    "        x = F.sigmoid(self.lin4(x))\n",
    "        \n",
    "        return x"
   ]
  },
  {
   "cell_type": "markdown",
   "metadata": {},
   "source": [
    "### Draw samples based on labels "
   ]
  },
  {
   "cell_type": "code",
   "execution_count": 15,
   "metadata": {
    "collapsed": true
   },
   "outputs": [],
   "source": [
    "def draw_samples(batch_size,labels,var_active,var_inactive):\n",
    "    z = np.zeros((batch_size,ip_dim))\n",
    "    rand_vec = np.random.randn(batch_size,ip_dim)\n",
    "    z[labels==1] = p_active + var_active*rand_vec[labels==1]\n",
    "    z[labels==0] = p_inactive + var_inactive*rand_vec[labels==0]\n",
    "    z = torch.cuda.FloatTensor(z)\n",
    "    return z"
   ]
  },
  {
   "cell_type": "code",
   "execution_count": 16,
   "metadata": {
    "collapsed": true
   },
   "outputs": [],
   "source": [
    "def train_model(Q,Q_solver,P,P_solver,D,D_solver,batch_size):\n",
    "    \n",
    "    for it in range(2000):\n",
    "        x,y = get_train_batch(batch_size,keep_numpy=True)\n",
    "        y = y.reshape(batch_size,)\n",
    "        z = Q(x)\n",
    "        z_false = Q(x)\n",
    "        \n",
    "        \n",
    "        #Reconstruction\n",
    "        \n",
    "        x_recon = P(z)\n",
    "        criterion = nn.MSELoss()\n",
    "        CEL = criterion(x_recon, x)\n",
    "        CEL.backward()\n",
    "        \n",
    "        Q_solver.step()\n",
    "        P_solver.step()\n",
    "        \n",
    "        Q.zero_grad()\n",
    "        P.zero_grad()\n",
    "        \n",
    "        #Discriminator\n",
    "        z_false_op = D(z_false)\n",
    "        z_true = Variable(draw_samples(batch_size,y,var_active=0.7,var_inactive=1))\n",
    "        \n",
    "        \n",
    "        z_true_op = Variable(D(z_true).data,requires_grad=False)\n",
    "                \n",
    "        add_small = 1e-20\n",
    "        \n",
    "        \n",
    "        criterion = nn.BCELoss()\n",
    "        loss_d = criterion(z_false_op,z_true_op)\n",
    "        #loss_d = -torch.mean(torch.log(z_true_op + add_small) + torch.log(1 - z_false_op + add_small))\n",
    "        loss_d.backward(retain_variables = True)\n",
    "        D_solver.step()\n",
    "        D.zero_grad()\n",
    "        \n",
    "        #Updating the encoder\n",
    "        \n",
    "        G_loss = -torch.mean(torch.log(z_false_op+1e-20))\n",
    "        G_loss.backward()\n",
    "        Q_solver.step()\n",
    "        Q_solver.zero_grad()\n",
    "        \n",
    "        \n",
    "        \n",
    "        \n",
    "        if(it%50==0):\n",
    "            #print(extra_loss.data[0],CEL.data[0])\n",
    "            print('recon_loss:', CEL.data[0],'disc_loss:', loss_d.data[0],'gen_loss: ',G_loss.data[0])\n",
    "            #print(x_recon[0][:50].cpu().data.numpy().T)\n",
    "            #print()\n",
    "            #print(x[0][:50].cpu().data.numpy().T)\n",
    "           # print()\n",
    "    return Q,P"
   ]
  },
  {
   "cell_type": "code",
   "execution_count": 17,
   "metadata": {
    "collapsed": true
   },
   "outputs": [],
   "source": [
    "def generate_model():\n",
    "    Q = encoder()\n",
    "    Q.cuda()\n",
    "    Q_solver = optim.Adam(Q.parameters(),lr=1e-4)\n",
    "    E_solver = optim.Adam(Q.parameters(),lr = 1e-5)\n",
    "    P = decoder()\n",
    "    P.cuda()\n",
    "    P_solver = optim.Adam(P.parameters(),lr = 1e-4)\n",
    "    D = disc()\n",
    "    D.cuda()\n",
    "    D_solver = optim.Adam(D.parameters(),lr = 1e-3,weight_decay=1e-2)\n",
    "    batch_size = 120\n",
    "    Q,P = train_model(Q,Q_solver,P,P_solver,D,D_solver,batch_size)\n",
    "    \n",
    "    return Q,P"
   ]
  },
  {
   "cell_type": "code",
   "execution_count": 18,
   "metadata": {},
   "outputs": [
    {
     "name": "stderr",
     "output_type": "stream",
     "text": [
      "/usr/local/lib/python2.7/dist-packages/torch/autograd/__init__.py:92: UserWarning: retain_variables option is deprecated and will be removed in 0.3. Use retain_graph instead.\n",
      "  warnings.warn(\"retain_variables option is deprecated and will be removed in 0.3. \"\n"
     ]
    },
    {
     "name": "stdout",
     "output_type": "stream",
     "text": [
      "('recon_loss:', 0.997861385345459, 'disc_loss:', 0.691952645778656, 'gen_loss: ', 0.7450643181800842)\n",
      "('recon_loss:', 0.43629777431488037, 'disc_loss:', 0.7445098757743835, 'gen_loss: ', 0.21791502833366394)\n",
      "('recon_loss:', 0.21821054816246033, 'disc_loss:', 0.880078136920929, 'gen_loss: ', 0.14814169704914093)\n",
      "('recon_loss:', 0.20569030940532684, 'disc_loss:', 0.7799269556999207, 'gen_loss: ', 0.3023710250854492)\n",
      "('recon_loss:', 0.20754612982273102, 'disc_loss:', 0.8406040668487549, 'gen_loss: ', 0.23767884075641632)\n",
      "('recon_loss:', 0.1952030211687088, 'disc_loss:', 0.8579479455947876, 'gen_loss: ', 0.21995320916175842)\n",
      "('recon_loss:', 0.21018320322036743, 'disc_loss:', 0.7865739464759827, 'gen_loss: ', 0.31202295422554016)\n",
      "('recon_loss:', 0.19524000585079193, 'disc_loss:', 0.8321234583854675, 'gen_loss: ', 0.2579048275947571)\n",
      "('recon_loss:', 0.19299067556858063, 'disc_loss:', 0.7998706698417664, 'gen_loss: ', 0.29812902212142944)\n",
      "('recon_loss:', 0.21795004606246948, 'disc_loss:', 0.7849568724632263, 'gen_loss: ', 0.3202339708805084)\n",
      "('recon_loss:', 0.22749757766723633, 'disc_loss:', 0.7722485661506653, 'gen_loss: ', 0.3365897834300995)\n",
      "('recon_loss:', 0.20873385667800903, 'disc_loss:', 0.7970615029335022, 'gen_loss: ', 0.3015275001525879)\n",
      "('recon_loss:', 0.20193003118038177, 'disc_loss:', 0.8301686644554138, 'gen_loss: ', 0.27145424485206604)\n",
      "('recon_loss:', 0.21556805074214935, 'disc_loss:', 0.8090282678604126, 'gen_loss: ', 0.29019981622695923)\n",
      "('recon_loss:', 0.2084042876958847, 'disc_loss:', 0.9156833291053772, 'gen_loss: ', 0.2327452003955841)\n",
      "('recon_loss:', 0.20368537306785583, 'disc_loss:', 0.7862545847892761, 'gen_loss: ', 0.3032892346382141)\n",
      "('recon_loss:', 0.19870230555534363, 'disc_loss:', 0.7852332592010498, 'gen_loss: ', 0.2603071928024292)\n",
      "('recon_loss:', 0.2110375314950943, 'disc_loss:', 0.856500506401062, 'gen_loss: ', 0.2324831783771515)\n",
      "('recon_loss:', 0.21925459802150726, 'disc_loss:', 0.793063759803772, 'gen_loss: ', 0.26974576711654663)\n",
      "('recon_loss:', 0.21682222187519073, 'disc_loss:', 0.8228866457939148, 'gen_loss: ', 0.25396859645843506)\n",
      "('recon_loss:', 0.21499046683311462, 'disc_loss:', 0.8260394334793091, 'gen_loss: ', 0.2533760964870453)\n",
      "('recon_loss:', 0.22700832784175873, 'disc_loss:', 0.8082484006881714, 'gen_loss: ', 0.2685040831565857)\n",
      "('recon_loss:', 0.18609146773815155, 'disc_loss:', 0.8159076571464539, 'gen_loss: ', 0.2636374533176422)\n",
      "('recon_loss:', 0.21123448014259338, 'disc_loss:', 0.8399838805198669, 'gen_loss: ', 0.23362700641155243)\n",
      "('recon_loss:', 0.1931493878364563, 'disc_loss:', 0.7826110124588013, 'gen_loss: ', 0.2991280257701874)\n",
      "('recon_loss:', 0.21172459423542023, 'disc_loss:', 0.8094407320022583, 'gen_loss: ', 0.2636955678462982)\n",
      "('recon_loss:', 0.20457324385643005, 'disc_loss:', 0.7994642853736877, 'gen_loss: ', 0.28261640667915344)\n",
      "('recon_loss:', 0.20539335906505585, 'disc_loss:', 0.798069953918457, 'gen_loss: ', 0.2772301435470581)\n",
      "('recon_loss:', 0.2023274004459381, 'disc_loss:', 0.8559583425521851, 'gen_loss: ', 0.22862346470355988)\n",
      "('recon_loss:', 0.20795805752277374, 'disc_loss:', 0.8008947372436523, 'gen_loss: ', 0.27560800313949585)\n",
      "('recon_loss:', 0.1905387043952942, 'disc_loss:', 0.8095750212669373, 'gen_loss: ', 0.2671160101890564)\n",
      "('recon_loss:', 0.2107406109571457, 'disc_loss:', 0.7808110117912292, 'gen_loss: ', 0.300846666097641)\n",
      "('recon_loss:', 0.20351549983024597, 'disc_loss:', 0.81483393907547, 'gen_loss: ', 0.2634405791759491)\n",
      "('recon_loss:', 0.20821049809455872, 'disc_loss:', 0.8530769944190979, 'gen_loss: ', 0.22144486010074615)\n",
      "('recon_loss:', 0.2190760225057602, 'disc_loss:', 0.7885820865631104, 'gen_loss: ', 0.27389198541641235)\n",
      "('recon_loss:', 0.2066376507282257, 'disc_loss:', 0.7988904118537903, 'gen_loss: ', 0.25354239344596863)\n",
      "('recon_loss:', 0.21347318589687347, 'disc_loss:', 0.7875010967254639, 'gen_loss: ', 0.2561105191707611)\n",
      "('recon_loss:', 0.207675963640213, 'disc_loss:', 0.8277264833450317, 'gen_loss: ', 0.23303267359733582)\n",
      "('recon_loss:', 0.2164248675107956, 'disc_loss:', 0.8038284182548523, 'gen_loss: ', 0.25893253087997437)\n",
      "('recon_loss:', 0.2121146321296692, 'disc_loss:', 0.825456976890564, 'gen_loss: ', 0.24645954370498657)\n"
     ]
    }
   ],
   "source": [
    "Q,P = generate_model()"
   ]
  },
  {
   "cell_type": "code",
   "execution_count": 19,
   "metadata": {
    "collapsed": true
   },
   "outputs": [],
   "source": [
    "train_encoded = Q(Variable(torch.cuda.FloatTensor(p_fingerprints)))"
   ]
  },
  {
   "cell_type": "code",
   "execution_count": 20,
   "metadata": {},
   "outputs": [
    {
     "name": "stdout",
     "output_type": "stream",
     "text": [
      "('tn, fp, fn, tp: ', array([3375,    0,   48,    0]))\n"
     ]
    }
   ],
   "source": [
    "train_encoded_np = train_encoded.data.cpu().numpy()\n",
    "#train_encoded_np = np.tile(train_encoded_np,(len(train_encoded_np),1))\n",
    "dist_active = la.norm(train_encoded_np - np.tile(p_active,(no_examples,1)),axis=1)\n",
    "dist_inactive = la.norm(train_encoded_np - np.tile(p_inactive,(no_examples,1)),axis=1)\n",
    "d = dist_active - dist_inactive\n",
    "pred_labels = np.zeros((no_examples,1))\n",
    "pred_labels[d>=0] = 1\n",
    "cf = metrics.confusion_matrix(y_pred=pred_labels,y_true=labels2)\n",
    "print('tn, fp, fn, tp: ',cf.ravel())"
   ]
  },
  {
   "cell_type": "markdown",
   "metadata": {},
   "source": [
    "### Test file"
   ]
  },
  {
   "cell_type": "code",
   "execution_count": 21,
   "metadata": {
    "collapsed": true
   },
   "outputs": [],
   "source": [
    "p_fingerprints_test = []\n",
    "labels = []\n",
    "path = '/home/daiict/CVShare/Jeni/hts/bioassay-datasets/' + fname + 'red_test.csv'\n",
    "with open(path) as csvfile:\n",
    "    readcsv = csv.reader(csvfile)\n",
    "    for row in readcsv:\n",
    "        p_fingerprints_test.append(row[:112])\n",
    "        labels.append(row[-1])"
   ]
  },
  {
   "cell_type": "code",
   "execution_count": 22,
   "metadata": {},
   "outputs": [
    {
     "name": "stdout",
     "output_type": "stream",
     "text": [
      "(856, 112)\n",
      "('total no of 1s', 6305)\n",
      "('total no of 0s', 89567)\n"
     ]
    }
   ],
   "source": [
    "p_fingerprints_test = np.asarray( p_fingerprints_test)[1:]\n",
    "p_fingerprints_test =  p_fingerprints_test.astype(int)\n",
    "#p2_fingerprints = np.ones(p_fingerprints.shape)\n",
    "(no_examples , ip_dim) =  p_fingerprints_test.shape\n",
    "labels = labels[1:]\n",
    "print(no_examples,ip_dim)\n",
    "print(\"total no of 1s\",np.sum( p_fingerprints_test))\n",
    "print(\"total no of 0s\",no_examples*ip_dim-np.sum( p_fingerprints_test))\n",
    "\n",
    "p_fingerprints_test[( p_fingerprints_test==0)] = -1"
   ]
  },
  {
   "cell_type": "code",
   "execution_count": 23,
   "metadata": {},
   "outputs": [
    {
     "name": "stdout",
     "output_type": "stream",
     "text": [
      "[ 12.]\n"
     ]
    }
   ],
   "source": [
    "labels_test = np.zeros((len(labels),1))\n",
    "for i,l in enumerate(labels):\n",
    "    if l=='Active':\n",
    "        labels_test[i] = 1\n",
    "    else:\n",
    "        labels_test[i] = 0\n",
    "\n",
    "no_active_ele = (sum(labels_test))\n",
    "labels_test = labels_test.astype(int)\n",
    "print(no_active_ele)"
   ]
  },
  {
   "cell_type": "code",
   "execution_count": 24,
   "metadata": {},
   "outputs": [
    {
     "name": "stdout",
     "output_type": "stream",
     "text": [
      "0.0573210716248\n"
     ]
    }
   ],
   "source": [
    "import time\n",
    "tic = time.time()\n",
    "test_encoded = Q(Variable(torch.cuda.FloatTensor(p_fingerprints_test)))\n",
    "toc = time.time()\n",
    "print(toc-tic)"
   ]
  },
  {
   "cell_type": "code",
   "execution_count": 25,
   "metadata": {},
   "outputs": [
    {
     "name": "stdout",
     "output_type": "stream",
     "text": [
      "('tn, fp, fn, tp: ', array([844,   0,  12,   0]))\n"
     ]
    }
   ],
   "source": [
    "test_encoded_np = test_encoded.data.cpu().numpy()\n",
    "#train_encoded_np = np.tile(train_encoded_np,(len(train_encoded_np),1))\n",
    "dist_active = la.norm(test_encoded_np - np.tile(p_active,(no_examples,1)),axis=1)\n",
    "dist_inactive = la.norm(test_encoded_np - np.tile(p_inactive,(no_examples,1)),axis=1)\n",
    "d = dist_active - dist_inactive\n",
    "pred_labels = np.zeros((no_examples,1))\n",
    "pred_labels[d>=0] = 1\n",
    "cf = metrics.confusion_matrix(y_pred=pred_labels,y_true=labels_test)\n",
    "print('tn, fp, fn, tp: ',cf.ravel())"
   ]
  },
  {
   "cell_type": "code",
   "execution_count": null,
   "metadata": {
    "collapsed": true
   },
   "outputs": [],
   "source": []
  }
 ],
 "metadata": {
  "kernelspec": {
   "display_name": "Python 2",
   "language": "python",
   "name": "python2"
  },
  "language_info": {
   "codemirror_mode": {
    "name": "ipython",
    "version": 2
   },
   "file_extension": ".py",
   "mimetype": "text/x-python",
   "name": "python",
   "nbconvert_exporter": "python",
   "pygments_lexer": "ipython2",
   "version": "2.7.6"
  }
 },
 "nbformat": 4,
 "nbformat_minor": 2
}
