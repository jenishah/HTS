{
 "cells": [
  {
   "cell_type": "code",
   "execution_count": 1,
   "metadata": {
    "collapsed": true
   },
   "outputs": [],
   "source": [
    "import numpy as np\n",
    "import csv\n",
    "import os\n",
    "import torch\n",
    "import torch.nn as nn\n",
    "import torch.nn.functional as F\n",
    "import torch.optim as optim\n",
    "from matplotlib import pyplot as plt\n",
    "from torch.autograd import Variable\n",
    "from mpl_toolkits.mplot3d import Axes3D\n",
    "%matplotlib notebook\n",
    "import pickle\n",
    "from utils import *"
   ]
  },
  {
   "cell_type": "code",
   "execution_count": 2,
   "metadata": {
    "collapsed": true
   },
   "outputs": [],
   "source": [
    "findex = 1\n",
    "x,y = get_features(findex,cleaned=True)\n",
    "no_ex = x.shape[0]"
   ]
  },
  {
   "cell_type": "code",
   "execution_count": 3,
   "metadata": {
    "collapsed": true
   },
   "outputs": [],
   "source": [
    "from sklearn import svm\n",
    "from sklearn import metrics"
   ]
  },
  {
   "cell_type": "code",
   "execution_count": 4,
   "metadata": {
    "collapsed": true
   },
   "outputs": [],
   "source": [
    "gama = [0.006,0.007,0.008,0.009,0.01]\n",
    "weight = [75,80,85,90]"
   ]
  },
  {
   "cell_type": "code",
   "execution_count": 6,
   "metadata": {},
   "outputs": [
    {
     "name": "stdout",
     "output_type": "stream",
     "text": [
      "0.006 75\n",
      "('tn, fp, fn, tp', array([37554,  8922,     3,   904]))\n",
      "('tn, fp, fn, tp', array([9445, 2470,    9,   33]))\n",
      "0.006 80\n",
      "('tn, fp, fn, tp', array([37325,  9151,     3,   904]))\n",
      "('tn, fp, fn, tp', array([9389, 2526,    9,   33]))\n",
      "0.006 85\n",
      "('tn, fp, fn, tp', array([37133,  9343,     2,   905]))\n",
      "no use\n",
      "0.006 90\n",
      "('tn, fp, fn, tp', array([36970,  9506,     2,   905]))\n",
      "no use\n",
      "0.007 75\n",
      "('tn, fp, fn, tp', array([38532,  7944,     2,   905]))\n",
      "('tn, fp, fn, tp', array([9705, 2210,   12,   30]))\n",
      "0.007 80\n",
      "('tn, fp, fn, tp', array([38368,  8108,     2,   905]))\n",
      "('tn, fp, fn, tp', array([9661, 2254,   12,   30]))\n",
      "0.007 85\n",
      "('tn, fp, fn, tp', array([38248,  8228,     0,   907]))\n",
      "('tn, fp, fn, tp', array([9634, 2281,   11,   31]))\n",
      "0.007 90\n",
      "('tn, fp, fn, tp', array([38141,  8335,     0,   907]))\n",
      "('tn, fp, fn, tp', array([9595, 2320,   11,   31]))\n",
      "0.008 75\n",
      "('tn, fp, fn, tp', array([39455,  7021,     1,   906]))\n",
      "('tn, fp, fn, tp', array([9916, 1999,   14,   28]))\n",
      "0.008 80\n",
      "('tn, fp, fn, tp', array([39327,  7149,     0,   907]))\n",
      "('tn, fp, fn, tp', array([9896, 2019,   14,   28]))\n",
      "0.008 85\n",
      "('tn, fp, fn, tp', array([39216,  7260,     0,   907]))\n",
      "('tn, fp, fn, tp', array([9864, 2051,   14,   28]))\n",
      "0.008 90\n",
      "('tn, fp, fn, tp', array([39125,  7351,     0,   907]))\n",
      "('tn, fp, fn, tp', array([9844, 2071,   15,   27]))\n",
      "0.009 75\n",
      "('tn, fp, fn, tp', array([40239,  6237,     0,   907]))\n",
      "('tn, fp, fn, tp', array([10119,  1796,    16,    26]))\n",
      "0.009 80\n",
      "('tn, fp, fn, tp', array([40104,  6372,     0,   907]))\n",
      "('tn, fp, fn, tp', array([10086,  1829,    16,    26]))\n",
      "0.009 85\n",
      "('tn, fp, fn, tp', array([40014,  6462,     0,   907]))\n",
      "('tn, fp, fn, tp', array([10070,  1845,    16,    26]))\n",
      "0.009 90\n",
      "('tn, fp, fn, tp', array([39922,  6554,     0,   907]))\n",
      "('tn, fp, fn, tp', array([10045,  1870,    15,    27]))\n",
      "0.01 75\n",
      "('tn, fp, fn, tp', array([40881,  5595,     0,   907]))\n",
      "('tn, fp, fn, tp', array([10285,  1630,    18,    24]))\n",
      "0.01 80\n",
      "('tn, fp, fn, tp', array([40799,  5677,     0,   907]))\n",
      "('tn, fp, fn, tp', array([10252,  1663,    18,    24]))\n",
      "0.01 85\n",
      "('tn, fp, fn, tp', array([40734,  5742,     0,   907]))\n",
      "('tn, fp, fn, tp', array([10232,  1683,    18,    24]))\n",
      "0.01 90\n",
      "('tn, fp, fn, tp', array([40642,  5834,     0,   907]))\n",
      "('tn, fp, fn, tp', array([10217,  1698,    17,    25]))\n"
     ]
    }
   ],
   "source": [
    "for g in gama:\n",
    "    for w in weight:\n",
    "        print g,w\n",
    "        clf1 = svm.SVC(kernel = 'rbf',gamma=g,class_weight={1:w})\n",
    "        clf1.fit(x,y)\n",
    "        op1 = clf1.predict(x)\n",
    "        cm1 = metrics.confusion_matrix(y,op1)\n",
    "        print('tn, fp, fn, tp',cm1.ravel())\n",
    "        [tn,fp,fn,tp] = cm1.ravel()\n",
    "        if(fp<0.2*float(tn+fp)):\n",
    "            xtest,ytest = get_features(findex,train=False)\n",
    "            optest = clf1.predict(xtest)\n",
    "            cmtest = metrics.confusion_matrix(ytest,optest)\n",
    "            print('tn, fp, fn, tp',cmtest.ravel())\n",
    "        else:\n",
    "            print(\"no use\")"
   ]
  },
  {
   "cell_type": "code",
   "execution_count": null,
   "metadata": {
    "collapsed": true
   },
   "outputs": [],
   "source": []
  },
  {
   "cell_type": "code",
   "execution_count": null,
   "metadata": {
    "collapsed": true
   },
   "outputs": [],
   "source": []
  }
 ],
 "metadata": {
  "kernelspec": {
   "display_name": "Python 2",
   "language": "python",
   "name": "python2"
  },
  "language_info": {
   "codemirror_mode": {
    "name": "ipython",
    "version": 2
   },
   "file_extension": ".py",
   "mimetype": "text/x-python",
   "name": "python",
   "nbconvert_exporter": "python",
   "pygments_lexer": "ipython2",
   "version": "2.7.6"
  }
 },
 "nbformat": 4,
 "nbformat_minor": 2
}
