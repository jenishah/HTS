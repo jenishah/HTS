{
 "cells": [
  {
   "cell_type": "code",
   "execution_count": 1,
   "metadata": {
    "collapsed": true
   },
   "outputs": [],
   "source": [
    "import numpy as np\n",
    "import csv\n",
    "import os\n",
    "import torch\n",
    "import torch.nn as nn\n",
    "import torch.nn.functional as F\n",
    "#from tensorflow.examples.tutorials.mnist import input_data\n",
    "from torch.autograd import Variable\n",
    "import sklearn.metrics as metrics\n",
    "import pickle\n",
    "import os\n",
    "import numpy.linalg as la\n",
    "import random\n",
    "import torch.nn.parallel\n",
    "import torch.backends.cudnn as cudnn\n",
    "import torch.optim as optim\n",
    "import torch.utils.data\n",
    "import torchvision.datasets as dset\n",
    "import torchvision.transforms as transforms\n",
    "import torchvision.utils as vutils\n",
    "from torch.autograd import Variable\n",
    "import sys\n",
    "import pandas as pd\n",
    "#sys.path.append(\"/home/CVShare/Jeni/hts/machine_learning/sampling_with_data_cleaning\")\n",
    "import sampling_with_data_cleaning as sdc\n",
    "from utils import *"
   ]
  },
  {
   "cell_type": "markdown",
   "metadata": {},
   "source": [
    "### FNN on cleaned features"
   ]
  },
  {
   "cell_type": "code",
   "execution_count": 3,
   "metadata": {},
   "outputs": [
    {
     "name": "stdout",
     "output_type": "stream",
     "text": [
      "(47383,)\n",
      "907.0\n",
      "907\n"
     ]
    }
   ],
   "source": [
    "findex = 1\n",
    "x,y = get_features(findex,train=True,cleaned=True)\n",
    "print y.shape\n",
    "print sum(y)\n",
    "y = y.astype(int)\n",
    "print sum(y)\n",
    "x,y = shuffle(x,y)"
   ]
  },
  {
   "cell_type": "code",
   "execution_count": 4,
   "metadata": {},
   "outputs": [
    {
     "name": "stdout",
     "output_type": "stream",
     "text": [
      "47383 154\n"
     ]
    }
   ],
   "source": [
    "no_ex,ip_dim = x.shape\n",
    "print no_ex,ip_dim"
   ]
  },
  {
   "cell_type": "code",
   "execution_count": 5,
   "metadata": {
    "collapsed": true
   },
   "outputs": [],
   "source": [
    "class c_mlp(nn.Module):\n",
    "    def __init__(self):\n",
    "        super(c_mlp,self).__init__()\n",
    "        self.l1 = nn.Linear(ip_dim,1000)\n",
    "        self.l2 = nn.Linear(1000,1000)\n",
    "        self.l3 = nn.Linear(1000,500)\n",
    "        #self.l4 = nn.Linear(500,500)\n",
    "        self.l5 = nn.Linear(500,100)\n",
    "        self.l6 = nn.Linear(100,50)\n",
    "        self.l7 = nn.Linear(50,2)\n",
    "        \n",
    "    def forward(self,x):\n",
    "        x = F.leaky_relu(self.l1(x))\n",
    "        x = F.leaky_relu(self.l2(x))\n",
    "        x = F.leaky_relu(self.l3(x))\n",
    "        #x = F.leaky_relu(self.l4(x))\n",
    "        x = F.leaky_relu(self.l5(x))\n",
    "        x = F.leaky_relu(self.l6(x))\n",
    "        x = (self.l7(x))\n",
    "        \n",
    "        return x"
   ]
  },
  {
   "cell_type": "code",
   "execution_count": 6,
   "metadata": {},
   "outputs": [
    {
     "name": "stdout",
     "output_type": "stream",
     "text": [
      "('val iter: ', 1)\n",
      "('tn, fp, fn, tp: ', array([8518,  767,   45,  146]))\n",
      "('min fp, max_percent', 767, 0.7643979057591623)\n",
      "('saving model on val: ', 1, ' and weight: ', 40.0)\n",
      "('tn, fp, fn, tp: ', array([8048, 1237,   35,  156]))\n",
      "('min fp, max_percent', 1237, 0.8167539267015707)\n",
      "('saving model on val: ', 1, ' and weight: ', 46.666666666666664)\n",
      "('tn, fp, fn, tp: ', array([8478,  807,   40,  151]))\n",
      "('tn, fp, fn, tp: ', array([8197, 1088,   40,  151]))\n",
      "('tn, fp, fn, tp: ', array([7517, 1768,   26,  165]))\n",
      "('min fp, max_percent', 1768, 0.8638743455497382)\n",
      "('saving model on val: ', 1, ' and weight: ', 66.666666666666671)\n",
      "('tn, fp, fn, tp: ', array([8221, 1064,   43,  148]))\n",
      "('tn, fp, fn, tp: ', array([7504, 1781,   33,  158]))\n",
      "('val iter: ', 2)\n",
      "('tn, fp, fn, tp: ', array([8158, 1133,   30,  156]))\n",
      "('tn, fp, fn, tp: ', array([8576,  715,   61,  125]))\n",
      "('tn, fp, fn, tp: ', array([8245, 1046,   37,  149]))\n",
      "('tn, fp, fn, tp: ', array([8217, 1074,   32,  154]))\n",
      "('tn, fp, fn, tp: ', array([8174, 1117,   36,  150]))\n",
      "('tn, fp, fn, tp: ', array([7999, 1292,   40,  146]))\n",
      "('tn, fp, fn, tp: ', array([7890, 1401,   34,  152]))\n",
      "('val iter: ', 3)\n",
      "('tn, fp, fn, tp: ', array([7671, 1634,   18,  153]))\n",
      "('min fp, max_percent', 1634, 0.8947368421052632)\n",
      "('saving model on val: ', 3, ' and weight: ', 40.0)\n",
      "('tn, fp, fn, tp: ', array([7998, 1307,   25,  146]))\n",
      "('tn, fp, fn, tp: ', array([8052, 1253,   29,  142]))\n",
      "('tn, fp, fn, tp: ', array([7900, 1405,   27,  144]))\n",
      "('tn, fp, fn, tp: ', array([8151, 1154,   33,  138]))\n",
      "('tn, fp, fn, tp: ', array([7707, 1598,   26,  145]))\n",
      "('tn, fp, fn, tp: ', array([7616, 1689,   20,  151]))\n",
      "('min fp, max_percent', 1689, 0.8830409356725146)\n",
      "('saving model on val: ', 3, ' and weight: ', 80.0)\n",
      "('val iter: ', 4)\n",
      "('tn, fp, fn, tp: ', array([8384,  916,   38,  139]))\n"
     ]
    },
    {
     "ename": "KeyboardInterrupt",
     "evalue": "",
     "output_type": "error",
     "traceback": [
      "\u001b[0;31m---------------------------------------------------------------------------\u001b[0m",
      "\u001b[0;31mKeyboardInterrupt\u001b[0m                         Traceback (most recent call last)",
      "\u001b[0;32m<ipython-input-6-758a8e143057>\u001b[0m in \u001b[0;36m<module>\u001b[0;34m()\u001b[0m\n\u001b[1;32m     17\u001b[0m \u001b[0;34m\u001b[0m\u001b[0m\n\u001b[1;32m     18\u001b[0m             \u001b[0mind\u001b[0m \u001b[0;34m=\u001b[0m \u001b[0mget_train_ind\u001b[0m\u001b[0;34m(\u001b[0m\u001b[0mval_iter\u001b[0m\u001b[0;34m=\u001b[0m\u001b[0mval_iter\u001b[0m\u001b[0;34m,\u001b[0m\u001b[0mno_examples\u001b[0m\u001b[0;34m=\u001b[0m\u001b[0mno_ex\u001b[0m\u001b[0;34m)\u001b[0m\u001b[0;34m\u001b[0m\u001b[0m\n\u001b[0;32m---> 19\u001b[0;31m             \u001b[0mxtrain\u001b[0m\u001b[0;34m,\u001b[0m\u001b[0mytrain\u001b[0m \u001b[0;34m=\u001b[0m \u001b[0mget_train_batch\u001b[0m\u001b[0;34m(\u001b[0m\u001b[0mx\u001b[0m\u001b[0;34m,\u001b[0m\u001b[0my\u001b[0m\u001b[0;34m,\u001b[0m\u001b[0mbatch_size\u001b[0m\u001b[0;34m=\u001b[0m\u001b[0;36m100\u001b[0m\u001b[0;34m,\u001b[0m\u001b[0mindices\u001b[0m\u001b[0;34m=\u001b[0m\u001b[0mind\u001b[0m\u001b[0;34m)\u001b[0m\u001b[0;34m\u001b[0m\u001b[0m\n\u001b[0m\u001b[1;32m     20\u001b[0m \u001b[0;34m\u001b[0m\u001b[0m\n\u001b[1;32m     21\u001b[0m             \u001b[0mmodel_op\u001b[0m \u001b[0;34m=\u001b[0m \u001b[0mmymlp\u001b[0m\u001b[0;34m(\u001b[0m\u001b[0mxtrain\u001b[0m\u001b[0;34m)\u001b[0m\u001b[0;34m\u001b[0m\u001b[0m\n",
      "\u001b[0;32m/home/daiict/CVShare/Jeni/hts/utils.pyc\u001b[0m in \u001b[0;36mget_train_batch\u001b[0;34m(x, y, indices, batch_size, cuda)\u001b[0m\n\u001b[1;32m    134\u001b[0m \u001b[0;32mdef\u001b[0m \u001b[0mget_train_batch\u001b[0m\u001b[0;34m(\u001b[0m\u001b[0mx\u001b[0m\u001b[0;34m,\u001b[0m\u001b[0my\u001b[0m\u001b[0;34m,\u001b[0m\u001b[0mindices\u001b[0m\u001b[0;34m,\u001b[0m\u001b[0mbatch_size\u001b[0m\u001b[0;34m,\u001b[0m\u001b[0mcuda\u001b[0m\u001b[0;34m=\u001b[0m\u001b[0mTrue\u001b[0m\u001b[0;34m)\u001b[0m\u001b[0;34m:\u001b[0m\u001b[0;34m\u001b[0m\u001b[0m\n\u001b[1;32m    135\u001b[0m \u001b[0;34m\u001b[0m\u001b[0m\n\u001b[0;32m--> 136\u001b[0;31m     \u001b[0mtrain_data\u001b[0m \u001b[0;34m=\u001b[0m \u001b[0mx\u001b[0m\u001b[0;34m[\u001b[0m\u001b[0mindices\u001b[0m\u001b[0;34m]\u001b[0m\u001b[0;34m\u001b[0m\u001b[0m\n\u001b[0m\u001b[1;32m    137\u001b[0m     \u001b[0mlabels_train\u001b[0m \u001b[0;34m=\u001b[0m \u001b[0my\u001b[0m\u001b[0;34m[\u001b[0m\u001b[0mindices\u001b[0m\u001b[0;34m]\u001b[0m\u001b[0;34m\u001b[0m\u001b[0m\n\u001b[1;32m    138\u001b[0m     \u001b[0mcurr_data_size\u001b[0m \u001b[0;34m=\u001b[0m \u001b[0mtrain_data\u001b[0m\u001b[0;34m.\u001b[0m\u001b[0mshape\u001b[0m\u001b[0;34m[\u001b[0m\u001b[0;36m0\u001b[0m\u001b[0;34m]\u001b[0m\u001b[0;34m\u001b[0m\u001b[0m\n",
      "\u001b[0;31mKeyboardInterrupt\u001b[0m: "
     ]
    }
   ],
   "source": [
    "max_percent = 0.76\n",
    "model_no = 1\n",
    "for i in range(1,6):\n",
    "    val_iter = i\n",
    "    print(\"val iter: \",val_iter)\n",
    "    \n",
    "   \n",
    "    #weights_array = [7]\n",
    "    weights_array = np.linspace(40,80,7)\n",
    "    \n",
    "    for i,w in enumerate(weights_array): \n",
    "        mymlp = c_mlp().cuda()\n",
    "        optimizer = torch.optim.Adagrad(mymlp.parameters(),lr=1e-3)\n",
    "        criterion = nn.CrossEntropyLoss(weight=torch.cuda.FloatTensor([1,w]))\n",
    "\n",
    "        for ep in range(2500):\n",
    "            \n",
    "            ind = get_train_ind(val_iter=val_iter,no_examples=no_ex)\n",
    "            xtrain,ytrain = get_train_batch(x,y,batch_size=100,indices=ind)\n",
    "            \n",
    "            model_op = mymlp(xtrain)\n",
    "           \n",
    "            loss = criterion(model_op,ytrain)\n",
    "            loss.backward()\n",
    "            optimizer.step()\n",
    "            optimizer.zero_grad()\n",
    "\n",
    "    #     if(ep%30==29):\n",
    "    #         print(loss.data[0])\n",
    "\n",
    "        ## After training check on cross validation data\n",
    "        xval,yval = get_val_data(x,y,no_examples=no_ex,val_iter=val_iter)\n",
    "        min_fp = xval.size()[0]*0.2\n",
    "        yval = yval.reshape(yval.shape[0],)\n",
    "        train_op = mymlp(xval)\n",
    "        train_op = train_op.cpu().data.numpy()\n",
    "        pred_labels = np.argmax(train_op,axis=1)\n",
    "      \n",
    "        cf = metrics.confusion_matrix(yval,pred_labels).ravel()\n",
    "        [tn,fp,fn,tp] = cf\n",
    "        print('tn, fp, fn, tp: ',cf)\n",
    "        percent = float(float(tp)/float(tp+fn))\n",
    "        if(percent>max_percent*0.98):\n",
    "            if(fp<min_fp):\n",
    "                if(model_no<6):\n",
    "                        max_percent = percent\n",
    "                        print(\"min fp, max_percent\",fp,percent)\n",
    "                        model_path = os.getcwd() + '/fnn_clean_' + str(findex)+'_model'+str(model_no)\n",
    "                        torch.save(mymlp.state_dict(),model_path)\n",
    "                        print(\"saving model on val: \",val_iter,\" and weight: \",w)\n",
    "                        model_no = model_no + 1\n",
    "                else:\n",
    "                    break\n",
    "        \n"
   ]
  },
  {
   "cell_type": "code",
   "execution_count": 7,
   "metadata": {},
   "outputs": [
    {
     "name": "stdout",
     "output_type": "stream",
     "text": [
      "(11957,)\n",
      "(11957,)\n",
      "(11957,)\n",
      "('tn, fp, fn, tp: ', array([10868,  1047,    22,    20]))\n",
      "(11957,)\n",
      "(11957,)\n",
      "('tn, fp, fn, tp: ', array([10207,  1708,    15,    27]))\n",
      "(11957,)\n",
      "(11957,)\n",
      "('tn, fp, fn, tp: ', array([9555, 2360,   11,   31]))\n",
      "(11957,)\n",
      "(11957,)\n",
      "('tn, fp, fn, tp: ', array([9632, 2283,   12,   30]))\n",
      "(11957,)\n",
      "(11957,)\n",
      "('tn, fp, fn, tp: ', array([9578, 2337,   14,   28]))\n"
     ]
    }
   ],
   "source": [
    "xtest_t,ytest = get_features(findex,train=False)\n",
    "xtest = Variable(torch.cuda.FloatTensor(xtest_t).cuda())\n",
    "final_pred = np.zeros(ytest.shape[0],)\n",
    "print final_pred.shape\n",
    "for i in range(1,6):\n",
    "    model_path = os.getcwd() + '/fnn_clean_' + str(findex)+'_model'+str(i)\n",
    "    \n",
    "    \n",
    "    test_model = c_mlp().cuda()\n",
    "    test_model.load_state_dict(torch.load(model_path))\n",
    "    test_op = test_model(xtest)\n",
    "    test_op = test_op.cpu().data.numpy()\n",
    "    pred_labels = np.argmax(test_op,axis=1).reshape(final_pred.shape[0],)\n",
    "    print pred_labels.shape\n",
    "    final_pred = pred_labels + final_pred\n",
    "    print final_pred.shape\n",
    "    cf = metrics.confusion_matrix(ytest,pred_labels).ravel()\n",
    "    print('tn, fp, fn, tp: ',cf)"
   ]
  },
  {
   "cell_type": "code",
   "execution_count": 8,
   "metadata": {},
   "outputs": [
    {
     "name": "stdout",
     "output_type": "stream",
     "text": [
      "('tn, fp, fn, tp: ', array([8561, 3354,    8,   34]))\n"
     ]
    }
   ],
   "source": [
    "final_pred[final_pred>1] = 1\n",
    "cf = metrics.confusion_matrix(ytest,final_pred).ravel()\n",
    "print('tn, fp, fn, tp: ',cf)"
   ]
  },
  {
   "cell_type": "code",
   "execution_count": null,
   "metadata": {
    "collapsed": true
   },
   "outputs": [],
   "source": [
    "pred_labels.shape"
   ]
  },
  {
   "cell_type": "code",
   "execution_count": null,
   "metadata": {
    "collapsed": true
   },
   "outputs": [],
   "source": [
    "final_pred.shape"
   ]
  },
  {
   "cell_type": "code",
   "execution_count": null,
   "metadata": {
    "collapsed": true
   },
   "outputs": [],
   "source": []
  }
 ],
 "metadata": {
  "kernelspec": {
   "display_name": "Python 2",
   "language": "python",
   "name": "python2"
  },
  "language_info": {
   "codemirror_mode": {
    "name": "ipython",
    "version": 2
   },
   "file_extension": ".py",
   "mimetype": "text/x-python",
   "name": "python",
   "nbconvert_exporter": "python",
   "pygments_lexer": "ipython2",
   "version": "2.7.6"
  }
 },
 "nbformat": 4,
 "nbformat_minor": 2
}
