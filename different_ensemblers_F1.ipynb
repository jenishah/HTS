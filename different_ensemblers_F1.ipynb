{
 "cells": [
  {
   "cell_type": "code",
   "execution_count": 1,
   "metadata": {
    "collapsed": true
   },
   "outputs": [],
   "source": [
    "import numpy as np\n",
    "import csv\n",
    "import os\n",
    "import torch\n",
    "import torch.nn as nn\n",
    "import torch.nn.functional as F\n",
    "#from tensorflow.examples.tutorials.mnist import input_data\n",
    "from torch.autograd import Variable\n",
    "import sklearn.metrics as metrics\n",
    "import pickle\n",
    "import os\n",
    "import numpy.linalg as la\n",
    "import random\n",
    "import torch.nn.parallel\n",
    "import torch.backends.cudnn as cudnn\n",
    "import torch.optim as optim\n",
    "import torch.utils.data\n",
    "import torchvision.datasets as dset\n",
    "import torchvision.transforms as transforms\n",
    "import torchvision.utils as vutils\n",
    "from torch.autograd import Variable\n",
    "import sys\n",
    "import pandas as pd\n",
    "#sys.path.append(\"/home/CVShare/Jeni/hts/machine_learning/sampling_with_data_cleaning\")\n",
    "import sampling_with_data_cleaning as sdc\n",
    "from utils import *"
   ]
  },
  {
   "cell_type": "markdown",
   "metadata": {},
   "source": [
    "### FNN on cleaned features"
   ]
  },
  {
   "cell_type": "code",
   "execution_count": 2,
   "metadata": {},
   "outputs": [
    {
     "name": "stdout",
     "output_type": "stream",
     "text": [
      "(47383,)\n",
      "907.0\n",
      "907\n"
     ]
    }
   ],
   "source": [
    "findex = 1\n",
    "x,y = get_features(findex,train=True,cleaned=True)\n",
    "print y.shape\n",
    "print sum(y)\n",
    "y = y.astype(int)\n",
    "print sum(y)\n",
    "x,y = shuffle(x,y)"
   ]
  },
  {
   "cell_type": "code",
   "execution_count": 3,
   "metadata": {},
   "outputs": [
    {
     "name": "stdout",
     "output_type": "stream",
     "text": [
      "47383 154\n"
     ]
    }
   ],
   "source": [
    "no_ex,ip_dim = x.shape\n",
    "print no_ex,ip_dim"
   ]
  },
  {
   "cell_type": "code",
   "execution_count": 4,
   "metadata": {
    "collapsed": true
   },
   "outputs": [],
   "source": [
    "class c_mlp_1(nn.Module):\n",
    "    def __init__(self):\n",
    "        super(c_mlp_1,self).__init__()\n",
    "        self.l1 = nn.Linear(ip_dim,1000)\n",
    "        self.l2 = nn.Linear(1000,1000)\n",
    "        self.l3 = nn.Linear(1000,500)\n",
    "        #self.l4 = nn.Linear(500,500)\n",
    "        self.l5 = nn.Linear(500,100)\n",
    "        self.l6 = nn.Linear(100,50)\n",
    "        self.l7 = nn.Linear(50,2)\n",
    "        \n",
    "    def forward(self,x):\n",
    "        x = F.leaky_relu(self.l1(x))\n",
    "        x = F.leaky_relu(self.l2(x))\n",
    "        x = F.leaky_relu(self.l3(x))\n",
    "        #x = F.leaky_relu(self.l4(x))\n",
    "        x = F.leaky_relu(self.l5(x))\n",
    "        x = F.leaky_relu(self.l6(x))\n",
    "        x = (self.l7(x))\n",
    "        \n",
    "        return x"
   ]
  },
  {
   "cell_type": "code",
   "execution_count": 5,
   "metadata": {
    "collapsed": true
   },
   "outputs": [],
   "source": [
    "class c_mlp_2(nn.Module):\n",
    "    def __init__(self):\n",
    "        super(c_mlp_2,self).__init__()\n",
    "        self.l1 = nn.Linear(ip_dim,1000)\n",
    "        self.l2 = nn.Linear(1000,1000)\n",
    "        self.l3 = nn.Linear(1000,500)\n",
    "        #self.l4 = nn.Linear(500,500)\n",
    "        self.l5 = nn.Linear(500,100)\n",
    "        self.l6 = nn.Linear(100,50)\n",
    "        self.l7 = nn.Linear(50,2)\n",
    "        \n",
    "    def forward(self,x):\n",
    "        x = F.tanh(self.l1(x))\n",
    "        x = F.tanh(self.l2(x))\n",
    "        x = F.tanh(self.l3(x))\n",
    "        #x = F.leaky_relu(self.l4(x))\n",
    "        x = F.tanh(self.l5(x))\n",
    "        x = F.tanh(self.l6(x))\n",
    "        x = (self.l7(x))\n",
    "        \n",
    "        return x"
   ]
  },
  {
   "cell_type": "code",
   "execution_count": 6,
   "metadata": {
    "collapsed": true
   },
   "outputs": [],
   "source": [
    "class c_mlp_3(nn.Module):\n",
    "    def __init__(self):\n",
    "        super(c_mlp_3,self).__init__()\n",
    "        self.l1 = nn.Linear(ip_dim,1000)\n",
    "        self.l2 = nn.Linear(1000,1000)\n",
    "        self.l3 = nn.Linear(1000,500)\n",
    "        #self.l4 = nn.Linear(500,500)\n",
    "        self.l5 = nn.Linear(500,100)\n",
    "        self.l6 = nn.Linear(100,50)\n",
    "        self.l7 = nn.Linear(50,2)\n",
    "        \n",
    "    def forward(self,x):\n",
    "        x = F.selu(self.l1(x))\n",
    "        x = F.selu(self.l2(x))\n",
    "        x = F.selu(self.l3(x))\n",
    "        #x = F.leaky_relu(self.l4(x))\n",
    "        x = F.selu(self.l5(x))\n",
    "        x = F.selu(self.l6(x))\n",
    "        x = (self.l7(x))\n",
    "        \n",
    "        return x"
   ]
  },
  {
   "cell_type": "code",
   "execution_count": 7,
   "metadata": {
    "collapsed": true
   },
   "outputs": [],
   "source": [
    "mymlps = [c_mlp_1().cuda(),c_mlp_2().cuda(),c_mlp_3().cuda()]"
   ]
  },
  {
   "cell_type": "code",
   "execution_count": 9,
   "metadata": {},
   "outputs": [
    {
     "name": "stdout",
     "output_type": "stream",
     "text": [
      "('val iter: ', 1)\n",
      "('tn, fp, fn, tp: ', array([9289,    7,    0,  180]))\n",
      "('min fp, max_percent', 7, 1.0)\n",
      "('saving model on val: ', 1, ' and weight: ', 40.0)\n",
      "('tn, fp, fn, tp: ', array([9287,    9,    2,  178]))\n",
      "('min fp, max_percent', 9, 0.9888888888888889)\n",
      "('saving model on val: ', 1, ' and weight: ', 45.0)\n",
      "('tn, fp, fn, tp: ', array([9289,    7,   10,  170]))\n",
      "('tn, fp, fn, tp: ', array([9287,    9,   13,  167]))\n",
      "('tn, fp, fn, tp: ', array([9288,    8,   12,  168]))\n",
      "('val iter: ', 2)\n",
      "('tn, fp, fn, tp: ', array([9274,    9,    0,  194]))\n",
      "('min fp, max_percent', 9, 1.0)\n",
      "('saving model on val: ', 2, ' and weight: ', 40.0)\n",
      "('tn, fp, fn, tp: ', array([9277,    6,    4,  190]))\n",
      "('tn, fp, fn, tp: ', array([9270,   13,    8,  186]))\n",
      "('tn, fp, fn, tp: ', array([9269,   14,   12,  182]))\n",
      "('tn, fp, fn, tp: ', array([9262,   21,   16,  178]))\n",
      "('val iter: ', 3)\n",
      "('val iter: ', 1)\n",
      "('tn, fp, fn, tp: ', array([7915, 1381,   65,  115]))\n",
      "('tn, fp, fn, tp: ', array([7313, 1983,   39,  141]))\n",
      "('tn, fp, fn, tp: ', array([7521, 1775,   36,  144]))\n",
      "('tn, fp, fn, tp: ', array([7730, 1566,   41,  139]))\n",
      "('tn, fp, fn, tp: ', array([7920, 1376,   42,  138]))\n",
      "('val iter: ', 2)\n",
      "('tn, fp, fn, tp: ', array([8529,  754,   32,  162]))\n",
      "('tn, fp, fn, tp: ', array([8738,  545,   35,  159]))\n",
      "('tn, fp, fn, tp: ', array([8864,  419,   35,  159]))\n",
      "('tn, fp, fn, tp: ', array([8940,  343,   34,  160]))\n",
      "('tn, fp, fn, tp: ', array([9036,  247,   36,  158]))\n",
      "('val iter: ', 3)\n",
      "('tn, fp, fn, tp: ', array([9168,  138,    4,  166]))\n",
      "('min fp, max_percent', 138, 0.9764705882352941)\n",
      "('saving model on val: ', 3, ' and weight: ', 40.0)\n",
      "('tn, fp, fn, tp: ', array([9176,  130,   11,  159]))\n",
      "('tn, fp, fn, tp: ', array([9191,  115,   22,  148]))\n",
      "('tn, fp, fn, tp: ', array([9209,   97,   24,  146]))\n",
      "('tn, fp, fn, tp: ', array([9217,   89,   25,  145]))\n",
      "('val iter: ', 4)\n",
      "('tn, fp, fn, tp: ', array([9234,   52,    1,  190]))\n",
      "('min fp, max_percent', 52, 0.9947643979057592)\n",
      "('saving model on val: ', 4, ' and weight: ', 40.0)\n",
      "('tn, fp, fn, tp: ', array([9237,   49,    5,  186]))\n",
      "('tn, fp, fn, tp: ', array([9231,   55,    5,  186]))\n",
      "('tn, fp, fn, tp: ', array([9237,   49,    6,  185]))\n",
      "('tn, fp, fn, tp: ', array([9228,   58,   15,  176]))\n",
      "('val iter: ', 5)\n",
      "('tn, fp, fn, tp: ', array([9291,   14,    0,  172]))\n",
      "('min fp, max_percent', 14, 1.0)\n",
      "('saving model on val: ', 5, ' and weight: ', 40.0)\n",
      "('tn, fp, fn, tp: ', array([9292,   13,    3,  169]))\n",
      "('min fp, max_percent', 13, 0.9825581395348837)\n",
      "('saving model on val: ', 5, ' and weight: ', 45.0)\n",
      "('tn, fp, fn, tp: ', array([9288,   17,    3,  169]))\n",
      "('min fp, max_percent', 17, 0.9825581395348837)\n",
      "('saving model on val: ', 5, ' and weight: ', 50.0)\n",
      "('tn, fp, fn, tp: ', array([9272,   33,    2,  170]))\n",
      "('min fp, max_percent', 33, 0.9883720930232558)\n",
      "('saving model on val: ', 5, ' and weight: ', 55.0)\n",
      "('tn, fp, fn, tp: ', array([9264,   41,    6,  166]))\n",
      "('val iter: ', 1)\n",
      "('tn, fp, fn, tp: ', array([7859, 1437,   47,  133]))\n",
      "('tn, fp, fn, tp: ', array([8124, 1172,   41,  139]))\n",
      "('tn, fp, fn, tp: ', array([8375,  921,   38,  142]))\n",
      "('tn, fp, fn, tp: ', array([8626,  670,   44,  136]))\n",
      "('tn, fp, fn, tp: ', array([8762,  534,   39,  141]))\n",
      "('val iter: ', 2)\n",
      "('tn, fp, fn, tp: ', array([8748,  535,   13,  181]))\n",
      "('min fp, max_percent', 535, 0.9329896907216495)\n",
      "('saving model on val: ', 2, ' and weight: ', 40.0)\n",
      "('tn, fp, fn, tp: ', array([8893,  390,   18,  176]))\n",
      "('tn, fp, fn, tp: ', array([8932,  351,   22,  172]))\n",
      "('tn, fp, fn, tp: ', array([9017,  266,   27,  167]))\n",
      "('tn, fp, fn, tp: ', array([9032,  251,   29,  165]))\n",
      "('val iter: ', 3)\n",
      "('tn, fp, fn, tp: ', array([9132,  174,    6,  164]))\n",
      "('min fp, max_percent', 174, 0.9647058823529412)\n",
      "('saving model on val: ', 3, ' and weight: ', 40.0)\n",
      "('tn, fp, fn, tp: ', array([9135,  171,   12,  158]))\n",
      "('tn, fp, fn, tp: ', array([9185,  121,   21,  149]))\n",
      "('tn, fp, fn, tp: ', array([9203,  103,   23,  147]))\n",
      "('tn, fp, fn, tp: ', array([9182,  124,   21,  149]))\n",
      "('val iter: ', 4)\n",
      "('tn, fp, fn, tp: ', array([9215,   71,    2,  189]))\n",
      "('min fp, max_percent', 71, 0.9895287958115183)\n",
      "('saving model on val: ', 4, ' and weight: ', 40.0)\n",
      "('tn, fp, fn, tp: ', array([9216,   70,    2,  189]))\n",
      "('min fp, max_percent', 70, 0.9895287958115183)\n",
      "('saving model on val: ', 4, ' and weight: ', 45.0)\n",
      "('tn, fp, fn, tp: ', array([9194,   92,    4,  187]))\n",
      "('min fp, max_percent', 92, 0.9790575916230366)\n",
      "('saving model on val: ', 4, ' and weight: ', 50.0)\n",
      "('tn, fp, fn, tp: ', array([9197,   89,    7,  184]))\n",
      "('min fp, max_percent', 89, 0.9633507853403142)\n",
      "('saving model on val: ', 4, ' and weight: ', 55.0)\n",
      "('tn, fp, fn, tp: ', array([9214,   72,   10,  181]))\n",
      "('min fp, max_percent', 72, 0.9476439790575916)\n",
      "('saving model on val: ', 4, ' and weight: ', 60.0)\n",
      "('val iter: ', 5)\n",
      "('tn, fp, fn, tp: ', array([9263,   42,    0,  172]))\n",
      "('min fp, max_percent', 42, 1.0)\n",
      "('saving model on val: ', 5, ' and weight: ', 40.0)\n",
      "('tn, fp, fn, tp: ', array([9253,   52,    1,  171]))\n",
      "('min fp, max_percent', 52, 0.9941860465116279)\n",
      "('saving model on val: ', 5, ' and weight: ', 45.0)\n",
      "('tn, fp, fn, tp: ', array([9263,   42,    4,  168]))\n",
      "('min fp, max_percent', 42, 0.9767441860465116)\n",
      "('saving model on val: ', 5, ' and weight: ', 50.0)\n",
      "('tn, fp, fn, tp: ', array([9258,   47,    6,  166]))\n",
      "('min fp, max_percent', 47, 0.9651162790697675)\n",
      "('saving model on val: ', 5, ' and weight: ', 55.0)\n",
      "('tn, fp, fn, tp: ', array([9260,   45,    7,  165]))\n",
      "('min fp, max_percent', 45, 0.9593023255813954)\n",
      "('saving model on val: ', 5, ' and weight: ', 60.0)\n"
     ]
    }
   ],
   "source": [
    "for mlp_no,mymlp in enumerate(mymlps):\n",
    "    max_percent = 0.90\n",
    "    model_no = 1\n",
    "    for i in range(1,6):\n",
    "        val_iter = i\n",
    "        print(\"val iter: \",val_iter)\n",
    "        \n",
    "        if model_no is 4:\n",
    "                break\n",
    "        else:\n",
    "        #weights_array = [7]\n",
    "            weights_array = np.linspace(40,60,5)\n",
    "\n",
    "            for i,w in enumerate(weights_array): \n",
    "            \n",
    "            \n",
    "           \n",
    "            #mymlp = c_mlp().cuda()\n",
    "                optimizer = torch.optim.Adagrad(mymlp.parameters(),lr=1e-3)\n",
    "                criterion = nn.CrossEntropyLoss(weight=torch.cuda.FloatTensor([1,w]))\n",
    "\n",
    "                for ep in range(2500):\n",
    "\n",
    "                    ind = get_train_ind(val_iter=val_iter,no_examples=no_ex)\n",
    "                    xtrain,ytrain = get_train_batch(x,y,batch_size=200,indices=ind)\n",
    "\n",
    "                    model_op = mymlp(xtrain)\n",
    "\n",
    "                    loss = criterion(model_op,ytrain)\n",
    "                    loss.backward()\n",
    "                    optimizer.step()\n",
    "                    optimizer.zero_grad()\n",
    "\n",
    "            #     if(ep%30==29):\n",
    "            #         print(loss.data[0])\n",
    "\n",
    "                ## After training check on cross validation data\n",
    "                xval,yval = get_val_data(x,y,no_examples=no_ex,val_iter=val_iter)\n",
    "                min_fp = xval.size()[0]*0.17\n",
    "                yval = yval.reshape(yval.shape[0],)\n",
    "                train_op = mymlp(xval)\n",
    "                train_op = train_op.cpu().data.numpy()\n",
    "                pred_labels = np.argmax(train_op,axis=1)\n",
    "\n",
    "                cf = metrics.confusion_matrix(yval,pred_labels).ravel()\n",
    "                [tn,fp,fn,tp] = cf\n",
    "                print('tn, fp, fn, tp: ',cf)\n",
    "                percent = float(float(tp)/float(tp+fn))\n",
    "                if(percent>max_percent*0.98):\n",
    "                    if(fp<min_fp):\n",
    "                        if(1==1):\n",
    "                                max_percent = percent\n",
    "                                print(\"min fp, max_percent\",fp,percent)\n",
    "                                model_path = os.getcwd() + '/fnn_' + str(findex)+'_model'+str(model_no)+'_mlp'+str(mlp_no)\n",
    "                                torch.save(mymlp.state_dict(),model_path)\n",
    "                                print(\"saving model on val: \",val_iter,\" and weight: \",w)\n",
    "                                model_no = model_no + 1\n",
    "\n",
    "\n",
    "\n"
   ]
  },
  {
   "cell_type": "code",
   "execution_count": 13,
   "metadata": {},
   "outputs": [
    {
     "name": "stdout",
     "output_type": "stream",
     "text": [
      "(11957,)\n",
      "(11957,)\n",
      "(11957,)\n",
      "('tn, fp, fn, tp: ', array([11788,   127,    37,     5]))\n",
      "(11957,)\n",
      "(11957,)\n",
      "('tn, fp, fn, tp: ', array([11782,   133,    37,     5]))\n",
      "(11957,)\n",
      "(11957,)\n",
      "('tn, fp, fn, tp: ', array([11790,   125,    36,     6]))\n",
      "(11957,)\n",
      "(11957,)\n",
      "('tn, fp, fn, tp: ', array([11536,   379,    31,    11]))\n",
      "(11957,)\n",
      "(11957,)\n",
      "('tn, fp, fn, tp: ', array([11669,   246,    33,     9]))\n",
      "(11957,)\n",
      "(11957,)\n",
      "('tn, fp, fn, tp: ', array([11696,   219,    34,     8]))\n",
      "(11957,)\n",
      "(11957,)\n",
      "('tn, fp, fn, tp: ', array([11092,   823,    22,    20]))\n",
      "(11957,)\n",
      "(11957,)\n",
      "('tn, fp, fn, tp: ', array([11510,   405,    33,     9]))\n",
      "(11957,)\n",
      "(11957,)\n",
      "('tn, fp, fn, tp: ', array([11654,   261,    33,     9]))\n"
     ]
    }
   ],
   "source": [
    "xtest_t,ytest = get_features(findex,train=False)\n",
    "xtest = Variable(torch.cuda.FloatTensor(xtest_t).cuda())\n",
    "final_pred = np.zeros(ytest.shape[0],)\n",
    "print final_pred.shape\n",
    "\n",
    "test_models = [c_mlp_1().cuda(),c_mlp_2().cuda(),c_mlp_3().cuda()]\n",
    "#     for i in range(2):\n",
    "#         test_models.append(model)\n",
    "for mlp_no,test_model in enumerate(test_models):\n",
    "    for model_no in range(1,4):\n",
    "        model_path = os.getcwd() + '/fnn_' + str(findex)+'_model'+str(model_no)+'_mlp'+str(mlp_no)\n",
    "\n",
    "        test_model.load_state_dict(torch.load(model_path))\n",
    "        test_op = test_model(xtest)\n",
    "        test_op = test_op.cpu().data.numpy()\n",
    "        pred_labels = np.argmax(test_op,axis=1).reshape(final_pred.shape[0],)\n",
    "        print pred_labels.shape\n",
    "        final_pred = pred_labels + final_pred\n",
    "        print final_pred.shape\n",
    "        cf = metrics.confusion_matrix(ytest,pred_labels).ravel()\n",
    "        print('tn, fp, fn, tp: ',cf)"
   ]
  },
  {
   "cell_type": "code",
   "execution_count": 11,
   "metadata": {},
   "outputs": [
    {
     "name": "stdout",
     "output_type": "stream",
     "text": [
      "('tn, fp, fn, tp: ', array([10940,   975,    19,    23]))\n"
     ]
    }
   ],
   "source": [
    "final_pred[final_pred>1] = 1\n",
    "cf = metrics.confusion_matrix(ytest,final_pred).ravel()\n",
    "print('tn, fp, fn, tp: ',cf)"
   ]
  },
  {
   "cell_type": "code",
   "execution_count": null,
   "metadata": {
    "collapsed": true
   },
   "outputs": [],
   "source": [
    "pred_labels.shape"
   ]
  },
  {
   "cell_type": "code",
   "execution_count": null,
   "metadata": {
    "collapsed": true
   },
   "outputs": [],
   "source": [
    "final_pred.shape"
   ]
  },
  {
   "cell_type": "code",
   "execution_count": null,
   "metadata": {
    "collapsed": true
   },
   "outputs": [],
   "source": []
  }
 ],
 "metadata": {
  "kernelspec": {
   "display_name": "Python 2",
   "language": "python",
   "name": "python2"
  },
  "language_info": {
   "codemirror_mode": {
    "name": "ipython",
    "version": 2
   },
   "file_extension": ".py",
   "mimetype": "text/x-python",
   "name": "python",
   "nbconvert_exporter": "python",
   "pygments_lexer": "ipython2",
   "version": "2.7.6"
  }
 },
 "nbformat": 4,
 "nbformat_minor": 2
}
