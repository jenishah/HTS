{
 "cells": [
  {
   "cell_type": "code",
   "execution_count": 1,
   "metadata": {
    "collapsed": true
   },
   "outputs": [],
   "source": [
    "import numpy as np\n",
    "import csv\n",
    "import os\n",
    "import torch\n",
    "import torch.nn as nn\n",
    "import torch.nn.functional as F\n",
    "#from tensorflow.examples.tutorials.mnist import input_data\n",
    "from torch.autograd import Variable\n",
    "import sklearn.metrics as metrics\n",
    "import pickle\n",
    "import os\n",
    "import numpy.linalg as la\n",
    "import random\n",
    "import torch.nn.parallel\n",
    "import torch.backends.cudnn as cudnn\n",
    "import torch.optim as optim\n",
    "import torch.utils.data\n",
    "import torchvision.datasets as dset\n",
    "import torchvision.transforms as transforms\n",
    "import torchvision.utils as vutils\n",
    "from torch.autograd import Variable\n",
    "import sys\n",
    "import pandas as pd\n",
    "#sys.path.append(\"/home/CVShare/Jeni/hts/machine_learning/sampling_with_data_cleaning\")\n",
    "import sampling_with_data_cleaning as sdc\n",
    "from utils import *"
   ]
  },
  {
   "cell_type": "markdown",
   "metadata": {},
   "source": [
    "### FNN on cleaned features"
   ]
  },
  {
   "cell_type": "code",
   "execution_count": 2,
   "metadata": {},
   "outputs": [
    {
     "name": "stdout",
     "output_type": "stream",
     "text": [
      "(47755,)\n",
      "266.0\n",
      "266\n"
     ]
    }
   ],
   "source": [
    "findex = 4\n",
    "x,y = get_features(findex,train=True,cleaned=True)\n",
    "print y.shape\n",
    "print sum(y)\n",
    "y = y.astype(int)\n",
    "print sum(y)\n",
    "x,y = shuffle(x,y)"
   ]
  },
  {
   "cell_type": "code",
   "execution_count": 3,
   "metadata": {},
   "outputs": [
    {
     "name": "stdout",
     "output_type": "stream",
     "text": [
      "47755 155\n"
     ]
    }
   ],
   "source": [
    "no_ex,ip_dim = x.shape\n",
    "print no_ex,ip_dim"
   ]
  },
  {
   "cell_type": "code",
   "execution_count": null,
   "metadata": {
    "collapsed": true
   },
   "outputs": [],
   "source": [
    "class c_mlp(nn.Module):\n",
    "    def __init__(self):\n",
    "        super(c_mlp,self).__init__()\n",
    "        self.l1 = nn.Linear(ip_dim,1000)\n",
    "        self.l2 = nn.Linear(1000,1000)\n",
    "        self.l3 = nn.Linear(1000,500)\n",
    "        self.l4 = nn.Linear(500,500)\n",
    "        self.l5 = nn.Linear(500,100)\n",
    "        self.l6 = nn.Linear(100,50)\n",
    "        self.l7 = nn.Linear(50,2)\n",
    "        \n",
    "    def forward(self,x):\n",
    "        x = F.leaky_relu(self.l1(x))\n",
    "        x = F.leaky_relu(self.l2(x))\n",
    "        x = F.leaky_relu(self.l3(x))\n",
    "        x = F.leaky_relu(self.l4(x))\n",
    "        x = F.leaky_relu(self.l5(x))\n",
    "        x = F.leaky_relu(self.l6(x))\n",
    "        x = (self.l7(x))\n",
    "        \n",
    "        return x"
   ]
  },
  {
   "cell_type": "code",
   "execution_count": null,
   "metadata": {},
   "outputs": [
    {
     "name": "stdout",
     "output_type": "stream",
     "text": [
      "('val iter: ', 1)\n",
      "('tn, fp, fn, tp: ', array([9385,  114,   25,   27]))\n",
      "('min fp, max_percent', 114, 0.5192307692307693)\n",
      "('saving model on val: ', 1, ' and weight: ', 50.0)\n",
      "('tn, fp, fn, tp: ', array([9394,  105,   27,   25]))\n",
      "('tn, fp, fn, tp: ', array([9262,  237,   22,   30]))\n",
      "('min fp, max_percent', 237, 0.5769230769230769)\n",
      "('saving model on val: ', 1, ' and weight: ', 58.888888888888886)\n",
      "('tn, fp, fn, tp: ', array([9214,  285,   18,   34]))\n",
      "('min fp, max_percent', 285, 0.6538461538461539)\n",
      "('saving model on val: ', 1, ' and weight: ', 63.333333333333336)\n",
      "('tn, fp, fn, tp: ', array([9193,  306,   20,   32]))\n",
      "('tn, fp, fn, tp: ', array([9090,  409,   17,   35]))\n",
      "('min fp, max_percent', 409, 0.6730769230769231)\n",
      "('saving model on val: ', 1, ' and weight: ', 72.222222222222229)\n",
      "('tn, fp, fn, tp: ', array([9107,  392,   15,   37]))\n",
      "('min fp, max_percent', 392, 0.7115384615384616)\n",
      "('saving model on val: ', 1, ' and weight: ', 76.666666666666671)\n",
      "('tn, fp, fn, tp: ', array([9282,  217,   24,   28]))\n",
      "('tn, fp, fn, tp: ', array([9235,  264,   22,   30]))\n",
      "('tn, fp, fn, tp: ', array([9019,  480,   16,   36]))\n",
      "('val iter: ', 2)\n",
      "('tn, fp, fn, tp: ', array([9124,  386,   10,   31]))\n",
      "('min fp, max_percent', 386, 0.7560975609756098)\n",
      "('saving model on val: ', 2, ' and weight: ', 50.0)\n",
      "('tn, fp, fn, tp: ', array([8781,  729,    5,   36]))\n",
      "('min fp, max_percent', 729, 0.8780487804878049)\n",
      "('saving model on val: ', 2, ' and weight: ', 54.444444444444443)\n",
      "('tn, fp, fn, tp: ', array([9193,  317,   11,   30]))\n",
      "('tn, fp, fn, tp: ', array([9093,  417,    9,   32]))\n",
      "('tn, fp, fn, tp: ', array([9288,  222,   14,   27]))\n",
      "('tn, fp, fn, tp: ', array([9281,  229,   14,   27]))\n",
      "('tn, fp, fn, tp: ', array([9084,  426,   10,   31]))\n",
      "('tn, fp, fn, tp: ', array([9186,  324,    9,   32]))\n",
      "('tn, fp, fn, tp: ', array([9168,  342,   10,   31]))\n",
      "('tn, fp, fn, tp: ', array([9037,  473,    5,   36]))\n",
      "('val iter: ', 3)\n",
      "('tn, fp, fn, tp: ', array([9349,  154,   21,   27]))\n",
      "('tn, fp, fn, tp: ', array([9350,  153,   24,   24]))\n",
      "('tn, fp, fn, tp: ', array([9390,  113,   32,   16]))\n",
      "('tn, fp, fn, tp: ', array([9048,  455,   15,   33]))\n",
      "('tn, fp, fn, tp: ', array([9281,  222,   25,   23]))\n",
      "('tn, fp, fn, tp: ', array([9263,  240,   18,   30]))\n",
      "('tn, fp, fn, tp: ', array([9448,   55,   39,    9]))\n",
      "('tn, fp, fn, tp: ', array([8916,  587,   12,   36]))\n",
      "('tn, fp, fn, tp: ', array([9210,  293,   20,   28]))\n",
      "('tn, fp, fn, tp: ', array([9162,  341,   17,   31]))\n",
      "('val iter: ', 4)\n",
      "('tn, fp, fn, tp: ', array([9323,  165,   32,   31]))\n",
      "('tn, fp, fn, tp: ', array([9018,  470,   24,   39]))\n",
      "('tn, fp, fn, tp: ', array([9327,  161,   30,   33]))\n",
      "('tn, fp, fn, tp: ', array([9347,  141,   40,   23]))\n",
      "('tn, fp, fn, tp: ', array([9285,  203,   31,   32]))\n",
      "('tn, fp, fn, tp: ', array([9170,  318,   26,   37]))\n",
      "('tn, fp, fn, tp: ', array([8954,  534,   15,   48]))\n",
      "('tn, fp, fn, tp: ', array([9176,  312,   20,   43]))\n",
      "('tn, fp, fn, tp: ', array([8531,  957,   11,   52]))\n",
      "('tn, fp, fn, tp: ', array([9228,  260,   28,   35]))\n",
      "('val iter: ', 5)\n",
      "('tn, fp, fn, tp: ', array([9163,  326,   27,   35]))\n",
      "('tn, fp, fn, tp: ', array([9334,  155,   33,   29]))\n",
      "('tn, fp, fn, tp: ', array([9381,  108,   42,   20]))\n",
      "('tn, fp, fn, tp: ', array([9252,  237,   31,   31]))\n",
      "('tn, fp, fn, tp: ', array([9260,  229,   28,   34]))\n"
     ]
    }
   ],
   "source": [
    "max_percent = 0.4\n",
    "\n",
    "for i in range(1,6):\n",
    "    val_iter = i\n",
    "    print(\"val iter: \",val_iter)\n",
    "    \n",
    "   \n",
    "    #weights_array = [7]\n",
    "    weights_array = np.linspace(50,90,10)\n",
    "    for i,w in enumerate(weights_array): \n",
    "        mymlp = c_mlp().cuda()\n",
    "        optimizer = torch.optim.Adagrad(mymlp.parameters(),lr=1e-3)\n",
    "        criterion = nn.CrossEntropyLoss(weight=torch.cuda.FloatTensor([1,w]))\n",
    "\n",
    "        for ep in range(2000):\n",
    "            \n",
    "            ind = get_train_ind(val_iter=val_iter,no_examples=no_ex)\n",
    "            xtrain,ytrain = get_train_batch(x,y,batch_size=50,indices=ind)\n",
    "            \n",
    "            model_op = mymlp(xtrain)\n",
    "           \n",
    "            loss = criterion(model_op,ytrain)\n",
    "            loss.backward()\n",
    "            optimizer.step()\n",
    "            optimizer.zero_grad()\n",
    "\n",
    "    #     if(ep%30==29):\n",
    "    #         print(loss.data[0])\n",
    "\n",
    "        ## After training check on cross validation data\n",
    "        xval,yval = get_val_data(x,y,no_examples=no_ex,val_iter=val_iter)\n",
    "        min_fp = xval.size()[0]*0.2\n",
    "        yval = yval.reshape(yval.shape[0],)\n",
    "        train_op = mymlp(xval)\n",
    "        train_op = train_op.cpu().data.numpy()\n",
    "        pred_labels = np.argmax(train_op,axis=1)\n",
    "      \n",
    "        cf = metrics.confusion_matrix(yval,pred_labels).ravel()\n",
    "        [tn,fp,fn,tp] = cf\n",
    "        print('tn, fp, fn, tp: ',cf)\n",
    "        percent = float(float(tp)/float(tp+fn))\n",
    "        if(percent>max_percent):\n",
    "            if(1==1):\n",
    "                if(fp < min_fp):\n",
    "                    min_fp = fp\n",
    "                    max_percent = percent\n",
    "                    print(\"min fp, max_percent\",fp,percent)\n",
    "                    model_path = os.getcwd() + '/fnn_clean' + str(findex)\n",
    "                    torch.save(mymlp.state_dict(),model_path)\n",
    "                    print(\"saving model on val: \",val_iter,\" and weight: \",w)\n",
    "\n",
    "        \n"
   ]
  },
  {
   "cell_type": "code",
   "execution_count": null,
   "metadata": {},
   "outputs": [],
   "source": [
    "model_path = os.getcwd() + '/fnn_clean' + str(findex)\n",
    "xtest,ytest = get_features(findex,train=False)\n",
    "xtest = Variable(torch.cuda.FloatTensor(xtest).cuda())\n",
    "test_model = c_mlp().cuda()\n",
    "test_model.load_state_dict(torch.load(model_path))\n",
    "test_op = test_model(xtest)\n",
    "print type(test_op)"
   ]
  },
  {
   "cell_type": "code",
   "execution_count": null,
   "metadata": {},
   "outputs": [],
   "source": [
    "test_op = test_op.cpu().data.numpy()\n",
    "pred_labels = np.argmax(test_op,axis=1)\n",
    "cf = metrics.confusion_matrix(ytest,pred_labels).ravel()\n",
    "print('tn, fp, fn, tp: ',cf)"
   ]
  },
  {
   "cell_type": "code",
   "execution_count": null,
   "metadata": {
    "collapsed": true
   },
   "outputs": [],
   "source": []
  }
 ],
 "metadata": {
  "kernelspec": {
   "display_name": "Python 2",
   "language": "python",
   "name": "python2"
  },
  "language_info": {
   "codemirror_mode": {
    "name": "ipython",
    "version": 2
   },
   "file_extension": ".py",
   "mimetype": "text/x-python",
   "name": "python",
   "nbconvert_exporter": "python",
   "pygments_lexer": "ipython2",
   "version": "2.7.6"
  }
 },
 "nbformat": 4,
 "nbformat_minor": 2
}
