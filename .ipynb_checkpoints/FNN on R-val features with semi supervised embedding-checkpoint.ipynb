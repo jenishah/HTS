{
 "cells": [
  {
   "cell_type": "code",
   "execution_count": 1,
   "metadata": {
    "collapsed": true
   },
   "outputs": [],
   "source": [
    "import numpy as np\n",
    "import csv\n",
    "import os\n",
    "import torch\n",
    "import torch.nn as nn\n",
    "import torch.nn.functional as F\n",
    "#from tensorflow.examples.tutorials.mnist import input_data\n",
    "from torch.autograd import Variable\n",
    "import sklearn.metrics as metrics\n",
    "import pickle\n",
    "import os"
   ]
  },
  {
   "cell_type": "markdown",
   "metadata": {},
   "source": [
    "### Using 10 fold cross validation "
   ]
  },
  {
   "cell_type": "code",
   "execution_count": 2,
   "metadata": {
    "collapsed": true
   },
   "outputs": [],
   "source": [
    "path = os.getcwd() + '/bioassay-datasets/'\n",
    "p_fingerprints = []\n",
    "c_fingerprints = []\n",
    "labels = []\n",
    "with open(path+'AID362red_train.csv') as csvfile:\n",
    "    readcsv = csv.reader(csvfile)\n",
    "    for row in readcsv:\n",
    "        p_fingerprints.append(row[:112])\n",
    "        c_fingerprints.append(row[112:-1])\n",
    "        labels.append(row[-1])"
   ]
  },
  {
   "cell_type": "code",
   "execution_count": 3,
   "metadata": {},
   "outputs": [
    {
     "name": "stdout",
     "output_type": "stream",
     "text": [
      "(3423, 112)\n",
      "32\n"
     ]
    }
   ],
   "source": [
    "p_fingerprints = np.asarray(p_fingerprints)[1:]\n",
    "p_fingerprints = p_fingerprints.astype(int)\n",
    "\n",
    "c_fingerprints = np.asarray(c_fingerprints)[1:]\n",
    "c_fingerprints = c_fingerprints.astype(float)\n",
    "\n",
    "#Normalise the features\n",
    "c_fingerprints = (c_fingerprints - np.mean(c_fingerprints,axis=0))/np.std(c_fingerprints,axis=0)\n",
    "\n",
    "#p2_fingerprints = np.ones(p_fingerprints.shape)\n",
    "(no_examples , ip_dim) = p_fingerprints.shape\n",
    "ip_dim2 = c_fingerprints.shape[1]\n",
    "labels = labels[1:]\n",
    "print(no_examples,ip_dim)\n",
    "print(ip_dim2)\n",
    "p_fingerprints[(p_fingerprints==0)] = -1\n"
   ]
  },
  {
   "cell_type": "code",
   "execution_count": 4,
   "metadata": {},
   "outputs": [
    {
     "name": "stdout",
     "output_type": "stream",
     "text": [
      "('tot_positive', 48)\n",
      "('fp allowed', 168)\n"
     ]
    }
   ],
   "source": [
    "labels2 = np.zeros((len(labels),1))\n",
    "for i,l in enumerate(labels):\n",
    "    if l=='Active':\n",
    "        labels2[i] = 1\n",
    "    else:\n",
    "        labels2[i] = 0\n",
    "labels2 = labels2.astype(int)\n",
    "total_pos = np.sum(labels2)\n",
    "print(\"tot_positive\",total_pos)\n",
    "fp_allowed = int((no_examples-total_pos)*0.05)\n",
    "print(\"fp allowed\",fp_allowed)"
   ]
  },
  {
   "cell_type": "markdown",
   "metadata": {},
   "source": [
    "#####  Rnadomly permute the data"
   ]
  },
  {
   "cell_type": "code",
   "execution_count": 5,
   "metadata": {
    "collapsed": true
   },
   "outputs": [],
   "source": [
    "ind = np.arange(no_examples)\n",
    "np.random.shuffle(ind)\n",
    "p_fingerprints = p_fingerprints[ind]\n",
    "c_fingerprints = c_fingerprints[ind]\n",
    "labels2 = labels2[ind]"
   ]
  },
  {
   "cell_type": "code",
   "execution_count": 6,
   "metadata": {
    "collapsed": true
   },
   "outputs": [],
   "source": [
    "# def get_train_batch(batch_size,binary=True):\n",
    "#     samples = np.random.randint(low=0,high=no_examples,size=(batch_size,1))\n",
    "#     if binary == True:\n",
    "#         train_batch = p_fingerprints[samples].reshape(batch_size,ip_dim)\n",
    "#         train_batch = train_batch.astype(int)\n",
    "#     else:\n",
    "#         train_batch = c_fingerprints[samples].reshape(batch_size,ip_dim2)\n",
    "#         train_batch = train_batch.astype(float)\n",
    "    \n",
    "#     train_batch = torch.cuda.FloatTensor(train_batch)\n",
    "#     train_batch = Variable(train_batch,requires_grad=False).cuda()\n",
    "#     #print(labels2[samples])\n",
    "#     target = Variable(torch.cuda.LongTensor(labels2[samples]),requires_grad=False)\n",
    "#     target = target.view(batch_size,)\n",
    "#     #print(target.type)\n",
    "#     return train_batch,target"
   ]
  },
  {
   "cell_type": "code",
   "execution_count": 7,
   "metadata": {},
   "outputs": [
    {
     "name": "stdout",
     "output_type": "stream",
     "text": [
      "[48]\n"
     ]
    }
   ],
   "source": [
    "no_active_ele = (sum(labels2))\n",
    "print(no_active_ele)\n",
    "batch_size = 128"
   ]
  },
  {
   "cell_type": "code",
   "execution_count": 8,
   "metadata": {
    "collapsed": true
   },
   "outputs": [],
   "source": [
    "def get_train_batch(batch_size,validation_iter=0,binary=True):\n",
    "    \n",
    "    if validation_iter == 0: #no validation\n",
    "        curr_data_size = no_examples\n",
    "        labels_train = labels2\n",
    "    else:\n",
    "        curr_data_size = int(no_examples*0.8)\n",
    "        interval_size = int(no_examples*0.2)\n",
    "        \n",
    "        if(val_iter==1):\n",
    "            s_ind1 = int((validation_iter)*interval_size)\n",
    "            end_ind1 = int((validation_iter+1)*interval_size)\n",
    "            s_ind2 = int((validation_iter + 1) * interval_size)\n",
    "            end_ind2 = int(no_examples)\n",
    "        else:\n",
    "            s_ind1 = 0\n",
    "            end_ind1 = int((validation_iter)*interval_size)\n",
    "            s_ind2 = int((validation_iter + 1) * interval_size)\n",
    "            end_ind2 = int(no_examples)\n",
    "        \n",
    "        #print(\"train_ind \",s_ind1,end_ind1,s_ind2,end_ind2)\n",
    "        indices = range(s_ind1,end_ind1) + range(s_ind2,end_ind2)\n",
    "        c_train_data = c_fingerprints[indices]\n",
    "        p_train_data = p_fingerprints[indices]\n",
    "        labels_train = labels2[indices]\n",
    "                               \n",
    "    samples = np.random.randint(low=0,high=curr_data_size,size=(batch_size,1))\n",
    "    if binary == True:\n",
    "        train_batch = p_fingerprints[samples].reshape(batch_size,ip_dim)\n",
    "        train_batch = train_batch.astype(int)\n",
    "    else:\n",
    "        train_batch = c_fingerprints[samples].reshape(batch_size,ip_dim2)\n",
    "        train_batch = train_batch.astype(float)\n",
    "    \n",
    "    train_batch = torch.cuda.FloatTensor(train_batch)\n",
    "    train_batch = Variable(train_batch,requires_grad=False).cuda()\n",
    "    target = Variable(torch.cuda.LongTensor(labels_train[samples]),requires_grad=False)\n",
    "    target = target.view(batch_size,)\n",
    "    return train_batch,target"
   ]
  },
  {
   "cell_type": "code",
   "execution_count": 9,
   "metadata": {
    "collapsed": true
   },
   "outputs": [],
   "source": [
    "def get_val_data(validation_iter,binary = True):\n",
    "    interval_size = int(no_examples)*0.2\n",
    "    s_ind = int((validation_iter-1)*interval_size)\n",
    "    e_ind = int((validation_iter) * interval_size)\n",
    "    if(binary==True):\n",
    "        train_data = p_fingerprints[s_ind:e_ind]\n",
    "    else:\n",
    "        train_data = c_fingerprints[s_ind:e_ind]\n",
    "    labels_val = labels2[s_ind:e_ind]   \n",
    "    #print(\"val ind \",s_ind,e_ind)\n",
    "    return Variable(torch.cuda.FloatTensor(train_data)),labels_val  \n",
    "        "
   ]
  },
  {
   "cell_type": "code",
   "execution_count": 10,
   "metadata": {
    "collapsed": true
   },
   "outputs": [],
   "source": [
    "class c_mlp(nn.Module):\n",
    "    def __init__(self):\n",
    "        super(c_mlp,self).__init__()\n",
    "        self.l1 = nn.Linear(ip_dim2,100)\n",
    "        self.l2 = nn.Linear(100,100)\n",
    "        self.l4 = nn.Linear(100,50)\n",
    "        self.l5 = nn.Linear(50,2)\n",
    "        \n",
    "    def forward(self,x):\n",
    "        x = F.leaky_relu(self.l1(x))\n",
    "        x = F.leaky_relu(self.l2(x))\n",
    "        x = F.leaky_relu(self.l4(x))\n",
    "        x = (self.l5(x))\n",
    "        \n",
    "        return x"
   ]
  },
  {
   "cell_type": "code",
   "execution_count": 11,
   "metadata": {},
   "outputs": [
    {
     "name": "stdout",
     "output_type": "stream",
     "text": [
      "('val iter: ', 1)\n",
      "('tn, fp, fn, tp: ', array([669,   0,  15,   0]))\n",
      "('tn, fp, fn, tp: ', array([669,   0,  15,   0]))\n",
      "('tn, fp, fn, tp: ', array([669,   0,  15,   0]))\n",
      "('tn, fp, fn, tp: ', array([669,   0,  15,   0]))\n",
      "('tn, fp, fn, tp: ', array([669,   0,  15,   0]))\n",
      "('tn, fp, fn, tp: ', array([669,   0,  15,   0]))\n",
      "('tn, fp, fn, tp: ', array([669,   0,  15,   0]))\n",
      "('tn, fp, fn, tp: ', array([669,   0,  15,   0]))\n",
      "('tn, fp, fn, tp: ', array([669,   0,  15,   0]))\n",
      "('tn, fp, fn, tp: ', array([669,   0,  15,   0]))\n",
      "('tn, fp, fn, tp: ', array([667,   2,  15,   0]))\n",
      "('tn, fp, fn, tp: ', array([668,   1,  15,   0]))\n",
      "('tn, fp, fn, tp: ', array([667,   2,  15,   0]))\n",
      "('val iter: ', 2)\n",
      "('tn, fp, fn, tp: ', array([674,   0,  11,   0]))\n",
      "('tn, fp, fn, tp: ', array([674,   0,  10,   1]))\n",
      "('tn, fp, fn, tp: ', array([674,   0,  11,   0]))\n",
      "('tn, fp, fn, tp: ', array([673,   1,  10,   1]))\n",
      "('tn, fp, fn, tp: ', array([673,   1,  11,   0]))\n",
      "('tn, fp, fn, tp: ', array([673,   1,  10,   1]))\n",
      "('tn, fp, fn, tp: ', array([669,   5,   9,   2]))\n",
      "('tn, fp, fn, tp: ', array([668,   6,   9,   2]))\n",
      "('tn, fp, fn, tp: ', array([670,   4,  10,   1]))\n",
      "('tn, fp, fn, tp: ', array([667,   7,   9,   2]))\n",
      "('tn, fp, fn, tp: ', array([667,   7,   8,   3]))\n",
      "('tn, fp, fn, tp: ', array([666,   8,   9,   2]))\n",
      "('tn, fp, fn, tp: ', array([671,   3,   9,   2]))\n",
      "('val iter: ', 3)\n",
      "('tn, fp, fn, tp: ', array([676,   0,   8,   0]))\n",
      "('tn, fp, fn, tp: ', array([676,   0,   7,   1]))\n",
      "('tn, fp, fn, tp: ', array([674,   2,   5,   3]))\n",
      "('tn, fp, fn, tp: ', array([675,   1,   6,   2]))\n",
      "('tn, fp, fn, tp: ', array([672,   4,   5,   3]))\n",
      "('tn, fp, fn, tp: ', array([671,   5,   5,   3]))\n",
      "('tn, fp, fn, tp: ', array([674,   2,   5,   3]))\n",
      "('tn, fp, fn, tp: ', array([669,   7,   5,   3]))\n",
      "('tn, fp, fn, tp: ', array([671,   5,   5,   3]))\n",
      "('tn, fp, fn, tp: ', array([669,   7,   5,   3]))\n",
      "('tn, fp, fn, tp: ', array([661,  15,   5,   3]))\n",
      "('tn, fp, fn, tp: ', array([665,  11,   5,   3]))\n",
      "('tn, fp, fn, tp: ', array([657,  19,   2,   6]))\n",
      "('saving model on val: ', 3, ' and weight: ', 30.0)\n",
      "('val iter: ', 4)\n",
      "('tn, fp, fn, tp: ', array([677,   1,   6,   1]))\n",
      "('tn, fp, fn, tp: ', array([676,   2,   6,   1]))\n",
      "('tn, fp, fn, tp: ', array([675,   3,   4,   3]))\n",
      "('tn, fp, fn, tp: ', array([674,   4,   3,   4]))\n",
      "('tn, fp, fn, tp: ', array([668,  10,   3,   4]))\n",
      "('tn, fp, fn, tp: ', array([662,  16,   3,   4]))\n",
      "('tn, fp, fn, tp: ', array([661,  17,   3,   4]))\n",
      "('tn, fp, fn, tp: ', array([660,  18,   3,   4]))\n",
      "('tn, fp, fn, tp: ', array([668,  10,   3,   4]))\n",
      "('tn, fp, fn, tp: ', array([645,  33,   3,   4]))\n",
      "('tn, fp, fn, tp: ', array([651,  27,   2,   5]))\n",
      "('tn, fp, fn, tp: ', array([645,  33,   2,   5]))\n",
      "('tn, fp, fn, tp: ', array([635,  43,   2,   5]))\n",
      "('val iter: ', 5)\n",
      "('tn, fp, fn, tp: ', array([673,   5,   7,   0]))\n",
      "('tn, fp, fn, tp: ', array([676,   2,   7,   0]))\n",
      "('tn, fp, fn, tp: ', array([666,  12,   7,   0]))\n",
      "('tn, fp, fn, tp: ', array([666,  12,   7,   0]))\n",
      "('tn, fp, fn, tp: ', array([666,  12,   7,   0]))\n",
      "('tn, fp, fn, tp: ', array([663,  15,   7,   0]))\n",
      "('tn, fp, fn, tp: ', array([655,  23,   7,   0]))\n",
      "('tn, fp, fn, tp: ', array([656,  22,   7,   0]))\n",
      "('tn, fp, fn, tp: ', array([652,  26,   7,   0]))\n",
      "('tn, fp, fn, tp: ', array([634,  44,   6,   1]))\n",
      "('tn, fp, fn, tp: ', array([640,  38,   6,   1]))\n",
      "('tn, fp, fn, tp: ', array([646,  32,   7,   0]))\n",
      "('tn, fp, fn, tp: ', array([629,  49,   5,   2]))\n"
     ]
    }
   ],
   "source": [
    "min_fn = 15\n",
    "max_fp = 60\n",
    "cm_list = []\n",
    "for val_iter in range(1,6):\n",
    "    print(\"val iter: \",val_iter)\n",
    "    \n",
    "   \n",
    "    #weights_array = [5]\n",
    "    weights_array = np.linspace(7,30,13)\n",
    "    for i,w in enumerate(weights_array): \n",
    "        mymlp = c_mlp().cuda()\n",
    "        optimizer = torch.optim.Adagrad(mymlp.parameters(),lr=1e-3)\n",
    "        criterion = nn.CrossEntropyLoss(weight=torch.cuda.FloatTensor([1,w]))\n",
    "\n",
    "        for ep in range(3000):\n",
    "            train_batch,target = get_train_batch(batch_size,binary = False,validation_iter = val_iter)\n",
    "            model_op = mymlp(train_batch)\n",
    "            #print(model_op.type)\n",
    "            #print(target.type)\n",
    "            loss = criterion(model_op,target)\n",
    "            loss.backward()\n",
    "            optimizer.step()\n",
    "            optimizer.zero_grad()\n",
    "\n",
    "    #     if(ep%30==29):\n",
    "    #         print(loss.data[0])\n",
    "\n",
    "        ## After training check on cross validation data\n",
    "        val_data,labels_val = get_val_data(val_iter,binary = False)\n",
    "        train_op = mymlp(val_data)\n",
    "        train_op = train_op.cpu().data.numpy()\n",
    "        pred_labels = np.argmax(train_op,axis=1)\n",
    "        #tmp_labels = tmp_labels.data.cpu().numpy()\n",
    "        #print(sum(tmp_labels))\n",
    "        cf = metrics.confusion_matrix(labels_val,pred_labels).ravel()\n",
    "        #print(val_iter,w)\n",
    "        print('tn, fp, fn, tp: ',cf)\n",
    "        [tn,fp,fn,tp] = cf\n",
    "        wcf = [val_iter] + [w] + [cf]\n",
    "        if(fn < 3):\n",
    "            cm_list.append(wcf)\n",
    "            if(fn<4):\n",
    "                if(fp < max_fp):\n",
    "                    max_fp = fp\n",
    "                    model_path = os.getcwd() + '/cont_model_with_val_selu'\n",
    "                    torch.save(mymlp.state_dict(),model_path)\n",
    "                    print(\"saving model on val: \",val_iter,\" and weight: \",w)\n",
    "\n",
    "        \n"
   ]
  },
  {
   "cell_type": "code",
   "execution_count": 12,
   "metadata": {
    "collapsed": true
   },
   "outputs": [],
   "source": [
    "# #weights_array = np.linspace(3,25,22)\n",
    "# tmp_w = [weights_array[0]]\n",
    "# cont_cm_lsit = []\n",
    "# for i,w in enumerate(tmp_w):\n",
    "    \n",
    "    \n",
    "#     c_mymlp = c_mlp().cuda()\n",
    "#     optimizer2 = torch.optim.Adam(c_mymlp.parameters(),lr=1e-4)\n",
    "    \n",
    "#     weights = torch.cuda.FloatTensor([1,w])\n",
    "#     criterion = nn.CrossEntropyLoss(weight=weights)\n",
    "    \n",
    "#     for ep in range(2000):\n",
    "#         train_batch,target = get_train_batch(batch_size,binary=False)\n",
    "#         #train_batch,target = sample_X(batch_size,labels='True')\n",
    "#         #target = Variable(torch.cuda.LongTensor(target),requires_grad = False)\n",
    "#         model_op = c_mymlp(train_batch)\n",
    "#         #print(model_op.type)\n",
    "#         #print(target.type)\n",
    "#         loss = criterion(model_op,target)\n",
    "#         loss.backward()\n",
    "#         optimizer2.step()\n",
    "#         optimizer2.zero_grad()\n",
    "    \n",
    "#         if(ep%100==99):\n",
    "#             print(loss.data[0])\n",
    "\n",
    "#     train_op = c_mymlp(Variable(torch.cuda.FloatTensor(c_fingerprints)))\n",
    "#     train_op = train_op.cpu().data.numpy()\n",
    "#     pred_labels = np.argmax(train_op,axis=1)\n",
    "#     #tmp_labels = tmp_labels.data.cpu().numpy()\n",
    "#     #print(sum(tmp_labels))\n",
    "#     cont_cf = metrics.confusion_matrix(labels2,pred_labels).ravel()\n",
    "#     print('tn, fp, fn, tp: ',cont_cf)\n",
    "#     cont_cm_lsit.append(cont_cf)\n",
    "    \n",
    "#     #model_path = os.getcwd() + '/model' + str(i)\n",
    "#     #torch.save(c_mymlp.state_dict(),model_path)\n",
    "    "
   ]
  },
  {
   "cell_type": "markdown",
   "metadata": {
    "collapsed": true
   },
   "source": [
    "### Checking on Test data"
   ]
  },
  {
   "cell_type": "code",
   "execution_count": 13,
   "metadata": {
    "collapsed": true
   },
   "outputs": [],
   "source": [
    "path = os.getcwd()+'/bioassay-datasets/'\n",
    "test_bin = []\n",
    "test_con = []\n",
    "labels = []\n",
    "with open(path+'AID362red_test.csv') as csvfile:\n",
    "    readcsv = csv.reader(csvfile)\n",
    "    for row in readcsv:\n",
    "        test_bin.append(row[:112])\n",
    "        test_con.append(row[112:-1])\n",
    "        labels.append(row[-1])"
   ]
  },
  {
   "cell_type": "code",
   "execution_count": 14,
   "metadata": {},
   "outputs": [
    {
     "name": "stdout",
     "output_type": "stream",
     "text": [
      "(856, 112)\n",
      "32\n"
     ]
    }
   ],
   "source": [
    "test_bin = np.asarray(test_bin)[1:]\n",
    "test_bin = test_bin.astype(int)\n",
    "\n",
    "test_con = np.asarray(test_con)[1:]\n",
    "test_con = test_con.astype(float)\n",
    "\n",
    "#Normalise the features\n",
    "test_con = (test_con - np.mean(test_con,axis=0))/np.std(test_con,axis=0)\n",
    "\n",
    "#p2_fingerprints = np.ones(p_fingerprints.shape)\n",
    "(no_examples , ip_dim) = test_bin.shape\n",
    "ip_dim2 = test_con.shape[1]\n",
    "labels = labels[1:]\n",
    "print(no_examples,ip_dim)\n",
    "print(ip_dim2)\n",
    "test_bin[(test_bin==0)] = -1\n"
   ]
  },
  {
   "cell_type": "code",
   "execution_count": 15,
   "metadata": {},
   "outputs": [
    {
     "ename": "KeyError",
     "evalue": "'unexpected key \"l3.weight\" in state_dict'",
     "output_type": "error",
     "traceback": [
      "\u001b[0;31m---------------------------------------------------------------------------\u001b[0m",
      "\u001b[0;31mKeyError\u001b[0m                                  Traceback (most recent call last)",
      "\u001b[0;32m<ipython-input-15-4fff16c51fed>\u001b[0m in \u001b[0;36m<module>\u001b[0;34m()\u001b[0m\n\u001b[1;32m      1\u001b[0m \u001b[0mbest_c_mlp\u001b[0m \u001b[0;34m=\u001b[0m \u001b[0mc_mlp\u001b[0m\u001b[0;34m(\u001b[0m\u001b[0;34m)\u001b[0m\u001b[0;34m.\u001b[0m\u001b[0mcuda\u001b[0m\u001b[0;34m(\u001b[0m\u001b[0;34m)\u001b[0m\u001b[0;34m\u001b[0m\u001b[0m\n\u001b[1;32m      2\u001b[0m \u001b[0mparam_path\u001b[0m \u001b[0;34m=\u001b[0m \u001b[0mos\u001b[0m\u001b[0;34m.\u001b[0m\u001b[0mgetcwd\u001b[0m\u001b[0;34m(\u001b[0m\u001b[0;34m)\u001b[0m \u001b[0;34m+\u001b[0m \u001b[0;34m'/cont_model_with_val'\u001b[0m\u001b[0;34m\u001b[0m\u001b[0m\n\u001b[0;32m----> 3\u001b[0;31m \u001b[0mbest_c_mlp\u001b[0m\u001b[0;34m.\u001b[0m\u001b[0mload_state_dict\u001b[0m\u001b[0;34m(\u001b[0m\u001b[0mtorch\u001b[0m\u001b[0;34m.\u001b[0m\u001b[0mload\u001b[0m\u001b[0;34m(\u001b[0m\u001b[0mparam_path\u001b[0m\u001b[0;34m)\u001b[0m\u001b[0;34m)\u001b[0m\u001b[0;34m\u001b[0m\u001b[0m\n\u001b[0m",
      "\u001b[0;32m/usr/local/lib/python2.7/dist-packages/torch/nn/modules/module.pyc\u001b[0m in \u001b[0;36mload_state_dict\u001b[0;34m(self, state_dict)\u001b[0m\n\u001b[1;32m    353\u001b[0m             \u001b[0;32mif\u001b[0m \u001b[0mname\u001b[0m \u001b[0;32mnot\u001b[0m \u001b[0;32min\u001b[0m \u001b[0mown_state\u001b[0m\u001b[0;34m:\u001b[0m\u001b[0;34m\u001b[0m\u001b[0m\n\u001b[1;32m    354\u001b[0m                 raise KeyError('unexpected key \"{}\" in state_dict'\n\u001b[0;32m--> 355\u001b[0;31m                                .format(name))\n\u001b[0m\u001b[1;32m    356\u001b[0m             \u001b[0;32mif\u001b[0m \u001b[0misinstance\u001b[0m\u001b[0;34m(\u001b[0m\u001b[0mparam\u001b[0m\u001b[0;34m,\u001b[0m \u001b[0mParameter\u001b[0m\u001b[0;34m)\u001b[0m\u001b[0;34m:\u001b[0m\u001b[0;34m\u001b[0m\u001b[0m\n\u001b[1;32m    357\u001b[0m                 \u001b[0;31m# backwards compatibility for serialized parameters\u001b[0m\u001b[0;34m\u001b[0m\u001b[0;34m\u001b[0m\u001b[0m\n",
      "\u001b[0;31mKeyError\u001b[0m: 'unexpected key \"l3.weight\" in state_dict'"
     ]
    }
   ],
   "source": [
    "best_c_mlp = c_mlp().cuda()\n",
    "param_path = os.getcwd() + '/cont_model_with_val'\n",
    "best_c_mlp.load_state_dict(torch.load(param_path))"
   ]
  },
  {
   "cell_type": "code",
   "execution_count": null,
   "metadata": {
    "collapsed": true
   },
   "outputs": [],
   "source": [
    "test_labels2 = np.zeros((len(labels),1))\n",
    "for i,l in enumerate(labels):\n",
    "    if l=='Active':\n",
    "        test_labels2[i] = 1\n",
    "    else:\n",
    "        test_labels2[i] = 0\n",
    "test_labels2 = test_labels2.astype(int)\n",
    "total_pos = np.sum(test_labels2)\n",
    "print(\"tot_positive\",total_pos)"
   ]
  },
  {
   "cell_type": "code",
   "execution_count": null,
   "metadata": {
    "collapsed": true
   },
   "outputs": [],
   "source": [
    "test_op = best_c_mlp(Variable(torch.cuda.FloatTensor(test_con)))\n",
    "test_op = test_op.cpu().data.numpy()\n",
    "test_pred = np.argmax(test_op,axis=1)\n",
    "    #tmp_labels = tmp_labels.data.cpu().numpy()\n",
    "    #print(sum(tmp_labels))\n",
    "t_cont_cf = metrics.confusion_matrix(test_labels2,test_pred).ravel()\n",
    "print('tn, fp, fn, tp: ',t_cont_cf)"
   ]
  },
  {
   "cell_type": "code",
   "execution_count": null,
   "metadata": {
    "collapsed": true
   },
   "outputs": [],
   "source": []
  }
 ],
 "metadata": {
  "kernelspec": {
   "display_name": "Python 2",
   "language": "python",
   "name": "python2"
  },
  "language_info": {
   "codemirror_mode": {
    "name": "ipython",
    "version": 2
   },
   "file_extension": ".py",
   "mimetype": "text/x-python",
   "name": "python",
   "nbconvert_exporter": "python",
   "pygments_lexer": "ipython2",
   "version": "2.7.6"
  }
 },
 "nbformat": 4,
 "nbformat_minor": 2
}
