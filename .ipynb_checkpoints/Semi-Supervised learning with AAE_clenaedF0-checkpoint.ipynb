{
 "cells": [
  {
   "cell_type": "code",
   "execution_count": 1,
   "metadata": {
    "collapsed": true
   },
   "outputs": [],
   "source": [
    "import numpy as np\n",
    "import csv\n",
    "import os\n",
    "import torch\n",
    "import torch.nn as nn\n",
    "import torch.nn.functional as F\n",
    "#from tensorflow.examples.tutorials.mnist import input_data\n",
    "from torch.autograd import Variable\n",
    "import sklearn.metrics as metrics\n",
    "import pickle\n",
    "import os\n",
    "import numpy.linalg as la\n",
    "import random\n",
    "import torch.nn.parallel\n",
    "import torch.backends.cudnn as cudnn\n",
    "import torch.optim as optim\n",
    "import torch.utils.data\n",
    "import torchvision.datasets as dset\n",
    "import torchvision.transforms as transforms\n",
    "import torchvision.utils as vutils\n",
    "from torch.autograd import Variable\n",
    "from matplotlib import pyplot as plt\n",
    "import matplotlib.cm as cm\n",
    "from sklearn.manifold import TSNE\n",
    "from utils import *"
   ]
  },
  {
   "cell_type": "code",
   "execution_count": 2,
   "metadata": {
    "collapsed": true
   },
   "outputs": [],
   "source": [
    "findex = 2\n",
    "ip,labels = get_features(findex,cleaned=True)\n",
    "ip,labels = shuffle(ip,labels)"
   ]
  },
  {
   "cell_type": "code",
   "execution_count": 3,
   "metadata": {},
   "outputs": [
    {
     "name": "stdout",
     "output_type": "stream",
     "text": [
      "(7881, 153)\n"
     ]
    }
   ],
   "source": [
    "batch_size = 100\n",
    "\n",
    "no_ex,ip_dim = ip.shape\n",
    "z_dim = 2\n",
    "comb_dim = ip_dim + z_dim\n",
    "print ip.shape"
   ]
  },
  {
   "cell_type": "code",
   "execution_count": 4,
   "metadata": {
    "collapsed": true
   },
   "outputs": [],
   "source": [
    "#### Encoder\n",
    "\n",
    "class encoder(nn.Module):\n",
    "    def __init__(self):\n",
    "        super(encoder,self).__init__()\n",
    "        self.l1 = nn.Linear(ip_dim,500)\n",
    "        self.l2 = nn.Linear(500,500)\n",
    "        self.l3 = nn.Linear(500,300)\n",
    "        self.l4 = nn.Linear(300,300)\n",
    "        self.l5 = nn.Linear(300,z_dim)\n",
    "        \n",
    "    def forward(self,x):\n",
    "        x = F.leaky_relu(self.l1(x))\n",
    "        x = F.leaky_relu(self.l2(x))\n",
    "        x = F.leaky_relu(self.l3(x))\n",
    "        x = F.leaky_relu(self.l4(x))\n",
    "        x = (self.l5(x))\n",
    "        \n",
    "        return x\n",
    "\n",
    "### Decoder\n",
    "\n",
    "class decoder(nn.Module):\n",
    "    def __init__(self):\n",
    "        super(decoder,self).__init__()\n",
    "        self.l1 = nn.Linear(z_dim+2,300)\n",
    "        self.l2 = nn.Linear(300,300)\n",
    "        self.l3 = nn.Linear(300,500)\n",
    "        self.l4 = nn.Linear(500,500)\n",
    "        self.l5 = nn.Linear(500,ip_dim)\n",
    "        \n",
    "    def forward(self,x):\n",
    "        x = F.leaky_relu(self.l1(x))\n",
    "        x = F.leaky_relu(self.l2(x))\n",
    "        x = F.leaky_relu(self.l3(x))\n",
    "        x = F.leaky_relu(self.l4(x))\n",
    "        x = F.sigmoid(self.l5(x))\n",
    "        \n",
    "        return x\n",
    "\n",
    "###  Discriminator\n",
    "\n",
    "class disc(nn.Module):\n",
    "    def __init__(self):\n",
    "        super(disc,self).__init__()\n",
    "        self.l1 = nn.Linear(z_dim+2,100)\n",
    "        self.l2 = nn.Linear(100,100)\n",
    "        self.l3 = nn.Linear(100,100)\n",
    "        self.l4 = nn.Linear(100,1)\n",
    "        \n",
    "    def forward(self,x):\n",
    "        x = F.leaky_relu(self.l1(x))\n",
    "        x = F.leaky_relu(self.l2(x))\n",
    "        x = F.leaky_relu(self.l3(x))\n",
    "        x = F.sigmoid(self.l4(x))\n",
    "        \n",
    "        return x\n",
    "    \n",
    "class disc2(nn.Module):\n",
    "    def __init__(self):\n",
    "        super(disc2,self).__init__()\n",
    "        self.l1 = nn.Linear(ip_dim,500)\n",
    "        self.l2 = nn.Linear(500,500)\n",
    "        self.l3 = nn.Linear(500,100)\n",
    "        self.l4 = nn.Linear(100,1)\n",
    "        \n",
    "    def forward(self,x):\n",
    "        x = F.leaky_relu(self.l1(x))\n",
    "        x = F.leaky_relu(self.l2(x))\n",
    "        x = F.leaky_relu(self.l3(x))\n",
    "        x = F.sigmoid(self.l4(x))\n",
    "        \n",
    "        return x"
   ]
  },
  {
   "cell_type": "code",
   "execution_count": 5,
   "metadata": {
    "collapsed": true
   },
   "outputs": [],
   "source": [
    "def add_label_info(y,batch_size,numpy=False):\n",
    "\n",
    "    tmp = np.zeros((batch_size,2))\n",
    "    if(numpy == False):\n",
    "        y = y.cpu().numpy().reshape(batch_size,1)\n",
    "    for i in range(y.shape[0]):\n",
    "        tmp[i,y[i]] = 5\n",
    "    label_info = torch.from_numpy((tmp))\n",
    "    return label_info"
   ]
  },
  {
   "cell_type": "code",
   "execution_count": 6,
   "metadata": {
    "collapsed": true
   },
   "outputs": [],
   "source": [
    "def get_true_z(mean_z,label):\n",
    "    \n",
    "    noise = np.random.randn(batch_size,z_dim)\n",
    "    label = label.numpy().reshape(batch_size,)\n",
    "    #print noise.shape,label.shape\n",
    "    #z = 0.1*noise + label*10\n",
    "    \n",
    "    z = 0.4*noise + mean_z[label]\n",
    "    z = Variable(torch.FloatTensor(z))\n",
    "    return z\n",
    "    #z = torch.add(noise,value=1,other=label)\n",
    "    #z = Variable(z.cuda())"
   ]
  },
  {
   "cell_type": "code",
   "execution_count": 7,
   "metadata": {
    "collapsed": true
   },
   "outputs": [],
   "source": [
    "#def train_model(Q,Q_solver,P,P_solver,D,D_solver,D2,D2_solver,batch_size,clustering = clustering,mean_z = mean_z):\n",
    "def train_model(ip,labels,mean_z=None):\n",
    "    \n",
    "    recon = []\n",
    "    encode = []\n",
    "    discriminate = []\n",
    "    for it in range(2,200):\n",
    "        ind = get_train_ind(0,no_ex)\n",
    "        x,y = get_train_batch(ip,labels,ind,batch_size)\n",
    "       \n",
    "        if(cuda==True):\n",
    "            #x = Variable(x.cuda())\n",
    "            label_info = Variable((add_label_info(y,batch_size)).type(torch.FloatTensor)).cuda()\n",
    "\n",
    "        else:\n",
    "            #x = Variable(x)\n",
    "            label_info = Variable((add_label_info(y,batch_size)).type(torch.FloatTensor))\n",
    "\n",
    "        z = Q(x)\n",
    "\n",
    "        #Reconstruction\n",
    "\n",
    "        z_false = (torch.cat([z,label_info],1))\n",
    "        \n",
    "        x_recon = P(z_false)\n",
    "        \n",
    "        add_small = 1e-20\n",
    "        \n",
    "        if(it%2==0):\n",
    "            CEL = F.binary_cross_entropy(x_recon,x)\n",
    "            #CEL = criterion(x_recon, x)\n",
    "        \n",
    "            CEL.backward(retain_graph=True)\n",
    "            Q_solver.step()\n",
    "            P_solver.step()\n",
    "        \n",
    "            Q.zero_grad()\n",
    "            P.zero_grad()\n",
    "        #recon.append(CEL)  \n",
    "        \n",
    "        #Discriminator\n",
    "       \n",
    "        \n",
    "        if cuda==True:\n",
    "            if mean_z is not None:\n",
    "                z_true = get_true_z(mean_z,y).cuda()\n",
    "            else:\n",
    "                z_true = Variable(torch.randn(batch_size,z_dim).cuda())\n",
    "                \n",
    "        else:\n",
    "            if mean_z is None:\n",
    "                z_true = get_true_z(mean_z,y)\n",
    "            else:\n",
    "                z_true = Variable(torch.randn(batch_size,z_dim))\n",
    "\n",
    "        z_true = Variable(torch.cat([z_true,label_info],1).data).cuda()\n",
    "        z_true_op = D(z_true)\n",
    "        \n",
    "        z_false_op = D(z_false)\n",
    "        \n",
    "        \n",
    "        if(it%1==0):\n",
    "    \n",
    "            loss_d = -torch.mean(torch.log(z_true_op + add_small) + torch.log(1 - z_false_op + add_small))\n",
    "            loss_d.backward(retain_graph=True)\n",
    "            D_solver.step()\n",
    "            D.zero_grad()\n",
    "            discriminate.append(loss_d)\n",
    "\n",
    "    #Updating the encoder\n",
    "        G_loss = -torch.mean(torch.log(z_false_op+1e-20))\n",
    "        G_loss.backward(retain_graph=True)\n",
    "        Q_solver.step()\n",
    "        Q_solver.zero_grad()\n",
    "        encode.append(G_loss)\n",
    "        \n",
    "        \n",
    "    ## occasionally update the encoder with MSE loss\n",
    "    \n",
    "#         if(it%25==0):\n",
    "#             tmp_loss = nn.MSELoss()(z_false,z_true)\n",
    "#             print('tmp_loss:',tmp_loss.data[0])\n",
    "#             tmp_loss = 1e-3*tmp_loss\n",
    "#             tmp_loss.backward()\n",
    "#             Q_solver.step()\n",
    "#             Q_solver.zero_grad()\n",
    "\n",
    "        \n",
    "        \n",
    "        if(it%25==0):\n",
    "            #print(extra_loss.data[0],CEL.data[0])\n",
    "            print('recon_loss:', CEL.data[0],'disc_loss:', loss_d.data[0])\n",
    "            print('gen_loss: ',G_loss.data[0])#,'D2_loss',D2_loss.data[0])\n",
    "#             plt.plot(range(1,it),np.array(discriminate).reshape(len(discriminate),1))\n",
    "#             plt.title('discriminator loss')\n",
    "#             plot.show()\n",
    "            \n",
    "            \n",
    "#             plt.plot(range(1,it),np.array(encode).reshape(len(encode),1))\n",
    "#             plt.title('encoder loss')\n",
    "#             plot.show()\n",
    "           \n",
    "#             plt.plot(range(1,it),np.array(reconstruct).reshape(len(reconstruct),1))\n",
    "#             plt.title('reconstruction loss')\n",
    "#             plot.show()            \n",
    "        \n",
    "        ## plot the distribution ##\n",
    "        if(it%25 == 0):\n",
    "            xcheck,labels = next(iter(test_loader))\n",
    "            xcheck = xcheck.view(1000,28*28)\n",
    "            xcheck = Variable(xcheck.cuda())\n",
    "            labels_sc = labels.cpu().numpy()\n",
    "            #xcheck = Variable(xcheck.view(1000,28*28).cuda())\n",
    "            zhat = Q(xcheck)\n",
    "            z_mu = zhat.cpu().data.numpy()\n",
    "            plt.figure(figsize=(8, 6)) \n",
    "           \n",
    "            plt.scatter(z_mu[:, 0], z_mu[:, 1],c = labels_sc)#,cmap=plt.cm.autumn)\n",
    "            plt.colorbar()\n",
    "            plt.grid()\n",
    "            plt.show()   \n",
    "            \n",
    "            zcheck = Variable(torch.randn(1,z_dim).cuda())\n",
    "            \n",
    "            y = np.array([2])\n",
    "            label_info = (add_label_info(y,1,numpy=True))\n",
    "            z_false = np.concatenate((zcheck.cpu().data.numpy(),label_info.cpu().numpy()),1)\n",
    "            z_false = Variable(torch.FloatTensor(z_false)).cuda()\n",
    "            print z_false.size()\n",
    "            x_recon = P(z_false)\n",
    "            op = x_recon.cpu().data.numpy()\n",
    "            op = op.reshape(28,28)\n",
    "            plt.imshow(op)\n",
    "            plt.show()\n",
    "    #return Q,P"
   ]
  },
  {
   "cell_type": "code",
   "execution_count": 8,
   "metadata": {
    "collapsed": true
   },
   "outputs": [],
   "source": [
    "cuda = True\n",
    "if(1==1):\n",
    "    if cuda==True:\n",
    "        Q = encoder().cuda()\n",
    "        P = decoder().cuda()\n",
    "        D = disc().cuda()\n",
    "        D2 = disc2().cuda()\n",
    "    else:\n",
    "        Q = encoder()\n",
    "        P = decoder()\n",
    "        D = disc()\n",
    "   \n",
    "    Q_solver = optim.Adam(Q.parameters(),lr=1e-3)\n",
    "    E_solver = optim.Adam(Q.parameters(),lr = 1e-3)\n",
    "    \n",
    "    P_solver = optim.Adam(P.parameters(),lr = 1e-3)\n",
    "   \n",
    "    D_solver = optim.Adam(D.parameters(),lr = 1e-3)\n",
    "    D2_solver = optim.Adam(D2.parameters(),lr = 1e-3)\n",
    "    #Q,P = train_model(Q,Q_solver,P,P_solver,D,D_solver,D2,D2_solver,batch_size,clustering = clustering)\n",
    "    \n",
    " \n",
    "    \n",
    "    #return Q,P"
   ]
  },
  {
   "cell_type": "code",
   "execution_count": 9,
   "metadata": {},
   "outputs": [
    {
     "ename": "AttributeError",
     "evalue": "'list' object has no attribute 'shape'",
     "output_type": "error",
     "traceback": [
      "\u001b[0;31m---------------------------------------------------------------------------\u001b[0m",
      "\u001b[0;31mAttributeError\u001b[0m                            Traceback (most recent call last)",
      "\u001b[0;32m<ipython-input-9-79d203d6b067>\u001b[0m in \u001b[0;36m<module>\u001b[0;34m()\u001b[0m\n\u001b[0;32m----> 1\u001b[0;31m \u001b[0mtrain_model\u001b[0m\u001b[0;34m(\u001b[0m\u001b[0mip\u001b[0m\u001b[0;34m,\u001b[0m\u001b[0mlabels\u001b[0m\u001b[0;34m)\u001b[0m\u001b[0;34m\u001b[0m\u001b[0m\n\u001b[0m",
      "\u001b[0;32m<ipython-input-7-5246ab463c9b>\u001b[0m in \u001b[0;36mtrain_model\u001b[0;34m(ip, labels, mean_z)\u001b[0m\n\u001b[1;32m      7\u001b[0m     \u001b[0;32mfor\u001b[0m \u001b[0mit\u001b[0m \u001b[0;32min\u001b[0m \u001b[0mrange\u001b[0m\u001b[0;34m(\u001b[0m\u001b[0;36m2\u001b[0m\u001b[0;34m,\u001b[0m\u001b[0;36m200\u001b[0m\u001b[0;34m)\u001b[0m\u001b[0;34m:\u001b[0m\u001b[0;34m\u001b[0m\u001b[0m\n\u001b[1;32m      8\u001b[0m         \u001b[0mind\u001b[0m \u001b[0;34m=\u001b[0m \u001b[0mget_train_ind\u001b[0m\u001b[0;34m(\u001b[0m\u001b[0;36m0\u001b[0m\u001b[0;34m,\u001b[0m\u001b[0mno_ex\u001b[0m\u001b[0;34m)\u001b[0m\u001b[0;34m\u001b[0m\u001b[0m\n\u001b[0;32m----> 9\u001b[0;31m         \u001b[0;32mprint\u001b[0m \u001b[0mind\u001b[0m\u001b[0;34m.\u001b[0m\u001b[0mshape\u001b[0m\u001b[0;34m\u001b[0m\u001b[0m\n\u001b[0m\u001b[1;32m     10\u001b[0m         \u001b[0mx\u001b[0m\u001b[0;34m,\u001b[0m\u001b[0my\u001b[0m \u001b[0;34m=\u001b[0m \u001b[0mget_train_batch\u001b[0m\u001b[0;34m(\u001b[0m\u001b[0mip\u001b[0m\u001b[0;34m,\u001b[0m\u001b[0mlabels\u001b[0m\u001b[0;34m,\u001b[0m\u001b[0mind\u001b[0m\u001b[0;34m,\u001b[0m\u001b[0mbatch_size\u001b[0m\u001b[0;34m)\u001b[0m\u001b[0;34m\u001b[0m\u001b[0m\n\u001b[1;32m     11\u001b[0m \u001b[0;34m\u001b[0m\u001b[0m\n",
      "\u001b[0;31mAttributeError\u001b[0m: 'list' object has no attribute 'shape'"
     ]
    }
   ],
   "source": [
    "train_model(ip,labels)"
   ]
  },
  {
   "cell_type": "code",
   "execution_count": null,
   "metadata": {
    "collapsed": true
   },
   "outputs": [],
   "source": [
    "def get_mean():\n",
    "    x,y = next(iter(test_loader))\n",
    "    y = y.cpu().numpy()\n",
    "    x = x.view(x.size()[0],28*28)\n",
    "    x = Variable(x.cuda())\n",
    "    z = Q(x)\n",
    "    z_np = z.cpu().data.numpy()\n",
    "    mean_z = np.zeros((10,z_dim))\n",
    "    \n",
    "    plt.figure(figsize=(8, 6)) \n",
    "           \n",
    "    plt.scatter(z_np[:, 0], z_np[:, 1],c = y)#,cmap=plt.cm.autumn)\n",
    "    plt.colorbar()\n",
    "    plt.grid()\n",
    "    plt.show()   \n",
    "    for i in range(10):\n",
    "        mean_z[i] = np.mean(z_np[np.argwhere(y==i)],axis=0)\n",
    "        #print(z_np[np.argwhere(y==i)])\n",
    "    plt.scatter(mean_z[:,0],mean_z[:,1],c=range(10))\n",
    "    plt.show()\n",
    "    \n",
    "    return mean_z"
   ]
  },
  {
   "cell_type": "code",
   "execution_count": null,
   "metadata": {},
   "outputs": [],
   "source": [
    "print ind.shape"
   ]
  },
  {
   "cell_type": "code",
   "execution_count": null,
   "metadata": {},
   "outputs": [],
   "source": [
    "mean_z = get_mean()"
   ]
  },
  {
   "cell_type": "code",
   "execution_count": null,
   "metadata": {},
   "outputs": [],
   "source": [
    "train_model(mean_z=mean_z)"
   ]
  },
  {
   "cell_type": "code",
   "execution_count": null,
   "metadata": {},
   "outputs": [],
   "source": [
    "zcheck = Variable(torch.randn(1,z_dim).cuda())\n",
    "y = np.array([6])\n",
    "label_info = (add_label_info(y,1,numpy=True))\n",
    "z_false = np.concatenate((zcheck.cpu().data.numpy(),label_info.cpu().numpy()),1)\n",
    "z_false = Variable(torch.FloatTensor(z_false)).cuda()\n",
    "print z_false.size()\n",
    "x_recon = P(z_false)\n",
    "op = x_recon.cpu().data.numpy()\n",
    "op = op.reshape(28,28)\n",
    "plt.imshow(op)\n",
    "plt.show()"
   ]
  },
  {
   "cell_type": "code",
   "execution_count": null,
   "metadata": {
    "collapsed": true
   },
   "outputs": [],
   "source": []
  },
  {
   "cell_type": "markdown",
   "metadata": {},
   "source": [
    "### Forced clustering "
   ]
  },
  {
   "cell_type": "code",
   "execution_count": null,
   "metadata": {
    "collapsed": true
   },
   "outputs": [],
   "source": []
  },
  {
   "cell_type": "code",
   "execution_count": null,
   "metadata": {
    "collapsed": true
   },
   "outputs": [],
   "source": [
    "# if(1==1):\n",
    "#     xcheck,labels = next(iter(test_loader))\n",
    "#     labels2 = labels.numpy()\n",
    "#     xcheck = Variable(xcheck.view(1000,28*28).cuda())\n",
    "#     zhat = E(xcheck)\n",
    "#     z_mu = zhat.cpu().data.numpy()\n",
    "#     print labels2.shape\n",
    "#     plt.figure(figsize=(8, 6)) \n",
    "#     #colors = cm.rainbow(np.linspace(0, 1, 10))\n",
    "#     plt.scatter(z_mu[:, 0], z_mu[:, 1],c = labels2,cmap=plt.cm.hot)\n",
    "#     plt.colorbar()\n",
    "#     plt.grid()\n",
    "#     plt.show()"
   ]
  },
  {
   "cell_type": "code",
   "execution_count": null,
   "metadata": {
    "collapsed": true
   },
   "outputs": [],
   "source": [
    "# X_embedded = TSNE(n_components=2).fit_transform(z_mu)\n",
    "# plt.figure(figsize=(8, 6)) \n",
    "# plt.scatter(X_embedded[:, 0], X_embedded[:, 1],c = labels2,cmap=plt.cm.hot)\n",
    "# plt.colorbar()\n",
    "# plt.grid()\n",
    "# plt.show()"
   ]
  },
  {
   "cell_type": "code",
   "execution_count": null,
   "metadata": {
    "collapsed": true
   },
   "outputs": [],
   "source": [
    "# noise = np.random.randn(1,z_dim)\n",
    "# label = 7\n",
    "#     #print noise.shape,label.shape\n",
    "# z = 0.5*noise + label*10\n",
    "# z = Variable(torch.FloatTensor(z).cuda())\n",
    "# op = G(z).cpu().data.numpy()\n",
    "# op = op.reshape(28,28)\n",
    "# plt.imshow(op)\n",
    "# plt.show()"
   ]
  },
  {
   "cell_type": "code",
   "execution_count": null,
   "metadata": {
    "collapsed": true
   },
   "outputs": [],
   "source": []
  }
 ],
 "metadata": {
  "kernelspec": {
   "display_name": "Python 2",
   "language": "python",
   "name": "python2"
  },
  "language_info": {
   "codemirror_mode": {
    "name": "ipython",
    "version": 2
   },
   "file_extension": ".py",
   "mimetype": "text/x-python",
   "name": "python",
   "nbconvert_exporter": "python",
   "pygments_lexer": "ipython2",
   "version": "2.7.6"
  }
 },
 "nbformat": 4,
 "nbformat_minor": 2
}
