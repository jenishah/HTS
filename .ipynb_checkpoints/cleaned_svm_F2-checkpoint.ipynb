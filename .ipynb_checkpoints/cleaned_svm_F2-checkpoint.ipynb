{
 "cells": [
  {
   "cell_type": "code",
   "execution_count": 1,
   "metadata": {
    "collapsed": true
   },
   "outputs": [],
   "source": [
    "import numpy as np\n",
    "import csv\n",
    "import os\n",
    "import torch\n",
    "import torch.nn as nn\n",
    "import torch.nn.functional as F\n",
    "import torch.optim as optim\n",
    "from matplotlib import pyplot as plt\n",
    "from torch.autograd import Variable\n",
    "from mpl_toolkits.mplot3d import Axes3D\n",
    "%matplotlib notebook\n",
    "import pickle\n",
    "from utils import *"
   ]
  },
  {
   "cell_type": "code",
   "execution_count": 2,
   "metadata": {
    "collapsed": true
   },
   "outputs": [],
   "source": [
    "findex = 1\n",
    "x,y = get_features(findex,cleaned=True)\n",
    "no_ex = x.shape[0]"
   ]
  },
  {
   "cell_type": "code",
   "execution_count": 3,
   "metadata": {
    "collapsed": true
   },
   "outputs": [],
   "source": [
    "from sklearn import svm\n",
    "from sklearn import metrics"
   ]
  },
  {
   "cell_type": "code",
   "execution_count": null,
   "metadata": {
    "collapsed": true
   },
   "outputs": [],
   "source": [
    "gama = [0.006,0.007,0.008,0.009,0.01]\n",
    "weight = [75,80,85,90]"
   ]
  },
  {
   "cell_type": "code",
   "execution_count": null,
   "metadata": {},
   "outputs": [
    {
     "name": "stdout",
     "output_type": "stream",
     "text": [
      "0.006 75\n"
     ]
    }
   ],
   "source": [
    "for g in gama:\n",
    "    for w in weight:\n",
    "        print g,w\n",
    "        clf1 = svm.SVC(kernel = 'rbf',gamma=g,class_weight={1:w})\n",
    "        clf1.fit(x,y)\n",
    "        op1 = clf1.predict(x)\n",
    "        cm1 = metrics.confusion_matrix(y,op1)\n",
    "        print('tn, fp, fn, tp',cm1.ravel())\n",
    "        if(fp<0.2*float(tn+fp)):\n",
    "            xtest,ytest = get_features(findex,train=False)\n",
    "            optest = clf1.predict(xtest)\n",
    "            cmtest = metrics.confusion_matrix(ytest,optest)\n",
    "            print('tn, fp, fn, tp',cmtest.ravel())\n",
    "        else:\n",
    "            print(\"no use\")"
   ]
  },
  {
   "cell_type": "code",
   "execution_count": null,
   "metadata": {},
   "outputs": [],
   "source": []
  },
  {
   "cell_type": "code",
   "execution_count": null,
   "metadata": {
    "collapsed": true
   },
   "outputs": [],
   "source": []
  }
 ],
 "metadata": {
  "kernelspec": {
   "display_name": "Python 2",
   "language": "python",
   "name": "python2"
  },
  "language_info": {
   "codemirror_mode": {
    "name": "ipython",
    "version": 2
   },
   "file_extension": ".py",
   "mimetype": "text/x-python",
   "name": "python",
   "nbconvert_exporter": "python",
   "pygments_lexer": "ipython2",
   "version": "2.7.6"
  }
 },
 "nbformat": 4,
 "nbformat_minor": 2
}
