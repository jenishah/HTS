{
 "cells": [
  {
   "cell_type": "code",
   "execution_count": 1,
   "metadata": {
    "collapsed": true
   },
   "outputs": [],
   "source": [
    "import numpy as np\n",
    "import csv\n",
    "import os\n",
    "import torch\n",
    "import torch.nn as nn\n",
    "import torch.nn.functional as F\n",
    "#from tensorflow.examples.tutorials.mnist import input_data\n",
    "from torch.autograd import Variable\n",
    "import sklearn.metrics as metrics\n",
    "import pickle\n",
    "import os\n",
    "import numpy.linalg as la\n",
    "import random\n",
    "import torch.nn.parallel\n",
    "import torch.backends.cudnn as cudnn\n",
    "import torch.optim as optim\n",
    "import torch.utils.data\n",
    "import torchvision.datasets as dset\n",
    "import torchvision.transforms as transforms\n",
    "import torchvision.utils as vutils\n",
    "from torch.autograd import Variable\n",
    "import sys\n",
    "import pandas as pd\n",
    "#sys.path.append(\"/home/CVShare/Jeni/hts/machine_learning/sampling_with_data_cleaning\")\n",
    "import sampling_with_data_cleaning as sdc\n",
    "from utils import *"
   ]
  },
  {
   "cell_type": "markdown",
   "metadata": {},
   "source": [
    "### FNN on cleaned features"
   ]
  },
  {
   "cell_type": "code",
   "execution_count": 2,
   "metadata": {},
   "outputs": [
    {
     "name": "stdout",
     "output_type": "stream",
     "text": [
      "(47383,)\n",
      "907.0\n",
      "907\n"
     ]
    }
   ],
   "source": [
    "findex = 1\n",
    "x,y = get_features(findex,train=True,cleaned=True)\n",
    "print y.shape\n",
    "print sum(y)\n",
    "y = y.astype(int)\n",
    "print sum(y)\n",
    "x,y = shuffle(x,y)"
   ]
  },
  {
   "cell_type": "code",
   "execution_count": 3,
   "metadata": {},
   "outputs": [
    {
     "name": "stdout",
     "output_type": "stream",
     "text": [
      "47383 154\n"
     ]
    }
   ],
   "source": [
    "no_ex,ip_dim = x.shape\n",
    "print no_ex,ip_dim"
   ]
  },
  {
   "cell_type": "code",
   "execution_count": 9,
   "metadata": {
    "collapsed": true
   },
   "outputs": [],
   "source": [
    "class c_mlp_1(nn.Module):\n",
    "    def __init__(self):\n",
    "        super(c_mlp_1,self).__init__()\n",
    "        self.l1 = nn.Linear(ip_dim,1000)\n",
    "        self.l2 = nn.Linear(1000,1000)\n",
    "        self.l3 = nn.Linear(1000,500)\n",
    "        #self.l4 = nn.Linear(500,500)\n",
    "        self.l5 = nn.Linear(500,100)\n",
    "        self.l6 = nn.Linear(100,50)\n",
    "        self.l7 = nn.Linear(50,2)\n",
    "        \n",
    "    def forward(self,x):\n",
    "        x = F.leaky_relu(self.l1(x))\n",
    "        x = F.leaky_relu(self.l2(x))\n",
    "        x = F.leaky_relu(self.l3(x))\n",
    "        #x = F.leaky_relu(self.l4(x))\n",
    "        x = F.leaky_relu(self.l5(x))\n",
    "        x = F.leaky_relu(self.l6(x))\n",
    "        x = (self.l7(x))\n",
    "        \n",
    "        return x"
   ]
  },
  {
   "cell_type": "code",
   "execution_count": 10,
   "metadata": {
    "collapsed": true
   },
   "outputs": [],
   "source": [
    "class c_mlp_2(nn.Module):\n",
    "    def __init__(self):\n",
    "        super(c_mlp_2,self).__init__()\n",
    "        self.l1 = nn.Linear(ip_dim,1000)\n",
    "        self.l2 = nn.Linear(1000,1000)\n",
    "        self.l3 = nn.Linear(1000,500)\n",
    "        #self.l4 = nn.Linear(500,500)\n",
    "        self.l5 = nn.Linear(500,100)\n",
    "        self.l6 = nn.Linear(100,50)\n",
    "        self.l7 = nn.Linear(50,2)\n",
    "        \n",
    "    def forward(self,x):\n",
    "        x = F.tanh(self.l1(x))\n",
    "        x = F.tanh(self.l2(x))\n",
    "        x = F.tanh(self.l3(x))\n",
    "        #x = F.leaky_relu(self.l4(x))\n",
    "        x = F.tanh(self.l5(x))\n",
    "        x = F.tanh(self.l6(x))\n",
    "        x = (self.l7(x))\n",
    "        \n",
    "        return x"
   ]
  },
  {
   "cell_type": "code",
   "execution_count": 11,
   "metadata": {
    "collapsed": true
   },
   "outputs": [],
   "source": [
    "class c_mlp_3(nn.Module):\n",
    "    def __init__(self):\n",
    "        super(c_mlp_3,self).__init__()\n",
    "        self.l1 = nn.Linear(ip_dim,1000)\n",
    "        self.l2 = nn.Linear(1000,1000)\n",
    "        self.l3 = nn.Linear(1000,500)\n",
    "        #self.l4 = nn.Linear(500,500)\n",
    "        self.l5 = nn.Linear(500,100)\n",
    "        self.l6 = nn.Linear(100,50)\n",
    "        self.l7 = nn.Linear(50,2)\n",
    "        \n",
    "    def forward(self,x):\n",
    "        x = F.selu(self.l1(x))\n",
    "        x = F.selu(self.l2(x))\n",
    "        x = F.selu(self.l3(x))\n",
    "        #x = F.leaky_relu(self.l4(x))\n",
    "        x = F.selu(self.l5(x))\n",
    "        x = F.selu(self.l6(x))\n",
    "        x = (self.l7(x))\n",
    "        \n",
    "        return x"
   ]
  },
  {
   "cell_type": "code",
   "execution_count": 12,
   "metadata": {},
   "outputs": [],
   "source": [
    "mymlps = [c_mlp_1().cuda(),c_mlp_2().cuda(),c_mlp_3().cuda()]"
   ]
  },
  {
   "cell_type": "code",
   "execution_count": 13,
   "metadata": {},
   "outputs": [
    {
     "name": "stdout",
     "output_type": "stream",
     "text": [
      "('val iter: ', 1)\n",
      "('tn, fp, fn, tp: ', array([9302,    0,  174,    0]))\n",
      "('val iter: ', 2)\n",
      "('tn, fp, fn, tp: ', array([9297,    0,  180,    0]))\n",
      "('val iter: ', 3)\n",
      "('tn, fp, fn, tp: ', array([9267,   28,  177,    4]))\n",
      "('val iter: ', 4)\n",
      "('tn, fp, fn, tp: ', array([9281,    6,  188,    2]))\n",
      "('val iter: ', 5)\n",
      "('tn, fp, fn, tp: ', array([9282,   13,  177,    5]))\n",
      "('val iter: ', 1)\n",
      "('tn, fp, fn, tp: ', array([8812,  490,  150,   24]))\n",
      "('val iter: ', 2)\n",
      "('tn, fp, fn, tp: ', array([9132,  165,  159,   21]))\n",
      "('val iter: ', 3)\n",
      "('tn, fp, fn, tp: ', array([9284,   11,  181,    0]))\n",
      "('val iter: ', 4)\n",
      "('tn, fp, fn, tp: ', array([9133,  154,  166,   24]))\n",
      "('val iter: ', 5)\n",
      "('tn, fp, fn, tp: ', array([9294,    1,  182,    0]))\n",
      "('val iter: ', 1)\n"
     ]
    },
    {
     "ename": "KeyboardInterrupt",
     "evalue": "",
     "output_type": "error",
     "traceback": [
      "\u001b[0;31m---------------------------------------------------------------------------\u001b[0m",
      "\u001b[0;31mKeyboardInterrupt\u001b[0m                         Traceback (most recent call last)",
      "\u001b[0;32m<ipython-input-13-840a81611028>\u001b[0m in \u001b[0;36m<module>\u001b[0;34m()\u001b[0m\n\u001b[1;32m     31\u001b[0m \u001b[0;34m\u001b[0m\u001b[0m\n\u001b[1;32m     32\u001b[0m             \u001b[0;31m## After training check on cross validation data\u001b[0m\u001b[0;34m\u001b[0m\u001b[0;34m\u001b[0m\u001b[0m\n\u001b[0;32m---> 33\u001b[0;31m             \u001b[0mxval\u001b[0m\u001b[0;34m,\u001b[0m\u001b[0myval\u001b[0m \u001b[0;34m=\u001b[0m \u001b[0mget_val_data\u001b[0m\u001b[0;34m(\u001b[0m\u001b[0mx\u001b[0m\u001b[0;34m,\u001b[0m\u001b[0my\u001b[0m\u001b[0;34m,\u001b[0m\u001b[0mno_examples\u001b[0m\u001b[0;34m=\u001b[0m\u001b[0mno_ex\u001b[0m\u001b[0;34m,\u001b[0m\u001b[0mval_iter\u001b[0m\u001b[0;34m=\u001b[0m\u001b[0mval_iter\u001b[0m\u001b[0;34m)\u001b[0m\u001b[0;34m\u001b[0m\u001b[0m\n\u001b[0m\u001b[1;32m     34\u001b[0m             \u001b[0mmin_fp\u001b[0m \u001b[0;34m=\u001b[0m \u001b[0mxval\u001b[0m\u001b[0;34m.\u001b[0m\u001b[0msize\u001b[0m\u001b[0;34m(\u001b[0m\u001b[0;34m)\u001b[0m\u001b[0;34m[\u001b[0m\u001b[0;36m0\u001b[0m\u001b[0;34m]\u001b[0m\u001b[0;34m*\u001b[0m\u001b[0;36m0.2\u001b[0m\u001b[0;34m\u001b[0m\u001b[0m\n\u001b[1;32m     35\u001b[0m             \u001b[0myval\u001b[0m \u001b[0;34m=\u001b[0m \u001b[0myval\u001b[0m\u001b[0;34m.\u001b[0m\u001b[0mreshape\u001b[0m\u001b[0;34m(\u001b[0m\u001b[0myval\u001b[0m\u001b[0;34m.\u001b[0m\u001b[0mshape\u001b[0m\u001b[0;34m[\u001b[0m\u001b[0;36m0\u001b[0m\u001b[0;34m]\u001b[0m\u001b[0;34m,\u001b[0m\u001b[0;34m)\u001b[0m\u001b[0;34m\u001b[0m\u001b[0m\n",
      "\u001b[0;32m/home/daiict/CVShare/Jeni/hts/utils.pyc\u001b[0m in \u001b[0;36mget_val_data\u001b[0;34m(x, y, no_examples, val_iter, cuda)\u001b[0m\n\u001b[1;32m    161\u001b[0m \u001b[0;34m\u001b[0m\u001b[0m\n\u001b[1;32m    162\u001b[0m     \u001b[0;32mif\u001b[0m \u001b[0mcuda\u001b[0m \u001b[0;32mis\u001b[0m \u001b[0mTrue\u001b[0m\u001b[0;34m:\u001b[0m\u001b[0;34m\u001b[0m\u001b[0m\n\u001b[0;32m--> 163\u001b[0;31m         \u001b[0;32mreturn\u001b[0m \u001b[0mVariable\u001b[0m\u001b[0;34m(\u001b[0m\u001b[0mtorch\u001b[0m\u001b[0;34m.\u001b[0m\u001b[0mcuda\u001b[0m\u001b[0;34m.\u001b[0m\u001b[0mFloatTensor\u001b[0m\u001b[0;34m(\u001b[0m\u001b[0mtrain_data\u001b[0m\u001b[0;34m)\u001b[0m\u001b[0;34m)\u001b[0m\u001b[0;34m,\u001b[0m\u001b[0mlabels_val\u001b[0m\u001b[0;34m\u001b[0m\u001b[0m\n\u001b[0m\u001b[1;32m    164\u001b[0m     \u001b[0;32melse\u001b[0m\u001b[0;34m:\u001b[0m\u001b[0;34m\u001b[0m\u001b[0m\n\u001b[1;32m    165\u001b[0m         \u001b[0;32mreturn\u001b[0m \u001b[0mtrain_data\u001b[0m\u001b[0;34m,\u001b[0m\u001b[0mlabels_val\u001b[0m\u001b[0;34m\u001b[0m\u001b[0m\n",
      "\u001b[0;31mKeyboardInterrupt\u001b[0m: "
     ]
    }
   ],
   "source": [
    "for mlp_no,mymlp in enumerate(mymlps):\n",
    "    max_percent = 0.8\n",
    "    model_no = 1\n",
    "    for i in range(1,6):\n",
    "        val_iter = i\n",
    "        print(\"val iter: \",val_iter)\n",
    "\n",
    "\n",
    "        #weights_array = [7]\n",
    "        weights_array = np.linspace(40,60,5)\n",
    "\n",
    "        for i,w in enumerate(weights_array): \n",
    "            \n",
    "            if model_no is 4:\n",
    "                break\n",
    "            else:\n",
    "            #mymlp = c_mlp().cuda()\n",
    "            optimizer = torch.optim.Adagrad(mymlp.parameters(),lr=1e-3)\n",
    "            criterion = nn.CrossEntropyLoss(weight=torch.cuda.FloatTensor([1,w]))\n",
    "\n",
    "                for ep in range(2500):\n",
    "\n",
    "                    ind = get_train_ind(val_iter=val_iter,no_examples=no_ex)\n",
    "                    xtrain,ytrain = get_train_batch(x,y,batch_size=100,indices=ind)\n",
    "\n",
    "                    model_op = mymlp(xtrain)\n",
    "\n",
    "                    loss = criterion(model_op,ytrain)\n",
    "                    loss.backward()\n",
    "                    optimizer.step()\n",
    "                    optimizer.zero_grad()\n",
    "\n",
    "            #     if(ep%30==29):\n",
    "            #         print(loss.data[0])\n",
    "\n",
    "                ## After training check on cross validation data\n",
    "                xval,yval = get_val_data(x,y,no_examples=no_ex,val_iter=val_iter)\n",
    "                min_fp = xval.size()[0]*0.2\n",
    "                yval = yval.reshape(yval.shape[0],)\n",
    "                train_op = mymlp(xval)\n",
    "                train_op = train_op.cpu().data.numpy()\n",
    "                pred_labels = np.argmax(train_op,axis=1)\n",
    "\n",
    "                cf = metrics.confusion_matrix(yval,pred_labels).ravel()\n",
    "                [tn,fp,fn,tp] = cf\n",
    "                print('tn, fp, fn, tp: ',cf)\n",
    "                percent = float(float(tp)/float(tp+fn))\n",
    "                if(percent>max_percent*0.98):\n",
    "                    if(fp<min_fp):\n",
    "                        if(model_no<3):\n",
    "                                max_percent = percent\n",
    "                                print(\"min fp, max_percent\",fp,percent)\n",
    "                                model_path = os.getcwd() + '/fnn_' + str(findex)+'_model'+str(model_no)+'_mlp'+str(mlp_no)\n",
    "                                torch.save(mymlp.state_dict(),model_path)\n",
    "                                print(\"saving model on val: \",val_iter,\" and weight: \",w)\n",
    "                                model_no = model_no + 1\n",
    "\n",
    "\n",
    "\n"
   ]
  },
  {
   "cell_type": "code",
   "execution_count": null,
   "metadata": {},
   "outputs": [],
   "source": [
    "xtest_t,ytest = get_features(findex,train=False)\n",
    "xtest = Variable(torch.cuda.FloatTensor(xtest_t).cuda())\n",
    "final_pred = np.zeros(ytest.shape[0],)\n",
    "print final_pred.shape\n",
    "\n",
    "test_models = []\n",
    "for model in [c_mlp_1().cuda(),c_mlp_2().cuda(),c_mlp_3.().cuda()]:\n",
    "    for i range(3):\n",
    "        test_models.append(model)\n",
    "for mlp_no,test_model in enumerate(test_models):\n",
    "    model_path = os.getcwd() + '/fnn_' + str(findex)+'_model'+str(model_no)+'_mlp'+str(mlp_no)\n",
    "    \n",
    "    test_model.load_state_dict(torch.load(model_path))\n",
    "    test_op = test_model(xtest)\n",
    "    test_op = test_op.cpu().data.numpy()\n",
    "    pred_labels = np.argmax(test_op,axis=1).reshape(final_pred.shape[0],)\n",
    "    print pred_labels.shape\n",
    "    final_pred = pred_labels + final_pred\n",
    "    print final_pred.shape\n",
    "    cf = metrics.confusion_matrix(ytest,pred_labels).ravel()\n",
    "    print('tn, fp, fn, tp: ',cf)"
   ]
  },
  {
   "cell_type": "code",
   "execution_count": null,
   "metadata": {},
   "outputs": [],
   "source": [
    "final_pred[final_pred>1] = 1\n",
    "cf = metrics.confusion_matrix(ytest,final_pred).ravel()\n",
    "print('tn, fp, fn, tp: ',cf)"
   ]
  },
  {
   "cell_type": "code",
   "execution_count": null,
   "metadata": {
    "collapsed": true
   },
   "outputs": [],
   "source": [
    "pred_labels.shape"
   ]
  },
  {
   "cell_type": "code",
   "execution_count": null,
   "metadata": {
    "collapsed": true
   },
   "outputs": [],
   "source": [
    "final_pred.shape"
   ]
  },
  {
   "cell_type": "code",
   "execution_count": null,
   "metadata": {
    "collapsed": true
   },
   "outputs": [],
   "source": []
  }
 ],
 "metadata": {
  "kernelspec": {
   "display_name": "Python 2",
   "language": "python",
   "name": "python2"
  },
  "language_info": {
   "codemirror_mode": {
    "name": "ipython",
    "version": 2
   },
   "file_extension": ".py",
   "mimetype": "text/x-python",
   "name": "python",
   "nbconvert_exporter": "python",
   "pygments_lexer": "ipython2",
   "version": "2.7.6"
  }
 },
 "nbformat": 4,
 "nbformat_minor": 2
}
