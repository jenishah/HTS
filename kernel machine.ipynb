{
 "cells": [
  {
   "cell_type": "code",
   "execution_count": 1,
   "metadata": {
    "collapsed": true
   },
   "outputs": [],
   "source": [
    "import numpy as np\n",
    "import csv\n",
    "import os\n",
    "import torch\n",
    "import torch.nn as nn\n",
    "import torch.nn.functional as F\n",
    "import torch.optim as optim\n",
    "from matplotlib import pyplot as plt\n",
    "from torch.autograd import Variable\n",
    "from mpl_toolkits.mplot3d import Axes3D\n",
    "import sklearn.metrics as metrics\n",
    "import pickle\n",
    "import time\n",
    "from sklearn.kernel_approximation import RBFSampler\n",
    "%matplotlib notebook\n"
   ]
  },
  {
   "cell_type": "code",
   "execution_count": 2,
   "metadata": {
    "collapsed": true
   },
   "outputs": [],
   "source": [
    "with open('screen_info.txt','rb') as fl:\n",
    "    t = pickle.load(fl)\n",
    "fnames = t[0]\n",
    "totf = t[1]\n",
    "binf = t[2]\n",
    "runfile = 0\n",
    "fname = fnames[runfile]\n",
    "bf = binf[runfile]"
   ]
  },
  {
   "cell_type": "markdown",
   "metadata": {},
   "source": [
    "### X_features are real valued features. We apply kernel on it "
   ]
  },
  {
   "cell_type": "code",
   "execution_count": 3,
   "metadata": {
    "collapsed": true
   },
   "outputs": [],
   "source": [
    "path = os.getcwd() + '/bioassay-datasets/'\n",
    "Y_fingerprints = []\n",
    "X_features = []\n",
    "labels = []\n",
    "with open(path+fname+'red_train.csv') as csvfile:\n",
    "    readcsv = csv.reader(csvfile)\n",
    "    for row in readcsv:\n",
    "        Y_fingerprints.append(row[:bf])\n",
    "        X_features.append(row[bf:-1])\n",
    "        labels.append(row[-1])"
   ]
  },
  {
   "cell_type": "code",
   "execution_count": 4,
   "metadata": {},
   "outputs": [
    {
     "name": "stdout",
     "output_type": "stream",
     "text": [
      "(3423, 112)\n",
      "('total no of 1s', 25982)\n",
      "('total no of 0s', 357394)\n"
     ]
    }
   ],
   "source": [
    "Y_fingerprints = np.asarray(Y_fingerprints)[1:]\n",
    "Y_fingerprints = Y_fingerprints.astype(int)\n",
    "\n",
    "X_features = np.asarray(X_features)[1:]\n",
    "X_features = X_features.astype(float)\n",
    "\n",
    "#Normalise the features\n",
    "#c_fingerprints = (c_fingerprints - np.mean(c_fingerprints,axis=0))/np.std(c_fingerprints,axis=0)\n",
    "\n",
    "#p2_fingerprints = np.ones(p_fingerprints.shape)\n",
    "(no_examples , ip_dim) = Y_fingerprints.shape\n",
    "labels = labels[1:]\n",
    "print(no_examples,ip_dim)\n",
    "print(\"total no of 1s\",np.sum(Y_fingerprints))\n",
    "print(\"total no of 0s\",no_examples*ip_dim-np.sum(Y_fingerprints))"
   ]
  },
  {
   "cell_type": "code",
   "execution_count": 5,
   "metadata": {
    "collapsed": true
   },
   "outputs": [],
   "source": [
    "Y_fingerprints[(Y_fingerprints==0)] = -1\n",
    "\n",
    "labels2 = np.zeros((len(labels),1))\n",
    "for i,l in enumerate(labels):\n",
    "    if l=='Active':\n",
    "        labels2[i] = 1\n",
    "    else:\n",
    "        labels2[i] = 0\n",
    "labels2 = labels2.astype(int)"
   ]
  },
  {
   "cell_type": "code",
   "execution_count": 6,
   "metadata": {},
   "outputs": [],
   "source": [
    "feat_dim = 250\n",
    "\n",
    "rbf_feature = RBFSampler(gamma=1,n_components = feat_dim, random_state=1)\n",
    "c_fingerprints = rbf_feature.fit_transform(X_features)\n",
    "p_fingerprints = rbf_feature.fit_transform(Y_fingerprints)"
   ]
  },
  {
   "cell_type": "code",
   "execution_count": 7,
   "metadata": {},
   "outputs": [],
   "source": [
    "ind = np.arange(no_examples)\n",
    "np.random.shuffle(ind)\n",
    "p_fingerprints = p_fingerprints[ind]\n",
    "c_fingerprints = c_fingerprints[ind]\n",
    "labels2 = labels2[ind]"
   ]
  },
  {
   "cell_type": "code",
   "execution_count": 8,
   "metadata": {},
   "outputs": [
    {
     "name": "stdout",
     "output_type": "stream",
     "text": [
      "[48]\n"
     ]
    }
   ],
   "source": [
    "no_active_ele = (sum(labels2))\n",
    "print(no_active_ele)\n",
    "batch_size = 400"
   ]
  },
  {
   "cell_type": "code",
   "execution_count": 9,
   "metadata": {
    "collapsed": true
   },
   "outputs": [],
   "source": [
    "def get_train_batch(batch_size,validation_iter=0,binary=True):\n",
    "    \n",
    "    if validation_iter == 0: #no validation\n",
    "        curr_data_size = no_examples\n",
    "        labels_train = labels2\n",
    "    else:\n",
    "        curr_data_size = int(no_examples*0.8)\n",
    "        interval_size = int(no_examples*0.2)\n",
    "        \n",
    "        if(val_iter==1):\n",
    "            s_ind1 = int((validation_iter)*interval_size)\n",
    "            end_ind1 = int((validation_iter+1)*interval_size)\n",
    "            s_ind2 = int((validation_iter + 1) * interval_size)\n",
    "            end_ind2 = int(no_examples)\n",
    "        else:\n",
    "            s_ind1 = 0\n",
    "            end_ind1 = int((validation_iter)*interval_size)\n",
    "            s_ind2 = int((validation_iter + 1) * interval_size)\n",
    "            end_ind2 = int(no_examples)\n",
    "        \n",
    "        #print(\"train_ind \",s_ind1,end_ind1,s_ind2,end_ind2)\n",
    "        indices = range(s_ind1,end_ind1) + range(s_ind2,end_ind2)\n",
    "        c_train_data = c_fingerprints[indices]\n",
    "        p_train_data = p_fingerprints[indices]\n",
    "        labels_train = labels2[indices]\n",
    "                               \n",
    "    samples = np.random.randint(low=0,high=curr_data_size,size=(batch_size,1))\n",
    "    if binary == True:\n",
    "        train_batch = p_train_data[samples].reshape(batch_size,feat_dim)\n",
    "        train_batch = train_batch.astype(int)\n",
    "    else:\n",
    "        train_batch = c_train_data[samples].reshape(batch_size,feat_dim)\n",
    "        train_batch = train_batch.astype(float)\n",
    "    \n",
    "    train_batch = torch.cuda.FloatTensor(train_batch)\n",
    "    train_batch = Variable(train_batch,requires_grad=False).cuda()\n",
    "    target = Variable(torch.cuda.LongTensor(labels_train[samples]),requires_grad=False)\n",
    "    target = target.view(batch_size,)\n",
    "    return train_batch,target"
   ]
  },
  {
   "cell_type": "code",
   "execution_count": 10,
   "metadata": {
    "collapsed": true
   },
   "outputs": [],
   "source": [
    "def get_val_data(validation_iter,binary = True):\n",
    "    interval_size = int(no_examples)*0.2\n",
    "    s_ind = int((validation_iter-1)*interval_size)\n",
    "    e_ind = int((validation_iter) * interval_size)\n",
    "    if(binary==True):\n",
    "        train_data = p_fingerprints[s_ind:e_ind]\n",
    "    else:\n",
    "        train_data = c_fingerprints[s_ind:e_ind]\n",
    "    labels_val = labels2[s_ind:e_ind]   \n",
    "    #print(\"val ind \",s_ind,e_ind)\n",
    "    #print train_data.shape, labels_val.shape\n",
    "    return Variable(torch.cuda.FloatTensor(train_data)),labels_val  "
   ]
  },
  {
   "cell_type": "code",
   "execution_count": 11,
   "metadata": {
    "collapsed": true
   },
   "outputs": [],
   "source": [
    "class c_mlp(nn.Module):\n",
    "    def __init__(self):\n",
    "        super(c_mlp,self).__init__()\n",
    "        self.l1 = nn.Linear(feat_dim,1000)\n",
    "        self.l2 = nn.Linear(1000,500)\n",
    "        #self.l3 = nn.Linear(1000,500)\n",
    "        self.l4 = nn.Linear(500,500)\n",
    "        self.l5 = nn.Linear(500,50)\n",
    "        self.l6 = nn.Linear(50,2)\n",
    "        \n",
    "    def forward(self,x):\n",
    "        x = F.leaky_relu(self.l1(x))\n",
    "        x = F.leaky_relu(self.l2(x))\n",
    "        #x = F.leaky_relu(self.l3(x))\n",
    "        x = F.leaky_relu(self.l4(x))\n",
    "        x = F.leaky_relu(self.l5(x))\n",
    "        x = (self.l6(x))\n",
    "        \n",
    "        return x"
   ]
  },
  {
   "cell_type": "code",
   "execution_count": 12,
   "metadata": {},
   "outputs": [
    {
     "name": "stdout",
     "output_type": "stream",
     "text": [
      "('val iter: ', 1)\n",
      "('tn, fp, fn, tp: ', array([680,   0,   4,   0]))\n",
      "('tn, fp, fn, tp: ', array([680,   0,   4,   0]))\n",
      "('tn, fp, fn, tp: ', array([680,   0,   4,   0]))\n",
      "('tn, fp, fn, tp: ', array([680,   0,   4,   0]))\n",
      "('tn, fp, fn, tp: ', array([680,   0,   4,   0]))\n",
      "('tn, fp, fn, tp: ', array([680,   0,   4,   0]))\n",
      "('tn, fp, fn, tp: ', array([680,   0,   4,   0]))\n",
      "('tn, fp, fn, tp: ', array([  0, 680,   0,   4]))\n",
      "('tn, fp, fn, tp: ', array([680,   0,   4,   0]))\n",
      "('tn, fp, fn, tp: ', array([  0, 680,   0,   4]))\n",
      "('val iter: ', 2)\n",
      "('tn, fp, fn, tp: ', array([677,   0,   8,   0]))\n",
      "('tn, fp, fn, tp: ', array([677,   0,   8,   0]))\n",
      "('tn, fp, fn, tp: ', array([677,   0,   8,   0]))\n",
      "('tn, fp, fn, tp: ', array([677,   0,   8,   0]))\n",
      "('tn, fp, fn, tp: ', array([677,   0,   8,   0]))\n",
      "('tn, fp, fn, tp: ', array([677,   0,   8,   0]))\n",
      "('tn, fp, fn, tp: ', array([677,   0,   8,   0]))\n",
      "('tn, fp, fn, tp: ', array([677,   0,   8,   0]))\n",
      "('tn, fp, fn, tp: ', array([673,   4,   7,   1]))\n",
      "('tn, fp, fn, tp: ', array([  0, 677,   0,   8]))\n",
      "('val iter: ', 3)\n",
      "('tn, fp, fn, tp: ', array([678,   0,   6,   0]))\n",
      "('tn, fp, fn, tp: ', array([678,   0,   6,   0]))\n",
      "('tn, fp, fn, tp: ', array([678,   0,   6,   0]))\n",
      "('tn, fp, fn, tp: ', array([678,   0,   6,   0]))\n",
      "('tn, fp, fn, tp: ', array([678,   0,   6,   0]))\n",
      "('tn, fp, fn, tp: ', array([678,   0,   6,   0]))\n",
      "('tn, fp, fn, tp: ', array([678,   0,   6,   0]))\n",
      "('tn, fp, fn, tp: ', array([678,   0,   6,   0]))\n",
      "('tn, fp, fn, tp: ', array([678,   0,   6,   0]))\n",
      "('tn, fp, fn, tp: ', array([678,   0,   6,   0]))\n",
      "('val iter: ', 4)\n",
      "('tn, fp, fn, tp: ', array([669,   0,  16,   0]))\n",
      "('tn, fp, fn, tp: ', array([669,   0,  16,   0]))\n",
      "('tn, fp, fn, tp: ', array([669,   0,  16,   0]))\n",
      "('tn, fp, fn, tp: ', array([669,   0,  16,   0]))\n",
      "('tn, fp, fn, tp: ', array([669,   0,  16,   0]))\n",
      "('tn, fp, fn, tp: ', array([669,   0,  16,   0]))\n",
      "('tn, fp, fn, tp: ', array([669,   0,  16,   0]))\n",
      "('tn, fp, fn, tp: ', array([669,   0,  16,   0]))\n",
      "('tn, fp, fn, tp: ', array([669,   0,  16,   0]))\n",
      "('tn, fp, fn, tp: ', array([669,   0,  16,   0]))\n",
      "('val iter: ', 5)\n",
      "('tn, fp, fn, tp: ', array([671,   0,  14,   0]))\n",
      "('tn, fp, fn, tp: ', array([671,   0,  14,   0]))\n",
      "('tn, fp, fn, tp: ', array([671,   0,  14,   0]))\n",
      "('tn, fp, fn, tp: ', array([671,   0,  14,   0]))\n",
      "('tn, fp, fn, tp: ', array([671,   0,  14,   0]))\n",
      "('tn, fp, fn, tp: ', array([671,   0,  14,   0]))\n",
      "('tn, fp, fn, tp: ', array([671,   0,  14,   0]))\n",
      "('tn, fp, fn, tp: ', array([671,   0,  14,   0]))\n",
      "('tn, fp, fn, tp: ', array([671,   0,  14,   0]))\n",
      "('tn, fp, fn, tp: ', array([671,   0,  14,   0]))\n"
     ]
    }
   ],
   "source": [
    "min_fn = 15\n",
    "max_fp = 200\n",
    "maxtmpdiff = -2\n",
    "cm_list = []\n",
    "get_model = 1\n",
    "for val_iter in range(1,6):\n",
    "    print(\"val iter: \",val_iter)\n",
    "    \n",
    "   \n",
    "    #weights_array = [5]\n",
    "    weights_array = np.linspace(50,70,10)\n",
    "    for i,w in enumerate(weights_array): \n",
    "        mymlp = c_mlp().cuda()\n",
    "        optimizer = torch.optim.Adagrad(mymlp.parameters(),lr=1e-4)\n",
    "        criterion = nn.CrossEntropyLoss(weight=torch.cuda.FloatTensor([1,w]))\n",
    "\n",
    "        for ep in range(2000):\n",
    "            train_batch,target = get_train_batch(batch_size,binary = True,validation_iter = val_iter)\n",
    "            model_op = mymlp(train_batch)\n",
    "            #print(model_op.type)\n",
    "            #print(target.type)\n",
    "            loss = criterion(model_op,target)\n",
    "            loss.backward()\n",
    "            optimizer.step()\n",
    "            optimizer.zero_grad()\n",
    "\n",
    "    #     if(ep%30==29):\n",
    "    #         print(loss.data[0])\n",
    "\n",
    "        ## After training check on cross validation data\n",
    "        val_data,labels_val = get_val_data(val_iter,binary = True)\n",
    "        train_op = mymlp(val_data)\n",
    "        train_op = train_op.cpu().data.numpy()\n",
    "        pred_labels = np.argmax(train_op,axis=1)\n",
    "        #tmp_labels = tmp_labels.data.cpu().numpy()\n",
    "        #print(sum(tmp_labels))\n",
    "        cf = metrics.confusion_matrix(labels_val,pred_labels).ravel()\n",
    "        #print(val_iter,w)\n",
    "        print('tn, fp, fn, tp: ',cf)\n",
    "        [tn,fp,fn,tp] = cf\n",
    "        wcf = [val_iter] + [w] + [cf]\n",
    "        tmpdiff = tp-fn\n",
    "        if(tmpdiff >= maxtmpdiff):\n",
    "            cm_list.append(wcf)\n",
    "            if(tmpdiff>= maxtmpdiff):\n",
    "                if(fp <= max_fp):\n",
    "                    max_fp = fp\n",
    "                    maxtmpdiff = tmpdiff\n",
    "                    model_path = os.getcwd() + '/kernel_mac' + fname + '_' + str(get_model)\n",
    "                    torch.save(mymlp.state_dict(),model_path)\n",
    "                    print(\"saving model on val: \",val_iter,\" and weight: \",w)\n",
    "                    if(get_model<4):\n",
    "                        get_model = get_model + 1\n",
    "                    else:\n",
    "                        break"
   ]
  },
  {
   "cell_type": "markdown",
   "metadata": {
    "collapsed": true
   },
   "source": [
    "### Test the model "
   ]
  },
  {
   "cell_type": "code",
   "execution_count": 13,
   "metadata": {
    "collapsed": true
   },
   "outputs": [],
   "source": [
    "path = os.getcwd() + '/bioassay-datasets/'\n",
    "p_fingerprints_test = []\n",
    "X_features_test = []\n",
    "labels_t = []\n",
    "with open(path+fname+'red_test.csv') as csvfile:\n",
    "    readcsv = csv.reader(csvfile)\n",
    "    for row in readcsv:\n",
    "        p_fingerprints_test.append(row[:bf])\n",
    "        X_features_test.append(row[bf:-1])\n",
    "        labels_t.append(row[-1])"
   ]
  },
  {
   "cell_type": "code",
   "execution_count": 14,
   "metadata": {},
   "outputs": [
    {
     "name": "stdout",
     "output_type": "stream",
     "text": [
      "(856, 32)\n",
      "('total no of 1s', 6305)\n",
      "('total no of 0s', 21087)\n"
     ]
    }
   ],
   "source": [
    "p_fingerprints_test = np.asarray(p_fingerprints_test)[1:]\n",
    "p_fingerprints_test = p_fingerprints_test.astype(int)\n",
    "\n",
    "X_features_test = np.asarray(X_features_test)[1:]\n",
    "X_features_test = X_features_test.astype(float)\n",
    "\n",
    "#Normalise the features\n",
    "#c_fingerprints = (c_fingerprints - np.mean(c_fingerprints,axis=0))/np.std(c_fingerprints,axis=0)\n",
    "\n",
    "#p2_fingerprints = np.ones(p_fingerprints.shape)\n",
    "(no_examples , ip_dim) = X_features_test.shape\n",
    "labels_t = labels_t[1:]\n",
    "print(no_examples,ip_dim)\n",
    "print(\"total no of 1s\",np.sum(p_fingerprints_test))\n",
    "print(\"total no of 0s\",no_examples*ip_dim-np.sum(p_fingerprints_test))"
   ]
  },
  {
   "cell_type": "code",
   "execution_count": 15,
   "metadata": {
    "collapsed": true
   },
   "outputs": [],
   "source": [
    "p_fingerprints_test[(p_fingerprints_test==0)] = -1\n",
    "\n",
    "labels2_t = np.zeros((len(labels_t),1))\n",
    "for i,l in enumerate(labels_t):\n",
    "    if l=='Active':\n",
    "        labels2_t[i] = 1\n",
    "    else:\n",
    "        labels2_t[i] = 0\n",
    "labels2_t = labels2_t.astype(int)"
   ]
  },
  {
   "cell_type": "code",
   "execution_count": 16,
   "metadata": {
    "collapsed": true
   },
   "outputs": [],
   "source": [
    "feat_dim = 250\n",
    "\n",
    "rbf_feature = RBFSampler(gamma=1,n_components = feat_dim, random_state=1)\n",
    "trans = rbf_feature.fit(X_features)\n",
    "c_fingerprints_test = trans.transform(X_features_test)"
   ]
  },
  {
   "cell_type": "code",
   "execution_count": 17,
   "metadata": {},
   "outputs": [],
   "source": [
    "testmlp = c_mlp().cuda()\n",
    "model_path = os.getcwd() + '/kernel_mac' + fname + '_3'\n",
    "testmlp.load_state_dict(torch.load(model_path))"
   ]
  },
  {
   "cell_type": "code",
   "execution_count": 18,
   "metadata": {},
   "outputs": [
    {
     "name": "stdout",
     "output_type": "stream",
     "text": [
      "('tn, fp, fn, tp: ', array([838,   6,  11,   1]))\n"
     ]
    }
   ],
   "source": [
    "op = testmlp(Variable(torch.cuda.FloatTensor(c_fingerprints_test)))\n",
    "op = op.cpu().data.numpy()\n",
    "pred_labels = np.argmax(op,axis=1)\n",
    "cf = metrics.confusion_matrix(labels2_t,pred_labels).ravel()\n",
    "#print(val_iter,w)\n",
    "print('tn, fp, fn, tp: ',cf)"
   ]
  },
  {
   "cell_type": "code",
   "execution_count": 19,
   "metadata": {},
   "outputs": [
    {
     "data": {
      "text/plain": [
       "12"
      ]
     },
     "execution_count": 19,
     "metadata": {},
     "output_type": "execute_result"
    }
   ],
   "source": [
    "np.sum(labels2_t)"
   ]
  },
  {
   "cell_type": "code",
   "execution_count": null,
   "metadata": {
    "collapsed": true
   },
   "outputs": [],
   "source": []
  }
 ],
 "metadata": {
  "kernelspec": {
   "display_name": "Python 2",
   "language": "python",
   "name": "python2"
  },
  "language_info": {
   "codemirror_mode": {
    "name": "ipython",
    "version": 2
   },
   "file_extension": ".py",
   "mimetype": "text/x-python",
   "name": "python",
   "nbconvert_exporter": "python",
   "pygments_lexer": "ipython2",
   "version": "2.7.6"
  }
 },
 "nbformat": 4,
 "nbformat_minor": 2
}
