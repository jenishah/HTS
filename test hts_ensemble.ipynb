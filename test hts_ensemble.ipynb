{
 "cells": [
  {
   "cell_type": "code",
   "execution_count": 1,
   "metadata": {
    "collapsed": true
   },
   "outputs": [],
   "source": [
    "import numpy as np\n",
    "import csv\n",
    "import os\n",
    "import torch\n",
    "import torch.nn as nn\n",
    "import torch.nn.functional as F\n",
    "#from tensorflow.examples.tutorials.mnist import input_data\n",
    "from torch.autograd import Variable\n",
    "import sklearn.metrics as metrics\n",
    "import pickle\n",
    "import os"
   ]
  },
  {
   "cell_type": "code",
   "execution_count": 2,
   "metadata": {
    "collapsed": true
   },
   "outputs": [],
   "source": [
    "with open('screen_info.txt','rb') as fl:\n",
    "    t = pickle.load(fl)\n",
    "fnames = t[0]\n",
    "totf = t[1]\n",
    "binf = t[2]\n",
    "runfile = 0\n",
    "fname = fnames[runfile]\n",
    "bf = binf[runfile]"
   ]
  },
  {
   "cell_type": "code",
   "execution_count": 3,
   "metadata": {
    "collapsed": true
   },
   "outputs": [],
   "source": [
    "path = os.getcwd() + '/bioassay-datasets/'\n",
    "test_bin = []\n",
    "test_con = []\n",
    "labels = []\n",
    "with open(path+fname+'red_test.csv') as csvfile:\n",
    "    readcsv = csv.reader(csvfile)\n",
    "    for row in readcsv:\n",
    "        test_bin.append(row[:bf])\n",
    "        test_con.append(row[bf:-1])\n",
    "        labels.append(row[-1])"
   ]
  },
  {
   "cell_type": "code",
   "execution_count": 4,
   "metadata": {},
   "outputs": [
    {
     "name": "stdout",
     "output_type": "stream",
     "text": [
      "(856, 112)\n",
      "32\n"
     ]
    }
   ],
   "source": [
    "test_bin = np.asarray(test_bin)[1:]\n",
    "test_bin = test_bin.astype(int)\n",
    "test_bin[test_bin==0] = -1\n",
    "\n",
    "test_con = np.asarray(test_con)[1:]\n",
    "test_con = test_con.astype(float)\n",
    "\n",
    "#Normalise the features\n",
    "test_con = (test_con - np.mean(test_con,axis=0))/np.std(test_con,axis=0)\n",
    "\n",
    "test_whole = np.concatenate((test_bin,test_con),axis=1)\n",
    "\n",
    "#p2_fingerprints = np.ones(p_fingerprints.shape)\n",
    "(no_examples , ip_dim1) = test_bin.shape\n",
    "ip_dim2 = test_con.shape[1]\n",
    "labels = labels[1:]\n",
    "print(no_examples,ip_dim1)\n",
    "print(ip_dim2)\n",
    "test_bin[(test_bin==0)] = -1\n",
    "ip_dim = test_whole.shape[1]"
   ]
  },
  {
   "cell_type": "code",
   "execution_count": 5,
   "metadata": {
    "collapsed": true
   },
   "outputs": [],
   "source": [
    "h1_dim = 500\n",
    "h2_dim = 500\n",
    "h3_dim = 500\n",
    "z_dim = 60\n",
    "X_dim = ip_dim1"
   ]
  },
  {
   "cell_type": "code",
   "execution_count": 6,
   "metadata": {},
   "outputs": [
    {
     "name": "stdout",
     "output_type": "stream",
     "text": [
      "('tot_positive', 12)\n"
     ]
    }
   ],
   "source": [
    "test_labels2 = np.zeros((len(labels),1))\n",
    "for i,l in enumerate(labels):\n",
    "    if l=='Active':\n",
    "        test_labels2[i] = 1\n",
    "    else:\n",
    "        test_labels2[i] = 0\n",
    "test_labels2 = test_labels2.astype(int)\n",
    "total_pos = np.sum(test_labels2)\n",
    "print(\"tot_positive\",total_pos)"
   ]
  },
  {
   "cell_type": "code",
   "execution_count": 7,
   "metadata": {
    "collapsed": true
   },
   "outputs": [],
   "source": [
    "class full_mlp(nn.Module):\n",
    "    def __init__(self):\n",
    "        super(full_mlp,self).__init__()\n",
    "        self.l1 = nn.Linear(ip_dim,500)\n",
    "        self.l2 = nn.Linear(500,500)\n",
    "        self.l3 = nn.Linear(500,250)\n",
    "        self.l4 = nn.Linear(250,50)\n",
    "        self.l5 = nn.Linear(50,2)\n",
    "        \n",
    "    def forward(self,x):\n",
    "        x = F.leaky_relu(self.l1(x))\n",
    "        x = F.leaky_relu(self.l2(x))\n",
    "        x = F.leaky_relu(self.l3(x))\n",
    "        x = F.leaky_relu(self.l4(x))\n",
    "        x = (self.l5(x))\n",
    "        \n",
    "        return x"
   ]
  },
  {
   "cell_type": "code",
   "execution_count": 8,
   "metadata": {
    "collapsed": true
   },
   "outputs": [],
   "source": [
    "class encoder(nn.Module):\n",
    "    def __init__(self):\n",
    "        super(encoder,self).__init__()\n",
    "        self.l1 = nn.Linear(X_dim,h1_dim)\n",
    "        self.l2 = nn.Linear(h1_dim,h2_dim)\n",
    "        self.l3 = nn.Linear(h2_dim,h3_dim)\n",
    "        self.l4 = nn.Linear(h3_dim,z_dim)\n",
    "        \n",
    "    def forward(self,x):\n",
    "        x = F.leaky_relu(self.l1(x))\n",
    "        x = F.leaky_relu(self.l2(x))\n",
    "        x = F.leaky_relu(self.l3(x))\n",
    "        x = self.l4(x)\n",
    "        \n",
    "        return x"
   ]
  },
  {
   "cell_type": "code",
   "execution_count": 9,
   "metadata": {
    "collapsed": true
   },
   "outputs": [],
   "source": [
    "class DiscriminatorAE(nn.Module):\n",
    "    def __init__(self):\n",
    "        super(DiscriminatorAE,self).__init__()\n",
    "        self.l1 = nn.Linear(z_dim,200)\n",
    "        self.l2 = nn.Linear(200,200)\n",
    "        self.l3 = nn.Linear(200,100)\n",
    "        self.l4 = nn.Linear(100,70)\n",
    "        self.l5 = nn.Linear(70,2)\n",
    "        \n",
    "    def forward(self,x):\n",
    "        x = F.selu(self.l1(x))\n",
    "        x = F.selu(self.l2(x))\n",
    "        x = F.selu(self.l3(x))\n",
    "        x = F.relu(self.l4(x))\n",
    "        x = (self.l5(x))\n",
    "        \n",
    "        return x"
   ]
  },
  {
   "cell_type": "code",
   "execution_count": 10,
   "metadata": {
    "collapsed": true
   },
   "outputs": [],
   "source": [
    "class b_mlp(nn.Module):\n",
    "    def __init__(self):\n",
    "        super(b_mlp,self).__init__()\n",
    "        self.l1 = nn.Linear(ip_dim1,1000)\n",
    "        self.l2 = nn.Linear(1000,500)\n",
    "        self.l3 = nn.Linear(500,200)\n",
    "        self.l4 = nn.Linear(200,2)\n",
    "        \n",
    "    def forward(self,x):\n",
    "        x = F.relu(self.l1(x))\n",
    "        x = F.relu(self.l2(x))\n",
    "        x = F.relu(self.l3(x))\n",
    "        x = (self.l4(x))\n",
    "        \n",
    "        return x"
   ]
  },
  {
   "cell_type": "code",
   "execution_count": 11,
   "metadata": {
    "collapsed": true
   },
   "outputs": [],
   "source": [
    "class c_mlp(nn.Module):\n",
    "    def __init__(self):\n",
    "        super(c_mlp,self).__init__()\n",
    "        self.l1 = nn.Linear(ip_dim2,100)\n",
    "        self.l2 = nn.Linear(100,100)\n",
    "        #self.l3 = nn.Linear(100,100)\n",
    "        self.l4 = nn.Linear(100,50)\n",
    "        self.l5 = nn.Linear(50,2)\n",
    "        \n",
    "    def forward(self,x):\n",
    "        x = F.leaky_relu(self.l1(x))\n",
    "        x = F.leaky_relu(self.l2(x))\n",
    "        #x = F.leaky_relu(self.l3(x))\n",
    "        x = F.leaky_relu(self.l4(x))\n",
    "        x = (self.l5(x))\n",
    "        \n",
    "        return x"
   ]
  },
  {
   "cell_type": "code",
   "execution_count": 12,
   "metadata": {
    "collapsed": true
   },
   "outputs": [],
   "source": [
    "b_mlp1 = b_mlp().cuda()\n",
    "path1 = os.getcwd() + '/b_model_with_val_selu'\n",
    "b_mlp1.load_state_dict(torch.load(path1))\n",
    "\n",
    "b_test_op = b_mlp1(Variable(torch.cuda.FloatTensor(test_bin)))\n",
    "b_test_op = b_test_op.cpu().data.numpy()\n",
    "b_test_pred = np.argmax(b_test_op,axis=1)"
   ]
  },
  {
   "cell_type": "code",
   "execution_count": 13,
   "metadata": {
    "collapsed": true
   },
   "outputs": [],
   "source": [
    "c_mlp1 = c_mlp().cuda() \n",
    "path2 = os.getcwd() +  '/cont_model_with_val_selu'\n",
    "c_mlp1.load_state_dict(torch.load(path2))\n",
    "\n",
    "c_test_op = c_mlp1(Variable(torch.cuda.FloatTensor(test_con)))\n",
    "c_test_op = c_test_op.cpu().data.numpy()\n",
    "c_test_pred = np.argmax(c_test_op,axis=1)"
   ]
  },
  {
   "cell_type": "code",
   "execution_count": 14,
   "metadata": {
    "collapsed": true
   },
   "outputs": [],
   "source": [
    "path3 = os.getcwd() + '/model_autoencoder_' + str(fname)\n",
    "path4 = os.getcwd() + '/model_enc_' + str(fname)\n",
    "ae_enc = encoder().cuda()\n",
    "ae_disc = DiscriminatorAE().cuda()\n",
    "ae_enc.load_state_dict(torch.load(path4))\n",
    "ae_disc.load_state_dict(torch.load(path3))\n",
    "\n",
    "ae_test_z = ae_enc(Variable(torch.cuda.FloatTensor(test_bin)))\n",
    "ae_op = ae_disc(ae_test_z)\n",
    "ae_op = ae_op.cpu().data.numpy()\n",
    "ae_pred = np.argmax(ae_op,axis=1)"
   ]
  },
  {
   "cell_type": "code",
   "execution_count": 15,
   "metadata": {
    "collapsed": true
   },
   "outputs": [],
   "source": [
    "f_mlp = full_mlp().cuda()\n",
    "path5 = os.getcwd() + '/model_all_feat_file' + fname\n",
    "f_mlp.load_state_dict(torch.load(path5))\n",
    "\n",
    "f_test_op = f_mlp(Variable(torch.cuda.FloatTensor(test_whole)))\n",
    "f_test_op = f_test_op.cpu().data.numpy()\n",
    "f_test_pred = np.argmax(f_test_op,axis=1)"
   ]
  },
  {
   "cell_type": "code",
   "execution_count": 16,
   "metadata": {},
   "outputs": [
    {
     "name": "stdout",
     "output_type": "stream",
     "text": [
      "('tn, fp, fn, tp: ', array([832,  12,   8,   4]))\n"
     ]
    }
   ],
   "source": [
    "test_pred = f_test_pred\n",
    "test_pred[test_pred > 1] = 1\n",
    "t_cf = metrics.confusion_matrix(test_labels2,test_pred).ravel()\n",
    "[tn, fp, fn, tp] = t_cf\n",
    "\n",
    "print('tn, fp, fn, tp: ',t_cf)"
   ]
  },
  {
   "cell_type": "code",
   "execution_count": 17,
   "metadata": {},
   "outputs": [
    {
     "name": "stdout",
     "output_type": "stream",
     "text": [
      "1.0\n"
     ]
    }
   ],
   "source": [
    "res = float((fp*100)/(fp+tn))\n",
    "print res"
   ]
  },
  {
   "cell_type": "code",
   "execution_count": 18,
   "metadata": {},
   "outputs": [
    {
     "data": {
      "text/plain": [
       "1200"
      ]
     },
     "execution_count": 18,
     "metadata": {},
     "output_type": "execute_result"
    }
   ],
   "source": [
    "fp*100"
   ]
  },
  {
   "cell_type": "code",
   "execution_count": null,
   "metadata": {
    "collapsed": true
   },
   "outputs": [],
   "source": []
  }
 ],
 "metadata": {
  "kernelspec": {
   "display_name": "Python 2",
   "language": "python",
   "name": "python2"
  },
  "language_info": {
   "codemirror_mode": {
    "name": "ipython",
    "version": 2
   },
   "file_extension": ".py",
   "mimetype": "text/x-python",
   "name": "python",
   "nbconvert_exporter": "python",
   "pygments_lexer": "ipython2",
   "version": "2.7.6"
  }
 },
 "nbformat": 4,
 "nbformat_minor": 2
}
