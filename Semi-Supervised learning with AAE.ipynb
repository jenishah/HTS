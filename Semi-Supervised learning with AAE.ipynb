{
 "cells": [
  {
   "cell_type": "code",
   "execution_count": 1,
   "metadata": {
    "collapsed": true
   },
   "outputs": [],
   "source": [
    "import numpy as np\n",
    "import csv\n",
    "import os\n",
    "import torch\n",
    "import torch.nn as nn\n",
    "import torch.nn.functional as F\n",
    "#from tensorflow.examples.tutorials.mnist import input_data\n",
    "from torch.autograd import Variable\n",
    "import sklearn.metrics as metrics\n",
    "import pickle\n",
    "import os\n",
    "import numpy.linalg as la\n",
    "import random\n",
    "import torch.nn.parallel\n",
    "import torch.backends.cudnn as cudnn\n",
    "import torch.optim as optim\n",
    "import torch.utils.data\n",
    "import torchvision.datasets as dset\n",
    "import torchvision.transforms as transforms\n",
    "import torchvision.utils as vutils\n",
    "from torch.autograd import Variable\n",
    "from matplotlib import pyplot as plt\n",
    "import matplotlib.cm as cm\n",
    "from sklearn.manifold import TSNE"
   ]
  },
  {
   "cell_type": "code",
   "execution_count": 2,
   "metadata": {
    "collapsed": true
   },
   "outputs": [],
   "source": [
    "transform = transforms.Compose(\n",
    "    [transforms.ToTensor()])#,transforms.Normalize((0.5,0.5,0.5),(0.5,0.5,0.5))])\n",
    "train_set = dset.MNIST('/home/daiict/Desktop/udit/C-GAN./data' ,train=True, download= True,\n",
    "                       transform = transform)\n",
    "test_set = dset.MNIST('/home/daiict/Desktop/udit/C-GAN./data' ,train=False, download=True,\n",
    "                       transform = transform)"
   ]
  },
  {
   "cell_type": "code",
   "execution_count": 17,
   "metadata": {},
   "outputs": [
    {
     "name": "stdout",
     "output_type": "stream",
     "text": [
      "600 10\n"
     ]
    }
   ],
   "source": [
    "batch_size = 100\n",
    "no_classes = 10\n",
    "train_loader = torch.utils.data.DataLoader(train_set, batch_size=batch_size,shuffle=True)\n",
    "test_loader = torch.utils.data.DataLoader(test_set, batch_size=1000,shuffle=True)\n",
    "\n",
    "print len(train_loader), len(test_loader)\n",
    "\n",
    "ip_dim = 28*28\n",
    "z_dim = 15"
   ]
  },
  {
   "cell_type": "code",
   "execution_count": 4,
   "metadata": {
    "collapsed": true
   },
   "outputs": [],
   "source": [
    "#### Encoder\n",
    "\n",
    "class encoder(nn.Module):\n",
    "    def __init__(self):\n",
    "        super(encoder,self).__init__()\n",
    "        self.l1 = nn.Linear(ip_dim,500)\n",
    "        self.l2 = nn.Linear(500,500)\n",
    "        self.l3 = nn.Linear(500,300)\n",
    "        self.l4 = nn.Linear(300,300)\n",
    "        self.l5 = nn.Linear(300,z_dim)\n",
    "        \n",
    "    def forward(self,x):\n",
    "        x = F.leaky_relu(self.l1(x))\n",
    "        x = F.leaky_relu(self.l2(x))\n",
    "        x = F.leaky_relu(self.l3(x))\n",
    "        x = F.leaky_relu(self.l4(x))\n",
    "        x = (self.l5(x))\n",
    "        \n",
    "        return x\n",
    "\n",
    "### Decoder\n",
    "\n",
    "class decoder(nn.Module):\n",
    "    def __init__(self):\n",
    "        super(decoder,self).__init__()\n",
    "        self.l1 = nn.Linear(z_dim,300)\n",
    "        self.l2 = nn.Linear(300,300)\n",
    "        self.l3 = nn.Linear(300,500)\n",
    "        self.l4 = nn.Linear(500,500)\n",
    "        self.l5 = nn.Linear(500,ip_dim)\n",
    "        \n",
    "    def forward(self,x):\n",
    "        x = F.leaky_relu(self.l1(x))\n",
    "        x = F.leaky_relu(self.l2(x))\n",
    "        x = F.leaky_relu(self.l3(x))\n",
    "        x = F.leaky_relu(self.l4(x))\n",
    "        x = F.sigmoid(self.l5(x))\n",
    "        \n",
    "        return x\n",
    "\n",
    "###  Discriminator\n",
    "\n",
    "class disc(nn.Module):\n",
    "    def __init__(self):\n",
    "        super(disc,self).__init__()\n",
    "        self.l1 = nn.Linear(z_dim,100)\n",
    "        self.l2 = nn.Linear(100,100)\n",
    "        self.l3 = nn.Linear(100,100)\n",
    "        self.l4 = nn.Linear(100,1)\n",
    "        \n",
    "    def forward(self,x):\n",
    "        x = F.leaky_relu(self.l1(x))\n",
    "        x = F.leaky_relu(self.l2(x))\n",
    "        x = F.leaky_relu(self.l3(x))\n",
    "        x = F.sigmoid(self.l4(x))\n",
    "        \n",
    "        return x\n",
    "    \n",
    "class disc2(nn.Module):\n",
    "    def __init__(self):\n",
    "        super(disc2,self).__init__()\n",
    "        self.l1 = nn.Linear(ip_dim,500)\n",
    "        self.l2 = nn.Linear(500,500)\n",
    "        self.l3 = nn.Linear(500,100)\n",
    "        self.l4 = nn.Linear(100,1)\n",
    "        \n",
    "    def forward(self,x):\n",
    "        x = F.leaky_relu(self.l1(x))\n",
    "        x = F.leaky_relu(self.l2(x))\n",
    "        x = F.leaky_relu(self.l3(x))\n",
    "        x = F.sigmoid(self.l4(x))\n",
    "        \n",
    "        return x"
   ]
  },
  {
   "cell_type": "code",
   "execution_count": 23,
   "metadata": {
    "collapsed": true
   },
   "outputs": [],
   "source": [
    "def get_true_z(mean_z,label):\n",
    "    \n",
    "    noise = np.random.randn(batch_size,z_dim)\n",
    "    label = label.numpy().reshape(batch_size,)\n",
    "    #print noise.shape,label.shape\n",
    "    #z = 0.1*noise + label*10\n",
    "    \n",
    "    z = 0.1*noise + mean_z[label]\n",
    "    z = Variable(torch.FloatTensor(z)).cuda()\n",
    "    return z\n",
    "    #z = torch.add(noise,value=1,other=label)\n",
    "    #z = Variable(z.cuda())"
   ]
  },
  {
   "cell_type": "code",
   "execution_count": 24,
   "metadata": {
    "collapsed": true
   },
   "outputs": [],
   "source": [
    "cuda = True\n",
    "if(1==1):\n",
    "    if cuda==True:\n",
    "        Q = encoder().cuda()\n",
    "        P = decoder().cuda()\n",
    "        D = disc().cuda()\n",
    "        D2 = disc2().cuda()\n",
    "    else:\n",
    "        Q = encoder()\n",
    "        P = decoder()\n",
    "        D = disc()\n",
    "   \n",
    "    Q_solver = optim.Adam(Q.parameters(),lr=1e-3)\n",
    "    E_solver = optim.Adam(Q.parameters(),lr = 1e-3)\n",
    "    \n",
    "    P_solver = optim.Adam(P.parameters(),lr = 1e-3)\n",
    "   \n",
    "    D_solver = optim.Adam(D.parameters(),lr = 1e-3)\n",
    "    D2_solver = optim.Adam(D2.parameters(),lr = 1e-3)\n",
    "    #Q,P = train_model(Q,Q_solver,P,P_solver,D,D_solver,D2,D2_solver,batch_size,clustering = clustering)\n",
    "    \n",
    " \n",
    "    \n",
    "    #return Q,P"
   ]
  },
  {
   "cell_type": "markdown",
   "metadata": {},
   "source": [
    "### First set in Autoencoder mode"
   ]
  },
  {
   "cell_type": "code",
   "execution_count": 25,
   "metadata": {
    "collapsed": true
   },
   "outputs": [],
   "source": [
    "#def train_model(Q,Q_solver,P,P_solver,D,D_solver,D2,D2_solver,batch_size,clustering = clustering,mean_z = mean_z):\n",
    "def train_model(mean_z=None):\n",
    "    \n",
    "    recon = []\n",
    "    encode = []\n",
    "    discriminate = []\n",
    "    for it in range(2,500):\n",
    "        x,y = next(iter(train_loader))\n",
    "       \n",
    "        x = x.view(batch_size,28*28)\n",
    "        if(cuda==True):\n",
    "            x = Variable(x.cuda())\n",
    "            #label_info = Variable((add_label_info(y,batch_size)).type(torch.FloatTensor)).cuda()\n",
    "\n",
    "        else:\n",
    "            x = Variable(x)\n",
    "            #label_info = Variable((add_label_info(y,batch_size)).type(torch.FloatTensor))\n",
    "\n",
    "        z = Q(x)\n",
    "\n",
    "        #Reconstruction\n",
    "\n",
    "        #z_false = (torch.cat([z,label_info],1))\n",
    "        \n",
    "        x_recon = P(z)\n",
    "        \n",
    "        add_small = 1e-20\n",
    "        \n",
    "        if(it%1==0):\n",
    "            CEL = F.binary_cross_entropy(x_recon,x)\n",
    "            #CEL = criterion(x_recon, x)\n",
    "        \n",
    "            CEL.backward(retain_graph=True)\n",
    "            Q_solver.step()\n",
    "            P_solver.step()\n",
    "        \n",
    "            Q.zero_grad()\n",
    "            P.zero_grad()\n",
    "        if(it%25==0):\n",
    "            print CEL.data[0]\n",
    "            \n",
    "            xtmp = x[0]\n",
    "            ztmp = Q(xtmp)\n",
    "            x_recon = P(ztmp)\n",
    "            op = x_recon.cpu().data.numpy()\n",
    "            op = op.reshape(28,28)\n",
    "            plt.imshow(op)\n",
    "            plt.show()"
   ]
  },
  {
   "cell_type": "code",
   "execution_count": 15,
   "metadata": {},
   "outputs": [
    {
     "name": "stdout",
     "output_type": "stream",
     "text": [
      "0.222640603781\n"
     ]
    },
    {
     "data": {
      "image/png": "[encoded data removed]",
      "text/plain": [
       "<matplotlib.figure.Figure at 0x7f8275662b90>"
      ]
     },
     "metadata": {},
     "output_type": "display_data"
    },
    {
     "name": "stdout",
     "output_type": "stream",
     "text": [
      "0.205619066954\n"
     ]
    },
    {
     "data": {
      "image/png": "[encoded data removed]",
      "text/plain": [
       "<matplotlib.figure.Figure at 0x7f824d31bed0>"
      ]
     },
     "metadata": {},
     "output_type": "display_data"
    },
    {
     "name": "stdout",
     "output_type": "stream",
     "text": [
      "0.195462301373\n"
     ]
    },
    {
     "data": {
      "image/png": "[encoded data removed]",
      "text/plain": [
       "<matplotlib.figure.Figure at 0x7f8275605b90>"
      ]
     },
     "metadata": {},
     "output_type": "display_data"
    },
    {
     "name": "stdout",
     "output_type": "stream",
     "text": [
      "0.189338251948\n"
     ]
    },
    {
     "data": {
      "image/png": "[encoded data removed]",
      "text/plain": [
       "<matplotlib.figure.Figure at 0x7f8230dd4e10>"
      ]
     },
     "metadata": {},
     "output_type": "display_data"
    },
    {
     "name": "stdout",
     "output_type": "stream",
     "text": [
      "0.191386014223\n"
     ]
    },
    {
     "data": {
      "image/png": "[encoded data removed]",
      "text/plain": [
       "<matplotlib.figure.Figure at 0x7f8230a6ce10>"
      ]
     },
     "metadata": {},
     "output_type": "display_data"
    },
    {
     "name": "stdout",
     "output_type": "stream",
     "text": [
      "0.185267299414\n"
     ]
    },
    {
     "data": {
      "image/png": "[encoded data removed]",
      "text/plain": [
       "<matplotlib.figure.Figure at 0x7f823089dc10>"
      ]
     },
     "metadata": {},
     "output_type": "display_data"
    },
    {
     "name": "stdout",
     "output_type": "stream",
     "text": [
      "0.174501895905\n"
     ]
    },
    {
     "data": {
      "image/png": "[encoded data removed]",
      "text/plain": [
       "<matplotlib.figure.Figure at 0x7f82305d0f10>"
      ]
     },
     "metadata": {},
     "output_type": "display_data"
    },
    {
     "name": "stdout",
     "output_type": "stream",
     "text": [
      "0.182253211737\n"
     ]
    },
    {
     "data": {
      "image/png": "[encoded data removed]",
      "text/plain": [
       "<matplotlib.figure.Figure at 0x7f8230409850>"
      ]
     },
     "metadata": {},
     "output_type": "display_data"
    },
    {
     "name": "stdout",
     "output_type": "stream",
     "text": [
      "0.177183642983\n"
     ]
    },
    {
     "data": {
      "image/png": "[encoded data removed]",
      "text/plain": [
       "<matplotlib.figure.Figure at 0x7f823023bf90>"
      ]
     },
     "metadata": {},
     "output_type": "display_data"
    },
    {
     "name": "stdout",
     "output_type": "stream",
     "text": [
      "0.172119259834\n"
     ]
    },
    {
     "data": {
      "image/png": "[encoded data removed]",
      "text/plain": [
       "<matplotlib.figure.Figure at 0x7f82300ecd50>"
      ]
     },
     "metadata": {},
     "output_type": "display_data"
    },
    {
     "name": "stdout",
     "output_type": "stream",
     "text": [
      "0.167623773217\n"
     ]
    },
    {
     "data": {
      "image/png": "[encoded data removed]",
      "text/plain": [
       "<matplotlib.figure.Figure at 0x7f82e8787490>"
      ]
     },
     "metadata": {},
     "output_type": "display_data"
    },
    {
     "name": "stdout",
     "output_type": "stream",
     "text": [
      "0.174218207598\n"
     ]
    },
    {
     "data": {
      "image/png": "[encoded data removed]",
      "text/plain": [
       "<matplotlib.figure.Figure at 0x7f823073bb50>"
      ]
     },
     "metadata": {},
     "output_type": "display_data"
    },
    {
     "name": "stdout",
     "output_type": "stream",
     "text": [
      "0.161226212978\n"
     ]
    },
    {
     "data": {
      "image/png": "[encoded data removed]",
      "text/plain": [
       "<matplotlib.figure.Figure at 0x7f8230414e50>"
      ]
     },
     "metadata": {},
     "output_type": "display_data"
    },
    {
     "name": "stdout",
     "output_type": "stream",
     "text": [
      "0.171064391732\n"
     ]
    },
    {
     "data": {
      "image/png": "[encoded data removed]",
      "text/plain": [
       "<matplotlib.figure.Figure at 0x7f8276c60b90>"
      ]
     },
     "metadata": {},
     "output_type": "display_data"
    },
    {
     "name": "stdout",
     "output_type": "stream",
     "text": [
      "0.157302230597\n"
     ]
    },
    {
     "data": {
      "image/png": "[encoded data removed]",
      "text/plain": [
       "<matplotlib.figure.Figure at 0x7f82300b2e90>"
      ]
     },
     "metadata": {},
     "output_type": "display_data"
    },
    {
     "name": "stdout",
     "output_type": "stream",
     "text": [
      "0.165687188506\n"
     ]
    },
    {
     "data": {
      "image/png": "[encoded data removed]",
      "text/plain": [
       "<matplotlib.figure.Figure at 0x7f823075fe10>"
      ]
     },
     "metadata": {},
     "output_type": "display_data"
    },
    {
     "name": "stdout",
     "output_type": "stream",
     "text": [
      "0.156460925937\n"
     ]
    },
    {
     "data": {
      "image/png": "[encoded data removed]",
      "text/plain": [
       "<matplotlib.figure.Figure at 0x7f82303dec90>"
      ]
     },
     "metadata": {},
     "output_type": "display_data"
    },
    {
     "name": "stdout",
     "output_type": "stream",
     "text": [
      "0.166634768248\n"
     ]
    },
    {
     "data": {
      "image/png": "[encoded data removed]",
      "text/plain": [
       "<matplotlib.figure.Figure at 0x7f8230c29150>"
      ]
     },
     "metadata": {},
     "output_type": "display_data"
    },
    {
     "name": "stdout",
     "output_type": "stream",
     "text": [
      "0.15495762229\n"
     ]
    },
    {
     "data": {
      "image/png": "[encoded data removed]",
      "text/plain": [
       "<matplotlib.figure.Figure at 0x7f824d35ecd0>"
      ]
     },
     "metadata": {},
     "output_type": "display_data"
    }
   ],
   "source": [
    "train_model()"
   ]
  },
  {
   "cell_type": "code",
   "execution_count": 26,
   "metadata": {
    "collapsed": true
   },
   "outputs": [],
   "source": [
    "def get_mean():\n",
    "    x,y = next(iter(test_loader))\n",
    "    y = y.cpu().numpy()\n",
    "    x = x.view(x.size()[0],28*28)\n",
    "    x = Variable(x.cuda())\n",
    "    z = Q(x)\n",
    "    z_np = z.cpu().data.numpy()\n",
    "    mean_z = np.zeros((no_classes,z_dim))\n",
    "    \n",
    "    plt.figure(figsize=(8, 6)) \n",
    "           \n",
    "    #plt.scatter(z_np[:, 0], z_np[:, 1],c = y)#,cmap=plt.cm.autumn)\n",
    "    #plt.colorbar()\n",
    "    #plt.grid()\n",
    "    #plt.show()   \n",
    "    for i in range(no_classes):\n",
    "        mean_z[i] = np.mean(z_np[np.argwhere(y==i)],axis=0)\n",
    "        #print(z_np[np.argwhere(y==i)])\n",
    "    #plt.scatter(mean_z[:,0],mean_z[:,1],c=range(no_classes))\n",
    "    #plt.show()\n",
    "    \n",
    "    return mean_z"
   ]
  },
  {
   "cell_type": "markdown",
   "metadata": {},
   "source": [
    "### Forced Custering"
   ]
  },
  {
   "cell_type": "code",
   "execution_count": 30,
   "metadata": {},
   "outputs": [
    {
     "name": "stdout",
     "output_type": "stream",
     "text": [
      "1.56972706318 1.14152741432\n",
      "('mean diff', 61.442165141760668)\n",
      "5.55955076218 0.00816945079714\n",
      "('mean diff', 110.55345787611732)\n",
      "1.39262890816 2.14184308052\n",
      "('mean diff', 75.402431978549828)\n",
      "6.23388671875 5.59616565704\n",
      "('mean diff', 118.51759137338202)\n",
      "6.76596784592 0.0231141299009\n",
      "('mean diff', 80.270742505145307)\n",
      "5.65207624435 0.0180203635246\n",
      "('mean diff', 1070.3465123020865)\n",
      "4.82411146164 0.06271340698\n",
      "('mean diff', 2158.9839134895697)\n",
      "4.58355331421 5.025141716\n",
      "('mean diff', 3011.3458968743021)\n",
      "18.2411499023 0.0768572688103\n",
      "('mean diff', 6123.898305861022)\n",
      "7.05741024017 0.192920595407\n",
      "('mean diff', 1623.2497696551268)\n",
      "3.14753746986 0.0412084721029\n",
      "('mean diff', 5677.2914063861535)\n",
      "34.5387649536 -0.0\n",
      "('mean diff', 13352.203244104156)\n",
      "34.5387649536 -0.0\n",
      "('mean diff', 15260.358559536404)\n",
      "34.5387649536 -0.0\n",
      "('mean diff', 40542.486386455661)\n",
      "34.5387649536 -0.0\n",
      "('mean diff', 133436.27553185317)\n",
      "34.5387649536 -0.0\n",
      "('mean diff', 562066.66081273451)\n",
      "34.5387649536 -0.0\n",
      "('mean diff', 411099.50655221549)\n",
      "34.5387649536 -0.0\n",
      "('mean diff', 877662.3196141317)\n",
      "34.5387649536 -0.0\n",
      "('mean diff', 1473306.4109229855)\n",
      "34.5387649536 -0.0\n",
      "('mean diff', 1845842.5870930115)\n",
      "34.5387649536 -0.0\n",
      "('mean diff', 3507377.781792311)\n",
      "34.5387649536 -0.0\n",
      "('mean diff', 2840954.2697893982)\n"
     ]
    },
    {
     "ename": "KeyboardInterrupt",
     "evalue": "",
     "output_type": "error",
     "traceback": [
      "\u001b[0;31m---------------------------------------------------------------------------\u001b[0m",
      "\u001b[0;31mKeyboardInterrupt\u001b[0m                         Traceback (most recent call last)",
      "\u001b[0;32m<ipython-input-30-3b5b9365bdf3>\u001b[0m in \u001b[0;36m<module>\u001b[0;34m()\u001b[0m\n\u001b[1;32m     25\u001b[0m \u001b[0;34m\u001b[0m\u001b[0m\n\u001b[1;32m     26\u001b[0m         \u001b[0;32mif\u001b[0m\u001b[0;34m(\u001b[0m\u001b[0mep\u001b[0m\u001b[0;34m%\u001b[0m\u001b[0;36m10\u001b[0m\u001b[0;34m==\u001b[0m\u001b[0;36m0\u001b[0m\u001b[0;34m)\u001b[0m\u001b[0;34m:\u001b[0m\u001b[0;34m\u001b[0m\u001b[0m\n\u001b[0;32m---> 27\u001b[0;31m             \u001b[0mmean_z2\u001b[0m \u001b[0;34m=\u001b[0m \u001b[0mget_mean\u001b[0m\u001b[0;34m(\u001b[0m\u001b[0;34m)\u001b[0m\u001b[0;34m\u001b[0m\u001b[0m\n\u001b[0m\u001b[1;32m     28\u001b[0m             \u001b[0mdiff\u001b[0m \u001b[0;34m=\u001b[0m \u001b[0mnp\u001b[0m\u001b[0;34m.\u001b[0m\u001b[0mlinalg\u001b[0m\u001b[0;34m.\u001b[0m\u001b[0mnorm\u001b[0m\u001b[0;34m(\u001b[0m\u001b[0mmean_z1\u001b[0m\u001b[0;34m-\u001b[0m\u001b[0mmean_z2\u001b[0m\u001b[0;34m)\u001b[0m\u001b[0;34m\u001b[0m\u001b[0m\n\u001b[1;32m     29\u001b[0m             \u001b[0;32mprint\u001b[0m \u001b[0mD_loss\u001b[0m\u001b[0;34m.\u001b[0m\u001b[0mdata\u001b[0m\u001b[0;34m[\u001b[0m\u001b[0;36m0\u001b[0m\u001b[0;34m]\u001b[0m\u001b[0;34m,\u001b[0m\u001b[0mQ_loss\u001b[0m\u001b[0;34m.\u001b[0m\u001b[0mdata\u001b[0m\u001b[0;34m[\u001b[0m\u001b[0;36m0\u001b[0m\u001b[0;34m]\u001b[0m\u001b[0;34m\u001b[0m\u001b[0m\n",
      "\u001b[0;32m<ipython-input-26-0968b29ebb2a>\u001b[0m in \u001b[0;36mget_mean\u001b[0;34m()\u001b[0m\n\u001b[1;32m      1\u001b[0m \u001b[0;32mdef\u001b[0m \u001b[0mget_mean\u001b[0m\u001b[0;34m(\u001b[0m\u001b[0;34m)\u001b[0m\u001b[0;34m:\u001b[0m\u001b[0;34m\u001b[0m\u001b[0m\n\u001b[0;32m----> 2\u001b[0;31m     \u001b[0mx\u001b[0m\u001b[0;34m,\u001b[0m\u001b[0my\u001b[0m \u001b[0;34m=\u001b[0m \u001b[0mnext\u001b[0m\u001b[0;34m(\u001b[0m\u001b[0miter\u001b[0m\u001b[0;34m(\u001b[0m\u001b[0mtest_loader\u001b[0m\u001b[0;34m)\u001b[0m\u001b[0;34m)\u001b[0m\u001b[0;34m\u001b[0m\u001b[0m\n\u001b[0m\u001b[1;32m      3\u001b[0m     \u001b[0my\u001b[0m \u001b[0;34m=\u001b[0m \u001b[0my\u001b[0m\u001b[0;34m.\u001b[0m\u001b[0mcpu\u001b[0m\u001b[0;34m(\u001b[0m\u001b[0;34m)\u001b[0m\u001b[0;34m.\u001b[0m\u001b[0mnumpy\u001b[0m\u001b[0;34m(\u001b[0m\u001b[0;34m)\u001b[0m\u001b[0;34m\u001b[0m\u001b[0m\n\u001b[1;32m      4\u001b[0m     \u001b[0mx\u001b[0m \u001b[0;34m=\u001b[0m \u001b[0mx\u001b[0m\u001b[0;34m.\u001b[0m\u001b[0mview\u001b[0m\u001b[0;34m(\u001b[0m\u001b[0mx\u001b[0m\u001b[0;34m.\u001b[0m\u001b[0msize\u001b[0m\u001b[0;34m(\u001b[0m\u001b[0;34m)\u001b[0m\u001b[0;34m[\u001b[0m\u001b[0;36m0\u001b[0m\u001b[0;34m]\u001b[0m\u001b[0;34m,\u001b[0m\u001b[0;36m28\u001b[0m\u001b[0;34m*\u001b[0m\u001b[0;36m28\u001b[0m\u001b[0;34m)\u001b[0m\u001b[0;34m\u001b[0m\u001b[0m\n\u001b[1;32m      5\u001b[0m     \u001b[0mx\u001b[0m \u001b[0;34m=\u001b[0m \u001b[0mVariable\u001b[0m\u001b[0;34m(\u001b[0m\u001b[0mx\u001b[0m\u001b[0;34m.\u001b[0m\u001b[0mcuda\u001b[0m\u001b[0;34m(\u001b[0m\u001b[0;34m)\u001b[0m\u001b[0;34m)\u001b[0m\u001b[0;34m\u001b[0m\u001b[0m\n",
      "\u001b[0;32m/usr/local/lib/python2.7/dist-packages/torch/utils/data/dataloader.pyc\u001b[0m in \u001b[0;36m__next__\u001b[0;34m(self)\u001b[0m\n\u001b[1;32m    177\u001b[0m         \u001b[0;32mif\u001b[0m \u001b[0mself\u001b[0m\u001b[0;34m.\u001b[0m\u001b[0mnum_workers\u001b[0m \u001b[0;34m==\u001b[0m \u001b[0;36m0\u001b[0m\u001b[0;34m:\u001b[0m  \u001b[0;31m# same-process loading\u001b[0m\u001b[0;34m\u001b[0m\u001b[0m\n\u001b[1;32m    178\u001b[0m             \u001b[0mindices\u001b[0m \u001b[0;34m=\u001b[0m \u001b[0mnext\u001b[0m\u001b[0;34m(\u001b[0m\u001b[0mself\u001b[0m\u001b[0;34m.\u001b[0m\u001b[0msample_iter\u001b[0m\u001b[0;34m)\u001b[0m  \u001b[0;31m# may raise StopIteration\u001b[0m\u001b[0;34m\u001b[0m\u001b[0m\n\u001b[0;32m--> 179\u001b[0;31m             \u001b[0mbatch\u001b[0m \u001b[0;34m=\u001b[0m \u001b[0mself\u001b[0m\u001b[0;34m.\u001b[0m\u001b[0mcollate_fn\u001b[0m\u001b[0;34m(\u001b[0m\u001b[0;34m[\u001b[0m\u001b[0mself\u001b[0m\u001b[0;34m.\u001b[0m\u001b[0mdataset\u001b[0m\u001b[0;34m[\u001b[0m\u001b[0mi\u001b[0m\u001b[0;34m]\u001b[0m \u001b[0;32mfor\u001b[0m \u001b[0mi\u001b[0m \u001b[0;32min\u001b[0m \u001b[0mindices\u001b[0m\u001b[0;34m]\u001b[0m\u001b[0;34m)\u001b[0m\u001b[0;34m\u001b[0m\u001b[0m\n\u001b[0m\u001b[1;32m    180\u001b[0m             \u001b[0;32mif\u001b[0m \u001b[0mself\u001b[0m\u001b[0;34m.\u001b[0m\u001b[0mpin_memory\u001b[0m\u001b[0;34m:\u001b[0m\u001b[0;34m\u001b[0m\u001b[0m\n\u001b[1;32m    181\u001b[0m                 \u001b[0mbatch\u001b[0m \u001b[0;34m=\u001b[0m \u001b[0mpin_memory_batch\u001b[0m\u001b[0;34m(\u001b[0m\u001b[0mbatch\u001b[0m\u001b[0;34m)\u001b[0m\u001b[0;34m\u001b[0m\u001b[0m\n",
      "\u001b[0;32m/usr/local/lib/python2.7/dist-packages/torchvision/datasets/mnist.pyc\u001b[0m in \u001b[0;36m__getitem__\u001b[0;34m(self, index)\u001b[0m\n\u001b[1;32m     55\u001b[0m             \u001b[0mimg\u001b[0m \u001b[0;34m=\u001b[0m \u001b[0mself\u001b[0m\u001b[0;34m.\u001b[0m\u001b[0mtransform\u001b[0m\u001b[0;34m(\u001b[0m\u001b[0mimg\u001b[0m\u001b[0;34m)\u001b[0m\u001b[0;34m\u001b[0m\u001b[0m\n\u001b[1;32m     56\u001b[0m \u001b[0;34m\u001b[0m\u001b[0m\n\u001b[0;32m---> 57\u001b[0;31m         \u001b[0;32mif\u001b[0m \u001b[0mself\u001b[0m\u001b[0;34m.\u001b[0m\u001b[0mtarget_transform\u001b[0m \u001b[0;32mis\u001b[0m \u001b[0;32mnot\u001b[0m \u001b[0mNone\u001b[0m\u001b[0;34m:\u001b[0m\u001b[0;34m\u001b[0m\u001b[0m\n\u001b[0m\u001b[1;32m     58\u001b[0m             \u001b[0mtarget\u001b[0m \u001b[0;34m=\u001b[0m \u001b[0mself\u001b[0m\u001b[0;34m.\u001b[0m\u001b[0mtarget_transform\u001b[0m\u001b[0;34m(\u001b[0m\u001b[0mtarget\u001b[0m\u001b[0;34m)\u001b[0m\u001b[0;34m\u001b[0m\u001b[0m\n\u001b[1;32m     59\u001b[0m \u001b[0;34m\u001b[0m\u001b[0m\n",
      "\u001b[0;31mKeyboardInterrupt\u001b[0m: "
     ]
    }
   ],
   "source": [
    "for iter_ in range(20):\n",
    "    for ep in range(200):\n",
    "        x,y = next(iter(train_loader))\n",
    "        mean_z1 = get_mean()\n",
    "        x = x.view(batch_size,28*28)\n",
    "        x = Variable(x.cuda())\n",
    "\n",
    "        z_false = Q(x)\n",
    "        z_true = get_true_z(mean_z1,y)\n",
    "        \n",
    "        d_false = D(z_false)\n",
    "        d_true = D(z_true)\n",
    "        \n",
    "        add_small = 1e-15\n",
    "        D_loss = -torch.mean(torch.log(d_true + add_small) + torch.log(1-d_false + add_small))\n",
    "        D_loss.backward(retain_graph = True)\n",
    "        D_solver.step()\n",
    "    \n",
    "        d_false = D(z_false)\n",
    "        Q_loss = -torch.mean(torch.log(d_false + add_small))\n",
    "        Q_loss.backward()\n",
    "        Q_solver.step()\n",
    "        \n",
    "        \n",
    "        \n",
    "        if(ep%10==0):\n",
    "            mean_z2 = get_mean()\n",
    "            diff = np.linalg.norm(mean_z1-mean_z2)\n",
    "            print D_loss.data[0],Q_loss.data[0]\n",
    "            print(\"mean diff\",diff)"
   ]
  },
  {
   "cell_type": "code",
   "execution_count": null,
   "metadata": {
    "collapsed": true
   },
   "outputs": [],
   "source": [
    "        #recon.append(CEL)\n",
    "\n",
    "# ## use a discriminator to learn the reconstruction loss also discriminatively\n",
    "#         if(it%2==0):\n",
    "#             Dx_false = D2(x_recon)\n",
    "#             Dx_true = D2(x)\n",
    "            \n",
    "#             D2_loss = -torch.mean(torch.log(Dx_true + add_small) + torch.log(1 - Dx_false + add_small))\n",
    "#             D2_loss.backward(retain_graph=True)\n",
    "#             D2_solver.step()\n",
    "#             D2.zero_grad()\n",
    "        \n",
    "#             Dx_false = D2(x_recon)\n",
    "            \n",
    "#             recon_loss = -torch.mean(torch.log(Dx_false)) + 0.5*F.binary_cross_entropy(x_recon,x)\n",
    "#             recon_loss.backward(retain_graph=True)\n",
    "#             Q_solver.step()\n",
    "#             P_solver.step()\n",
    "#             Q.zero_grad()\n",
    "#             P.zero_grad()\n",
    "            \n",
    "        \n",
    "\n",
    "        \n",
    "        \n",
    "        \n",
    "        \n",
    "        \n",
    "        #Discriminator\n",
    "       \n",
    "        \n",
    "        if cuda==True:\n",
    "            if mean_z is not None:\n",
    "                z_true = get_true_z(mean_z,y).cuda()\n",
    "            else:\n",
    "                z_true = Variable(torch.randn(batch_size,z_dim).cuda())\n",
    "                \n",
    "        else:\n",
    "            if mean_z is None:\n",
    "                z_true = get_true_z(mean_z,y)\n",
    "            else:\n",
    "                z_true = Variable(torch.randn(batch_size,z_dim))\n",
    "\n",
    "        z_true = Variable(torch.cat([z_true,label_info],1).data).cuda()\n",
    "        z_true_op = D(z_true)\n",
    "        \n",
    "        z_false_op = D(z_false)\n",
    "        \n",
    "        \n",
    "        if(it%1==0):\n",
    "    \n",
    "            loss_d = -torch.mean(torch.log(z_true_op + add_small) + torch.log(1 - z_false_op + add_small))\n",
    "            loss_d.backward(retain_graph=True)\n",
    "            D_solver.step()\n",
    "            D.zero_grad()\n",
    "            discriminate.append(loss_d)\n",
    "\n",
    "    #Updating the encoder\n",
    "        G_loss = -torch.mean(torch.log(z_false_op+1e-20))\n",
    "        G_loss.backward(retain_graph=True)\n",
    "        Q_solver.step()\n",
    "        Q_solver.zero_grad()\n",
    "        encode.append(G_loss)\n",
    "        \n",
    "        \n",
    "    ## occasionally update the encoder with MSE loss\n",
    "    \n",
    "#         if(it%25==0):\n",
    "#             tmp_loss = nn.MSELoss()(z_false,z_true)\n",
    "#             print('tmp_loss:',tmp_loss.data[0])\n",
    "#             tmp_loss = 1e-3*tmp_loss\n",
    "#             tmp_loss.backward()\n",
    "#             Q_solver.step()\n",
    "#             Q_solver.zero_grad()\n",
    "\n",
    "        \n",
    "        \n",
    "        if(it%25==0):\n",
    "            #print(extra_loss.data[0],CEL.data[0])\n",
    "            print('recon_loss:', CEL.data[0],'disc_loss:', loss_d.data[0])\n",
    "            print('gen_loss: ',G_loss.data[0])#,'D2_loss',D2_loss.data[0])\n",
    "#             plt.plot(range(1,it),np.array(discriminate).reshape(len(discriminate),1))\n",
    "#             plt.title('discriminator loss')\n",
    "#             plot.show()\n",
    "            \n",
    "            \n",
    "#             plt.plot(range(1,it),np.array(encode).reshape(len(encode),1))\n",
    "#             plt.title('encoder loss')\n",
    "#             plot.show()\n",
    "           \n",
    "#             plt.plot(range(1,it),np.array(reconstruct).reshape(len(reconstruct),1))\n",
    "#             plt.title('reconstruction loss')\n",
    "#             plot.show()            \n",
    "        \n",
    "        ## plot the distribution ##\n",
    "        if(it%25 == 0):\n",
    "            xcheck,labels = next(iter(test_loader))\n",
    "            xcheck = xcheck.view(1000,28*28)\n",
    "            xcheck = Variable(xcheck.cuda())\n",
    "            labels_sc = labels.cpu().numpy()\n",
    "            #xcheck = Variable(xcheck.view(1000,28*28).cuda())\n",
    "            zhat = Q(xcheck)\n",
    "            z_mu = zhat.cpu().data.numpy()\n",
    "            plt.figure(figsize=(8, 6)) \n",
    "           \n",
    "            plt.scatter(z_mu[:, 0], z_mu[:, 1],c = labels_sc)#,cmap=plt.cm.autumn)\n",
    "            plt.colorbar()\n",
    "            plt.grid()\n",
    "            plt.show()   \n",
    "            \n",
    "            zcheck = Variable(torch.randn(1,z_dim).cuda())\n",
    "            \n",
    "            y = np.array([2])\n",
    "            label_info = (add_label_info(y,1,numpy=True))\n",
    "            z_false = np.concatenate((zcheck.cpu().data.numpy(),label_info.cpu().numpy()),1)\n",
    "            z_false = Variable(torch.FloatTensor(z_false)).cuda()\n",
    "            print z_false.size()\n",
    "            x_recon = P(z_false)\n",
    "            op = x_recon.cpu().data.numpy()\n",
    "            op = op.reshape(28,28)\n",
    "            plt.imshow(op)\n",
    "            plt.show()\n",
    "    #return Q,P"
   ]
  },
  {
   "cell_type": "code",
   "execution_count": null,
   "metadata": {
    "collapsed": true
   },
   "outputs": [],
   "source": []
  },
  {
   "cell_type": "code",
   "execution_count": null,
   "metadata": {},
   "outputs": [],
   "source": [
    "train_model()"
   ]
  },
  {
   "cell_type": "code",
   "execution_count": null,
   "metadata": {
    "collapsed": true
   },
   "outputs": [],
   "source": []
  },
  {
   "cell_type": "code",
   "execution_count": null,
   "metadata": {},
   "outputs": [],
   "source": [
    "mean_z = get_mean()"
   ]
  },
  {
   "cell_type": "code",
   "execution_count": null,
   "metadata": {},
   "outputs": [],
   "source": [
    "train_model(mean_z=mean_z)"
   ]
  },
  {
   "cell_type": "code",
   "execution_count": null,
   "metadata": {},
   "outputs": [],
   "source": [
    "zcheck = Variable(torch.randn(1,z_dim).cuda())\n",
    "y = np.array([6])\n",
    "label_info = (add_label_info(y,1,numpy=True))\n",
    "z_false = np.concatenate((zcheck.cpu().data.numpy(),label_info.cpu().numpy()),1)\n",
    "z_false = Variable(torch.FloatTensor(z_false)).cuda()\n",
    "print z_false.size()\n",
    "x_recon = P(z_false)\n",
    "op = x_recon.cpu().data.numpy()\n",
    "op = op.reshape(28,28)\n",
    "plt.imshow(op)\n",
    "plt.show()"
   ]
  },
  {
   "cell_type": "code",
   "execution_count": null,
   "metadata": {
    "collapsed": true
   },
   "outputs": [],
   "source": []
  },
  {
   "cell_type": "markdown",
   "metadata": {},
   "source": [
    "### Forced clustering "
   ]
  },
  {
   "cell_type": "code",
   "execution_count": null,
   "metadata": {
    "collapsed": true
   },
   "outputs": [],
   "source": []
  },
  {
   "cell_type": "code",
   "execution_count": null,
   "metadata": {
    "collapsed": true
   },
   "outputs": [],
   "source": [
    "# if(1==1):\n",
    "#     xcheck,labels = next(iter(test_loader))\n",
    "#     labels2 = labels.numpy()\n",
    "#     xcheck = Variable(xcheck.view(1000,28*28).cuda())\n",
    "#     zhat = E(xcheck)\n",
    "#     z_mu = zhat.cpu().data.numpy()\n",
    "#     print labels2.shape\n",
    "#     plt.figure(figsize=(8, 6)) \n",
    "#     #colors = cm.rainbow(np.linspace(0, 1, 10))\n",
    "#     plt.scatter(z_mu[:, 0], z_mu[:, 1],c = labels2,cmap=plt.cm.hot)\n",
    "#     plt.colorbar()\n",
    "#     plt.grid()\n",
    "#     plt.show()"
   ]
  },
  {
   "cell_type": "code",
   "execution_count": null,
   "metadata": {
    "collapsed": true
   },
   "outputs": [],
   "source": [
    "# X_embedded = TSNE(n_components=2).fit_transform(z_mu)\n",
    "# plt.figure(figsize=(8, 6)) \n",
    "# plt.scatter(X_embedded[:, 0], X_embedded[:, 1],c = labels2,cmap=plt.cm.hot)\n",
    "# plt.colorbar()\n",
    "# plt.grid()\n",
    "# plt.show()"
   ]
  },
  {
   "cell_type": "code",
   "execution_count": null,
   "metadata": {
    "collapsed": true
   },
   "outputs": [],
   "source": [
    "# noise = np.random.randn(1,z_dim)\n",
    "# label = 7\n",
    "#     #print noise.shape,label.shape\n",
    "# z = 0.5*noise + label*10\n",
    "# z = Variable(torch.FloatTensor(z).cuda())\n",
    "# op = G(z).cpu().data.numpy()\n",
    "# op = op.reshape(28,28)\n",
    "# plt.imshow(op)\n",
    "# plt.show()"
   ]
  },
  {
   "cell_type": "code",
   "execution_count": null,
   "metadata": {
    "collapsed": true
   },
   "outputs": [],
   "source": [
    "# def add_label_info(y,batch_size,numpy=False):\n",
    "\n",
    "#     tmp = np.zeros((batch_size,10))\n",
    "#     if(numpy == False):\n",
    "#         y = y.cpu().numpy().reshape(batch_size,1)\n",
    "#     for i in range(y.shape[0]):\n",
    "#         tmp[i,y[i]] = 5\n",
    "#     label_info = torch.from_numpy((tmp))\n",
    "#     return label_info"
   ]
  }
 ],
 "metadata": {
  "kernelspec": {
   "display_name": "Python 2",
   "language": "python",
   "name": "python2"
  },
  "language_info": {
   "codemirror_mode": {
    "name": "ipython",
    "version": 2
   },
   "file_extension": ".py",
   "mimetype": "text/x-python",
   "name": "python",
   "nbconvert_exporter": "python",
   "pygments_lexer": "ipython2",
   "version": "2.7.6"
  }
 },
 "nbformat": 4,
 "nbformat_minor": 2
}
