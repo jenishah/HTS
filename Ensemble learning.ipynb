{
 "cells": [
  {
   "cell_type": "code",
   "execution_count": 1,
   "metadata": {
    "collapsed": true
   },
   "outputs": [],
   "source": [
    "import numpy as np\n",
    "import csv\n",
    "import os\n",
    "import torch\n",
    "import torch.nn as nn\n",
    "import torch.nn.functional as F\n",
    "#from tensorflow.examples.tutorials.mnist import input_data\n",
    "from torch.autograd import Variable\n",
    "import sklearn.metrics as metrics\n",
    "import pickle"
   ]
  },
  {
   "cell_type": "code",
   "execution_count": 2,
   "metadata": {
    "collapsed": true
   },
   "outputs": [],
   "source": [
    "path = '/home/daiict/CVShare/Jeni/hts/bioassay-datasets/'\n",
    "p_fingerprints = []\n",
    "c_fingerprints = []\n",
    "labels = []\n",
    "with open(path+'AID362red_test.csv') as csvfile:\n",
    "    readcsv = csv.reader(csvfile)\n",
    "    for row in readcsv:\n",
    "        p_fingerprints.append(row[:112])\n",
    "        c_fingerprints.append(row[112:-1])\n",
    "        labels.append(row[-1])"
   ]
  },
  {
   "cell_type": "code",
   "execution_count": 3,
   "metadata": {},
   "outputs": [
    {
     "name": "stdout",
     "output_type": "stream",
     "text": [
      "(856, 112)\n",
      "32\n"
     ]
    }
   ],
   "source": [
    "p_fingerprints = np.asarray(p_fingerprints)[1:]\n",
    "p_fingerprints = p_fingerprints.astype(int)\n",
    "c_fingerprints = np.asarray(c_fingerprints)[1:]\n",
    "c_fingerprints = c_fingerprints.astype(float)\n",
    "#p2_fingerprints = np.ones(p_fingerprints.shape)\n",
    "(no_examples , ip_dim) = p_fingerprints.shape\n",
    "ip_dim2 = c_fingerprints.shape[1]\n",
    "\n",
    "labels = labels[1:]\n",
    "print(no_examples,ip_dim)\n",
    "print(ip_dim2)\n",
    "p_fingerprints[(p_fingerprints==0)] = -1"
   ]
  },
  {
   "cell_type": "code",
   "execution_count": 4,
   "metadata": {
    "collapsed": true
   },
   "outputs": [],
   "source": [
    "labels2 = np.zeros((len(labels),1))\n",
    "for i,l in enumerate(labels):\n",
    "    if l=='Active':\n",
    "        labels2[i] = 1\n",
    "    else:\n",
    "        labels2[i] = 0\n",
    "labels2 = labels2.astype(int)"
   ]
  },
  {
   "cell_type": "code",
   "execution_count": 5,
   "metadata": {
    "collapsed": true
   },
   "outputs": [],
   "source": [
    "class mlp(nn.Module):\n",
    "    def __init__(self):\n",
    "        super(mlp,self).__init__()\n",
    "        self.l1 = nn.Linear(ip_dim,1000)\n",
    "        self.l2 = nn.Linear(1000,500)\n",
    "        self.l3 = nn.Linear(500,200)\n",
    "        self.l4 = nn.Linear(200,2)\n",
    "        \n",
    "    def forward(self,x):\n",
    "        x = F.relu(self.l1(x))\n",
    "        x = F.relu(self.l2(x))\n",
    "        x = F.relu(self.l3(x))\n",
    "        x = (self.l4(x))\n",
    "        \n",
    "        return x"
   ]
  },
  {
   "cell_type": "code",
   "execution_count": 6,
   "metadata": {
    "collapsed": true
   },
   "outputs": [],
   "source": [
    "class c_mlp(nn.Module):\n",
    "    def __init__(self):\n",
    "        super(c_mlp,self).__init__()\n",
    "        self.l1 = nn.Linear(ip_dim2,100)\n",
    "        self.l2 = nn.Linear(100,100)\n",
    "        self.l3 = nn.Linear(100,100)\n",
    "        self.l4 = nn.Linear(100,50)\n",
    "        self.l5 = nn.Linear(50,2)\n",
    "        \n",
    "    def forward(self,x):\n",
    "        x = F.leaky_relu(self.l1(x))\n",
    "        x = F.leaky_relu(self.l2(x))\n",
    "        x = F.leaky_relu(self.l3(x))\n",
    "        x = F.leaky_relu(self.l4(x))\n",
    "        x = (self.l5(x))\n",
    "        \n",
    "        return x"
   ]
  },
  {
   "cell_type": "code",
   "execution_count": 7,
   "metadata": {
    "collapsed": true
   },
   "outputs": [],
   "source": [
    "en_predictions = []\n",
    "c_models = 4\n",
    "for i in range(1,c_models):\n",
    "    my_cmlp = c_mlp().cuda()\n",
    "    path = os.getcwd() + '/model' + str(i)\n",
    "    my_cmlp.load_state_dict(torch.load(path))\n",
    "    tmp_op = my_cmlp(Variable(torch.cuda.FloatTensor(c_fingerprints)))\n",
    "    tmp_op = tmp_op.cpu().data.numpy()\n",
    "    pred_labels = np.argmax(tmp_op,axis=1)\n",
    "    en_predictions.append(pred_labels)"
   ]
  },
  {
   "cell_type": "code",
   "execution_count": 8,
   "metadata": {
    "collapsed": true
   },
   "outputs": [],
   "source": [
    "b_models = 3\n",
    "for i in range(b_models):\n",
    "    my_mlp = mlp().cuda()\n",
    "    path = os.getcwd() + '/b_model' + str(i)\n",
    "    my_mlp.load_state_dict(torch.load(path))\n",
    "    tmp_op = my_mlp(Variable(torch.cuda.FloatTensor(p_fingerprints)))\n",
    "    tmp_op = tmp_op.cpu().data.numpy()\n",
    "    pred_labels = np.argmax(tmp_op,axis=1)\n",
    "    en_predictions.append(pred_labels)"
   ]
  },
  {
   "cell_type": "code",
   "execution_count": 9,
   "metadata": {
    "collapsed": true
   },
   "outputs": [],
   "source": [
    "en_predictions = np.asarray(en_predictions)\n",
    "en_sum = np.sum(en_predictions,axis=0)\n",
    "#print(en_sum)\n",
    "en_op = np.zeros(en_sum.shape)\n",
    "en_op[en_sum >= 2] = 1\n",
    "en_op[en_sum < 2] = 0\n",
    "#print(en_op)"
   ]
  },
  {
   "cell_type": "code",
   "execution_count": 26,
   "metadata": {},
   "outputs": [
    {
     "name": "stdout",
     "output_type": "stream",
     "text": [
      "('tn, fp, fn, tp: ', array([826,  18,   5,   7]))\n"
     ]
    }
   ],
   "source": [
    "cf = metrics.confusion_matrix(labels2,en_op).ravel()\n",
    "print('tn, fp, fn, tp: ',cf)"
   ]
  },
  {
   "cell_type": "code",
   "execution_count": 11,
   "metadata": {},
   "outputs": [
    {
     "name": "stdout",
     "output_type": "stream",
     "text": [
      "75\n"
     ]
    }
   ],
   "source": [
    "print(sum(en_sum))"
   ]
  },
  {
   "cell_type": "code",
   "execution_count": 13,
   "metadata": {
    "collapsed": true
   },
   "outputs": [],
   "source": [
    "#CM with cont features\n",
    "with open(\"cnt_test.txt\",'rb') as f:\n",
    "    tmplist = pickle.load(f)"
   ]
  },
  {
   "cell_type": "code",
   "execution_count": 14,
   "metadata": {},
   "outputs": [
    {
     "data": {
      "text/plain": [
       "[array([3362,   13,    8,   40]),\n",
       " array([3359,   16,    4,   44]),\n",
       " array([3358,   17,    3,   45]),\n",
       " array([3358,   17,    2,   46]),\n",
       " array([3352,   23,    4,   44]),\n",
       " array([3344,   31,    1,   47]),\n",
       " array([3351,   24,    2,   46]),\n",
       " array([3345,   30,    3,   45]),\n",
       " array([3333,   42,    0,   48]),\n",
       " array([3344,   31,    1,   47]),\n",
       " array([3318,   57,    1,   47]),\n",
       " array([3341,   34,    1,   47]),\n",
       " array([3347,   28,    2,   46]),\n",
       " array([3334,   41,    0,   48]),\n",
       " array([3337,   38,    1,   47]),\n",
       " array([3308,   67,    0,   48]),\n",
       " array([3324,   51,    0,   48]),\n",
       " array([3329,   46,    0,   48]),\n",
       " array([3342,   33,    1,   47]),\n",
       " array([3334,   41,    0,   48]),\n",
       " array([3306,   69,    1,   47]),\n",
       " array([3318,   57,    0,   48])]"
      ]
     },
     "execution_count": 14,
     "metadata": {},
     "output_type": "execute_result"
    }
   ],
   "source": [
    "tmplist"
   ]
  },
  {
   "cell_type": "code",
   "execution_count": null,
   "metadata": {
    "collapsed": true
   },
   "outputs": [],
   "source": []
  }
 ],
 "metadata": {
  "kernelspec": {
   "display_name": "Python 2",
   "language": "python",
   "name": "python2"
  },
  "language_info": {
   "codemirror_mode": {
    "name": "ipython",
    "version": 2
   },
   "file_extension": ".py",
   "mimetype": "text/x-python",
   "name": "python",
   "nbconvert_exporter": "python",
   "pygments_lexer": "ipython2",
   "version": "2.7.6"
  }
 },
 "nbformat": 4,
 "nbformat_minor": 2
}
