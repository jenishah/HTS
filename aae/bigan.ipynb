{
 "cells": [
  {
   "cell_type": "code",
   "execution_count": 1,
   "metadata": {
    "collapsed": true
   },
   "outputs": [],
   "source": [
    "import numpy as np\n",
    "import csv\n",
    "import os\n",
    "import torch\n",
    "import torch.nn as nn\n",
    "import torch.nn.functional as F\n",
    "#from tensorflow.examples.tutorials.mnist import input_data\n",
    "from torch.autograd import Variable\n",
    "import sklearn.metrics as metrics\n",
    "import pickle\n",
    "import os\n",
    "import numpy.linalg as la\n",
    "import random\n",
    "import torch.nn.parallel\n",
    "import torch.backends.cudnn as cudnn\n",
    "import torch.optim as optim\n",
    "import torch.utils.data\n",
    "import torchvision.datasets as dset\n",
    "import torchvision.transforms as transforms\n",
    "import torchvision.utils as vutils\n",
    "from torch.autograd import Variable\n",
    "from matplotlib import pyplot as plt"
   ]
  },
  {
   "cell_type": "code",
   "execution_count": 2,
   "metadata": {
    "collapsed": true
   },
   "outputs": [],
   "source": [
    "transform = transforms.Compose(\n",
    "    [transforms.ToTensor(),transforms.Normalize((0.5,0.5,0.5),(0.5,0.5,0.5))])\n",
    "train_set = dset.MNIST('/home/daiict/Desktop/udit/C-GAN./data' ,train=True, download= True,\n",
    "                       transform = transform)\n",
    "test_set = dset.MNIST('/home/daiict/Desktop/udit/C-GAN./data' ,train=False, download=True,\n",
    "                       transform = transform)"
   ]
  },
  {
   "cell_type": "code",
   "execution_count": 3,
   "metadata": {
    "collapsed": true
   },
   "outputs": [],
   "source": [
    "batch_size = 96"
   ]
  },
  {
   "cell_type": "code",
   "execution_count": 4,
   "metadata": {},
   "outputs": [
    {
     "name": "stdout",
     "output_type": "stream",
     "text": [
      "625 105\n"
     ]
    }
   ],
   "source": [
    "train_loader = torch.utils.data.DataLoader(train_set, batch_size=batch_size,shuffle=True)\n",
    "test_loader = torch.utils.data.DataLoader(test_set, batch_size=batch_size,shuffle=True)\n",
    "print len(train_loader), len(test_loader)"
   ]
  },
  {
   "cell_type": "code",
   "execution_count": 5,
   "metadata": {
    "collapsed": true
   },
   "outputs": [],
   "source": [
    "ip_dim = 28*28\n",
    "z_dim = 20\n",
    "comb_dim = ip_dim + z_dim"
   ]
  },
  {
   "cell_type": "markdown",
   "metadata": {},
   "source": [
    "#### Implementing BIGan"
   ]
  },
  {
   "cell_type": "markdown",
   "metadata": {},
   "source": [
    "#### Encoder"
   ]
  },
  {
   "cell_type": "code",
   "execution_count": 6,
   "metadata": {
    "collapsed": true
   },
   "outputs": [],
   "source": [
    "class encoder(nn.Module):\n",
    "    def __init__(self):\n",
    "        super(encoder,self).__init__()\n",
    "        self.l1 = nn.Linear(ip_dim,800)\n",
    "        self.l2 = nn.Linear(800,500)\n",
    "        self.l3 = nn.Linear(500,500)\n",
    "        self.l4 = nn.Linear(500,z_dim)\n",
    "        \n",
    "    def forward(self,x):\n",
    "        x = F.leaky_relu(self.l1(x))\n",
    "        x = F.leaky_relu(self.l2(x))\n",
    "        x = F.leaky_relu(self.l3(x))\n",
    "        x = (self.l4(x))\n",
    "        \n",
    "        return x"
   ]
  },
  {
   "cell_type": "markdown",
   "metadata": {
    "collapsed": true
   },
   "source": [
    "### Decoder"
   ]
  },
  {
   "cell_type": "code",
   "execution_count": 7,
   "metadata": {
    "collapsed": true
   },
   "outputs": [],
   "source": [
    "class decoder(nn.Module):\n",
    "    def __init__(self):\n",
    "        super(decoder,self).__init__()\n",
    "        self.l1 = nn.Linear(z_dim,500)\n",
    "        self.l2 = nn.Linear(500,500)\n",
    "        self.l3 = nn.Linear(500,800)\n",
    "        self.l4 = nn.Linear(800,ip_dim)\n",
    "        \n",
    "    def forward(self,x):\n",
    "        x = F.leaky_relu(self.l1(x))\n",
    "        x = F.leaky_relu(self.l2(x))\n",
    "        x = F.leaky_relu(self.l3(x))\n",
    "        x = F.tanh(self.l4(x))\n",
    "        \n",
    "        return x"
   ]
  },
  {
   "cell_type": "markdown",
   "metadata": {},
   "source": [
    "###  Discriminator"
   ]
  },
  {
   "cell_type": "code",
   "execution_count": 8,
   "metadata": {
    "collapsed": true
   },
   "outputs": [],
   "source": [
    "class disc(nn.Module):\n",
    "    def __init__(self):\n",
    "        super(disc,self).__init__()\n",
    "        self.l1 = nn.Linear(comb_dim,100)\n",
    "        self.l2 = nn.Linear(100,100)\n",
    "        self.l3 = nn.Linear(100,100)\n",
    "        self.l4 = nn.Linear(50,1)\n",
    "        \n",
    "    def forward(self,x):\n",
    "        x = F.leaky_relu(self.l1(x))\n",
    "        x = F.leaky_relu(self.l2(x))\n",
    "        x = F.sigmoid(self.l3(x))\n",
    "        \n",
    "        return x"
   ]
  },
  {
   "cell_type": "code",
   "execution_count": 9,
   "metadata": {
    "collapsed": true
   },
   "outputs": [],
   "source": [
    "G = decoder().cuda()\n",
    "E = encoder().cuda()\n",
    "D = disc().cuda()"
   ]
  },
  {
   "cell_type": "code",
   "execution_count": 10,
   "metadata": {
    "collapsed": true
   },
   "outputs": [],
   "source": [
    "def clear_grad():\n",
    "    G.zero_grad()\n",
    "    E.zero_grad()\n",
    "    D.zero_grad()"
   ]
  },
  {
   "cell_type": "code",
   "execution_count": 11,
   "metadata": {
    "collapsed": true
   },
   "outputs": [],
   "source": [
    "E_solver = optim.Adam(E.parameters(),lr = 1e-2)\n",
    "G_solver = optim.Adam(G.parameters(),lr = 1e-2)\n",
    "D_solver = optim.Adam(D.parameters(),lr = 1e-2)"
   ]
  },
  {
   "cell_type": "code",
   "execution_count": 12,
   "metadata": {
    "collapsed": true
   },
   "outputs": [],
   "source": [
    "CUDA_LAUNCH_BLOCKING=1"
   ]
  },
  {
   "cell_type": "markdown",
   "metadata": {},
   "source": [
    "### Start with trained encoder and decoder"
   ]
  },
  {
   "cell_type": "code",
   "execution_count": 13,
   "metadata": {},
   "outputs": [
    {
     "name": "stdout",
     "output_type": "stream",
     "text": [
      "0.466691613197\n",
      "0.466068297625\n",
      "0.481457650661\n",
      "0.464296400547\n",
      "0.475452512503\n",
      "0.453748375177\n",
      "0.45088544488\n",
      "0.460324048996\n",
      "0.464486837387\n",
      "0.467604279518\n",
      "0.463743656874\n",
      "0.468074351549\n",
      "0.479151248932\n",
      "0.436636954546\n",
      "0.463697165251\n",
      "0.457655966282\n",
      "0.454080849886\n",
      "0.478748977184\n",
      "0.457835912704\n",
      "0.46225681901\n"
     ]
    }
   ],
   "source": [
    "epochs = 20\n",
    "for ep in range(epochs):\n",
    "    for idx,(x,label) in enumerate(train_loader):\n",
    "        \n",
    "        x = Variable(x.cuda())\n",
    "        x = x.view(batch_size,28*28)\n",
    "        z = Variable(torch.randn(batch_size,z_dim)).cuda()\n",
    "        \n",
    "        xhat = G(z)\n",
    "        g_loss = nn.MSELoss()(xhat,x)\n",
    "        g_loss.backward()\n",
    "        \n",
    "        G_solver.step()\n",
    "        clear_grad()\n",
    "        \n",
    "    print g_loss.data[0]"
   ]
  },
  {
   "cell_type": "code",
   "execution_count": 16,
   "metadata": {},
   "outputs": [
    {
     "name": "stdout",
     "output_type": "stream",
     "text": [
      "(0.0, 0.45438525080680847)\n"
     ]
    },
    {
     "data": {
      "image/png": "[encoded data removed]",
      "text/plain": [
       "<matplotlib.figure.Figure at 0x7fb179cd3e90>"
      ]
     },
     "metadata": {},
     "output_type": "display_data"
    },
    {
     "name": "stdout",
     "output_type": "stream",
     "text": [
      "(0.0, 51.05253601074219)\n",
      "(0.0, 51.0584602355957)\n",
      "(0.0, 0.454712837934494)\n",
      "(0.0, 51.327049255371094)\n",
      "(0.0, 51.34691619873047)\n"
     ]
    },
    {
     "data": {
      "image/png": "[encoded data removed]",
      "text/plain": [
       "<matplotlib.figure.Figure at 0x7fb184bdfc90>"
      ]
     },
     "metadata": {},
     "output_type": "display_data"
    },
    {
     "name": "stdout",
     "output_type": "stream",
     "text": [
      "(0.0, 0.4533379077911377)\n",
      "(0.0, 51.60295104980469)\n",
      "(0.0, 51.599205017089844)\n",
      "(0.0, 0.4640837609767914)\n",
      "(0.0, 51.84115982055664)\n"
     ]
    },
    {
     "data": {
      "image/png": "[encoded data removed]",
      "text/plain": [
       "<matplotlib.figure.Figure at 0x7fb16dc28450>"
      ]
     },
     "metadata": {},
     "output_type": "display_data"
    },
    {
     "name": "stdout",
     "output_type": "stream",
     "text": [
      "(0.0, 51.847679138183594)\n",
      "(0.0, 0.44198188185691833)\n",
      "(0.0, 52.06592559814453)\n",
      "(0.0, 52.070640563964844)\n",
      "(0.0, 0.4470454156398773)\n"
     ]
    },
    {
     "data": {
      "image/png": "[encoded data removed]",
      "text/plain": [
       "<matplotlib.figure.Figure at 0x7fb19b1f7e10>"
      ]
     },
     "metadata": {},
     "output_type": "display_data"
    },
    {
     "name": "stdout",
     "output_type": "stream",
     "text": [
      "(0.0, 52.34644317626953)\n",
      "(0.0, 52.317604064941406)\n",
      "(0.0, 0.46035632491111755)\n",
      "(0.0, 52.595123291015625)\n",
      "(0.0, 52.55498504638672)\n"
     ]
    },
    {
     "data": {
      "image/png": "[encoded data removed]",
      "text/plain": [
       "<matplotlib.figure.Figure at 0x7fb19998ec90>"
      ]
     },
     "metadata": {},
     "output_type": "display_data"
    },
    {
     "name": "stdout",
     "output_type": "stream",
     "text": [
      "(0.0, 0.5008060932159424)\n",
      "(0.0, 52.78704071044922)\n",
      "(0.0, 52.80159378051758)\n",
      "(0.0, 0.4550562798976898)\n",
      "(0.0, 52.99571990966797)\n"
     ]
    },
    {
     "data": {
      "image/png": "[encoded data removed]",
      "text/plain": [
       "<matplotlib.figure.Figure at 0x7fb184bd2490>"
      ]
     },
     "metadata": {},
     "output_type": "display_data"
    },
    {
     "name": "stdout",
     "output_type": "stream",
     "text": [
      "(0.0, 53.00310134887695)\n",
      "(0.0, 0.45753753185272217)\n",
      "(0.0, 53.1881103515625)\n",
      "(0.0, 53.176395416259766)\n",
      "(0.0, 0.46308696269989014)\n"
     ]
    },
    {
     "data": {
      "image/png": "[encoded data removed]",
      "text/plain": [
       "<matplotlib.figure.Figure at 0x7fb19b1f3dd0>"
      ]
     },
     "metadata": {},
     "output_type": "display_data"
    },
    {
     "name": "stdout",
     "output_type": "stream",
     "text": [
      "(0.0, 53.36393356323242)\n",
      "(0.0, 53.375587463378906)\n",
      "(0.0, 0.48320189118385315)\n",
      "(0.0, 53.53281784057617)\n",
      "(0.0, 53.52912521362305)\n"
     ]
    },
    {
     "data": {
      "image/png": "[encoded data removed]",
      "text/plain": [
       "<matplotlib.figure.Figure at 0x7fb190050f90>"
      ]
     },
     "metadata": {},
     "output_type": "display_data"
    },
    {
     "name": "stdout",
     "output_type": "stream",
     "text": [
      "(0.0, 0.4529562294483185)\n",
      "(0.0, 53.68885803222656)\n",
      "(0.0, 53.6905632019043)\n",
      "(0.0, 0.47830402851104736)\n",
      "(0.0, 53.83527374267578)\n"
     ]
    },
    {
     "data": {
      "image/png": "[encoded data removed]",
      "text/plain": [
       "<matplotlib.figure.Figure at 0x7fb1801a9050>"
      ]
     },
     "metadata": {},
     "output_type": "display_data"
    },
    {
     "name": "stdout",
     "output_type": "stream",
     "text": [
      "(0.0, 53.82498550415039)\n",
      "(0.0, 0.4463326036930084)\n",
      "(0.0, 53.95563507080078)\n",
      "(0.0, 53.968624114990234)\n",
      "(0.0, 0.44557350873947144)\n"
     ]
    },
    {
     "data": {
      "image/png": "[encoded data removed]",
      "text/plain": [
       "<matplotlib.figure.Figure at 0x7fb184c08990>"
      ]
     },
     "metadata": {},
     "output_type": "display_data"
    },
    {
     "name": "stdout",
     "output_type": "stream",
     "text": [
      "(0.0, 54.077728271484375)\n",
      "(0.0, 54.06119155883789)\n",
      "(0.0, 0.4844222366809845)\n",
      "(0.0, 54.16901779174805)\n",
      "(0.0, 54.16719055175781)\n"
     ]
    },
    {
     "data": {
      "image/png": "[encoded data removed]",
      "text/plain": [
       "<matplotlib.figure.Figure at 0x7fb198c9cc90>"
      ]
     },
     "metadata": {},
     "output_type": "display_data"
    },
    {
     "name": "stdout",
     "output_type": "stream",
     "text": [
      "(0.0, 0.44962140917778015)\n",
      "(0.0, 54.2596321105957)\n",
      "(0.0, 54.25578689575195)\n",
      "(0.0, 0.4522521495819092)\n",
      "(0.0, 54.34178924560547)\n"
     ]
    },
    {
     "data": {
      "image/png": "[encoded data removed]",
      "text/plain": [
       "<matplotlib.figure.Figure at 0x7fb19edd3650>"
      ]
     },
     "metadata": {},
     "output_type": "display_data"
    },
    {
     "name": "stdout",
     "output_type": "stream",
     "text": [
      "(0.0, 54.337921142578125)\n",
      "(0.0, 0.4461425840854645)\n",
      "(0.0, 54.419639587402344)\n",
      "(0.0, 54.42640686035156)\n",
      "(0.0, 0.46010127663612366)\n"
     ]
    },
    {
     "data": {
      "image/png": "[encoded data removed]",
      "text/plain": [
       "<matplotlib.figure.Figure at 0x7fb19b1f75d0>"
      ]
     },
     "metadata": {},
     "output_type": "display_data"
    },
    {
     "name": "stdout",
     "output_type": "stream",
     "text": [
      "(0.0, 54.475379943847656)\n",
      "(0.0, 54.477813720703125)\n",
      "(0.0, 0.46327686309814453)\n",
      "(0.0, 54.54270935058594)\n",
      "(0.0, 54.54230499267578)\n"
     ]
    },
    {
     "data": {
      "image/png": "[encoded data removed]",
      "text/plain": [
       "<matplotlib.figure.Figure at 0x7fb198c17f50>"
      ]
     },
     "metadata": {},
     "output_type": "display_data"
    },
    {
     "name": "stdout",
     "output_type": "stream",
     "text": [
      "(0.0, 0.4549484848976135)\n",
      "(0.0, 54.594486236572266)\n",
      "(0.0, 54.59672164916992)\n",
      "(0.0, 0.457518070936203)\n",
      "(0.0, 54.643035888671875)\n"
     ]
    },
    {
     "data": {
      "image/png": "[encoded data removed]",
      "text/plain": [
       "<matplotlib.figure.Figure at 0x7fb16dc4bc10>"
      ]
     },
     "metadata": {},
     "output_type": "display_data"
    },
    {
     "name": "stdout",
     "output_type": "stream",
     "text": [
      "(0.0, 54.64487838745117)\n",
      "(0.0, 0.45554542541503906)\n",
      "(0.0, 54.687286376953125)\n",
      "(0.0, 54.686988830566406)\n",
      "(0.0, 0.48769134283065796)\n"
     ]
    },
    {
     "data": {
      "image/png": "[encoded data removed]",
      "text/plain": [
       "<matplotlib.figure.Figure at 0x7fb18015bbd0>"
      ]
     },
     "metadata": {},
     "output_type": "display_data"
    },
    {
     "name": "stdout",
     "output_type": "stream",
     "text": [
      "(0.0, 54.723663330078125)\n",
      "(0.0, 54.72895050048828)\n",
      "(0.0, 0.445569783449173)\n",
      "(0.0, 54.75897216796875)\n",
      "(0.0, 54.76240539550781)\n"
     ]
    },
    {
     "data": {
      "image/png": "[encoded data removed]",
      "text/plain": [
       "<matplotlib.figure.Figure at 0x7fb198c1bc50>"
      ]
     },
     "metadata": {},
     "output_type": "display_data"
    },
    {
     "name": "stdout",
     "output_type": "stream",
     "text": [
      "(0.0, 0.45293956995010376)\n",
      "(0.0, 54.805938720703125)\n",
      "(0.0, 54.80426788330078)\n",
      "(0.0, 0.4966721832752228)\n",
      "(0.0, 54.83253479003906)\n"
     ]
    },
    {
     "data": {
      "image/png": "[encoded data removed]",
      "text/plain": [
       "<matplotlib.figure.Figure at 0x7fb1801c5050>"
      ]
     },
     "metadata": {},
     "output_type": "display_data"
    },
    {
     "name": "stdout",
     "output_type": "stream",
     "text": [
      "(0.0, 54.82714080810547)\n",
      "(0.0, 0.4637567400932312)\n",
      "(0.0, 54.851253509521484)\n",
      "(0.0, 54.86278533935547)\n",
      "(0.0, 0.47479501366615295)\n"
     ]
    },
    {
     "data": {
      "image/png": "[encoded data removed]",
      "text/plain": [
       "<matplotlib.figure.Figure at 0x7fb19b2617d0>"
      ]
     },
     "metadata": {},
     "output_type": "display_data"
    },
    {
     "name": "stdout",
     "output_type": "stream",
     "text": [
      "(0.0, 54.8783073425293)\n",
      "(0.0, 54.87937927246094)\n",
      "(0.0, 0.4730892479419708)\n",
      "(0.0, 54.91091537475586)\n",
      "(0.0, 54.90644073486328)\n"
     ]
    },
    {
     "data": {
      "image/png": "[encoded data removed]",
      "text/plain": [
       "<matplotlib.figure.Figure at 0x7fb15c02ff90>"
      ]
     },
     "metadata": {},
     "output_type": "display_data"
    },
    {
     "name": "stdout",
     "output_type": "stream",
     "text": [
      "(0.0, 0.47079887986183167)\n",
      "(0.0, 54.92936706542969)\n",
      "(0.0, 54.92369842529297)\n",
      "(0.0, 0.4540972113609314)\n"
     ]
    }
   ],
   "source": [
    "epochs = 100\n",
    "for ep in range(epochs):\n",
    "    for i,(x,label) in enumerate(train_loader):\n",
    "        \n",
    "        x = Variable(x.cuda())\n",
    "        x = x.view(batch_size,28*28)\n",
    "    \n",
    "        zhat = E(x)\n",
    "        z = Variable(torch.randn(zhat.size())).cuda()\n",
    "        \n",
    "        xhat = G(z)\n",
    "        v1 = torch.cat([x,zhat],1)\n",
    "        v2 = torch.cat([xhat,z],1)\n",
    "        add_tiny = 1e-10        \n",
    "        d_false = D(v2)\n",
    "        d_true = D(v1)\n",
    "        \n",
    "        t_label = Variable(torch.ones(d_true.size()).cuda())\n",
    "        f_label = Variable(torch.zeros(d_true.size()).cuda())\n",
    "        \n",
    "        gen_loss = nn.BCELoss()(d_true,f_label) + nn.BCELoss()(d_false,t_label)\n",
    "        gen_loss.backward(retain_graph = True)\n",
    "        G_solver.step()\n",
    "        E_solver.step()\n",
    "        \n",
    "        clear_grad()\n",
    "        \n",
    "        if(ep%3==0):\n",
    "            d_loss = 0.5*nn.BCELoss()(d_true,t_label) + 0.5*nn.BCELoss()(d_false,f_label)\n",
    "            d_loss.backward(retain_graph = True)\n",
    "            D_solver.step()\n",
    "            clear_grad()\n",
    "       \n",
    "            gen_loss = nn.MSELoss()(xhat,x)\n",
    "            gen_loss.backward()\n",
    "            G_solver.step()\n",
    "            clear_grad()\n",
    "        \n",
    "   \n",
    "        ### Updating the generator and the encoder ###\n",
    "        \n",
    "       \n",
    "        \n",
    "       \n",
    "        \n",
    "    \n",
    "    if(ep%1==0):\n",
    "        print(d_loss.data[0],gen_loss.data[0])\n",
    "        \n",
    "    if(ep%5==0):\n",
    "        z_check = Variable(torch.randn(1,z_dim)).cuda()\n",
    "        op = G(z_check).resize(28,28)\n",
    "        op = op.data.cpu().numpy()\n",
    "        plt.imshow(op)\n",
    "        plt.show()\n",
    "        \n",
    "            \n",
    "        \n",
    "        \n",
    "        \n",
    "        "
   ]
  },
  {
   "cell_type": "markdown",
   "metadata": {},
   "source": [
    "###  Check"
   ]
  },
  {
   "cell_type": "code",
   "execution_count": null,
   "metadata": {
    "collapsed": true
   },
   "outputs": [],
   "source": [
    "z_check = Variable(torch.randn(1,z_dim)).cuda()\n",
    "op = G(z_check)\n",
    "op = op.resize(28,28)\n",
    "op = op.data.cpu().numpy()\n",
    "plt.imshow(op)\n",
    "plt.show()"
   ]
  },
  {
   "cell_type": "code",
   "execution_count": null,
   "metadata": {
    "collapsed": true
   },
   "outputs": [],
   "source": [
    "print torch.min(x),torch.max(x)"
   ]
  },
  {
   "cell_type": "code",
   "execution_count": null,
   "metadata": {
    "collapsed": true
   },
   "outputs": [],
   "source": []
  }
 ],
 "metadata": {
  "kernelspec": {
   "display_name": "Python 2",
   "language": "python",
   "name": "python2"
  },
  "language_info": {
   "codemirror_mode": {
    "name": "ipython",
    "version": 2
   },
   "file_extension": ".py",
   "mimetype": "text/x-python",
   "name": "python",
   "nbconvert_exporter": "python",
   "pygments_lexer": "ipython2",
   "version": "2.7.6"
  }
 },
 "nbformat": 4,
 "nbformat_minor": 2
}
