{
 "cells": [
  {
   "cell_type": "code",
   "execution_count": 1,
   "metadata": {
    "collapsed": true
   },
   "outputs": [],
   "source": [
    "import numpy as np\n",
    "import csv\n",
    "import os\n",
    "import torch\n",
    "import torch.nn as nn\n",
    "import torch.nn.functional as F\n",
    "import torch.optim as optim\n",
    "from matplotlib import pyplot as plt\n",
    "from torch.autograd import Variable\n",
    "from mpl_toolkits.mplot3d import Axes3D\n",
    "%matplotlib notebook\n",
    "import pickle\n",
    "from utils import *"
   ]
  },
  {
   "cell_type": "code",
   "execution_count": 2,
   "metadata": {
    "collapsed": true
   },
   "outputs": [],
   "source": [
    "findex = 2\n",
    "x,y = get_features(findex,cleaned=True)\n",
    "no_ex = x.shape[0]"
   ]
  },
  {
   "cell_type": "code",
   "execution_count": 3,
   "metadata": {
    "collapsed": true
   },
   "outputs": [],
   "source": [
    "from sklearn import svm\n",
    "from sklearn import metrics"
   ]
  },
  {
   "cell_type": "code",
   "execution_count": 4,
   "metadata": {
    "collapsed": true
   },
   "outputs": [],
   "source": [
    "gama = [0.001,0.002,0.003,0.004,0.005,0.006]\n",
    "weight = [85,90,100,110,120]"
   ]
  },
  {
   "cell_type": "code",
   "execution_count": 5,
   "metadata": {},
   "outputs": [
    {
     "name": "stdout",
     "output_type": "stream",
     "text": [
      "0.001 85\n",
      "('tn, fp, fn, tp', array([5246, 2506,    6,  123]))\n",
      "no use\n",
      "0.001 90\n",
      "('tn, fp, fn, tp', array([5168, 2584,    5,  124]))\n",
      "no use\n",
      "0.001 100\n",
      "('tn, fp, fn, tp', array([5009, 2743,    1,  128]))\n",
      "no use\n",
      "0.001 110\n",
      "('tn, fp, fn, tp', array([4823, 2929,    1,  128]))\n",
      "no use\n",
      "0.001 120\n",
      "('tn, fp, fn, tp', array([4732, 3020,    1,  128]))\n",
      "no use\n",
      "0.002 85\n",
      "('tn, fp, fn, tp', array([5756, 1996,    2,  127]))\n",
      "no use\n",
      "0.002 90\n",
      "('tn, fp, fn, tp', array([5694, 2058,    1,  128]))\n",
      "no use\n",
      "0.002 100\n",
      "('tn, fp, fn, tp', array([5599, 2153,    1,  128]))\n",
      "no use\n",
      "0.002 110\n",
      "('tn, fp, fn, tp', array([5543, 2209,    1,  128]))\n",
      "no use\n",
      "0.002 120\n",
      "('tn, fp, fn, tp', array([5428, 2324,    0,  129]))\n",
      "no use\n",
      "0.003 85\n",
      "('tn, fp, fn, tp', array([6201, 1551,    0,  129]))\n",
      "no use\n",
      "0.003 90\n",
      "('tn, fp, fn, tp', array([6163, 1589,    0,  129]))\n",
      "no use\n",
      "0.003 100\n",
      "('tn, fp, fn, tp', array([6070, 1682,    0,  129]))\n",
      "no use\n",
      "0.003 110\n",
      "('tn, fp, fn, tp', array([6007, 1745,    0,  129]))\n",
      "no use\n",
      "0.003 120\n",
      "('tn, fp, fn, tp', array([5960, 1792,    0,  129]))\n",
      "no use\n",
      "0.004 85\n",
      "('tn, fp, fn, tp', array([6474, 1278,    0,  129]))\n",
      "('tn, fp, fn, tp', array([1615,  376,    2,    3]))\n",
      "0.004 90\n",
      "('tn, fp, fn, tp', array([6451, 1301,    0,  129]))\n",
      "('tn, fp, fn, tp', array([1606,  385,    2,    3]))\n",
      "0.004 100\n",
      "('tn, fp, fn, tp', array([6426, 1326,    0,  129]))\n",
      "('tn, fp, fn, tp', array([1597,  394,    2,    3]))\n",
      "0.004 110\n",
      "('tn, fp, fn, tp', array([6409, 1343,    0,  129]))\n",
      "('tn, fp, fn, tp', array([1592,  399,    2,    3]))\n",
      "0.004 120\n",
      "('tn, fp, fn, tp', array([6380, 1372,    0,  129]))\n",
      "('tn, fp, fn, tp', array([1589,  402,    2,    3]))\n",
      "0.005 85\n",
      "('tn, fp, fn, tp', array([6730, 1022,    0,  129]))\n",
      "('tn, fp, fn, tp', array([1682,  309,    3,    2]))\n",
      "0.005 90\n",
      "('tn, fp, fn, tp', array([6725, 1027,    0,  129]))\n",
      "('tn, fp, fn, tp', array([1678,  313,    3,    2]))\n",
      "0.005 100\n",
      "('tn, fp, fn, tp', array([6708, 1044,    0,  129]))\n",
      "('tn, fp, fn, tp', array([1678,  313,    3,    2]))\n",
      "0.005 110\n",
      "('tn, fp, fn, tp', array([6691, 1061,    0,  129]))\n",
      "('tn, fp, fn, tp', array([1678,  313,    2,    3]))\n",
      "0.005 120\n",
      "('tn, fp, fn, tp', array([6682, 1070,    0,  129]))\n",
      "('tn, fp, fn, tp', array([1677,  314,    2,    3]))\n",
      "0.006 85\n",
      "('tn, fp, fn, tp', array([6941,  811,    0,  129]))\n",
      "('tn, fp, fn, tp', array([1729,  262,    3,    2]))\n",
      "0.006 90\n",
      "('tn, fp, fn, tp', array([6943,  809,    0,  129]))\n",
      "('tn, fp, fn, tp', array([1726,  265,    3,    2]))\n",
      "0.006 100\n",
      "('tn, fp, fn, tp', array([6926,  826,    0,  129]))\n",
      "('tn, fp, fn, tp', array([1722,  269,    3,    2]))\n",
      "0.006 110\n",
      "('tn, fp, fn, tp', array([6926,  826,    0,  129]))\n",
      "('tn, fp, fn, tp', array([1722,  269,    3,    2]))\n",
      "0.006 120\n",
      "('tn, fp, fn, tp', array([6919,  833,    0,  129]))\n",
      "('tn, fp, fn, tp', array([1722,  269,    3,    2]))\n"
     ]
    }
   ],
   "source": [
    "for g in gama:\n",
    "    for w in weight:\n",
    "        print g,w\n",
    "        clf1 = svm.SVC(kernel = 'rbf',gamma=g,class_weight={1:w})\n",
    "        clf1.fit(x,y)\n",
    "        op1 = clf1.predict(x)\n",
    "        cm1 = metrics.confusion_matrix(y,op1)\n",
    "        print('tn, fp, fn, tp',cm1.ravel())\n",
    "        [tn,fp,fn,tp] = cm1.ravel()\n",
    "        if(fp<0.2*float(tn+fp)):\n",
    "            xtest,ytest = get_features(findex,train=False)\n",
    "            optest = clf1.predict(xtest)\n",
    "            cmtest = metrics.confusion_matrix(ytest,optest)\n",
    "            print('tn, fp, fn, tp',cmtest.ravel())\n",
    "        else:\n",
    "            print(\"no use\")"
   ]
  },
  {
   "cell_type": "code",
   "execution_count": null,
   "metadata": {
    "collapsed": true
   },
   "outputs": [],
   "source": []
  },
  {
   "cell_type": "code",
   "execution_count": null,
   "metadata": {
    "collapsed": true
   },
   "outputs": [],
   "source": []
  }
 ],
 "metadata": {
  "kernelspec": {
   "display_name": "Python 2",
   "language": "python",
   "name": "python2"
  },
  "language_info": {
   "codemirror_mode": {
    "name": "ipython",
    "version": 2
   },
   "file_extension": ".py",
   "mimetype": "text/x-python",
   "name": "python",
   "nbconvert_exporter": "python",
   "pygments_lexer": "ipython2",
   "version": "2.7.6"
  }
 },
 "nbformat": 4,
 "nbformat_minor": 2
}
