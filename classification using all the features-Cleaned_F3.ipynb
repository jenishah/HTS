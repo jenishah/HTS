{
 "cells": [
  {
   "cell_type": "code",
   "execution_count": 1,
   "metadata": {
    "collapsed": true
   },
   "outputs": [],
   "source": [
    "import numpy as np\n",
    "import csv\n",
    "import os\n",
    "import torch\n",
    "import torch.nn as nn\n",
    "import torch.nn.functional as F\n",
    "#from tensorflow.examples.tutorials.mnist import input_data\n",
    "from torch.autograd import Variable\n",
    "import sklearn.metrics as metrics\n",
    "import pickle\n",
    "import os\n",
    "import numpy.linalg as la\n",
    "import random\n",
    "import torch.nn.parallel\n",
    "import torch.backends.cudnn as cudnn\n",
    "import torch.optim as optim\n",
    "import torch.utils.data\n",
    "import torchvision.datasets as dset\n",
    "import torchvision.transforms as transforms\n",
    "import torchvision.utils as vutils\n",
    "from torch.autograd import Variable\n",
    "import sys\n",
    "import pandas as pd\n",
    "#sys.path.append(\"/home/CVShare/Jeni/hts/machine_learning/sampling_with_data_cleaning\")\n",
    "import sampling_with_data_cleaning as sdc\n",
    "from utils import *"
   ]
  },
  {
   "cell_type": "markdown",
   "metadata": {},
   "source": [
    "### FNN on cleaned features"
   ]
  },
  {
   "cell_type": "code",
   "execution_count": 2,
   "metadata": {},
   "outputs": [
    {
     "name": "stdout",
     "output_type": "stream",
     "text": [
      "(21150,)\n",
      "1164.0\n",
      "1164\n"
     ]
    }
   ],
   "source": [
    "findex = 3\n",
    "x,y = get_features(findex,train=True,cleaned=True)\n",
    "print y.shape\n",
    "print sum(y)\n",
    "y = y.astype(int)\n",
    "print sum(y)\n",
    "x,y = shuffle(x,y)"
   ]
  },
  {
   "cell_type": "code",
   "execution_count": 3,
   "metadata": {},
   "outputs": [
    {
     "name": "stdout",
     "output_type": "stream",
     "text": [
      "21150 153\n"
     ]
    }
   ],
   "source": [
    "no_ex,ip_dim = x.shape\n",
    "print no_ex,ip_dim"
   ]
  },
  {
   "cell_type": "code",
   "execution_count": 4,
   "metadata": {
    "collapsed": true
   },
   "outputs": [],
   "source": [
    "class c_mlp(nn.Module):\n",
    "    def __init__(self):\n",
    "        super(c_mlp,self).__init__()\n",
    "        self.l1 = nn.Linear(ip_dim,500)\n",
    "        self.l2 = nn.Linear(500,500)\n",
    "        self.l3 = nn.Linear(500,250)\n",
    "        self.l4 = nn.Linear(250,50)\n",
    "        self.l5 = nn.Linear(50,2)\n",
    "        \n",
    "    def forward(self,x):\n",
    "        x = F.leaky_relu(self.l1(x))\n",
    "        x = F.leaky_relu(self.l2(x))\n",
    "        x = F.leaky_relu(self.l3(x))\n",
    "        x = F.leaky_relu(self.l4(x))\n",
    "        x = (self.l5(x))\n",
    "        \n",
    "        return x"
   ]
  },
  {
   "cell_type": "code",
   "execution_count": 5,
   "metadata": {},
   "outputs": [
    {
     "name": "stdout",
     "output_type": "stream",
     "text": [
      "('val iter: ', 1)\n",
      "('tn, fp, fn, tp: ', array([2685, 1308,   70,  167]))\n",
      "('min fp, max_percent', 1308, 0.7046413502109705)\n",
      "('saving model on val: ', 1, ' and weight: ', 20.0)\n",
      "('tn, fp, fn, tp: ', array([2380, 1613,   47,  190]))\n",
      "('tn, fp, fn, tp: ', array([2151, 1842,   45,  192]))\n",
      "('tn, fp, fn, tp: ', array([2286, 1707,   53,  184]))\n",
      "('tn, fp, fn, tp: ', array([2221, 1772,   42,  195]))\n",
      "('tn, fp, fn, tp: ', array([1972, 2021,   38,  199]))\n",
      "('tn, fp, fn, tp: ', array([2017, 1976,   37,  200]))\n",
      "('tn, fp, fn, tp: ', array([1825, 2168,   30,  207]))\n",
      "('tn, fp, fn, tp: ', array([1547, 2446,   29,  208]))\n",
      "('tn, fp, fn, tp: ', array([1157, 2836,   24,  213]))\n",
      "('val iter: ', 2)\n",
      "('tn, fp, fn, tp: ', array([3326,  681,  112,  111]))\n",
      "('tn, fp, fn, tp: ', array([2174, 1833,   40,  183]))\n",
      "('tn, fp, fn, tp: ', array([2863, 1144,   86,  137]))\n",
      "('tn, fp, fn, tp: ', array([2169, 1838,   31,  192]))\n",
      "('tn, fp, fn, tp: ', array([1913, 2094,   29,  194]))\n",
      "('tn, fp, fn, tp: ', array([1739, 2268,   24,  199]))\n",
      "('tn, fp, fn, tp: ', array([1761, 2246,   21,  202]))\n",
      "('tn, fp, fn, tp: ', array([1307, 2700,   16,  207]))\n",
      "('tn, fp, fn, tp: ', array([1321, 2686,   13,  210]))\n",
      "('tn, fp, fn, tp: ', array([1421, 2586,   16,  207]))\n",
      "('val iter: ', 3)\n",
      "('tn, fp, fn, tp: ', array([2777, 1220,   85,  148]))\n",
      "('tn, fp, fn, tp: ', array([2554, 1443,   62,  171]))\n",
      "('tn, fp, fn, tp: ', array([3104,  893,  101,  132]))\n",
      "('tn, fp, fn, tp: ', array([2158, 1839,   41,  192]))\n",
      "('tn, fp, fn, tp: ', array([1956, 2041,   36,  197]))\n",
      "('tn, fp, fn, tp: ', array([2059, 1938,   33,  200]))\n",
      "('tn, fp, fn, tp: ', array([1701, 2296,   26,  207]))\n",
      "('tn, fp, fn, tp: ', array([1858, 2139,   23,  210]))\n",
      "('tn, fp, fn, tp: ', array([1425, 2572,   17,  216]))\n",
      "('tn, fp, fn, tp: ', array([1407, 2590,   16,  217]))\n",
      "('val iter: ', 4)\n",
      "('tn, fp, fn, tp: ', array([2537, 1453,   47,  193]))\n",
      "('tn, fp, fn, tp: ', array([2679, 1311,   67,  173]))\n",
      "('tn, fp, fn, tp: ', array([2286, 1704,   42,  198]))\n",
      "('tn, fp, fn, tp: ', array([2439, 1551,   61,  179]))\n",
      "('tn, fp, fn, tp: ', array([2133, 1857,   38,  202]))\n",
      "('tn, fp, fn, tp: ', array([2424, 1566,   54,  186]))\n",
      "('tn, fp, fn, tp: ', array([1620, 2370,   23,  217]))\n",
      "('tn, fp, fn, tp: ', array([1449, 2541,   13,  227]))\n",
      "('tn, fp, fn, tp: ', array([1655, 2335,   25,  215]))\n",
      "('tn, fp, fn, tp: ', array([1374, 2616,   16,  224]))\n",
      "('val iter: ', 5)\n",
      "('tn, fp, fn, tp: ', array([2790, 1209,  102,  129]))\n",
      "('tn, fp, fn, tp: ', array([2632, 1367,   69,  162]))\n",
      "('tn, fp, fn, tp: ', array([2817, 1182,   91,  140]))\n",
      "('tn, fp, fn, tp: ', array([2447, 1552,   70,  161]))\n",
      "('tn, fp, fn, tp: ', array([1328, 2671,   13,  218]))\n",
      "('tn, fp, fn, tp: ', array([1648, 2351,   29,  202]))\n",
      "('tn, fp, fn, tp: ', array([1830, 2169,   23,  208]))\n",
      "('tn, fp, fn, tp: ', array([1469, 2530,   20,  211]))\n",
      "('tn, fp, fn, tp: ', array([1418, 2581,   12,  219]))\n",
      "('tn, fp, fn, tp: ', array([2321, 1678,   59,  172]))\n"
     ]
    }
   ],
   "source": [
    "max_percent = 0.5\n",
    "min_fp = no_ex*0.2\n",
    "for i in range(1,6):\n",
    "    val_iter = i\n",
    "    print(\"val iter: \",val_iter)\n",
    "    \n",
    "   \n",
    "    #weights_array = [7]\n",
    "    weights_array = np.linspace(20,50,10)\n",
    "    for i,w in enumerate(weights_array): \n",
    "        mymlp = c_mlp().cuda()\n",
    "        optimizer = torch.optim.Adagrad(mymlp.parameters(),lr=1e-3)\n",
    "        criterion = nn.CrossEntropyLoss(weight=torch.cuda.FloatTensor([1,w]))\n",
    "\n",
    "        for ep in range(1000):\n",
    "            \n",
    "            ind = get_train_ind(val_iter=val_iter,no_examples=no_ex)\n",
    "            xtrain,ytrain = get_train_batch(x,y,batch_size=50,indices=ind)\n",
    "            \n",
    "            model_op = mymlp(xtrain)\n",
    "           \n",
    "            loss = criterion(model_op,ytrain)\n",
    "            loss.backward()\n",
    "            optimizer.step()\n",
    "            optimizer.zero_grad()\n",
    "\n",
    "    #     if(ep%30==29):\n",
    "    #         print(loss.data[0])\n",
    "\n",
    "        ## After training check on cross validation data\n",
    "        xval,yval = get_val_data(x,y,no_examples=no_ex,val_iter=val_iter)\n",
    "        yval = yval.reshape(yval.shape[0],)\n",
    "        train_op = mymlp(xval)\n",
    "        train_op = train_op.cpu().data.numpy()\n",
    "        pred_labels = np.argmax(train_op,axis=1)\n",
    "      \n",
    "        cf = metrics.confusion_matrix(yval,pred_labels).ravel()\n",
    "        [tn,fp,fn,tp] = cf\n",
    "        print('tn, fp, fn, tp: ',cf)\n",
    "        percent = float(float(tp)/float(tp+fn))\n",
    "        if(percent>max_percent):\n",
    "            if(1==1):\n",
    "                if(fp < min_fp):\n",
    "                    min_fp = fp\n",
    "                    max_percent = percent\n",
    "                    print(\"min fp, max_percent\",fp,percent)\n",
    "                    model_path = os.getcwd() + '/fnn_clean' + str(findex)\n",
    "                    torch.save(mymlp.state_dict(),model_path)\n",
    "                    print(\"saving model on val: \",val_iter,\" and weight: \",w)\n",
    "\n",
    "        \n"
   ]
  },
  {
   "cell_type": "code",
   "execution_count": 6,
   "metadata": {},
   "outputs": [
    {
     "name": "stdout",
     "output_type": "stream",
     "text": [
      "<class 'torch.autograd.variable.Variable'>\n"
     ]
    }
   ],
   "source": [
    "xtest,ytest = get_features(findex,train=False)\n",
    "xtest = Variable(torch.cuda.FloatTensor(xtest).cuda())\n",
    "test_model = c_mlp().cuda()\n",
    "test_model.load_state_dict(torch.load(model_path))\n",
    "test_op = test_model(xtest)\n",
    "print type(test_op)"
   ]
  },
  {
   "cell_type": "code",
   "execution_count": 7,
   "metadata": {},
   "outputs": [
    {
     "name": "stdout",
     "output_type": "stream",
     "text": [
      "('tn, fp, fn, tp: ', array([3482, 1906,   27,   23]))\n"
     ]
    }
   ],
   "source": [
    "test_op = test_op.cpu().data.numpy()\n",
    "pred_labels = np.argmax(test_op,axis=1)\n",
    "cf = metrics.confusion_matrix(ytest,pred_labels).ravel()\n",
    "print('tn, fp, fn, tp: ',cf)"
   ]
  },
  {
   "cell_type": "code",
   "execution_count": null,
   "metadata": {
    "collapsed": true
   },
   "outputs": [],
   "source": []
  }
 ],
 "metadata": {
  "kernelspec": {
   "display_name": "Python 2",
   "language": "python",
   "name": "python2"
  },
  "language_info": {
   "codemirror_mode": {
    "name": "ipython",
    "version": 2
   },
   "file_extension": ".py",
   "mimetype": "text/x-python",
   "name": "python",
   "nbconvert_exporter": "python",
   "pygments_lexer": "ipython2",
   "version": "2.7.6"
  }
 },
 "nbformat": 4,
 "nbformat_minor": 2
}
