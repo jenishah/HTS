{
 "cells": [
  {
   "cell_type": "code",
   "execution_count": 1,
   "metadata": {
    "collapsed": true
   },
   "outputs": [],
   "source": [
    "import numpy as np\n",
    "import csv\n",
    "import os\n",
    "import torch\n",
    "import torch.nn as nn\n",
    "import torch.nn.functional as F\n",
    "#from tensorflow.examples.tutorials.mnist import input_data\n",
    "from torch.autograd import Variable\n",
    "import sklearn.metrics as metrics\n",
    "import pickle\n",
    "import os\n",
    "import numpy.linalg as la\n",
    "import random\n",
    "import torch.nn.parallel\n",
    "import torch.backends.cudnn as cudnn\n",
    "import torch.optim as optim\n",
    "import torch.utils.data\n",
    "import torchvision.datasets as dset\n",
    "import torchvision.transforms as transforms\n",
    "import torchvision.utils as vutils\n",
    "from torch.autograd import Variable\n",
    "from matplotlib import pyplot as plt"
   ]
  },
  {
   "cell_type": "code",
   "execution_count": 2,
   "metadata": {
    "collapsed": true
   },
   "outputs": [],
   "source": [
    "transform = transforms.Compose(\n",
    "    [transforms.ToTensor(),transforms.Normalize((0.5,0.5,0.5),(0.5,0.5,0.5))])\n",
    "train_set = dset.MNIST('/home/daiict/Desktop/udit/C-GAN./data' ,train=True, download= True,\n",
    "                       transform = transform)\n",
    "test_set = dset.MNIST('/home/daiict/Desktop/udit/C-GAN./data' ,train=False, download=True,\n",
    "                       transform = transform)"
   ]
  },
  {
   "cell_type": "code",
   "execution_count": 3,
   "metadata": {
    "collapsed": true
   },
   "outputs": [],
   "source": [
    "batch_size = 96"
   ]
  },
  {
   "cell_type": "code",
   "execution_count": 4,
   "metadata": {},
   "outputs": [
    {
     "name": "stdout",
     "output_type": "stream",
     "text": [
      "625 105\n"
     ]
    }
   ],
   "source": [
    "train_loader = torch.utils.data.DataLoader(train_set, batch_size=batch_size,shuffle=True)\n",
    "test_loader = torch.utils.data.DataLoader(test_set, batch_size=batch_size,shuffle=True)\n",
    "print len(train_loader), len(test_loader)"
   ]
  },
  {
   "cell_type": "code",
   "execution_count": 5,
   "metadata": {
    "collapsed": true
   },
   "outputs": [],
   "source": [
    "ip_dim = 28*28\n",
    "z_dim = 2\n",
    "comb_dim = ip_dim + z_dim"
   ]
  },
  {
   "cell_type": "markdown",
   "metadata": {},
   "source": [
    "#### Implementing BIGan"
   ]
  },
  {
   "cell_type": "markdown",
   "metadata": {},
   "source": [
    "#### Encoder"
   ]
  },
  {
   "cell_type": "code",
   "execution_count": 6,
   "metadata": {
    "collapsed": true
   },
   "outputs": [],
   "source": [
    "class encoder(nn.Module):\n",
    "    def __init__(self):\n",
    "        super(encoder,self).__init__()\n",
    "        self.l1 = nn.Linear(ip_dim,500)\n",
    "        self.l2 = nn.Linear(500,500)\n",
    "        self.l3 = nn.Linear(500,500)\n",
    "        self.l4 = nn.Linear(500,z_dim)\n",
    "        \n",
    "    def forward(self,x):\n",
    "        x = F.leaky_relu(self.l1(x))\n",
    "        x = F.leaky_relu(self.l2(x))\n",
    "        x = F.leaky_relu(self.l3(x))\n",
    "        x = (self.l4(x))\n",
    "        \n",
    "        return x"
   ]
  },
  {
   "cell_type": "markdown",
   "metadata": {
    "collapsed": true
   },
   "source": [
    "### Decoder"
   ]
  },
  {
   "cell_type": "code",
   "execution_count": 7,
   "metadata": {
    "collapsed": true
   },
   "outputs": [],
   "source": [
    "class decoder(nn.Module):\n",
    "    def __init__(self):\n",
    "        super(decoder,self).__init__()\n",
    "        self.l1 = nn.Linear(z_dim,500)\n",
    "        self.l2 = nn.Linear(500,500)\n",
    "        self.l3 = nn.Linear(500,500)\n",
    "        self.l4 = nn.Linear(500,ip_dim)\n",
    "        \n",
    "    def forward(self,x):\n",
    "        x = F.leaky_relu(self.l1(x))\n",
    "        x = F.leaky_relu(self.l2(x))\n",
    "        x = F.leaky_relu(self.l3(x))\n",
    "        x = F.tanh(self.l4(x))\n",
    "        \n",
    "        return x"
   ]
  },
  {
   "cell_type": "markdown",
   "metadata": {},
   "source": [
    "###  Discriminator"
   ]
  },
  {
   "cell_type": "code",
   "execution_count": 8,
   "metadata": {
    "collapsed": true
   },
   "outputs": [],
   "source": [
    "class disc(nn.Module):\n",
    "    def __init__(self):\n",
    "        super(disc,self).__init__()\n",
    "        self.l1 = nn.Linear(comb_dim,100)\n",
    "        #self.l2 = nn.Linear(100,100)\n",
    "        self.l3 = nn.Linear(100,100)\n",
    "        self.l4 = nn.Linear(50,1)\n",
    "        \n",
    "    def forward(self,x):\n",
    "        x = F.leaky_relu(self.l1(x))\n",
    "        #x = F.leaky_relu(self.l2(x))\n",
    "        x = F.sigmoid(self.l3(x))\n",
    "        \n",
    "        return x"
   ]
  },
  {
   "cell_type": "code",
   "execution_count": 9,
   "metadata": {
    "collapsed": true
   },
   "outputs": [],
   "source": [
    "G = decoder().cuda()\n",
    "E = encoder().cuda()\n",
    "D = disc().cuda()"
   ]
  },
  {
   "cell_type": "code",
   "execution_count": 10,
   "metadata": {
    "collapsed": true
   },
   "outputs": [],
   "source": [
    "def clear_grad():\n",
    "    G.zero_grad()\n",
    "    E.zero_grad()\n",
    "    D.zero_grad()"
   ]
  },
  {
   "cell_type": "code",
   "execution_count": 11,
   "metadata": {
    "collapsed": true
   },
   "outputs": [],
   "source": [
    "E_solver = optim.Adam(E.parameters(),lr = 1e-3)\n",
    "G_solver = optim.Adam(G.parameters(),lr = 1e-3)\n",
    "D_solver = optim.Adam(D.parameters(),lr = 1e-3)"
   ]
  },
  {
   "cell_type": "code",
   "execution_count": 12,
   "metadata": {
    "collapsed": true
   },
   "outputs": [],
   "source": [
    "CUDA_LAUNCH_BLOCKING=1"
   ]
  },
  {
   "cell_type": "markdown",
   "metadata": {},
   "source": [
    "### Start with trained encoder and decoder"
   ]
  },
  {
   "cell_type": "code",
   "execution_count": null,
   "metadata": {},
   "outputs": [
    {
     "name": "stdout",
     "output_type": "stream",
     "text": [
      "0.264190167189\n",
      "0.273378163576\n",
      "0.268315166235\n",
      "0.269947379827\n",
      "0.26337826252\n",
      "0.279199659824\n",
      "0.279881894588\n",
      "0.270196706057\n",
      "0.256794691086\n",
      "0.267131507397\n",
      "0.270385086536\n",
      "0.262193977833\n",
      "0.267604082823\n",
      "0.276733875275\n",
      "0.264953523874\n",
      "0.27368414402\n",
      "0.277469605207\n",
      "0.263889610767\n",
      "0.28226056695\n",
      "0.27723684907\n"
     ]
    }
   ],
   "source": [
    "epochs = 20\n",
    "for ep in range(epochs):\n",
    "    for idx,(x,label) in enumerate(train_loader):\n",
    "        \n",
    "        x = Variable(x.cuda())\n",
    "        x = x.view(batch_size,28*28)\n",
    "        z = Variable(torch.randn(batch_size,z_dim)).cuda()\n",
    "        \n",
    "        xhat = G(z)\n",
    "        g_loss = nn.MSELoss()(xhat,x)\n",
    "        g_loss.backward()\n",
    "        \n",
    "        G_solver.step()\n",
    "        clear_grad()\n",
    "        \n",
    "    print g_loss.data[0]"
   ]
  },
  {
   "cell_type": "code",
   "execution_count": null,
   "metadata": {},
   "outputs": [
    {
     "name": "stdout",
     "output_type": "stream",
     "text": [
      "(0.11249224096536636, 0.25438830256462097, 6.0740461349487305)\n"
     ]
    },
    {
     "data": {
      "image/png": "[encoded data removed]",
      "text/plain": [
       "<matplotlib.figure.Figure at 0x7f5cb44f9390>"
      ]
     },
     "metadata": {},
     "output_type": "display_data"
    },
    {
     "name": "stdout",
     "output_type": "stream",
     "text": [
      "(0.11249224096536636, 0.2295258641242981, 5.653641700744629)\n",
      "(0.06646154075860977, 0.2570957541465759, 8.00648021697998)\n",
      "(0.06646154075860977, 0.25103798508644104, 8.833061218261719)\n",
      "(0.009607282467186451, 0.25920313596725464, 10.02531909942627)\n",
      "(0.009607282467186451, 0.26924237608909607, 9.609006881713867)\n"
     ]
    },
    {
     "data": {
      "image/png": "[encoded data removed]",
      "text/plain": [
       "<matplotlib.figure.Figure at 0x7f5c440a1390>"
      ]
     },
     "metadata": {},
     "output_type": "display_data"
    },
    {
     "name": "stdout",
     "output_type": "stream",
     "text": [
      "(0.005327985621988773, 0.2594834268093109, 11.264296531677246)\n",
      "(0.005327985621988773, 0.2556270658969879, 11.542417526245117)\n",
      "(0.001022393349558115, 0.2589585781097412, 12.625635147094727)\n",
      "(0.001022393349558115, 0.2511189877986908, 12.282560348510742)\n",
      "(0.0007320140721276402, 0.2561056911945343, 12.3269681930542)\n"
     ]
    },
    {
     "data": {
      "image/png": "[encoded data removed]",
      "text/plain": [
       "<matplotlib.figure.Figure at 0x7f5c4405fad0>"
      ]
     },
     "metadata": {},
     "output_type": "display_data"
    },
    {
     "name": "stdout",
     "output_type": "stream",
     "text": [
      "(0.0007320140721276402, 0.25083160400390625, 12.635171890258789)\n",
      "(0.00019396409334149212, 0.2510967552661896, 14.161690711975098)\n",
      "(0.00019396409334149212, 0.25590386986732483, 13.598453521728516)\n",
      "(0.001679512090049684, 0.2601169943809509, 13.922867774963379)\n",
      "(0.001679512090049684, 0.27242836356163025, 14.196399688720703)\n"
     ]
    },
    {
     "data": {
      "image/png": "[encoded data removed]",
      "text/plain": [
       "<matplotlib.figure.Figure at 0x7f5c446a3950>"
      ]
     },
     "metadata": {},
     "output_type": "display_data"
    },
    {
     "name": "stdout",
     "output_type": "stream",
     "text": [
      "(0.0006256606429815292, 0.269420325756073, 15.114225387573242)\n",
      "(0.0006256606429815292, 0.24848923087120056, 13.153082847595215)\n",
      "(0.0018787030130624771, 0.24825723469257355, 12.132001876831055)\n",
      "(0.0018787030130624771, 0.251175194978714, 12.431222915649414)\n",
      "(0.00019364409672562033, 0.2755682170391083, 15.590688705444336)\n"
     ]
    },
    {
     "data": {
      "image/png": "[encoded data removed]",
      "text/plain": [
       "<matplotlib.figure.Figure at 0x7f5c3df96150>"
      ]
     },
     "metadata": {},
     "output_type": "display_data"
    },
    {
     "name": "stdout",
     "output_type": "stream",
     "text": [
      "(0.00019364409672562033, 0.256188303232193, 15.013006210327148)\n",
      "(0.0003073103434871882, 0.2626214027404785, 16.997066497802734)\n",
      "(0.0003073103434871882, 0.25190839171409607, 17.466381072998047)\n",
      "(3.787852983805351e-05, 0.2602774500846863, 18.74114227294922)\n",
      "(3.787852983805351e-05, 0.2576138377189636, 17.773395538330078)\n"
     ]
    },
    {
     "data": {
      "image/png": "[encoded data removed]",
      "text/plain": [
       "<matplotlib.figure.Figure at 0x7f5c44021fd0>"
      ]
     },
     "metadata": {},
     "output_type": "display_data"
    },
    {
     "name": "stdout",
     "output_type": "stream",
     "text": [
      "(0.0005525704473257065, 0.27837565541267395, 15.063091278076172)\n",
      "(0.0005525704473257065, 0.2724636495113373, 14.977041244506836)\n",
      "(0.003776882542297244, 0.27140092849731445, 18.40449333190918)\n",
      "(0.003776882542297244, 0.25525200366973877, 17.90961456298828)\n",
      "(0.0006079221493564546, 0.2446994185447693, 17.6215763092041)\n"
     ]
    },
    {
     "data": {
      "image/png": "[encoded data removed]",
      "text/plain": [
       "<matplotlib.figure.Figure at 0x7f5c446a3dd0>"
      ]
     },
     "metadata": {},
     "output_type": "display_data"
    },
    {
     "name": "stdout",
     "output_type": "stream",
     "text": [
      "(0.0006079221493564546, 0.2654237151145935, 17.667741775512695)\n",
      "(5.287163003231399e-05, 0.2542855441570282, 18.358327865600586)\n",
      "(5.287163003231399e-05, 0.2542916536331177, 17.99306297302246)\n",
      "(0.00010183084668824449, 0.2509602904319763, 16.469852447509766)\n",
      "(0.00010183084668824449, 0.2579752206802368, 16.480682373046875)\n"
     ]
    },
    {
     "data": {
      "image/png": "[encoded data removed]",
      "text/plain": [
       "<matplotlib.figure.Figure at 0x7f5bfcedc190>"
      ]
     },
     "metadata": {},
     "output_type": "display_data"
    },
    {
     "name": "stdout",
     "output_type": "stream",
     "text": [
      "(0.0005077955429442227, 0.2633460462093353, 21.05295181274414)\n",
      "(0.0005077955429442227, 0.2538423240184784, 21.332246780395508)\n",
      "(8.364074165001512e-05, 0.2659224569797516, 15.361452102661133)\n",
      "(8.364074165001512e-05, 0.2587413489818573, 15.865241050720215)\n",
      "(2.7949885406997055e-05, 0.25251299142837524, 19.075963973999023)\n"
     ]
    },
    {
     "data": {
      "image/png": "[encoded data removed]",
      "text/plain": [
       "<matplotlib.figure.Figure at 0x7f5c3df9f250>"
      ]
     },
     "metadata": {},
     "output_type": "display_data"
    },
    {
     "name": "stdout",
     "output_type": "stream",
     "text": [
      "(2.7949885406997055e-05, 0.24873897433280945, 18.43409538269043)\n",
      "(0.00012688073911704123, 0.24289388954639435, 17.04869270324707)\n",
      "(0.00012688073911704123, 0.2680184543132782, 17.295692443847656)\n",
      "(5.271242844173685e-05, 0.2490117847919464, 20.232757568359375)\n"
     ]
    }
   ],
   "source": [
    "epochs = 100\n",
    "for ep in range(epochs):\n",
    "    for i,(x,label) in enumerate(train_loader):\n",
    "        \n",
    "        x = Variable(x.cuda())\n",
    "        x = x.view(batch_size,28*28)\n",
    "    \n",
    "        \n",
    "        z = Variable(torch.randn(batch_size,z_dim)).cuda()\n",
    "        \n",
    "        zhat = E(x)\n",
    "        xhat = G(zhat)\n",
    "        \n",
    "        \n",
    "       \n",
    "        add_tiny = 1e-10        \n",
    "\n",
    "        \n",
    "#         t_label = Variable(torch.ones(d_true.size()).cuda())\n",
    "#         f_label = Variable(torch.zeros(d_true.size()).cuda())\n",
    "        \n",
    "        ## autoencoder loss ##\n",
    "        \n",
    "        gen_loss = nn.MSELoss()(xhat,x)\n",
    "        gen_loss.backward(retain_graph= True)\n",
    "        G_solver.step()\n",
    "        E_solver.step()\n",
    "        clear_grad()\n",
    "        \n",
    "        ## Encoder has to fool the disc ##\n",
    "        \n",
    "        zhat = E(x)\n",
    "        v1 = torch.cat([x,zhat],1)\n",
    "        d_false = D(v1)\n",
    "        enc_loss = -torch.mean(torch.log(d_false + add_tiny))\n",
    "        enc_loss.backward(retain_graph= True)\n",
    "        E_solver.step()\n",
    "        clear_grad()\n",
    "        \n",
    "        ## Discriminator loss ##\n",
    "        \n",
    "       \n",
    "        \n",
    "        if(ep%2==0):\n",
    "           \n",
    "            zhat = E(x)\n",
    "            v1 = torch.cat([x,zhat],1)\n",
    "            v2 = torch.cat([xhat,z],1)\n",
    "            \n",
    "            d_false = D(v1)\n",
    "            d_true = D(v2)            \n",
    "            \n",
    "            disc_loss = -torch.mean(torch.log(d_true + add_tiny) + torch.log((1-d_false) + add_tiny))\n",
    "            disc_loss.backward()\n",
    "            D_solver.step()\n",
    "            clear_grad()       \n",
    "   \n",
    "        ### Updating the generator and the encoder ###\n",
    "        \n",
    "       \n",
    "        \n",
    "       \n",
    "        \n",
    "    \n",
    "    if(ep%1==0):\n",
    "        print(disc_loss.data[0],gen_loss.data[0],enc_loss.data[0])\n",
    "        \n",
    "    if(ep%5==0):\n",
    "        z_check = Variable(torch.randn(1,z_dim)).cuda()\n",
    "        op = G(z_check).resize(28,28)\n",
    "        op = op.data.cpu().numpy()\n",
    "        plt.imshow(op)\n",
    "        plt.show()\n",
    "        \n",
    "            \n",
    "        \n",
    "        \n",
    "        \n",
    "        "
   ]
  },
  {
   "cell_type": "markdown",
   "metadata": {},
   "source": [
    "###  Check"
   ]
  },
  {
   "cell_type": "code",
   "execution_count": null,
   "metadata": {
    "collapsed": true
   },
   "outputs": [],
   "source": [
    "z_check = Variable(torch.randn(1,z_dim)).cuda()\n",
    "op = G(z_check)\n",
    "op = op.resize(28,28)\n",
    "op = op.data.cpu().numpy()\n",
    "plt.imshow(op)\n",
    "plt.show()"
   ]
  },
  {
   "cell_type": "code",
   "execution_count": null,
   "metadata": {
    "collapsed": true
   },
   "outputs": [],
   "source": [
    "print torch.min(x),torch.max(x)"
   ]
  },
  {
   "cell_type": "code",
   "execution_count": null,
   "metadata": {
    "collapsed": true
   },
   "outputs": [],
   "source": []
  }
 ],
 "metadata": {
  "kernelspec": {
   "display_name": "Python 2",
   "language": "python",
   "name": "python2"
  },
  "language_info": {
   "codemirror_mode": {
    "name": "ipython",
    "version": 2
   },
   "file_extension": ".py",
   "mimetype": "text/x-python",
   "name": "python",
   "nbconvert_exporter": "python",
   "pygments_lexer": "ipython2",
   "version": "2.7.6"
  }
 },
 "nbformat": 4,
 "nbformat_minor": 2
}
