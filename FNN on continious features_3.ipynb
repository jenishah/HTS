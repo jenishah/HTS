{
 "cells": [
  {
   "cell_type": "code",
   "execution_count": 1,
   "metadata": {
    "collapsed": true
   },
   "outputs": [],
   "source": [
    "import numpy as np\n",
    "import csv\n",
    "import os\n",
    "import torch\n",
    "import torch.nn as nn\n",
    "import torch.nn.functional as F\n",
    "#from tensorflow.examples.tutorials.mnist import input_data\n",
    "from torch.autograd import Variable\n",
    "import sklearn.metrics as metrics\n",
    "import pickle\n",
    "import os\n",
    "import numpy.linalg as la"
   ]
  },
  {
   "cell_type": "code",
   "execution_count": 2,
   "metadata": {
    "collapsed": true
   },
   "outputs": [],
   "source": [
    "with open('screen_info.txt','rb') as fl:\n",
    "    t = pickle.load(fl)\n",
    "fnames = t[0]\n",
    "totf = t[1]\n",
    "binf = t[2]\n",
    "runfile = 3\n",
    "fname = fnames[runfile]\n",
    "bf = binf[runfile]"
   ]
  },
  {
   "cell_type": "code",
   "execution_count": 3,
   "metadata": {},
   "outputs": [
    {
     "name": "stdout",
     "output_type": "stream",
     "text": [
      "AID688\n"
     ]
    }
   ],
   "source": [
    "print(fname)"
   ]
  },
  {
   "cell_type": "code",
   "execution_count": 4,
   "metadata": {
    "collapsed": true
   },
   "outputs": [],
   "source": [
    "path = os.getcwd() + '/bioassay-datasets/'\n",
    "p_fingerprints = []\n",
    "c_fingerprints = []\n",
    "labels = []\n",
    "with open(path+fname+'red_train.csv') as csvfile:\n",
    "    readcsv = csv.reader(csvfile)\n",
    "    for row in readcsv:\n",
    "        p_fingerprints.append(row[:bf])\n",
    "        c_fingerprints.append(row[bf:-1])\n",
    "        labels.append(row[-1])"
   ]
  },
  {
   "cell_type": "markdown",
   "metadata": {},
   "source": [
    "### Using 10 fold cross validation "
   ]
  },
  {
   "cell_type": "code",
   "execution_count": 5,
   "metadata": {},
   "outputs": [
    {
     "name": "stdout",
     "output_type": "stream",
     "text": [
      "(21751, 121)\n",
      "32\n"
     ]
    }
   ],
   "source": [
    "p_fingerprints = np.asarray(p_fingerprints)[1:]\n",
    "p_fingerprints = p_fingerprints.astype(int)\n",
    "\n",
    "c_fingerprints = np.asarray(c_fingerprints)[1:]\n",
    "c_fingerprints = c_fingerprints.astype(float)\n",
    "\n",
    "#Normalise the features\n",
    "c_fingerprints = (c_fingerprints - np.mean(c_fingerprints,axis=0))/np.std(c_fingerprints,axis=0)\n",
    "\n",
    "#p2_fingerprints = np.ones(p_fingerprints.shape)\n",
    "(no_examples , ip_dim) = p_fingerprints.shape\n",
    "ip_dim2 = c_fingerprints.shape[1]\n",
    "labels = labels[1:]\n",
    "print(no_examples,ip_dim)\n",
    "print(ip_dim2)\n",
    "p_fingerprints[(p_fingerprints==0)] = -1\n"
   ]
  },
  {
   "cell_type": "code",
   "execution_count": 6,
   "metadata": {},
   "outputs": [
    {
     "name": "stdout",
     "output_type": "stream",
     "text": [
      "('tot_positive', 198)\n",
      "('fp allowed', 1077)\n"
     ]
    }
   ],
   "source": [
    "labels2 = np.zeros((len(labels),1))\n",
    "for i,l in enumerate(labels):\n",
    "    if l=='Active':\n",
    "        labels2[i] = 1\n",
    "    else:\n",
    "        labels2[i] = 0\n",
    "labels2 = labels2.astype(int)\n",
    "total_pos = np.sum(labels2)\n",
    "print(\"tot_positive\",total_pos)\n",
    "fp_allowed = int((no_examples-total_pos)*0.05)\n",
    "print(\"fp allowed\",fp_allowed)"
   ]
  },
  {
   "cell_type": "markdown",
   "metadata": {},
   "source": [
    "#####  Rnadomly permute the data"
   ]
  },
  {
   "cell_type": "code",
   "execution_count": 7,
   "metadata": {
    "collapsed": true
   },
   "outputs": [],
   "source": [
    "ind = np.arange(no_examples)\n",
    "np.random.shuffle(ind)\n",
    "p_fingerprints = p_fingerprints[ind]\n",
    "c_fingerprints = c_fingerprints[ind]\n",
    "labels2 = labels2[ind]"
   ]
  },
  {
   "cell_type": "markdown",
   "metadata": {},
   "source": [
    "###  Find angle between mean vectors"
   ]
  },
  {
   "cell_type": "code",
   "execution_count": 8,
   "metadata": {
    "collapsed": true
   },
   "outputs": [],
   "source": [
    "# p_active = np.float32(np.sum(c_fingerprints[labels2[:,0]==1],axis=0))/np.sum(labels2)\n",
    "# p_inactive = np.float32(np.sum(c_fingerprints[labels2[:,0]==0],axis=0))/(no_examples-np.sum(labels2))\n",
    "\n",
    "# print p_active.shape\n",
    "# ta = np.dot(p_active,p_inactive)\n",
    "# print ta\n",
    "# t1 = la.norm(p_active)\n",
    "# t2 = la.norm(p_inactive)\n",
    "# print t1,t2,t1*t2\n",
    "# theta = np.float32(np.dot(p_active,p_inactive))/(la.norm(p_active)*la.norm(p_inactive))\n",
    "# print(theta)"
   ]
  },
  {
   "cell_type": "code",
   "execution_count": 9,
   "metadata": {
    "collapsed": true
   },
   "outputs": [],
   "source": [
    "# print(p_active,p_inactive)\n",
    "# print(p_active+p_inactive)"
   ]
  },
  {
   "cell_type": "code",
   "execution_count": 10,
   "metadata": {
    "collapsed": true
   },
   "outputs": [],
   "source": [
    "# def get_train_batch(batch_size,binary=True):\n",
    "#     samples = np.random.randint(low=0,high=no_examples,size=(batch_size,1))\n",
    "#     if binary == True:\n",
    "#         train_batch = p_fingerprints[samples].reshape(batch_size,ip_dim)\n",
    "#         train_batch = train_batch.astype(int)\n",
    "#     else:\n",
    "#         train_batch = c_fingerprints[samples].reshape(batch_size,ip_dim2)\n",
    "#         train_batch = train_batch.astype(float)\n",
    "    \n",
    "#     train_batch = torch.cuda.FloatTensor(train_batch)\n",
    "#     train_batch = Variable(train_batch,requires_grad=False).cuda()\n",
    "#     #print(labels2[samples])\n",
    "#     target = Variable(torch.cuda.LongTensor(labels2[samples]),requires_grad=False)\n",
    "#     target = target.view(batch_size,)\n",
    "#     #print(target.type)\n",
    "#     return train_batch,target"
   ]
  },
  {
   "cell_type": "code",
   "execution_count": 11,
   "metadata": {},
   "outputs": [
    {
     "name": "stdout",
     "output_type": "stream",
     "text": [
      "[198]\n"
     ]
    }
   ],
   "source": [
    "no_active_ele = (sum(labels2))\n",
    "print(no_active_ele)\n",
    "batch_size = 400"
   ]
  },
  {
   "cell_type": "code",
   "execution_count": 12,
   "metadata": {
    "collapsed": true
   },
   "outputs": [],
   "source": [
    "def get_train_batch(batch_size,validation_iter=0,binary=True):\n",
    "    \n",
    "    if validation_iter == 0: #no validation\n",
    "        curr_data_size = no_examples\n",
    "        labels_train = labels2\n",
    "    else:\n",
    "        curr_data_size = int(no_examples*0.8)\n",
    "        interval_size = int(no_examples*0.2)\n",
    "        \n",
    "        if(val_iter==1):\n",
    "            s_ind1 = int((validation_iter)*interval_size)\n",
    "            end_ind1 = int((validation_iter+1)*interval_size)\n",
    "            s_ind2 = int((validation_iter + 1) * interval_size)\n",
    "            end_ind2 = int(no_examples)\n",
    "        else:\n",
    "            s_ind1 = 0\n",
    "            end_ind1 = int((validation_iter)*interval_size)\n",
    "            s_ind2 = int((validation_iter + 1) * interval_size)\n",
    "            end_ind2 = int(no_examples)\n",
    "        \n",
    "        #print(\"train_ind \",s_ind1,end_ind1,s_ind2,end_ind2)\n",
    "        indices = range(s_ind1,end_ind1) + range(s_ind2,end_ind2)\n",
    "        c_train_data = c_fingerprints[indices]\n",
    "        p_train_data = p_fingerprints[indices]\n",
    "        labels_train = labels2[indices]\n",
    "                               \n",
    "    samples = np.random.randint(low=0,high=curr_data_size,size=(batch_size,1))\n",
    "    if binary == True:\n",
    "        train_batch = p_train_data[samples].reshape(batch_size,ip_dim)\n",
    "        train_batch = train_batch.astype(int)\n",
    "    else:\n",
    "        train_batch = c_train_data[samples].reshape(batch_size,ip_dim2)\n",
    "        train_batch = train_batch.astype(float)\n",
    "    \n",
    "    train_batch = torch.cuda.FloatTensor(train_batch)\n",
    "    train_batch = Variable(train_batch,requires_grad=False).cuda()\n",
    "    target = Variable(torch.cuda.LongTensor(labels_train[samples]),requires_grad=False)\n",
    "    target = target.view(batch_size,)\n",
    "    return train_batch,target"
   ]
  },
  {
   "cell_type": "code",
   "execution_count": 13,
   "metadata": {
    "collapsed": true
   },
   "outputs": [],
   "source": [
    "def get_val_data(validation_iter,binary = True):\n",
    "    interval_size = int(no_examples)*0.2\n",
    "    s_ind = int((validation_iter-1)*interval_size)\n",
    "    e_ind = int((validation_iter) * interval_size)\n",
    "    if(binary==True):\n",
    "        train_data = p_fingerprints[s_ind:e_ind]\n",
    "    else:\n",
    "        train_data = c_fingerprints[s_ind:e_ind]\n",
    "    labels_val = labels2[s_ind:e_ind]   \n",
    "    #print(\"val ind \",s_ind,e_ind)\n",
    "    #print train_data.shape, labels_val.shape\n",
    "    return Variable(torch.cuda.FloatTensor(train_data)),labels_val  \n",
    "        "
   ]
  },
  {
   "cell_type": "code",
   "execution_count": null,
   "metadata": {
    "collapsed": true
   },
   "outputs": [],
   "source": [
    "class c_mlp(nn.Module):\n",
    "    def __init__(self):\n",
    "        super(c_mlp,self).__init__()\n",
    "        self.l1 = nn.Linear(ip_dim2,1000)\n",
    "        self.l2 = nn.Linear(1000,500)\n",
    "        self.l3 = nn.Linear(500,500)\n",
    "        self.l4 = nn.Linear(500,50)\n",
    "        self.l5 = nn.Linear(50,2)\n",
    "        \n",
    "    def forward(self,x):\n",
    "        x = F.leaky_relu(self.l1(x))\n",
    "        x = F.leaky_relu(self.l2(x))\n",
    "        x = F.leaky_relu(self.l3(x))\n",
    "        x = F.leaky_relu(self.l4(x))\n",
    "        x = (self.l5(x))\n",
    "        \n",
    "        return x"
   ]
  },
  {
   "cell_type": "code",
   "execution_count": null,
   "metadata": {},
   "outputs": [
    {
     "name": "stdout",
     "output_type": "stream",
     "text": [
      "('val iter: ', 1)\n",
      "('tn, fp, fn, tp: ', array([4170,  137,   42,    1]))\n",
      "('tn, fp, fn, tp: ', array([4150,  157,   40,    3]))\n",
      "('tn, fp, fn, tp: ', array([4278,   29,   43,    0]))\n",
      "('tn, fp, fn, tp: ', array([4035,  272,   40,    3]))\n",
      "('tn, fp, fn, tp: ', array([3992,  315,   40,    3]))\n",
      "('tn, fp, fn, tp: ', array([3997,  310,   41,    2]))\n",
      "('tn, fp, fn, tp: ', array([4020,  287,   41,    2]))\n",
      "('tn, fp, fn, tp: ', array([3710,  597,   37,    6]))\n",
      "('tn, fp, fn, tp: ', array([3542,  765,   34,    9]))\n",
      "('tn, fp, fn, tp: ', array([3487,  820,   35,    8]))\n",
      "('val iter: ', 2)\n",
      "('tn, fp, fn, tp: ', array([3823,  479,   39,    9]))\n",
      "('tn, fp, fn, tp: ', array([3895,  407,   37,   11]))\n",
      "('tn, fp, fn, tp: ', array([3835,  467,   34,   14]))\n",
      "('tn, fp, fn, tp: ', array([3473,  829,   31,   17]))\n",
      "('tn, fp, fn, tp: ', array([3671,  631,   34,   14]))\n",
      "('tn, fp, fn, tp: ', array([3521,  781,   30,   18]))\n",
      "('tn, fp, fn, tp: ', array([3055, 1247,   24,   24]))\n",
      "('tn, fp, fn, tp: ', array([2971, 1331,   23,   25]))\n",
      "('tn, fp, fn, tp: ', array([2746, 1556,   19,   29]))\n",
      "('tn, fp, fn, tp: ', array([2725, 1577,   25,   23]))\n",
      "('val iter: ', 3)\n",
      "('tn, fp, fn, tp: ', array([3623,  692,   21,   14]))\n",
      "('tn, fp, fn, tp: ', array([3878,  437,   27,    8]))\n",
      "('tn, fp, fn, tp: ', array([3528,  787,   20,   15]))\n",
      "('tn, fp, fn, tp: ', array([3419,  896,   23,   12]))\n",
      "('tn, fp, fn, tp: ', array([3795,  520,   26,    9]))\n",
      "('tn, fp, fn, tp: ', array([3417,  898,   21,   14]))\n",
      "('tn, fp, fn, tp: ', array([3097, 1218,   15,   20]))\n",
      "('tn, fp, fn, tp: ', array([3172, 1143,   18,   17]))\n",
      "('tn, fp, fn, tp: ', array([2983, 1332,   15,   20]))\n",
      "('tn, fp, fn, tp: ', array([2528, 1787,   10,   25]))\n",
      "('val iter: ', 4)\n",
      "('tn, fp, fn, tp: ', array([4082,  232,   31,    5]))\n",
      "('tn, fp, fn, tp: ', array([3848,  466,   23,   13]))\n",
      "('tn, fp, fn, tp: ', array([4167,  147,   30,    6]))\n",
      "('tn, fp, fn, tp: ', array([3830,  484,   23,   13]))\n"
     ]
    }
   ],
   "source": [
    "min_fn = 15\n",
    "max_fp = 200\n",
    "maxtmpdiff = -10\n",
    "cm_list = []\n",
    "get_model = 1\n",
    "for val_iter in range(1,6):\n",
    "    print(\"val iter: \",val_iter)\n",
    "    \n",
    "   \n",
    "    #weights_array = [5]\n",
    "    weights_array = np.linspace(100,120,10)\n",
    "    for i,w in enumerate(weights_array): \n",
    "        mymlp = c_mlp().cuda()\n",
    "        optimizer = torch.optim.Adagrad(mymlp.parameters(),lr=1e-4)\n",
    "        criterion = nn.CrossEntropyLoss(weight=torch.cuda.FloatTensor([1,w]))\n",
    "\n",
    "        for ep in range(2000):\n",
    "            train_batch,target = get_train_batch(batch_size,binary = False,validation_iter = val_iter)\n",
    "            model_op = mymlp(train_batch)\n",
    "            #print(model_op.type)\n",
    "            #print(target.type)\n",
    "            loss = criterion(model_op,target)\n",
    "            loss.backward()\n",
    "            optimizer.step()\n",
    "            optimizer.zero_grad()\n",
    "\n",
    "    #     if(ep%30==29):\n",
    "    #         print(loss.data[0])\n",
    "\n",
    "        ## After training check on cross validation data\n",
    "        val_data,labels_val = get_val_data(val_iter,binary = False)\n",
    "        train_op = mymlp(val_data)\n",
    "        train_op = train_op.cpu().data.numpy()\n",
    "        pred_labels = np.argmax(train_op,axis=1)\n",
    "        #tmp_labels = tmp_labels.data.cpu().numpy()\n",
    "        #print(sum(tmp_labels))\n",
    "        cf = metrics.confusion_matrix(labels_val,pred_labels).ravel()\n",
    "        #print(val_iter,w)\n",
    "        print('tn, fp, fn, tp: ',cf)\n",
    "        [tn,fp,fn,tp] = cf\n",
    "        wcf = [val_iter] + [w] + [cf]\n",
    "        tmpdiff = tp-fn\n",
    "        if(tmpdiff > maxtmpdiff):\n",
    "            cm_list.append(wcf)\n",
    "            if(tmpdiff<maxtmpdiff):\n",
    "                if(fp < max_fp):\n",
    "                    max_fp = fp\n",
    "                    maxtmpdiff = tmpdiff\n",
    "                    model_path = os.getcwd() + '/cnt_selu_' + fname + '_' + str(get_model)\n",
    "                    torch.save(mymlp.state_dict(),model_path)\n",
    "                    print(\"saving model on val: \",val_iter,\" and weight: \",w)\n",
    "                    if(get_model<4):\n",
    "                        get_model + get_model + 1\n",
    "                    else:\n",
    "                        break\n",
    "\n",
    "        \n"
   ]
  },
  {
   "cell_type": "code",
   "execution_count": null,
   "metadata": {
    "collapsed": true
   },
   "outputs": [],
   "source": [
    "cm_list"
   ]
  },
  {
   "cell_type": "code",
   "execution_count": null,
   "metadata": {
    "collapsed": true
   },
   "outputs": [],
   "source": [
    "# #weights_array = np.linspace(3,25,22)\n",
    "# tmp_w = [weights_array[0]]\n",
    "# cont_cm_lsit = []\n",
    "# for i,w in enumerate(tmp_w):\n",
    "    \n",
    "    \n",
    "#     c_mymlp = c_mlp().cuda()\n",
    "#     optimizer2 = torch.optim.Adam(c_mymlp.parameters(),lr=1e-4)\n",
    "    \n",
    "#     weights = torch.cuda.FloatTensor([1,w])\n",
    "#     criterion = nn.CrossEntropyLoss(weight=weights)\n",
    "    \n",
    "#     for ep in range(2000):\n",
    "#         train_batch,target = get_train_batch(batch_size,binary=False)\n",
    "#         #train_batch,target = sample_X(batch_size,labels='True')\n",
    "#         #target = Variable(torch.cuda.LongTensor(target),requires_grad = False)\n",
    "#         model_op = c_mymlp(train_batch)\n",
    "#         #print(model_op.type)\n",
    "#         #print(target.type)\n",
    "#         loss = criterion(model_op,target)\n",
    "#         loss.backward()\n",
    "#         optimizer2.step()\n",
    "#         optimizer2.zero_grad()\n",
    "    \n",
    "#         if(ep%100==99):\n",
    "#             print(loss.data[0])\n",
    "\n",
    "#     train_op = c_mymlp(Variable(torch.cuda.FloatTensor(c_fingerprints)))\n",
    "#     train_op = train_op.cpu().data.numpy()\n",
    "#     pred_labels = np.argmax(train_op,axis=1)\n",
    "#     #tmp_labels = tmp_labels.data.cpu().numpy()\n",
    "#     #print(sum(tmp_labels))\n",
    "#     cont_cf = metrics.confusion_matrix(labels2,pred_labels).ravel()\n",
    "#     print('tn, fp, fn, tp: ',cont_cf)\n",
    "#     cont_cm_lsit.append(cont_cf)\n",
    "    \n",
    "#     #model_path = os.getcwd() + '/model' + str(i)\n",
    "#     #torch.save(c_mymlp.state_dict(),model_path)\n",
    "    "
   ]
  },
  {
   "cell_type": "markdown",
   "metadata": {
    "collapsed": true
   },
   "source": [
    "### Checking on Test data"
   ]
  },
  {
   "cell_type": "code",
   "execution_count": null,
   "metadata": {
    "collapsed": true
   },
   "outputs": [],
   "source": [
    "path = os.getcwd()+'/bioassay-datasets/'\n",
    "test_bin = []\n",
    "test_con = []\n",
    "labels = []\n",
    "with open(path+'AID362red_test.csv') as csvfile:\n",
    "    readcsv = csv.reader(csvfile)\n",
    "    for row in readcsv:\n",
    "        test_bin.append(row[:112])\n",
    "        test_con.append(row[112:-1])\n",
    "        labels.append(row[-1])"
   ]
  },
  {
   "cell_type": "code",
   "execution_count": null,
   "metadata": {
    "collapsed": true
   },
   "outputs": [],
   "source": [
    "test_bin = np.asarray(test_bin)[1:]\n",
    "test_bin = test_bin.astype(int)\n",
    "\n",
    "test_con = np.asarray(test_con)[1:]\n",
    "test_con = test_con.astype(float)\n",
    "\n",
    "#Normalise the features\n",
    "test_con = (test_con - np.mean(test_con,axis=0))/np.std(test_con,axis=0)\n",
    "\n",
    "#p2_fingerprints = np.ones(p_fingerprints.shape)\n",
    "(no_examples , ip_dim) = test_bin.shape\n",
    "ip_dim2 = test_con.shape[1]\n",
    "labels = labels[1:]\n",
    "print(no_examples,ip_dim)\n",
    "print(ip_dim2)\n",
    "test_bin[(test_bin==0)] = -1\n"
   ]
  },
  {
   "cell_type": "code",
   "execution_count": null,
   "metadata": {
    "collapsed": true
   },
   "outputs": [],
   "source": [
    "best_c_mlp = c_mlp().cuda()\n",
    "param_path = os.getcwd() + '/cont_model_with_val'\n",
    "best_c_mlp.load_state_dict(torch.load(param_path))"
   ]
  },
  {
   "cell_type": "code",
   "execution_count": null,
   "metadata": {
    "collapsed": true
   },
   "outputs": [],
   "source": [
    "test_labels2 = np.zeros((len(labels),1))\n",
    "for i,l in enumerate(labels):\n",
    "    if l=='Active':\n",
    "        test_labels2[i] = 1\n",
    "    else:\n",
    "        test_labels2[i] = 0\n",
    "test_labels2 = test_labels2.astype(int)\n",
    "total_pos = np.sum(test_labels2)\n",
    "print(\"tot_positive\",total_pos)"
   ]
  },
  {
   "cell_type": "code",
   "execution_count": null,
   "metadata": {
    "collapsed": true
   },
   "outputs": [],
   "source": [
    "test_op = best_c_mlp(Variable(torch.cuda.FloatTensor(test_con)))\n",
    "test_op = test_op.cpu().data.numpy()\n",
    "test_pred = np.argmax(test_op,axis=1)\n",
    "    #tmp_labels = tmp_labels.data.cpu().numpy()\n",
    "    #print(sum(tmp_labels))\n",
    "t_cont_cf = metrics.confusion_matrix(test_labels2,test_pred).ravel()\n",
    "print('tn, fp, fn, tp: ',t_cont_cf)"
   ]
  },
  {
   "cell_type": "code",
   "execution_count": null,
   "metadata": {
    "collapsed": true
   },
   "outputs": [],
   "source": []
  }
 ],
 "metadata": {
  "kernelspec": {
   "display_name": "Python 2",
   "language": "python",
   "name": "python2"
  },
  "language_info": {
   "codemirror_mode": {
    "name": "ipython",
    "version": 2
   },
   "file_extension": ".py",
   "mimetype": "text/x-python",
   "name": "python",
   "nbconvert_exporter": "python",
   "pygments_lexer": "ipython2",
   "version": "2.7.6"
  }
 },
 "nbformat": 4,
 "nbformat_minor": 2
}
