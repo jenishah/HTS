{
 "cells": [
  {
   "cell_type": "code",
   "execution_count": 4,
   "metadata": {},
   "outputs": [],
   "source": [
    "import numpy as np\n",
    "import csv\n",
    "import os\n",
    "import torch\n",
    "import torch.nn as nn\n",
    "import torch.nn.functional as F\n",
    "#from tensorflow.examples.tutorials.mnist import input_data\n",
    "from torch.autograd import Variable\n",
    "import sklearn.metrics as metrics\n",
    "import pickle\n",
    "import os\n",
    "import numpy.linalg as la\n",
    "import random\n",
    "import torch.nn.parallel\n",
    "import torch.backends.cudnn as cudnn\n",
    "import torch.optim as optim\n",
    "import torch.utils.data\n",
    "import torchvision.datasets as dset\n",
    "import torchvision.transforms as transforms\n",
    "import torchvision.utils as vutils\n",
    "from torch.autograd import Variable\n"
   ]
  },
  {
   "cell_type": "code",
   "execution_count": 5,
   "metadata": {
    "collapsed": true
   },
   "outputs": [],
   "source": [
    "transform = transforms.Compose(\n",
    "    [transforms.ToTensor(),\n",
    "     transforms.Normalize((0.5, 0.5, 0.5), (0.5, 0.5, 0.5))])\n",
    "train_set = dset.MNIST('/home/daiict/Desktop/udit/C-GAN./data' ,train=True, download= True,\n",
    "                       transform = transform)\n",
    "test_set = dset.MNIST('/home/daiict/Desktop/udit/C-GAN./data' ,train=False, download=True,\n",
    "                       transform = transform)"
   ]
  },
  {
   "cell_type": "code",
   "execution_count": 6,
   "metadata": {},
   "outputs": [
    {
     "name": "stdout",
     "output_type": "stream",
     "text": [
      "938 157\n"
     ]
    }
   ],
   "source": [
    "train_loader = torch.utils.data.DataLoader(train_set, batch_size=64,shuffle=True)\n",
    "test_loader = torch.utils.data.DataLoader(test_set, batch_size=64,shuffle=True)\n",
    "print len(train_loader), len(test_loader)"
   ]
  },
  {
   "cell_type": "code",
   "execution_count": 7,
   "metadata": {
    "collapsed": true
   },
   "outputs": [],
   "source": [
    "with open('screen_info.txt','rb') as fl:\n",
    "    t = pickle.load(fl)\n",
    "fnames = t[0]\n",
    "totf = t[1]\n",
    "binf = t[2]\n",
    "runfile = 0\n",
    "fname = fnames[runfile]\n",
    "bf = binf[runfile]"
   ]
  },
  {
   "cell_type": "code",
   "execution_count": 3,
   "metadata": {
    "collapsed": true
   },
   "outputs": [],
   "source": [
    "path = os.getcwd() + '/bioassay-datasets/'\n",
    "p_fingerprints = []\n",
    "c_fingerprints = []\n",
    "labels = []\n",
    "with open(path+fname+'red_train.csv') as csvfile:\n",
    "    readcsv = csv.reader(csvfile)\n",
    "    for row in readcsv:\n",
    "        p_fingerprints.append(row[:bf])\n",
    "        c_fingerprints.append(row[bf:-1])\n",
    "        labels.append(row[-1])"
   ]
  },
  {
   "cell_type": "code",
   "execution_count": 4,
   "metadata": {
    "collapsed": true
   },
   "outputs": [],
   "source": [
    "p_fingerprints = np.asarray(p_fingerprints)[1:]\n",
    "p_fingerprints = p_fingerprints.astype(int)\n",
    "p_fingerprints[(p_fingerprints==0)] = -1\n",
    "\n",
    "c_fingerprints = np.asarray(c_fingerprints)[1:]\n",
    "c_fingerprints = c_fingerprints.astype(float)\n",
    "\n",
    "#Normalise the features\n",
    "c_fingerprints = (c_fingerprints - np.mean(c_fingerprints,axis=0))/np.std(c_fingerprints,axis=0)\n",
    "\n",
    "fingerprints = np.concatenate((p_fingerprints,c_fingerprints),axis=1)\n",
    "\n",
    "#p2_fingerprints = np.ones(p_fingerprints.shape)\n",
    "(no_examples , ip_dim) = fingerprints.shape\n",
    "labels = labels[1:]"
   ]
  },
  {
   "cell_type": "code",
   "execution_count": 5,
   "metadata": {},
   "outputs": [
    {
     "name": "stdout",
     "output_type": "stream",
     "text": [
      "('tot_positive', 48)\n"
     ]
    }
   ],
   "source": [
    "labels2 = np.zeros((len(labels),1))\n",
    "for i,l in enumerate(labels):\n",
    "    if l=='Active':\n",
    "        labels2[i] = 1\n",
    "    else:\n",
    "        labels2[i] = 0\n",
    "labels2 = labels2.astype(int)\n",
    "total_pos = np.sum(labels2)\n",
    "print(\"tot_positive\",total_pos)\n"
   ]
  },
  {
   "cell_type": "code",
   "execution_count": 6,
   "metadata": {
    "collapsed": true
   },
   "outputs": [],
   "source": [
    "ind = np.arange(no_examples)\n",
    "np.random.shuffle(ind)\n",
    "fingerprints = fingerprints[ind]\n",
    "labels2 = labels2[ind]"
   ]
  },
  {
   "cell_type": "code",
   "execution_count": 7,
   "metadata": {},
   "outputs": [
    {
     "name": "stdout",
     "output_type": "stream",
     "text": [
      "(3423, 144)\n"
     ]
    }
   ],
   "source": [
    "print fingerprints.shape"
   ]
  },
  {
   "cell_type": "code",
   "execution_count": 8,
   "metadata": {
    "collapsed": true
   },
   "outputs": [],
   "source": [
    "def get_train_batch(batch_size,validation_iter=0,binary=True):\n",
    "    \n",
    "    if validation_iter == 0: #no validation\n",
    "        curr_data_size = no_examples\n",
    "        labels_train = labels2\n",
    "    else:\n",
    "        curr_data_size = int(no_examples*0.8)\n",
    "        interval_size = int(no_examples*0.2)\n",
    "        \n",
    "        if(val_iter==1):\n",
    "            s_ind1 = int((validation_iter)*interval_size)\n",
    "            end_ind1 = int((validation_iter+1)*interval_size)\n",
    "            s_ind2 = int((validation_iter + 1) * interval_size)\n",
    "            end_ind2 = int(no_examples)\n",
    "        else:\n",
    "            s_ind1 = 0\n",
    "            end_ind1 = int((validation_iter)*interval_size)\n",
    "            s_ind2 = int((validation_iter + 1) * interval_size)\n",
    "            end_ind2 = int(no_examples)\n",
    "        \n",
    "        #print(\"train_ind \",s_ind1,end_ind1,s_ind2,end_ind2)\n",
    "        indices = range(s_ind1,end_ind1) + range(s_ind2,end_ind2)\n",
    "        p_train_data = fingerprints[indices]\n",
    "        labels_train = labels2[indices]\n",
    "                               \n",
    "    samples = np.random.randint(low=0,high=curr_data_size,size=(batch_size,1))\n",
    "    if binary == True:\n",
    "        train_batch = p_train_data[samples].reshape(batch_size,ip_dim)\n",
    "        train_batch = train_batch.astype(float)\n",
    "    else:\n",
    "        None\n",
    "    \n",
    "    train_batch = torch.cuda.FloatTensor(train_batch)\n",
    "    train_batch = Variable(train_batch,requires_grad=False).cuda()\n",
    "    target = Variable(torch.cuda.LongTensor(labels_train[samples]),requires_grad=False)\n",
    "    target = target.view(batch_size,)\n",
    "    return train_batch,target"
   ]
  },
  {
   "cell_type": "code",
   "execution_count": 9,
   "metadata": {
    "collapsed": true
   },
   "outputs": [],
   "source": [
    "def get_val_data(validation_iter,binary = True):\n",
    "    interval_size = int(no_examples)*0.2\n",
    "    s_ind = int((validation_iter-1)*interval_size)\n",
    "    e_ind = int((validation_iter) * interval_size)\n",
    "    if(binary==True):\n",
    "        train_data = fingerprints[s_ind:e_ind]\n",
    "    else:\n",
    "        None\n",
    "    labels_val = labels2[s_ind:e_ind]   \n",
    "    #print(\"val ind \",s_ind,e_ind)\n",
    "    return Variable(torch.cuda.FloatTensor(train_data)),labels_val  \n",
    "        "
   ]
  },
  {
   "cell_type": "code",
   "execution_count": 10,
   "metadata": {
    "collapsed": true
   },
   "outputs": [],
   "source": [
    "class c_mlp(nn.Module):\n",
    "    def __init__(self):\n",
    "        super(c_mlp,self).__init__()\n",
    "        self.l1 = nn.Linear(ip_dim,500)\n",
    "        self.l2 = nn.Linear(500,500)\n",
    "        self.l3 = nn.Linear(500,250)\n",
    "        self.l4 = nn.Linear(250,50)\n",
    "        self.l5 = nn.Linear(50,2)\n",
    "        \n",
    "    def forward(self,x):\n",
    "        x = F.leaky_relu(self.l1(x))\n",
    "        x = F.leaky_relu(self.l2(x))\n",
    "        x = F.leaky_relu(self.l3(x))\n",
    "        x = F.leaky_relu(self.l4(x))\n",
    "        x = (self.l5(x))\n",
    "        \n",
    "        return x"
   ]
  },
  {
   "cell_type": "code",
   "execution_count": 12,
   "metadata": {},
   "outputs": [
    {
     "name": "stdout",
     "output_type": "stream",
     "text": [
      "('val iter: ', 1)\n",
      "('tn, fp, fn, tp: ', array([662,   7,  11,   4]))\n",
      "('tn, fp, fn, tp: ', array([661,   8,  11,   4]))\n",
      "('tn, fp, fn, tp: ', array([658,  11,  12,   3]))\n",
      "('tn, fp, fn, tp: ', array([664,   5,  11,   4]))\n",
      "('tn, fp, fn, tp: ', array([665,   4,  11,   4]))\n",
      "('tn, fp, fn, tp: ', array([660,   9,  12,   3]))\n",
      "('tn, fp, fn, tp: ', array([662,   7,  10,   5]))\n",
      "('tn, fp, fn, tp: ', array([663,   6,  11,   4]))\n",
      "('tn, fp, fn, tp: ', array([661,   8,  11,   4]))\n",
      "('tn, fp, fn, tp: ', array([663,   6,  11,   4]))\n",
      "('tn, fp, fn, tp: ', array([660,   9,  10,   5]))\n",
      "('tn, fp, fn, tp: ', array([661,   8,  11,   4]))\n",
      "('tn, fp, fn, tp: ', array([661,   8,  12,   3]))\n",
      "('tn, fp, fn, tp: ', array([663,   6,  12,   3]))\n",
      "('tn, fp, fn, tp: ', array([661,   8,  12,   3]))\n",
      "('tn, fp, fn, tp: ', array([661,   8,  11,   4]))\n",
      "('tn, fp, fn, tp: ', array([662,   7,  11,   4]))\n",
      "('tn, fp, fn, tp: ', array([662,   7,  11,   4]))\n",
      "('tn, fp, fn, tp: ', array([662,   7,  12,   3]))\n",
      "('tn, fp, fn, tp: ', array([657,  12,   9,   6]))\n",
      "('val iter: ', 2)\n",
      "('tn, fp, fn, tp: ', array([672,   6,   0,   7]))\n",
      "('saving model on val: ', 2, ' and weight: ', 20.0)\n",
      "('tn, fp, fn, tp: ', array([672,   6,   0,   7]))\n",
      "('tn, fp, fn, tp: ', array([672,   6,   0,   7]))\n",
      "('tn, fp, fn, tp: ', array([674,   4,   0,   7]))\n",
      "('saving model on val: ', 2, ' and weight: ', 24.736842105263158)\n",
      "('tn, fp, fn, tp: ', array([672,   6,   0,   7]))\n",
      "('tn, fp, fn, tp: ', array([673,   5,   0,   7]))\n",
      "('tn, fp, fn, tp: ', array([672,   6,   0,   7]))\n",
      "('tn, fp, fn, tp: ', array([672,   6,   0,   7]))\n",
      "('tn, fp, fn, tp: ', array([676,   2,   0,   7]))\n",
      "('saving model on val: ', 2, ' and weight: ', 32.631578947368425)\n",
      "('tn, fp, fn, tp: ', array([672,   6,   0,   7]))\n",
      "('tn, fp, fn, tp: ', array([673,   5,   0,   7]))\n",
      "('tn, fp, fn, tp: ', array([672,   6,   0,   7]))\n",
      "('tn, fp, fn, tp: ', array([672,   6,   0,   7]))\n",
      "('tn, fp, fn, tp: ', array([672,   6,   0,   7]))\n",
      "('tn, fp, fn, tp: ', array([673,   5,   0,   7]))\n",
      "('tn, fp, fn, tp: ', array([672,   6,   0,   7]))\n",
      "('tn, fp, fn, tp: ', array([672,   6,   0,   7]))\n",
      "('tn, fp, fn, tp: ', array([672,   6,   0,   7]))\n",
      "('tn, fp, fn, tp: ', array([672,   6,   0,   7]))\n",
      "('tn, fp, fn, tp: ', array([672,   6,   0,   7]))\n",
      "('val iter: ', 3)\n",
      "('tn, fp, fn, tp: ', array([674,   2,   0,   8]))\n",
      "('tn, fp, fn, tp: ', array([674,   2,   0,   8]))\n",
      "('tn, fp, fn, tp: ', array([675,   1,   0,   8]))\n",
      "('saving model on val: ', 3, ' and weight: ', 23.157894736842106)\n",
      "('tn, fp, fn, tp: ', array([674,   2,   0,   8]))\n",
      "('tn, fp, fn, tp: ', array([673,   3,   0,   8]))\n",
      "('tn, fp, fn, tp: ', array([674,   2,   0,   8]))\n",
      "('tn, fp, fn, tp: ', array([675,   1,   0,   8]))\n",
      "('tn, fp, fn, tp: ', array([674,   2,   0,   8]))\n",
      "('tn, fp, fn, tp: ', array([674,   2,   0,   8]))\n",
      "('tn, fp, fn, tp: ', array([673,   3,   0,   8]))\n",
      "('tn, fp, fn, tp: ', array([675,   1,   0,   8]))\n",
      "('tn, fp, fn, tp: ', array([673,   3,   0,   8]))\n",
      "('tn, fp, fn, tp: ', array([674,   2,   0,   8]))\n",
      "('tn, fp, fn, tp: ', array([673,   3,   0,   8]))\n",
      "('tn, fp, fn, tp: ', array([673,   3,   0,   8]))\n",
      "('tn, fp, fn, tp: ', array([674,   2,   0,   8]))\n",
      "('tn, fp, fn, tp: ', array([675,   1,   0,   8]))\n",
      "('tn, fp, fn, tp: ', array([674,   2,   0,   8]))\n",
      "('tn, fp, fn, tp: ', array([673,   3,   0,   8]))\n",
      "('tn, fp, fn, tp: ', array([672,   4,   0,   8]))\n",
      "('val iter: ', 4)\n",
      "('tn, fp, fn, tp: ', array([670,   4,   0,  11]))\n",
      "('tn, fp, fn, tp: ', array([670,   4,   0,  11]))\n",
      "('tn, fp, fn, tp: ', array([670,   4,   0,  11]))\n",
      "('tn, fp, fn, tp: ', array([670,   4,   0,  11]))\n",
      "('tn, fp, fn, tp: ', array([670,   4,   0,  11]))\n",
      "('tn, fp, fn, tp: ', array([668,   6,   0,  11]))\n",
      "('tn, fp, fn, tp: ', array([670,   4,   0,  11]))\n",
      "('tn, fp, fn, tp: ', array([670,   4,   0,  11]))\n",
      "('tn, fp, fn, tp: ', array([670,   4,   0,  11]))\n",
      "('tn, fp, fn, tp: ', array([670,   4,   0,  11]))\n",
      "('tn, fp, fn, tp: ', array([670,   4,   0,  11]))\n",
      "('tn, fp, fn, tp: ', array([667,   7,   0,  11]))\n",
      "('tn, fp, fn, tp: ', array([668,   6,   0,  11]))\n",
      "('tn, fp, fn, tp: ', array([668,   6,   0,  11]))\n",
      "('tn, fp, fn, tp: ', array([670,   4,   0,  11]))\n",
      "('tn, fp, fn, tp: ', array([670,   4,   0,  11]))\n",
      "('tn, fp, fn, tp: ', array([670,   4,   0,  11]))\n",
      "('tn, fp, fn, tp: ', array([668,   6,   0,  11]))\n",
      "('tn, fp, fn, tp: ', array([669,   5,   0,  11]))\n",
      "('tn, fp, fn, tp: ', array([669,   5,   0,  11]))\n",
      "('val iter: ', 5)\n",
      "('tn, fp, fn, tp: ', array([676,   2,   5,   2]))\n",
      "('tn, fp, fn, tp: ', array([673,   5,   5,   2]))\n",
      "('tn, fp, fn, tp: ', array([670,   8,   5,   2]))\n",
      "('tn, fp, fn, tp: ', array([676,   2,   5,   2]))\n",
      "('tn, fp, fn, tp: ', array([676,   2,   5,   2]))\n",
      "('tn, fp, fn, tp: ', array([667,  11,   5,   2]))\n",
      "('tn, fp, fn, tp: ', array([672,   6,   5,   2]))\n",
      "('tn, fp, fn, tp: ', array([672,   6,   5,   2]))\n",
      "('tn, fp, fn, tp: ', array([673,   5,   5,   2]))\n",
      "('tn, fp, fn, tp: ', array([674,   4,   5,   2]))\n",
      "('tn, fp, fn, tp: ', array([669,   9,   5,   2]))\n",
      "('tn, fp, fn, tp: ', array([664,  14,   5,   2]))\n",
      "('tn, fp, fn, tp: ', array([670,   8,   5,   2]))\n",
      "('tn, fp, fn, tp: ', array([668,  10,   5,   2]))\n",
      "('tn, fp, fn, tp: ', array([666,  12,   5,   2]))\n",
      "('tn, fp, fn, tp: ', array([670,   8,   5,   2]))\n",
      "('tn, fp, fn, tp: ', array([673,   5,   5,   2]))\n",
      "('tn, fp, fn, tp: ', array([668,  10,   5,   2]))\n",
      "('tn, fp, fn, tp: ', array([671,   7,   5,   2]))\n",
      "('tn, fp, fn, tp: ', array([662,  16,   5,   2]))\n"
     ]
    }
   ],
   "source": [
    "min_fn = 15\n",
    "max_fp = 160\n",
    "cm_list = []\n",
    "batch_size = 128\n",
    "for i in range(1,6):\n",
    "    val_iter = i\n",
    "    print(\"val iter: \",val_iter)\n",
    "    \n",
    "   \n",
    "    #weights_array = [7]\n",
    "    weights_array = np.linspace(20,50,20)\n",
    "    for i,w in enumerate(weights_array): \n",
    "        mymlp = c_mlp().cuda()\n",
    "        optimizer = torch.optim.Adagrad(mymlp.parameters(),lr=1e-3)\n",
    "        criterion = nn.CrossEntropyLoss(weight=torch.cuda.FloatTensor([1,w]))\n",
    "\n",
    "        for ep in range(3000):\n",
    "            train_batch,target = get_train_batch(batch_size,binary = True,validation_iter = val_iter)\n",
    "            model_op = mymlp(train_batch)\n",
    "            #print(model_op.type)\n",
    "            #print(target.type)\n",
    "            loss = criterion(model_op,target)\n",
    "            loss.backward()\n",
    "            optimizer.step()\n",
    "            optimizer.zero_grad()\n",
    "\n",
    "    #     if(ep%30==29):\n",
    "    #         print(loss.data[0])\n",
    "\n",
    "        ## After training check on cross validation data\n",
    "        val_data,labels_val = get_val_data(val_iter,binary = True)\n",
    "        train_op = mymlp(val_data)\n",
    "        train_op = train_op.cpu().data.numpy()\n",
    "        pred_labels = np.argmax(train_op,axis=1)\n",
    "        #tmp_labels = tmp_labels.data.cpu().numpy()\n",
    "        #print(sum(tmp_labels))\n",
    "        cf = metrics.confusion_matrix(labels_val,pred_labels).ravel()\n",
    "        #print(val_iter,w)\n",
    "        print('tn, fp, fn, tp: ',cf)\n",
    "        [tn,fp,fn,tp] = cf\n",
    "        wcf = [val_iter] + [w] + [cf]\n",
    "        if(fn < 3):\n",
    "            cm_list.append(wcf)\n",
    "            if(fn<4):\n",
    "                if(fp < max_fp):\n",
    "                    max_fp = fp\n",
    "                    model_path = os.getcwd() + '/model_all_feat_file' + fname\n",
    "                    torch.save(mymlp.state_dict(),model_path)\n",
    "                    print(\"saving model on val: \",val_iter,\" and weight: \",w)\n",
    "\n",
    "        \n"
   ]
  },
  {
   "cell_type": "code",
   "execution_count": null,
   "metadata": {
    "collapsed": true
   },
   "outputs": [],
   "source": [
    "os.getcwd() + '/model_all' + fname"
   ]
  },
  {
   "cell_type": "code",
   "execution_count": null,
   "metadata": {
    "collapsed": true
   },
   "outputs": [],
   "source": []
  }
 ],
 "metadata": {
  "kernelspec": {
   "display_name": "Python 2",
   "language": "python",
   "name": "python2"
  },
  "language_info": {
   "codemirror_mode": {
    "name": "ipython",
    "version": 2
   },
   "file_extension": ".py",
   "mimetype": "text/x-python",
   "name": "python",
   "nbconvert_exporter": "python",
   "pygments_lexer": "ipython2",
   "version": "2.7.6"
  }
 },
 "nbformat": 4,
 "nbformat_minor": 2
}
