{
 "cells": [
  {
   "cell_type": "code",
   "execution_count": 1,
   "metadata": {
    "collapsed": true
   },
   "outputs": [],
   "source": [
    "import numpy as np\n",
    "import csv\n",
    "import os\n",
    "import torch\n",
    "import torch.nn as nn\n",
    "import torch.nn.functional as F\n",
    "#from tensorflow.examples.tutorials.mnist import input_data\n",
    "from torch.autograd import Variable\n",
    "import sklearn.metrics as metrics\n",
    "import pickle\n",
    "import os\n",
    "import numpy.linalg as la\n",
    "import random\n",
    "import torch.nn.parallel\n",
    "import torch.backends.cudnn as cudnn\n",
    "import torch.optim as optim\n",
    "import torch.utils.data\n",
    "import torchvision.datasets as dset\n",
    "import torchvision.transforms as transforms\n",
    "import torchvision.utils as vutils\n",
    "from torch.autograd import Variable\n",
    "import sys\n",
    "import pandas as pd\n",
    "#sys.path.append(\"/home/CVShare/Jeni/hts/machine_learning/sampling_with_data_cleaning\")\n",
    "import sampling_with_data_cleaning as sdc\n",
    "from utils import *"
   ]
  },
  {
   "cell_type": "markdown",
   "metadata": {},
   "source": [
    "### FNN on cleaned features"
   ]
  },
  {
   "cell_type": "code",
   "execution_count": 2,
   "metadata": {},
   "outputs": [
    {
     "name": "stdout",
     "output_type": "stream",
     "text": [
      "(21150,)\n",
      "1164.0\n",
      "1164\n"
     ]
    }
   ],
   "source": [
    "findex = 3\n",
    "x,y = get_features(findex,train=True,cleaned=True)\n",
    "print y.shape\n",
    "print sum(y)\n",
    "y = y.astype(int)\n",
    "print sum(y)\n",
    "x,y = shuffle(x,y)"
   ]
  },
  {
   "cell_type": "code",
   "execution_count": 3,
   "metadata": {},
   "outputs": [
    {
     "name": "stdout",
     "output_type": "stream",
     "text": [
      "21150 153\n"
     ]
    }
   ],
   "source": [
    "no_ex,ip_dim = x.shape\n",
    "print no_ex,ip_dim"
   ]
  },
  {
   "cell_type": "code",
   "execution_count": 4,
   "metadata": {
    "collapsed": true
   },
   "outputs": [],
   "source": [
    "class c_mlp_1(nn.Module):\n",
    "    def __init__(self):\n",
    "        super(c_mlp_1,self).__init__()\n",
    "        self.l1 = nn.Linear(ip_dim,1000)\n",
    "        self.l2 = nn.Linear(1000,1000)\n",
    "        self.l3 = nn.Linear(1000,500)\n",
    "        #self.l4 = nn.Linear(500,500)\n",
    "        self.l5 = nn.Linear(500,100)\n",
    "        self.l6 = nn.Linear(100,50)\n",
    "        self.l7 = nn.Linear(50,2)\n",
    "        \n",
    "    def forward(self,x):\n",
    "        x = F.leaky_relu(self.l1(x))\n",
    "        x = F.leaky_relu(self.l2(x))\n",
    "        x = F.leaky_relu(self.l3(x))\n",
    "        #x = F.leaky_relu(self.l4(x))\n",
    "        x = F.leaky_relu(self.l5(x))\n",
    "        x = F.leaky_relu(self.l6(x))\n",
    "        x = (self.l7(x))\n",
    "        \n",
    "        return x"
   ]
  },
  {
   "cell_type": "code",
   "execution_count": 5,
   "metadata": {
    "collapsed": true
   },
   "outputs": [],
   "source": [
    "class c_mlp_2(nn.Module):\n",
    "    def __init__(self):\n",
    "        super(c_mlp_2,self).__init__()\n",
    "        self.l1 = nn.Linear(ip_dim,1000)\n",
    "        self.l2 = nn.Linear(1000,1000)\n",
    "        self.l3 = nn.Linear(1000,500)\n",
    "        #self.l4 = nn.Linear(500,500)\n",
    "        self.l5 = nn.Linear(500,100)\n",
    "        self.l6 = nn.Linear(100,50)\n",
    "        self.l7 = nn.Linear(50,2)\n",
    "        \n",
    "    def forward(self,x):\n",
    "        x = F.tanh(self.l1(x))\n",
    "        x = F.tanh(self.l2(x))\n",
    "        x = F.tanh(self.l3(x))\n",
    "        #x = F.leaky_relu(self.l4(x))\n",
    "        x = F.tanh(self.l5(x))\n",
    "        x = F.tanh(self.l6(x))\n",
    "        x = (self.l7(x))\n",
    "        \n",
    "        return x"
   ]
  },
  {
   "cell_type": "code",
   "execution_count": 6,
   "metadata": {
    "collapsed": true
   },
   "outputs": [],
   "source": [
    "class c_mlp_3(nn.Module):\n",
    "    def __init__(self):\n",
    "        super(c_mlp_3,self).__init__()\n",
    "        self.l1 = nn.Linear(ip_dim,1000)\n",
    "        self.l2 = nn.Linear(1000,1000)\n",
    "        self.l3 = nn.Linear(1000,500)\n",
    "        #self.l4 = nn.Linear(500,500)\n",
    "        self.l5 = nn.Linear(500,100)\n",
    "        self.l6 = nn.Linear(100,50)\n",
    "        self.l7 = nn.Linear(50,2)\n",
    "        \n",
    "    def forward(self,x):\n",
    "        x = F.selu(self.l1(x))\n",
    "        x = F.selu(self.l2(x))\n",
    "        x = F.selu(self.l3(x))\n",
    "        #x = F.leaky_relu(self.l4(x))\n",
    "        x = F.selu(self.l5(x))\n",
    "        x = F.selu(self.l6(x))\n",
    "        x = (self.l7(x))\n",
    "        \n",
    "        return x"
   ]
  },
  {
   "cell_type": "code",
   "execution_count": 7,
   "metadata": {
    "collapsed": true
   },
   "outputs": [],
   "source": [
    "mymlps = [c_mlp_1().cuda(),c_mlp_2().cuda(),c_mlp_3().cuda()]"
   ]
  },
  {
   "cell_type": "code",
   "execution_count": 9,
   "metadata": {},
   "outputs": [
    {
     "name": "stdout",
     "output_type": "stream",
     "text": [
      "('val iter: ', 1)\n",
      "('tn, fp, fn, tp: ', array([3991,    2,    1,  236]))\n",
      "('min fp, max_percent', 2, 0.9957805907172996)\n",
      "('saving model on val: ', 1, ' and weight: ', 40.0)\n",
      "('tn, fp, fn, tp: ', array([3991,    2,    1,  236]))\n",
      "('min fp, max_percent', 2, 0.9957805907172996)\n",
      "('saving model on val: ', 1, ' and weight: ', 45.0)\n",
      "('tn, fp, fn, tp: ', array([3991,    2,    1,  236]))\n",
      "('min fp, max_percent', 2, 0.9957805907172996)\n",
      "('saving model on val: ', 1, ' and weight: ', 50.0)\n",
      "('tn, fp, fn, tp: ', array([3990,    3,    6,  231]))\n",
      "('tn, fp, fn, tp: ', array([3989,    4,    6,  231]))\n",
      "('val iter: ', 2)\n",
      "('val iter: ', 1)\n",
      "('tn, fp, fn, tp: ', array([3985,    8,    0,  237]))\n",
      "('min fp, max_percent', 8, 1.0)\n",
      "('saving model on val: ', 1, ' and weight: ', 40.0)\n",
      "('tn, fp, fn, tp: ', array([3980,   13,    0,  237]))\n",
      "('min fp, max_percent', 13, 1.0)\n",
      "('saving model on val: ', 1, ' and weight: ', 45.0)\n",
      "('tn, fp, fn, tp: ', array([3974,   19,    2,  235]))\n",
      "('min fp, max_percent', 19, 0.9915611814345991)\n",
      "('saving model on val: ', 1, ' and weight: ', 50.0)\n",
      "('tn, fp, fn, tp: ', array([3965,   28,    6,  231]))\n",
      "('min fp, max_percent', 28, 0.9746835443037974)\n",
      "('saving model on val: ', 1, ' and weight: ', 55.0)\n",
      "('tn, fp, fn, tp: ', array([3957,   36,   13,  224]))\n",
      "('val iter: ', 2)\n",
      "('tn, fp, fn, tp: ', array([3978,   16,    0,  236]))\n",
      "('min fp, max_percent', 16, 1.0)\n",
      "('saving model on val: ', 2, ' and weight: ', 40.0)\n",
      "('tn, fp, fn, tp: ', array([3972,   22,    0,  236]))\n",
      "('min fp, max_percent', 22, 1.0)\n",
      "('saving model on val: ', 2, ' and weight: ', 45.0)\n",
      "('tn, fp, fn, tp: ', array([3976,   18,    0,  236]))\n",
      "('min fp, max_percent', 18, 1.0)\n",
      "('saving model on val: ', 2, ' and weight: ', 50.0)\n",
      "('tn, fp, fn, tp: ', array([3956,   38,    3,  233]))\n",
      "('min fp, max_percent', 38, 0.9872881355932204)\n",
      "('saving model on val: ', 2, ' and weight: ', 55.0)\n",
      "('tn, fp, fn, tp: ', array([3959,   35,    4,  232]))\n",
      "('min fp, max_percent', 35, 0.9830508474576272)\n",
      "('saving model on val: ', 2, ' and weight: ', 60.0)\n",
      "('val iter: ', 3)\n",
      "('tn, fp, fn, tp: ', array([3987,    7,    0,  236]))\n",
      "('min fp, max_percent', 7, 1.0)\n",
      "('saving model on val: ', 3, ' and weight: ', 40.0)\n",
      "('tn, fp, fn, tp: ', array([3981,   13,    0,  236]))\n",
      "('min fp, max_percent', 13, 1.0)\n",
      "('saving model on val: ', 3, ' and weight: ', 45.0)\n",
      "('tn, fp, fn, tp: ', array([3979,   15,    3,  233]))\n",
      "('min fp, max_percent', 15, 0.9872881355932204)\n",
      "('saving model on val: ', 3, ' and weight: ', 50.0)\n",
      "('tn, fp, fn, tp: ', array([3977,   17,    2,  234]))\n",
      "('min fp, max_percent', 17, 0.9915254237288136)\n",
      "('saving model on val: ', 3, ' and weight: ', 55.0)\n",
      "('tn, fp, fn, tp: ', array([3974,   20,    8,  228]))\n",
      "('val iter: ', 4)\n",
      "('tn, fp, fn, tp: ', array([3999,    9,    0,  222]))\n",
      "('min fp, max_percent', 9, 1.0)\n",
      "('saving model on val: ', 4, ' and weight: ', 40.0)\n",
      "('tn, fp, fn, tp: ', array([3992,   16,    1,  221]))\n",
      "('min fp, max_percent', 16, 0.9954954954954955)\n",
      "('saving model on val: ', 4, ' and weight: ', 45.0)\n",
      "('tn, fp, fn, tp: ', array([3983,   25,    3,  219]))\n",
      "('min fp, max_percent', 25, 0.9864864864864865)\n",
      "('saving model on val: ', 4, ' and weight: ', 50.0)\n",
      "('tn, fp, fn, tp: ', array([3979,   29,    6,  216]))\n",
      "('min fp, max_percent', 29, 0.972972972972973)\n",
      "('saving model on val: ', 4, ' and weight: ', 55.0)\n",
      "('tn, fp, fn, tp: ', array([3972,   36,    7,  215]))\n",
      "('min fp, max_percent', 36, 0.9684684684684685)\n",
      "('saving model on val: ', 4, ' and weight: ', 60.0)\n",
      "('val iter: ', 5)\n",
      "('tn, fp, fn, tp: ', array([3989,    8,    0,  233]))\n",
      "('min fp, max_percent', 8, 1.0)\n",
      "('saving model on val: ', 5, ' and weight: ', 40.0)\n",
      "('tn, fp, fn, tp: ', array([3983,   14,    1,  232]))\n",
      "('min fp, max_percent', 14, 0.9957081545064378)\n",
      "('saving model on val: ', 5, ' and weight: ', 45.0)\n",
      "('tn, fp, fn, tp: ', array([3981,   16,    1,  232]))\n",
      "('min fp, max_percent', 16, 0.9957081545064378)\n",
      "('saving model on val: ', 5, ' and weight: ', 50.0)\n",
      "('tn, fp, fn, tp: ', array([3981,   16,    3,  230]))\n",
      "('min fp, max_percent', 16, 0.9871244635193133)\n",
      "('saving model on val: ', 5, ' and weight: ', 55.0)\n",
      "('tn, fp, fn, tp: ', array([3978,   19,    5,  228]))\n",
      "('min fp, max_percent', 19, 0.9785407725321889)\n",
      "('saving model on val: ', 5, ' and weight: ', 60.0)\n",
      "('val iter: ', 1)\n",
      "('tn, fp, fn, tp: ', array([2005, 1988,   26,  211]))\n",
      "('tn, fp, fn, tp: ', array([2873, 1120,   37,  200]))\n",
      "('tn, fp, fn, tp: ', array([3268,  725,   49,  188]))\n",
      "('tn, fp, fn, tp: ', array([3422,  571,   39,  198]))\n",
      "('min fp, max_percent', 571, 0.8354430379746836)\n",
      "('saving model on val: ', 1, ' and weight: ', 55.0)\n",
      "('tn, fp, fn, tp: ', array([3613,  380,   47,  190]))\n",
      "('val iter: ', 2)\n",
      "('tn, fp, fn, tp: ', array([3749,  245,    7,  229]))\n",
      "('min fp, max_percent', 245, 0.9703389830508474)\n",
      "('saving model on val: ', 2, ' and weight: ', 40.0)\n",
      "('tn, fp, fn, tp: ', array([3770,  224,   14,  222]))\n",
      "('tn, fp, fn, tp: ', array([3797,  197,   23,  213]))\n",
      "('tn, fp, fn, tp: ', array([3820,  174,   35,  201]))\n",
      "('tn, fp, fn, tp: ', array([3818,  176,   42,  194]))\n",
      "('val iter: ', 3)\n",
      "('tn, fp, fn, tp: ', array([3874,  120,    1,  235]))\n",
      "('min fp, max_percent', 120, 0.9957627118644068)\n",
      "('saving model on val: ', 3, ' and weight: ', 40.0)\n",
      "('tn, fp, fn, tp: ', array([3882,  112,    3,  233]))\n",
      "('min fp, max_percent', 112, 0.9872881355932204)\n",
      "('saving model on val: ', 3, ' and weight: ', 45.0)\n",
      "('tn, fp, fn, tp: ', array([3890,  104,    7,  229]))\n",
      "('min fp, max_percent', 104, 0.9703389830508474)\n",
      "('saving model on val: ', 3, ' and weight: ', 50.0)\n",
      "('tn, fp, fn, tp: ', array([3884,  110,    8,  228]))\n",
      "('min fp, max_percent', 110, 0.9661016949152542)\n",
      "('saving model on val: ', 3, ' and weight: ', 55.0)\n",
      "('tn, fp, fn, tp: ', array([3889,  105,   12,  224]))\n",
      "('min fp, max_percent', 105, 0.9491525423728814)\n",
      "('saving model on val: ', 3, ' and weight: ', 60.0)\n",
      "('val iter: ', 4)\n",
      "('tn, fp, fn, tp: ', array([3955,   53,    0,  222]))\n",
      "('min fp, max_percent', 53, 1.0)\n",
      "('saving model on val: ', 4, ' and weight: ', 40.0)\n",
      "('tn, fp, fn, tp: ', array([3962,   46,    1,  221]))\n",
      "('min fp, max_percent', 46, 0.9954954954954955)\n",
      "('saving model on val: ', 4, ' and weight: ', 45.0)\n",
      "('tn, fp, fn, tp: ', array([3952,   56,    4,  218]))\n",
      "('min fp, max_percent', 56, 0.9819819819819819)\n",
      "('saving model on val: ', 4, ' and weight: ', 50.0)\n",
      "('tn, fp, fn, tp: ', array([3949,   59,    8,  214]))\n",
      "('min fp, max_percent', 59, 0.963963963963964)\n",
      "('saving model on val: ', 4, ' and weight: ', 55.0)\n",
      "('tn, fp, fn, tp: ', array([3955,   53,   13,  209]))\n",
      "('val iter: ', 5)\n",
      "('tn, fp, fn, tp: ', array([3965,   32,    0,  233]))\n",
      "('min fp, max_percent', 32, 1.0)\n",
      "('saving model on val: ', 5, ' and weight: ', 40.0)\n",
      "('tn, fp, fn, tp: ', array([3965,   32,    0,  233]))\n",
      "('min fp, max_percent', 32, 1.0)\n",
      "('saving model on val: ', 5, ' and weight: ', 45.0)\n",
      "('tn, fp, fn, tp: ', array([3955,   42,    2,  231]))\n",
      "('min fp, max_percent', 42, 0.9914163090128756)\n",
      "('saving model on val: ', 5, ' and weight: ', 50.0)\n",
      "('tn, fp, fn, tp: ', array([3954,   43,    4,  229]))\n",
      "('min fp, max_percent', 43, 0.9828326180257511)\n",
      "('saving model on val: ', 5, ' and weight: ', 55.0)\n",
      "('tn, fp, fn, tp: ', array([3946,   51,    5,  228]))\n",
      "('min fp, max_percent', 51, 0.9785407725321889)\n",
      "('saving model on val: ', 5, ' and weight: ', 60.0)\n"
     ]
    }
   ],
   "source": [
    "for mlp_no,mymlp in enumerate(mymlps):\n",
    "    max_percent = 0.6\n",
    "    model_no = 1\n",
    "    for i in range(1,6):\n",
    "        val_iter = i\n",
    "        print(\"val iter: \",val_iter)\n",
    "        \n",
    "        if model_no is 4:\n",
    "                break\n",
    "        else:\n",
    "        #weights_array = [7]\n",
    "            weights_array = np.linspace(40,60,5)\n",
    "\n",
    "            for i,w in enumerate(weights_array): \n",
    "            \n",
    "            \n",
    "           \n",
    "            #mymlp = c_mlp().cuda()\n",
    "                optimizer = torch.optim.Adagrad(mymlp.parameters(),lr=1e-3)\n",
    "                criterion = nn.CrossEntropyLoss(weight=torch.cuda.FloatTensor([1,w]))\n",
    "\n",
    "                for ep in range(2500):\n",
    "\n",
    "                    ind = get_train_ind(val_iter=val_iter,no_examples=no_ex)\n",
    "                    xtrain,ytrain = get_train_batch(x,y,batch_size=150,indices=ind)\n",
    "\n",
    "                    model_op = mymlp(xtrain)\n",
    "\n",
    "                    loss = criterion(model_op,ytrain)\n",
    "                    loss.backward()\n",
    "                    optimizer.step()\n",
    "                    optimizer.zero_grad()\n",
    "\n",
    "            #     if(ep%30==29):\n",
    "            #         print(loss.data[0])\n",
    "\n",
    "                ## After training check on cross validation data\n",
    "                xval,yval = get_val_data(x,y,no_examples=no_ex,val_iter=val_iter)\n",
    "                min_fp = xval.size()[0]*0.17\n",
    "                yval = yval.reshape(yval.shape[0],)\n",
    "                train_op = mymlp(xval)\n",
    "                train_op = train_op.cpu().data.numpy()\n",
    "                pred_labels = np.argmax(train_op,axis=1)\n",
    "\n",
    "                cf = metrics.confusion_matrix(yval,pred_labels).ravel()\n",
    "                [tn,fp,fn,tp] = cf\n",
    "                print('tn, fp, fn, tp: ',cf)\n",
    "                percent = float(float(tp)/float(tp+fn))\n",
    "                if(percent>max_percent*0.98):\n",
    "                    if(fp<min_fp):\n",
    "                        if(1==1):\n",
    "                                max_percent = percent\n",
    "                                print(\"min fp, max_percent\",fp,percent)\n",
    "                                model_path = os.getcwd() + '/fnn_' + str(findex)+'_model'+str(model_no)+'_mlp'+str(mlp_no)\n",
    "                                torch.save(mymlp.state_dict(),model_path)\n",
    "                                print(\"saving model on val: \",val_iter,\" and weight: \",w)\n",
    "                                model_no = model_no + 1\n",
    "\n",
    "\n",
    "\n"
   ]
  },
  {
   "cell_type": "code",
   "execution_count": 12,
   "metadata": {},
   "outputs": [
    {
     "name": "stdout",
     "output_type": "stream",
     "text": [
      "(5438,)\n",
      "(5438,)\n",
      "(5438,)\n",
      "('tn, fp, fn, tp: ', array([5228,  160,   49,    1]))\n",
      "(5438,)\n",
      "(5438,)\n",
      "('tn, fp, fn, tp: ', array([5237,  151,   48,    2]))\n",
      "(5438,)\n",
      "(5438,)\n",
      "('tn, fp, fn, tp: ', array([5225,  163,   48,    2]))\n"
     ]
    },
    {
     "ename": "IOError",
     "evalue": "[Errno 2] No such file or directory: '/home/daiict/CVShare/Jeni/hts/fnn_3_model4_mlp0'",
     "output_type": "error",
     "traceback": [
      "\u001b[0;31m---------------------------------------------------------------------------\u001b[0m",
      "\u001b[0;31mIOError\u001b[0m                                   Traceback (most recent call last)",
      "\u001b[0;32m<ipython-input-12-71161fa2e537>\u001b[0m in \u001b[0;36m<module>\u001b[0;34m()\u001b[0m\n\u001b[1;32m     11\u001b[0m         \u001b[0mmodel_path\u001b[0m \u001b[0;34m=\u001b[0m \u001b[0mos\u001b[0m\u001b[0;34m.\u001b[0m\u001b[0mgetcwd\u001b[0m\u001b[0;34m(\u001b[0m\u001b[0;34m)\u001b[0m \u001b[0;34m+\u001b[0m \u001b[0;34m'/fnn_'\u001b[0m \u001b[0;34m+\u001b[0m \u001b[0mstr\u001b[0m\u001b[0;34m(\u001b[0m\u001b[0mfindex\u001b[0m\u001b[0;34m)\u001b[0m\u001b[0;34m+\u001b[0m\u001b[0;34m'_model'\u001b[0m\u001b[0;34m+\u001b[0m\u001b[0mstr\u001b[0m\u001b[0;34m(\u001b[0m\u001b[0mmodel_no\u001b[0m\u001b[0;34m)\u001b[0m\u001b[0;34m+\u001b[0m\u001b[0;34m'_mlp'\u001b[0m\u001b[0;34m+\u001b[0m\u001b[0mstr\u001b[0m\u001b[0;34m(\u001b[0m\u001b[0mmlp_no\u001b[0m\u001b[0;34m)\u001b[0m\u001b[0;34m\u001b[0m\u001b[0m\n\u001b[1;32m     12\u001b[0m \u001b[0;34m\u001b[0m\u001b[0m\n\u001b[0;32m---> 13\u001b[0;31m         \u001b[0mtest_model\u001b[0m\u001b[0;34m.\u001b[0m\u001b[0mload_state_dict\u001b[0m\u001b[0;34m(\u001b[0m\u001b[0mtorch\u001b[0m\u001b[0;34m.\u001b[0m\u001b[0mload\u001b[0m\u001b[0;34m(\u001b[0m\u001b[0mmodel_path\u001b[0m\u001b[0;34m)\u001b[0m\u001b[0;34m)\u001b[0m\u001b[0;34m\u001b[0m\u001b[0m\n\u001b[0m\u001b[1;32m     14\u001b[0m         \u001b[0mtest_op\u001b[0m \u001b[0;34m=\u001b[0m \u001b[0mtest_model\u001b[0m\u001b[0;34m(\u001b[0m\u001b[0mxtest\u001b[0m\u001b[0;34m)\u001b[0m\u001b[0;34m\u001b[0m\u001b[0m\n\u001b[1;32m     15\u001b[0m         \u001b[0mtest_op\u001b[0m \u001b[0;34m=\u001b[0m \u001b[0mtest_op\u001b[0m\u001b[0;34m.\u001b[0m\u001b[0mcpu\u001b[0m\u001b[0;34m(\u001b[0m\u001b[0;34m)\u001b[0m\u001b[0;34m.\u001b[0m\u001b[0mdata\u001b[0m\u001b[0;34m.\u001b[0m\u001b[0mnumpy\u001b[0m\u001b[0;34m(\u001b[0m\u001b[0;34m)\u001b[0m\u001b[0;34m\u001b[0m\u001b[0m\n",
      "\u001b[0;32m/usr/local/lib/python2.7/dist-packages/torch/serialization.pyc\u001b[0m in \u001b[0;36mload\u001b[0;34m(f, map_location, pickle_module)\u001b[0m\n\u001b[1;32m    227\u001b[0m     \u001b[0;32mif\u001b[0m \u001b[0misinstance\u001b[0m\u001b[0;34m(\u001b[0m\u001b[0mf\u001b[0m\u001b[0;34m,\u001b[0m \u001b[0mstr\u001b[0m\u001b[0;34m)\u001b[0m \u001b[0;32mor\u001b[0m \u001b[0;34m(\u001b[0m\u001b[0msys\u001b[0m\u001b[0;34m.\u001b[0m\u001b[0mversion_info\u001b[0m\u001b[0;34m[\u001b[0m\u001b[0;36m0\u001b[0m\u001b[0;34m]\u001b[0m \u001b[0;34m==\u001b[0m \u001b[0;36m2\u001b[0m \u001b[0;32mand\u001b[0m \u001b[0misinstance\u001b[0m\u001b[0;34m(\u001b[0m\u001b[0mf\u001b[0m\u001b[0;34m,\u001b[0m \u001b[0municode\u001b[0m\u001b[0;34m)\u001b[0m\u001b[0;34m)\u001b[0m\u001b[0;34m:\u001b[0m\u001b[0;34m\u001b[0m\u001b[0m\n\u001b[1;32m    228\u001b[0m         \u001b[0mnew_fd\u001b[0m \u001b[0;34m=\u001b[0m \u001b[0mTrue\u001b[0m\u001b[0;34m\u001b[0m\u001b[0m\n\u001b[0;32m--> 229\u001b[0;31m         \u001b[0mf\u001b[0m \u001b[0;34m=\u001b[0m \u001b[0mopen\u001b[0m\u001b[0;34m(\u001b[0m\u001b[0mf\u001b[0m\u001b[0;34m,\u001b[0m \u001b[0;34m'rb'\u001b[0m\u001b[0;34m)\u001b[0m\u001b[0;34m\u001b[0m\u001b[0m\n\u001b[0m\u001b[1;32m    230\u001b[0m     \u001b[0;32mtry\u001b[0m\u001b[0;34m:\u001b[0m\u001b[0;34m\u001b[0m\u001b[0m\n\u001b[1;32m    231\u001b[0m         \u001b[0;32mreturn\u001b[0m \u001b[0m_load\u001b[0m\u001b[0;34m(\u001b[0m\u001b[0mf\u001b[0m\u001b[0;34m,\u001b[0m \u001b[0mmap_location\u001b[0m\u001b[0;34m,\u001b[0m \u001b[0mpickle_module\u001b[0m\u001b[0;34m)\u001b[0m\u001b[0;34m\u001b[0m\u001b[0m\n",
      "\u001b[0;31mIOError\u001b[0m: [Errno 2] No such file or directory: '/home/daiict/CVShare/Jeni/hts/fnn_3_model4_mlp0'"
     ]
    }
   ],
   "source": [
    "xtest_t,ytest = get_features(findex,train=False)\n",
    "xtest = Variable(torch.cuda.FloatTensor(xtest_t).cuda())\n",
    "final_pred = np.zeros(ytest.shape[0],)\n",
    "print final_pred.shape\n",
    "\n",
    "test_models = [c_mlp_1().cuda(),c_mlp_2().cuda(),c_mlp_3().cuda()]\n",
    "#     for i in range(2):\n",
    "#         test_models.append(model)\n",
    "for mlp_no,test_model in enumerate(test_models):\n",
    "    for model_no in range(1,5):\n",
    "        model_path = os.getcwd() + '/fnn_' + str(findex)+'_model'+str(model_no)+'_mlp'+str(mlp_no)\n",
    "\n",
    "        test_model.load_state_dict(torch.load(model_path))\n",
    "        test_op = test_model(xtest)\n",
    "        test_op = test_op.cpu().data.numpy()\n",
    "        pred_labels = np.argmax(test_op,axis=1).reshape(final_pred.shape[0],)\n",
    "        print pred_labels.shape\n",
    "        final_pred = pred_labels + final_pred\n",
    "        print final_pred.shape\n",
    "        cf = metrics.confusion_matrix(ytest,pred_labels).ravel()\n",
    "        print('tn, fp, fn, tp: ',cf)"
   ]
  },
  {
   "cell_type": "code",
   "execution_count": 11,
   "metadata": {},
   "outputs": [
    {
     "name": "stdout",
     "output_type": "stream",
     "text": [
      "('tn, fp, fn, tp: ', array([4208, 1180,   39,   11]))\n"
     ]
    }
   ],
   "source": [
    "final_pred[final_pred>1] = 1\n",
    "cf = metrics.confusion_matrix(ytest,final_pred).ravel()\n",
    "print('tn, fp, fn, tp: ',cf)"
   ]
  },
  {
   "cell_type": "code",
   "execution_count": null,
   "metadata": {
    "collapsed": true
   },
   "outputs": [],
   "source": [
    "pred_labels.shape"
   ]
  },
  {
   "cell_type": "code",
   "execution_count": null,
   "metadata": {
    "collapsed": true
   },
   "outputs": [],
   "source": [
    "final_pred.shape"
   ]
  },
  {
   "cell_type": "code",
   "execution_count": null,
   "metadata": {
    "collapsed": true
   },
   "outputs": [],
   "source": []
  }
 ],
 "metadata": {
  "kernelspec": {
   "display_name": "Python 2",
   "language": "python",
   "name": "python2"
  },
  "language_info": {
   "codemirror_mode": {
    "name": "ipython",
    "version": 2
   },
   "file_extension": ".py",
   "mimetype": "text/x-python",
   "name": "python",
   "nbconvert_exporter": "python",
   "pygments_lexer": "ipython2",
   "version": "2.7.6"
  }
 },
 "nbformat": 4,
 "nbformat_minor": 2
}
